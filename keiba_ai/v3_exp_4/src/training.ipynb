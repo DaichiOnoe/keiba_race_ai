{
 "cells": [
  {
   "cell_type": "markdown",
   "metadata": {},
   "source": [
    "# 役割\n",
    "本番運用時のモデル学習を行うnotebook。事前に`v3_2_0/data/02_features/features.csv`を作成しておく必要がある。\n",
    "- 学習データ：2019年1月〜2023年9月\n",
    "- 検証データ（Early stopping・Calibration補正）：2023年10月〜2023年12月\n",
    "    - Early stoppingについては[#14の記事](https://note.com/dijzpeb/n/n67ef63cf345f)、Calibration補正については[#22の記事](https://note.com/dijzpeb/n/nef0d54028813)で解説\n",
    "\n",
    "ファイル名に`_latest`をつけて、オフライン検証時のものと区別する。"
   ]
  },
  {
   "cell_type": "markdown",
   "metadata": {},
   "source": [
    "# インポート"
   ]
  },
  {
   "cell_type": "code",
   "execution_count": 5,
   "metadata": {},
   "outputs": [
    {
     "name": "stdout",
     "output_type": "stream",
     "text": [
      "The autoreload extension is already loaded. To reload it, use:\n",
      "  %reload_ext autoreload\n"
     ]
    }
   ],
   "source": [
    "from training import Dataset, Trainer\n",
    "\n",
    "%load_ext autoreload"
   ]
  },
  {
   "cell_type": "code",
   "execution_count": null,
   "metadata": {},
   "outputs": [],
   "source": [
    "# モジュールを更新した場合、以下を実行することで更新を反映させる\n",
    "%autoreload"
   ]
  },
  {
   "cell_type": "markdown",
   "metadata": {},
   "source": [
    "# 学習"
   ]
  },
  {
   "cell_type": "code",
   "execution_count": 7,
   "metadata": {},
   "outputs": [],
   "source": [
    "# データセット作成\n",
    "dataset = Dataset(\n",
    "    train_start_date=\"2019-01-01\",\n",
    "    valid_start_date=\"2024-10-01\",\n",
    "    valid_end_date=\"2024-12-31\",\n",
    "    target_strategy=0,\n",
    "    features_filename=\"features.csv\",\n",
    ")"
   ]
  },
  {
   "cell_type": "code",
   "execution_count": 8,
   "metadata": {},
   "outputs": [
    {
     "name": "stdout",
     "output_type": "stream",
     "text": [
      "Training until validation scores don't improve for 100 rounds\n",
      "[100]\tvalid_0's binary_logloss: 0.214462\n",
      "[200]\tvalid_0's binary_logloss: 0.205977\n",
      "[300]\tvalid_0's binary_logloss: 0.203877\n",
      "[400]\tvalid_0's binary_logloss: 0.203314\n",
      "[500]\tvalid_0's binary_logloss: 0.203195\n",
      "Early stopping, best iteration is:\n",
      "[481]\tvalid_0's binary_logloss: 0.203193\n"
     ]
    }
   ],
   "source": [
    "# 学習実行\n",
    "trainer = Trainer(config_filepath=\"config.yaml\")\n",
    "trainer.run(\n",
    "    dataset=dataset,\n",
    "    importance_filename=\"importance_latest\",\n",
    "    model_filename=\"model_latest.pkl\",\n",
    "    calibration_model_filename=\"calibration_model_latest.pkl\",\n",
    ")"
   ]
  },
  {
   "cell_type": "code",
   "execution_count": null,
   "metadata": {},
   "outputs": [],
   "source": []
  }
 ],
 "metadata": {
  "kernelspec": {
   "display_name": "pythonProject",
   "language": "python",
   "name": "python3"
  },
  "language_info": {
   "codemirror_mode": {
    "name": "ipython",
    "version": 3
   },
   "file_extension": ".py",
   "mimetype": "text/x-python",
   "name": "python",
   "nbconvert_exporter": "python",
   "pygments_lexer": "ipython3",
   "version": "3.12.7"
  }
 },
 "nbformat": 4,
 "nbformat_minor": 2
}
