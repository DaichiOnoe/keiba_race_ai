{
 "cells": [
  {
   "cell_type": "markdown",
   "metadata": {},
   "source": [
    "# インポート"
   ]
  },
  {
   "cell_type": "code",
   "execution_count": 6,
   "metadata": {},
   "outputs": [
    {
     "ename": "ModuleNotFoundError",
     "evalue": "No module named 'lightgbm'",
     "output_type": "error",
     "traceback": [
      "\u001b[1;31m---------------------------------------------------------------------------\u001b[0m",
      "\u001b[1;31mModuleNotFoundError\u001b[0m                       Traceback (most recent call last)",
      "Cell \u001b[1;32mIn[6], line 8\u001b[0m\n\u001b[0;32m      6\u001b[0m \u001b[38;5;28;01mimport\u001b[39;00m \u001b[38;5;21;01mpreprocessing\u001b[39;00m\n\u001b[0;32m      7\u001b[0m \u001b[38;5;28;01mfrom\u001b[39;00m \u001b[38;5;21;01mfeature_producing\u001b[39;00m \u001b[38;5;28;01mimport\u001b[39;00m FeatureCreator\n\u001b[1;32m----> 8\u001b[0m \u001b[38;5;28;01mfrom\u001b[39;00m \u001b[38;5;21;01mtraining\u001b[39;00m \u001b[38;5;28;01mimport\u001b[39;00m Trainer\n\u001b[0;32m      9\u001b[0m \u001b[38;5;28;01mfrom\u001b[39;00m \u001b[38;5;21;01mevaluation\u001b[39;00m \u001b[38;5;28;01mimport\u001b[39;00m Evaluator\n\u001b[0;32m     10\u001b[0m get_ipython()\u001b[38;5;241m.\u001b[39mrun_line_magic(\u001b[38;5;124m'\u001b[39m\u001b[38;5;124mload_ext\u001b[39m\u001b[38;5;124m'\u001b[39m, \u001b[38;5;124m'\u001b[39m\u001b[38;5;124mautoreload\u001b[39m\u001b[38;5;124m'\u001b[39m)\n",
      "File \u001b[1;32mc:\\Users\\Onoe Daichi\\Downloads\\競馬AI\\keiba_ai\\3.0.0\\src\\training.py:4\u001b[0m\n\u001b[0;32m      1\u001b[0m \u001b[38;5;28;01mimport\u001b[39;00m \u001b[38;5;21;01mpickle\u001b[39;00m\n\u001b[0;32m      2\u001b[0m \u001b[38;5;28;01mfrom\u001b[39;00m \u001b[38;5;21;01mpathlib\u001b[39;00m \u001b[38;5;28;01mimport\u001b[39;00m Path\n\u001b[1;32m----> 4\u001b[0m \u001b[38;5;28;01mimport\u001b[39;00m \u001b[38;5;21;01mlightgbm\u001b[39;00m \u001b[38;5;28;01mas\u001b[39;00m \u001b[38;5;21;01mlgb\u001b[39;00m\n\u001b[0;32m      5\u001b[0m \u001b[38;5;28;01mimport\u001b[39;00m \u001b[38;5;21;01mmatplotlib\u001b[39;00m\u001b[38;5;21;01m.\u001b[39;00m\u001b[38;5;21;01mpyplot\u001b[39;00m \u001b[38;5;28;01mas\u001b[39;00m \u001b[38;5;21;01mplt\u001b[39;00m\n\u001b[0;32m      6\u001b[0m \u001b[38;5;28;01mimport\u001b[39;00m \u001b[38;5;21;01mpandas\u001b[39;00m \u001b[38;5;28;01mas\u001b[39;00m \u001b[38;5;21;01mpd\u001b[39;00m\n",
      "\u001b[1;31mModuleNotFoundError\u001b[0m: No module named 'lightgbm'"
     ]
    }
   ],
   "source": [
    "# import numpy as np\n",
    "# import lightgbm as lgb\n",
    "import pandas as pd\n",
    "from pathlib import Path\n",
    "import create_population\n",
    "import preprocessing\n",
    "from feature_producing import FeatureCreator\n",
    "from training import Trainer\n",
    "from evaluation import Evaluator\n",
    "%load_ext autoreload\n"
   ]
  },
  {
   "cell_type": "code",
   "execution_count": 43,
   "metadata": {},
   "outputs": [],
   "source": [
    "%autoreload"
   ]
  },
  {
   "cell_type": "markdown",
   "metadata": {},
   "source": [
    "# 学習母集団の作成\n",
    "期間を指定すると、学習母集団である（日付、race_id、horse_id）の組みを作る"
   ]
  },
  {
   "cell_type": "code",
   "execution_count": 8,
   "metadata": {},
   "outputs": [
    {
     "data": {
      "text/html": [
       "<div>\n",
       "<style scoped>\n",
       "    .dataframe tbody tr th:only-of-type {\n",
       "        vertical-align: middle;\n",
       "    }\n",
       "\n",
       "    .dataframe tbody tr th {\n",
       "        vertical-align: top;\n",
       "    }\n",
       "\n",
       "    .dataframe thead th {\n",
       "        text-align: right;\n",
       "    }\n",
       "</style>\n",
       "<table border=\"1\" class=\"dataframe\">\n",
       "  <thead>\n",
       "    <tr style=\"text-align: right;\">\n",
       "      <th></th>\n",
       "      <th>race_id</th>\n",
       "      <th>title</th>\n",
       "      <th>info_1</th>\n",
       "      <th>info_2</th>\n",
       "    </tr>\n",
       "  </thead>\n",
       "  <tbody>\n",
       "    <tr>\n",
       "      <th>0</th>\n",
       "      <td>2.023010e+11</td>\n",
       "      <td>2歳未勝利</td>\n",
       "      <td>['芝右1200m', '天候:晴', '芝:良', '発走:09:50']</td>\n",
       "      <td>['2023年7月22日', '1回札幌1日目', '2歳未勝利', '混', '指', '...</td>\n",
       "    </tr>\n",
       "    <tr>\n",
       "      <th>1</th>\n",
       "      <td>2.023010e+11</td>\n",
       "      <td>3歳未勝利</td>\n",
       "      <td>['ダ右1000m', '天候:晴', 'ダート:良', '発走:10:25']</td>\n",
       "      <td>['2023年7月22日', '1回札幌1日目', '3歳未勝利', '指', '馬齢']</td>\n",
       "    </tr>\n",
       "    <tr>\n",
       "      <th>2</th>\n",
       "      <td>2.023010e+11</td>\n",
       "      <td>3歳未勝利</td>\n",
       "      <td>['ダ右1700m', '天候:晴', 'ダート:良', '発走:10:55']</td>\n",
       "      <td>['2023年7月22日', '1回札幌1日目', '3歳未勝利', '指', '馬齢']</td>\n",
       "    </tr>\n",
       "    <tr>\n",
       "      <th>3</th>\n",
       "      <td>2.023010e+11</td>\n",
       "      <td>3歳未勝利</td>\n",
       "      <td>['芝右1500m', '天候:晴', '芝:良', '発走:11:25']</td>\n",
       "      <td>['2023年7月22日', '1回札幌1日目', '3歳未勝利', '牝', '指', '...</td>\n",
       "    </tr>\n",
       "    <tr>\n",
       "      <th>4</th>\n",
       "      <td>2.023010e+11</td>\n",
       "      <td>2歳新馬</td>\n",
       "      <td>['ダ右1700m', '天候:晴', 'ダート:良', '発走:12:15']</td>\n",
       "      <td>['2023年7月22日', '1回札幌1日目', '2歳新馬', '混', '指', '馬齢']</td>\n",
       "    </tr>\n",
       "    <tr>\n",
       "      <th>...</th>\n",
       "      <td>...</td>\n",
       "      <td>...</td>\n",
       "      <td>...</td>\n",
       "      <td>...</td>\n",
       "    </tr>\n",
       "    <tr>\n",
       "      <th>3461</th>\n",
       "      <td>2.022050e+11</td>\n",
       "      <td>3歳未勝利</td>\n",
       "      <td>['ダ左1400m', '天候:晴', 'ダート:良', '発走:10:10']</td>\n",
       "      <td>['2022年2月5日', '1回東京3日目', '3歳未勝利', '牝', '馬齢']</td>\n",
       "    </tr>\n",
       "    <tr>\n",
       "      <th>3462</th>\n",
       "      <td>2.022050e+11</td>\n",
       "      <td>3歳未勝利</td>\n",
       "      <td>['ダ左1300m', '天候:晴', 'ダート:良', '発走:10:40']</td>\n",
       "      <td>['2022年2月5日', '1回東京3日目', '3歳未勝利', '馬齢']</td>\n",
       "    </tr>\n",
       "    <tr>\n",
       "      <th>3463</th>\n",
       "      <td>2.022050e+11</td>\n",
       "      <td>3歳未勝利</td>\n",
       "      <td>['ダ左1600m', '天候:晴', 'ダート:良', '発走:11:10']</td>\n",
       "      <td>['2022年2月5日', '1回東京3日目', '3歳未勝利', '馬齢']</td>\n",
       "    </tr>\n",
       "    <tr>\n",
       "      <th>3464</th>\n",
       "      <td>2.022050e+11</td>\n",
       "      <td>3歳1勝クラス</td>\n",
       "      <td>['ダ左1400m', '天候:晴', 'ダート:良', '発走:11:40']</td>\n",
       "      <td>['2022年2月5日', '1回東京3日目', '3歳1勝クラス', '馬齢']</td>\n",
       "    </tr>\n",
       "    <tr>\n",
       "      <th>3465</th>\n",
       "      <td>2.022050e+11</td>\n",
       "      <td>3歳未勝利</td>\n",
       "      <td>['芝左2400m', '天候:晴', '芝:良', '発走:12:30']</td>\n",
       "      <td>['2022年2月5日', '1回東京3日目', '3歳未勝利', '混', '馬齢']</td>\n",
       "    </tr>\n",
       "  </tbody>\n",
       "</table>\n",
       "<p>3466 rows × 4 columns</p>\n",
       "</div>"
      ],
      "text/plain": [
       "           race_id    title                                    info_1  \\\n",
       "0     2.023010e+11    2歳未勝利    ['芝右1200m', '天候:晴', '芝:良', '発走:09:50']   \n",
       "1     2.023010e+11    3歳未勝利  ['ダ右1000m', '天候:晴', 'ダート:良', '発走:10:25']   \n",
       "2     2.023010e+11    3歳未勝利  ['ダ右1700m', '天候:晴', 'ダート:良', '発走:10:55']   \n",
       "3     2.023010e+11    3歳未勝利    ['芝右1500m', '天候:晴', '芝:良', '発走:11:25']   \n",
       "4     2.023010e+11     2歳新馬  ['ダ右1700m', '天候:晴', 'ダート:良', '発走:12:15']   \n",
       "...            ...      ...                                       ...   \n",
       "3461  2.022050e+11    3歳未勝利  ['ダ左1400m', '天候:晴', 'ダート:良', '発走:10:10']   \n",
       "3462  2.022050e+11    3歳未勝利  ['ダ左1300m', '天候:晴', 'ダート:良', '発走:10:40']   \n",
       "3463  2.022050e+11    3歳未勝利  ['ダ左1600m', '天候:晴', 'ダート:良', '発走:11:10']   \n",
       "3464  2.022050e+11  3歳1勝クラス  ['ダ左1400m', '天候:晴', 'ダート:良', '発走:11:40']   \n",
       "3465  2.022050e+11    3歳未勝利    ['芝左2400m', '天候:晴', '芝:良', '発走:12:30']   \n",
       "\n",
       "                                                 info_2  \n",
       "0     ['2023年7月22日', '1回札幌1日目', '2歳未勝利', '混', '指', '...  \n",
       "1         ['2023年7月22日', '1回札幌1日目', '3歳未勝利', '指', '馬齢']  \n",
       "2         ['2023年7月22日', '1回札幌1日目', '3歳未勝利', '指', '馬齢']  \n",
       "3     ['2023年7月22日', '1回札幌1日目', '3歳未勝利', '牝', '指', '...  \n",
       "4     ['2023年7月22日', '1回札幌1日目', '2歳新馬', '混', '指', '馬齢']  \n",
       "...                                                 ...  \n",
       "3461       ['2022年2月5日', '1回東京3日目', '3歳未勝利', '牝', '馬齢']  \n",
       "3462            ['2022年2月5日', '1回東京3日目', '3歳未勝利', '馬齢']  \n",
       "3463            ['2022年2月5日', '1回東京3日目', '3歳未勝利', '馬齢']  \n",
       "3464          ['2022年2月5日', '1回東京3日目', '3歳1勝クラス', '馬齢']  \n",
       "3465       ['2022年2月5日', '1回東京3日目', '3歳未勝利', '混', '馬齢']  \n",
       "\n",
       "[3466 rows x 4 columns]"
      ]
     },
     "execution_count": 8,
     "metadata": {},
     "output_type": "execute_result"
    }
   ],
   "source": [
    "COMMON_DIR = Path(\"..\",\"..\", \"common\",\"data\")\n",
    "RAWDF_DIR = COMMON_DIR / \"rawdf\"\n",
    "race_info =pd.read_csv(RAWDF_DIR / \"race_info.csv\", sep = \"\\t\")\n",
    "race_info"
   ]
  },
  {
   "cell_type": "code",
   "execution_count": 10,
   "metadata": {},
   "outputs": [
    {
     "data": {
      "text/plain": [
       "0      2023-07-22\n",
       "1      2023-07-22\n",
       "2      2023-07-22\n",
       "3      2023-07-22\n",
       "4      2023-07-22\n",
       "          ...    \n",
       "3461   2022-02-05\n",
       "3462   2022-02-05\n",
       "3463   2022-02-05\n",
       "3464   2022-02-05\n",
       "3465   2022-02-05\n",
       "Name: date, Length: 3466, dtype: datetime64[ns]"
      ]
     },
     "execution_count": 10,
     "metadata": {},
     "output_type": "execute_result"
    }
   ],
   "source": [
    "import numpy as np\n",
    "\n",
    "# race_info[\"info_2\"] = race_info[\"info_2\"].astype(str)\n",
    "# race_info[\"date\"] = pd.to_datetime(race_info[\"info_2\"].map(lambda x: eval(x, {\"nan\": np.nan})[0]), format=\"%Y年%m月%d日\")\n",
    "# race_info = race_info.copy()\n",
    "race_info[\"date\"] = pd.to_datetime(race_info[\"info_2\"].map(lambda x: eval(x, {\"nan\": np.nan})[0] if isinstance(eval(x, {\"nan\": np.nan}), list) else np.nan), format=\"%Y年%m月%d日\")\n",
    "race_info[\"date\"]"
   ]
  },
  {
   "cell_type": "code",
   "execution_count": 66,
   "metadata": {},
   "outputs": [],
   "source": [
    "population = create_population.create(\n",
    "    from_ =\"2023-01-01\",\n",
    "    to_ = \"2023-12-31\",\n",
    ")"
   ]
  },
  {
   "cell_type": "code",
   "execution_count": 67,
   "metadata": {},
   "outputs": [
    {
     "data": {
      "text/plain": [
       "0        202301010101\n",
       "1        202301010101\n",
       "2        202301010101\n",
       "3        202301010101\n",
       "4        202301010101\n",
       "             ...     \n",
       "47667    202310030812\n",
       "47668    202310030812\n",
       "47669    202310030812\n",
       "47670    202310030812\n",
       "47671    202310030812\n",
       "Name: race_id, Length: 47672, dtype: int64"
      ]
     },
     "execution_count": 67,
     "metadata": {},
     "output_type": "execute_result"
    }
   ],
   "source": [
    "population[\"race_id\"]"
   ]
  },
  {
   "cell_type": "code",
   "execution_count": 68,
   "metadata": {},
   "outputs": [
    {
     "data": {
      "text/html": [
       "<div>\n",
       "<style scoped>\n",
       "    .dataframe tbody tr th:only-of-type {\n",
       "        vertical-align: middle;\n",
       "    }\n",
       "\n",
       "    .dataframe tbody tr th {\n",
       "        vertical-align: top;\n",
       "    }\n",
       "\n",
       "    .dataframe thead th {\n",
       "        text-align: right;\n",
       "    }\n",
       "</style>\n",
       "<table border=\"1\" class=\"dataframe\">\n",
       "  <thead>\n",
       "    <tr style=\"text-align: right;\">\n",
       "      <th></th>\n",
       "      <th>race_id</th>\n",
       "      <th>date</th>\n",
       "      <th>horse_id</th>\n",
       "    </tr>\n",
       "  </thead>\n",
       "  <tbody>\n",
       "    <tr>\n",
       "      <th>0</th>\n",
       "      <td>202301010101</td>\n",
       "      <td>2023-07-22</td>\n",
       "      <td>2021101429</td>\n",
       "    </tr>\n",
       "    <tr>\n",
       "      <th>1</th>\n",
       "      <td>202301010101</td>\n",
       "      <td>2023-07-22</td>\n",
       "      <td>2021105872</td>\n",
       "    </tr>\n",
       "    <tr>\n",
       "      <th>2</th>\n",
       "      <td>202301010101</td>\n",
       "      <td>2023-07-22</td>\n",
       "      <td>2021106854</td>\n",
       "    </tr>\n",
       "    <tr>\n",
       "      <th>3</th>\n",
       "      <td>202301010101</td>\n",
       "      <td>2023-07-22</td>\n",
       "      <td>2021105553</td>\n",
       "    </tr>\n",
       "    <tr>\n",
       "      <th>4</th>\n",
       "      <td>202301010101</td>\n",
       "      <td>2023-07-22</td>\n",
       "      <td>2021100648</td>\n",
       "    </tr>\n",
       "    <tr>\n",
       "      <th>...</th>\n",
       "      <td>...</td>\n",
       "      <td>...</td>\n",
       "      <td>...</td>\n",
       "    </tr>\n",
       "    <tr>\n",
       "      <th>47667</th>\n",
       "      <td>202310030812</td>\n",
       "      <td>2023-09-03</td>\n",
       "      <td>2020105644</td>\n",
       "    </tr>\n",
       "    <tr>\n",
       "      <th>47668</th>\n",
       "      <td>202310030812</td>\n",
       "      <td>2023-09-03</td>\n",
       "      <td>2018106584</td>\n",
       "    </tr>\n",
       "    <tr>\n",
       "      <th>47669</th>\n",
       "      <td>202310030812</td>\n",
       "      <td>2023-09-03</td>\n",
       "      <td>2020101781</td>\n",
       "    </tr>\n",
       "    <tr>\n",
       "      <th>47670</th>\n",
       "      <td>202310030812</td>\n",
       "      <td>2023-09-03</td>\n",
       "      <td>2019106647</td>\n",
       "    </tr>\n",
       "    <tr>\n",
       "      <th>47671</th>\n",
       "      <td>202310030812</td>\n",
       "      <td>2023-09-03</td>\n",
       "      <td>2020103324</td>\n",
       "    </tr>\n",
       "  </tbody>\n",
       "</table>\n",
       "<p>47672 rows × 3 columns</p>\n",
       "</div>"
      ],
      "text/plain": [
       "            race_id       date    horse_id\n",
       "0      202301010101 2023-07-22  2021101429\n",
       "1      202301010101 2023-07-22  2021105872\n",
       "2      202301010101 2023-07-22  2021106854\n",
       "3      202301010101 2023-07-22  2021105553\n",
       "4      202301010101 2023-07-22  2021100648\n",
       "...             ...        ...         ...\n",
       "47667  202310030812 2023-09-03  2020105644\n",
       "47668  202310030812 2023-09-03  2018106584\n",
       "47669  202310030812 2023-09-03  2020101781\n",
       "47670  202310030812 2023-09-03  2019106647\n",
       "47671  202310030812 2023-09-03  2020103324\n",
       "\n",
       "[47672 rows x 3 columns]"
      ]
     },
     "execution_count": 68,
     "metadata": {},
     "output_type": "execute_result"
    }
   ],
   "source": [
    "population"
   ]
  },
  {
   "cell_type": "markdown",
   "metadata": {},
   "source": [
    "# データ加工"
   ]
  },
  {
   "cell_type": "code",
   "execution_count": 21,
   "metadata": {},
   "outputs": [
    {
     "name": "stdout",
     "output_type": "stream",
     "text": [
      "The autoreload extension is already loaded. To reload it, use:\n",
      "  %reload_ext autoreload\n"
     ]
    }
   ],
   "source": [
    "import preprocessing\n",
    "%load_ext autoreload"
   ]
  },
  {
   "cell_type": "code",
   "execution_count": 79,
   "metadata": {},
   "outputs": [],
   "source": [
    "%autoreload"
   ]
  },
  {
   "cell_type": "code",
   "execution_count": 70,
   "metadata": {},
   "outputs": [
    {
     "data": {
      "text/plain": [
       "0        202301010101\n",
       "1        202301010101\n",
       "2        202301010101\n",
       "3        202301010101\n",
       "4        202301010101\n",
       "             ...     \n",
       "47746    202205010305\n",
       "47747    202205010305\n",
       "47748    202205010305\n",
       "47749    202205010305\n",
       "47750    202205010305\n",
       "Name: race_id, Length: 47751, dtype: int64"
      ]
     },
     "execution_count": 70,
     "metadata": {},
     "output_type": "execute_result"
    }
   ],
   "source": [
    "results = pd.read_csv(RAWDF_DIR / \"results.csv\", sep = \"\\t\")\n",
    "results[\"race_id\"]"
   ]
  },
  {
   "cell_type": "code",
   "execution_count": 48,
   "metadata": {},
   "outputs": [],
   "source": [
    "# Ensure the data types are correctly set\n",
    "results_preprocessd = results_preprocessd.astype({\n",
    "\t'race_id': 'int64',\n",
    "\t'horse_id': 'int64',\n",
    "\t'jockey_id': 'int64',\n",
    "\t'trainer_id': 'int64',\n",
    "\t'owner_id': 'int64',\n",
    "\t'rank': 'int32',\n",
    "\t'umaban': 'int32',\n",
    "\t'wakuban': 'int32',\n",
    "\t'tansyo_odds': 'float64',\n",
    "\t'popularity': 'int32',\n",
    "\t'kinryou': 'float64',\n",
    "\t'sex': 'int64',\n",
    "\t'age': 'int32',\n",
    "\t'weight': 'int32',\n",
    "\t'weight_diff': 'int32'\n",
    "})"
   ]
  },
  {
   "cell_type": "code",
   "execution_count": 58,
   "metadata": {},
   "outputs": [
    {
     "data": {
      "text/plain": [
       "0        202301010101\n",
       "1        202301010101\n",
       "2        202301010101\n",
       "3        202301010101\n",
       "4        202301010101\n",
       "             ...     \n",
       "47746    202205010305\n",
       "47747    202205010305\n",
       "47748    202205010305\n",
       "47749    202205010305\n",
       "47750    202205010305\n",
       "Name: race_id, Length: 47751, dtype: int64"
      ]
     },
     "execution_count": 58,
     "metadata": {},
     "output_type": "execute_result"
    }
   ],
   "source": [
    "COMMON_DATA_DIR = Path(\"..\",\"..\",\"common\",\"data\")\n",
    "RAWDF_DIR = COMMON_DATA_DIR/\"rawdf\"\n",
    "input_dir: Path = RAWDF_DIR\n",
    "results = pd.read_csv(input_dir / \"results.csv\", sep=\"\\t\")\n",
    "# df = pd.read_csv(input_dir / \"results.csv\", sep=\"\\t\").query(\"race_id in @population['race_id']\")\n",
    "results[\"race_id\"]"
   ]
  },
  {
   "cell_type": "code",
   "execution_count": 74,
   "metadata": {},
   "outputs": [],
   "source": [
    "#レース結果テーブルの前処理\n",
    "results_preprocessd = preprocessing.process_results()"
   ]
  },
  {
   "cell_type": "code",
   "execution_count": 13,
   "metadata": {},
   "outputs": [
    {
     "data": {
      "text/plain": [
       "np.int64(0)"
      ]
     },
     "execution_count": 13,
     "metadata": {},
     "output_type": "execute_result"
    }
   ],
   "source": [
    "# 重複チェック\n",
    "results_preprocessd.duplicated(subset=[\"race_id\", \"horse_id\"]).sum()"
   ]
  },
  {
   "cell_type": "code",
   "execution_count": 76,
   "metadata": {},
   "outputs": [
    {
     "data": {
      "text/plain": [
       "race_id        0\n",
       "horse_id       0\n",
       "jockey_id      0\n",
       "trainer_id     0\n",
       "owner_id       0\n",
       "rank           0\n",
       "umaban         0\n",
       "wakuban        0\n",
       "tansyo_odds    0\n",
       "popularity     0\n",
       "kinryou        0\n",
       "sex            0\n",
       "age            0\n",
       "weight         0\n",
       "weight_diff    0\n",
       "dtype: int64"
      ]
     },
     "execution_count": 76,
     "metadata": {},
     "output_type": "execute_result"
    }
   ],
   "source": [
    "# 欠損チェック\n",
    "results_preprocessd.isnull().sum()"
   ]
  },
  {
   "cell_type": "code",
   "execution_count": 80,
   "metadata": {},
   "outputs": [],
   "source": [
    "# 馬の過去成績テーブルの前処理\n",
    "horse_results_preprocessd = preprocessing.process_horse_results()"
   ]
  },
  {
   "cell_type": "code",
   "execution_count": 81,
   "metadata": {},
   "outputs": [
    {
     "data": {
      "text/html": [
       "<div>\n",
       "<style scoped>\n",
       "    .dataframe tbody tr th:only-of-type {\n",
       "        vertical-align: middle;\n",
       "    }\n",
       "\n",
       "    .dataframe tbody tr th {\n",
       "        vertical-align: top;\n",
       "    }\n",
       "\n",
       "    .dataframe thead th {\n",
       "        text-align: right;\n",
       "    }\n",
       "</style>\n",
       "<table border=\"1\" class=\"dataframe\">\n",
       "  <thead>\n",
       "    <tr style=\"text-align: right;\">\n",
       "      <th></th>\n",
       "      <th>horse_id</th>\n",
       "      <th>date</th>\n",
       "      <th>rank</th>\n",
       "      <th>prize</th>\n",
       "      <th>rank_diff</th>\n",
       "      <th>weather</th>\n",
       "      <th>race_type</th>\n",
       "      <th>course_len</th>\n",
       "      <th>ground_condition</th>\n",
       "      <th>race_class</th>\n",
       "      <th>n_horses</th>\n",
       "    </tr>\n",
       "  </thead>\n",
       "  <tbody>\n",
       "    <tr>\n",
       "      <th>0</th>\n",
       "      <td>2021101429</td>\n",
       "      <td>2024-11-09</td>\n",
       "      <td>9.0</td>\n",
       "      <td>0.0</td>\n",
       "      <td>0.2</td>\n",
       "      <td>0.0</td>\n",
       "      <td>1</td>\n",
       "      <td>1400</td>\n",
       "      <td>0.0</td>\n",
       "      <td>4.0</td>\n",
       "      <td>14</td>\n",
       "    </tr>\n",
       "    <tr>\n",
       "      <th>1</th>\n",
       "      <td>2021101429</td>\n",
       "      <td>2024-10-06</td>\n",
       "      <td>1.0</td>\n",
       "      <td>1140.0</td>\n",
       "      <td>0.0</td>\n",
       "      <td>1.0</td>\n",
       "      <td>1</td>\n",
       "      <td>1400</td>\n",
       "      <td>0.0</td>\n",
       "      <td>3.0</td>\n",
       "      <td>13</td>\n",
       "    </tr>\n",
       "    <tr>\n",
       "      <th>2</th>\n",
       "      <td>2021101429</td>\n",
       "      <td>2024-09-01</td>\n",
       "      <td>2.0</td>\n",
       "      <td>625.2</td>\n",
       "      <td>0.4</td>\n",
       "      <td>0.0</td>\n",
       "      <td>1</td>\n",
       "      <td>1400</td>\n",
       "      <td>0.0</td>\n",
       "      <td>5.0</td>\n",
       "      <td>7</td>\n",
       "    </tr>\n",
       "    <tr>\n",
       "      <th>3</th>\n",
       "      <td>2021101429</td>\n",
       "      <td>2024-08-10</td>\n",
       "      <td>2.0</td>\n",
       "      <td>629.2</td>\n",
       "      <td>0.0</td>\n",
       "      <td>0.0</td>\n",
       "      <td>1</td>\n",
       "      <td>1400</td>\n",
       "      <td>0.0</td>\n",
       "      <td>5.0</td>\n",
       "      <td>14</td>\n",
       "    </tr>\n",
       "    <tr>\n",
       "      <th>4</th>\n",
       "      <td>2021101429</td>\n",
       "      <td>2024-04-06</td>\n",
       "      <td>13.0</td>\n",
       "      <td>0.0</td>\n",
       "      <td>0.9</td>\n",
       "      <td>1.0</td>\n",
       "      <td>1</td>\n",
       "      <td>1600</td>\n",
       "      <td>1.0</td>\n",
       "      <td>7.0</td>\n",
       "      <td>16</td>\n",
       "    </tr>\n",
       "    <tr>\n",
       "      <th>...</th>\n",
       "      <td>...</td>\n",
       "      <td>...</td>\n",
       "      <td>...</td>\n",
       "      <td>...</td>\n",
       "      <td>...</td>\n",
       "      <td>...</td>\n",
       "      <td>...</td>\n",
       "      <td>...</td>\n",
       "      <td>...</td>\n",
       "      <td>...</td>\n",
       "      <td>...</td>\n",
       "    </tr>\n",
       "    <tr>\n",
       "      <th>213811</th>\n",
       "      <td>2019103076</td>\n",
       "      <td>2022-01-10</td>\n",
       "      <td>8.0</td>\n",
       "      <td>0.0</td>\n",
       "      <td>0.7</td>\n",
       "      <td>1.0</td>\n",
       "      <td>1</td>\n",
       "      <td>2000</td>\n",
       "      <td>0.0</td>\n",
       "      <td>1.0</td>\n",
       "      <td>17</td>\n",
       "    </tr>\n",
       "    <tr>\n",
       "      <th>213812</th>\n",
       "      <td>2019103076</td>\n",
       "      <td>2021-12-12</td>\n",
       "      <td>5.0</td>\n",
       "      <td>51.0</td>\n",
       "      <td>0.2</td>\n",
       "      <td>1.0</td>\n",
       "      <td>1</td>\n",
       "      <td>2000</td>\n",
       "      <td>0.0</td>\n",
       "      <td>1.0</td>\n",
       "      <td>17</td>\n",
       "    </tr>\n",
       "    <tr>\n",
       "      <th>213813</th>\n",
       "      <td>2019103076</td>\n",
       "      <td>2021-11-20</td>\n",
       "      <td>12.0</td>\n",
       "      <td>0.0</td>\n",
       "      <td>2.0</td>\n",
       "      <td>0.0</td>\n",
       "      <td>1</td>\n",
       "      <td>1200</td>\n",
       "      <td>0.0</td>\n",
       "      <td>1.0</td>\n",
       "      <td>16</td>\n",
       "    </tr>\n",
       "    <tr>\n",
       "      <th>213814</th>\n",
       "      <td>2019103076</td>\n",
       "      <td>2021-07-18</td>\n",
       "      <td>7.0</td>\n",
       "      <td>0.0</td>\n",
       "      <td>1.1</td>\n",
       "      <td>0.0</td>\n",
       "      <td>1</td>\n",
       "      <td>1200</td>\n",
       "      <td>0.0</td>\n",
       "      <td>1.0</td>\n",
       "      <td>12</td>\n",
       "    </tr>\n",
       "    <tr>\n",
       "      <th>213815</th>\n",
       "      <td>2019103076</td>\n",
       "      <td>2021-07-03</td>\n",
       "      <td>4.0</td>\n",
       "      <td>110.0</td>\n",
       "      <td>0.3</td>\n",
       "      <td>0.0</td>\n",
       "      <td>1</td>\n",
       "      <td>1200</td>\n",
       "      <td>0.0</td>\n",
       "      <td>0.0</td>\n",
       "      <td>10</td>\n",
       "    </tr>\n",
       "  </tbody>\n",
       "</table>\n",
       "<p>210604 rows × 11 columns</p>\n",
       "</div>"
      ],
      "text/plain": [
       "          horse_id       date  rank   prize  rank_diff  weather  race_type  \\\n",
       "0       2021101429 2024-11-09   9.0     0.0        0.2      0.0          1   \n",
       "1       2021101429 2024-10-06   1.0  1140.0        0.0      1.0          1   \n",
       "2       2021101429 2024-09-01   2.0   625.2        0.4      0.0          1   \n",
       "3       2021101429 2024-08-10   2.0   629.2        0.0      0.0          1   \n",
       "4       2021101429 2024-04-06  13.0     0.0        0.9      1.0          1   \n",
       "...            ...        ...   ...     ...        ...      ...        ...   \n",
       "213811  2019103076 2022-01-10   8.0     0.0        0.7      1.0          1   \n",
       "213812  2019103076 2021-12-12   5.0    51.0        0.2      1.0          1   \n",
       "213813  2019103076 2021-11-20  12.0     0.0        2.0      0.0          1   \n",
       "213814  2019103076 2021-07-18   7.0     0.0        1.1      0.0          1   \n",
       "213815  2019103076 2021-07-03   4.0   110.0        0.3      0.0          1   \n",
       "\n",
       "        course_len  ground_condition  race_class  n_horses  \n",
       "0             1400               0.0         4.0        14  \n",
       "1             1400               0.0         3.0        13  \n",
       "2             1400               0.0         5.0         7  \n",
       "3             1400               0.0         5.0        14  \n",
       "4             1600               1.0         7.0        16  \n",
       "...            ...               ...         ...       ...  \n",
       "213811        2000               0.0         1.0        17  \n",
       "213812        2000               0.0         1.0        17  \n",
       "213813        1200               0.0         1.0        16  \n",
       "213814        1200               0.0         1.0        12  \n",
       "213815        1200               0.0         0.0        10  \n",
       "\n",
       "[210604 rows x 11 columns]"
      ]
     },
     "execution_count": 81,
     "metadata": {},
     "output_type": "execute_result"
    }
   ],
   "source": [
    "horse_results_preprocessd"
   ]
  },
  {
   "cell_type": "code",
   "execution_count": 82,
   "metadata": {},
   "outputs": [
    {
     "name": "stdout",
     "output_type": "stream",
     "text": [
      "<class 'pandas.core.frame.DataFrame'>\n",
      "Index: 210604 entries, 0 to 213815\n",
      "Data columns (total 11 columns):\n",
      " #   Column            Non-Null Count   Dtype         \n",
      "---  ------            --------------   -----         \n",
      " 0   horse_id          210604 non-null  int64         \n",
      " 1   date              210604 non-null  datetime64[ns]\n",
      " 2   rank              210604 non-null  float64       \n",
      " 3   prize             210604 non-null  float64       \n",
      " 4   rank_diff         210344 non-null  float64       \n",
      " 5   weather           210385 non-null  float64       \n",
      " 6   race_type         210604 non-null  int64         \n",
      " 7   course_len        210604 non-null  int32         \n",
      " 8   ground_condition  210600 non-null  float64       \n",
      " 9   race_class        150061 non-null  float64       \n",
      " 10  n_horses          210604 non-null  int64         \n",
      "dtypes: datetime64[ns](1), float64(6), int32(1), int64(3)\n",
      "memory usage: 18.5 MB\n"
     ]
    }
   ],
   "source": [
    "horse_results_preprocessd.info()"
   ]
  },
  {
   "cell_type": "code",
   "execution_count": 83,
   "metadata": {},
   "outputs": [
    {
     "data": {
      "text/plain": [
       "horse_id                0\n",
       "date                    0\n",
       "rank                    0\n",
       "prize                   0\n",
       "rank_diff             260\n",
       "weather               219\n",
       "race_type               0\n",
       "course_len              0\n",
       "ground_condition        4\n",
       "race_class          60543\n",
       "n_horses                0\n",
       "dtype: int64"
      ]
     },
     "execution_count": 83,
     "metadata": {},
     "output_type": "execute_result"
    }
   ],
   "source": [
    "# 欠損チェック\n",
    "horse_results_preprocessd.isnull().sum()"
   ]
  },
  {
   "cell_type": "code",
   "execution_count": 10,
   "metadata": {},
   "outputs": [],
   "source": [
    "%autoreload"
   ]
  },
  {
   "cell_type": "code",
   "execution_count": 84,
   "metadata": {},
   "outputs": [],
   "source": [
    "race_info_preprocess  = preprocessing.process_race_info()"
   ]
  },
  {
   "cell_type": "code",
   "execution_count": 85,
   "metadata": {},
   "outputs": [
    {
     "data": {
      "text/html": [
       "<div>\n",
       "<style scoped>\n",
       "    .dataframe tbody tr th:only-of-type {\n",
       "        vertical-align: middle;\n",
       "    }\n",
       "\n",
       "    .dataframe tbody tr th {\n",
       "        vertical-align: top;\n",
       "    }\n",
       "\n",
       "    .dataframe thead th {\n",
       "        text-align: right;\n",
       "    }\n",
       "</style>\n",
       "<table border=\"1\" class=\"dataframe\">\n",
       "  <thead>\n",
       "    <tr style=\"text-align: right;\">\n",
       "      <th></th>\n",
       "      <th>race_id</th>\n",
       "      <th>date</th>\n",
       "      <th>race_type</th>\n",
       "      <th>around</th>\n",
       "      <th>course_len</th>\n",
       "      <th>weather</th>\n",
       "      <th>ground_state</th>\n",
       "      <th>race_class</th>\n",
       "      <th>place</th>\n",
       "    </tr>\n",
       "  </thead>\n",
       "  <tbody>\n",
       "    <tr>\n",
       "      <th>8</th>\n",
       "      <td>202301010101</td>\n",
       "      <td>2023-07-22</td>\n",
       "      <td>1</td>\n",
       "      <td>0.0</td>\n",
       "      <td>1200</td>\n",
       "      <td>0</td>\n",
       "      <td>0.0</td>\n",
       "      <td>1</td>\n",
       "      <td>1</td>\n",
       "    </tr>\n",
       "    <tr>\n",
       "      <th>9</th>\n",
       "      <td>202301010102</td>\n",
       "      <td>2023-07-22</td>\n",
       "      <td>0</td>\n",
       "      <td>0.0</td>\n",
       "      <td>1000</td>\n",
       "      <td>0</td>\n",
       "      <td>0.0</td>\n",
       "      <td>1</td>\n",
       "      <td>1</td>\n",
       "    </tr>\n",
       "    <tr>\n",
       "      <th>10</th>\n",
       "      <td>202301010103</td>\n",
       "      <td>2023-07-22</td>\n",
       "      <td>0</td>\n",
       "      <td>0.0</td>\n",
       "      <td>1700</td>\n",
       "      <td>0</td>\n",
       "      <td>0.0</td>\n",
       "      <td>1</td>\n",
       "      <td>1</td>\n",
       "    </tr>\n",
       "    <tr>\n",
       "      <th>11</th>\n",
       "      <td>202301010104</td>\n",
       "      <td>2023-07-22</td>\n",
       "      <td>1</td>\n",
       "      <td>0.0</td>\n",
       "      <td>1500</td>\n",
       "      <td>0</td>\n",
       "      <td>0.0</td>\n",
       "      <td>1</td>\n",
       "      <td>1</td>\n",
       "    </tr>\n",
       "    <tr>\n",
       "      <th>12</th>\n",
       "      <td>202301010105</td>\n",
       "      <td>2023-07-22</td>\n",
       "      <td>0</td>\n",
       "      <td>0.0</td>\n",
       "      <td>1700</td>\n",
       "      <td>0</td>\n",
       "      <td>0.0</td>\n",
       "      <td>0</td>\n",
       "      <td>1</td>\n",
       "    </tr>\n",
       "    <tr>\n",
       "      <th>...</th>\n",
       "      <td>...</td>\n",
       "      <td>...</td>\n",
       "      <td>...</td>\n",
       "      <td>...</td>\n",
       "      <td>...</td>\n",
       "      <td>...</td>\n",
       "      <td>...</td>\n",
       "      <td>...</td>\n",
       "      <td>...</td>\n",
       "    </tr>\n",
       "    <tr>\n",
       "      <th>3459</th>\n",
       "      <td>202310030808</td>\n",
       "      <td>2023-09-03</td>\n",
       "      <td>0</td>\n",
       "      <td>0.0</td>\n",
       "      <td>1000</td>\n",
       "      <td>0</td>\n",
       "      <td>0.0</td>\n",
       "      <td>2</td>\n",
       "      <td>10</td>\n",
       "    </tr>\n",
       "    <tr>\n",
       "      <th>3460</th>\n",
       "      <td>202310030809</td>\n",
       "      <td>2023-09-03</td>\n",
       "      <td>1</td>\n",
       "      <td>0.0</td>\n",
       "      <td>1200</td>\n",
       "      <td>0</td>\n",
       "      <td>0.0</td>\n",
       "      <td>3</td>\n",
       "      <td>10</td>\n",
       "    </tr>\n",
       "    <tr>\n",
       "      <th>3461</th>\n",
       "      <td>202310030810</td>\n",
       "      <td>2023-09-03</td>\n",
       "      <td>0</td>\n",
       "      <td>0.0</td>\n",
       "      <td>1700</td>\n",
       "      <td>0</td>\n",
       "      <td>0.0</td>\n",
       "      <td>4</td>\n",
       "      <td>10</td>\n",
       "    </tr>\n",
       "    <tr>\n",
       "      <th>3462</th>\n",
       "      <td>202310030811</td>\n",
       "      <td>2023-09-03</td>\n",
       "      <td>1</td>\n",
       "      <td>0.0</td>\n",
       "      <td>1200</td>\n",
       "      <td>0</td>\n",
       "      <td>0.0</td>\n",
       "      <td>6</td>\n",
       "      <td>10</td>\n",
       "    </tr>\n",
       "    <tr>\n",
       "      <th>3463</th>\n",
       "      <td>202310030812</td>\n",
       "      <td>2023-09-03</td>\n",
       "      <td>1</td>\n",
       "      <td>0.0</td>\n",
       "      <td>2600</td>\n",
       "      <td>0</td>\n",
       "      <td>0.0</td>\n",
       "      <td>2</td>\n",
       "      <td>10</td>\n",
       "    </tr>\n",
       "  </tbody>\n",
       "</table>\n",
       "<p>3456 rows × 9 columns</p>\n",
       "</div>"
      ],
      "text/plain": [
       "           race_id       date  race_type  around course_len  weather  \\\n",
       "8     202301010101 2023-07-22          1     0.0       1200        0   \n",
       "9     202301010102 2023-07-22          0     0.0       1000        0   \n",
       "10    202301010103 2023-07-22          0     0.0       1700        0   \n",
       "11    202301010104 2023-07-22          1     0.0       1500        0   \n",
       "12    202301010105 2023-07-22          0     0.0       1700        0   \n",
       "...            ...        ...        ...     ...        ...      ...   \n",
       "3459  202310030808 2023-09-03          0     0.0       1000        0   \n",
       "3460  202310030809 2023-09-03          1     0.0       1200        0   \n",
       "3461  202310030810 2023-09-03          0     0.0       1700        0   \n",
       "3462  202310030811 2023-09-03          1     0.0       1200        0   \n",
       "3463  202310030812 2023-09-03          1     0.0       2600        0   \n",
       "\n",
       "      ground_state  race_class  place  \n",
       "8              0.0           1      1  \n",
       "9              0.0           1      1  \n",
       "10             0.0           1      1  \n",
       "11             0.0           1      1  \n",
       "12             0.0           0      1  \n",
       "...            ...         ...    ...  \n",
       "3459           0.0           2     10  \n",
       "3460           0.0           3     10  \n",
       "3461           0.0           4     10  \n",
       "3462           0.0           6     10  \n",
       "3463           0.0           2     10  \n",
       "\n",
       "[3456 rows x 9 columns]"
      ]
     },
     "execution_count": 85,
     "metadata": {},
     "output_type": "execute_result"
    }
   ],
   "source": [
    "race_info_preprocess"
   ]
  },
  {
   "cell_type": "markdown",
   "metadata": {},
   "source": [
    "# 特徴量作成"
   ]
  },
  {
   "cell_type": "code",
   "execution_count": 88,
   "metadata": {},
   "outputs": [],
   "source": [
    "fp = FeatureCreator()\n",
    "features = fp.create_features()"
   ]
  },
  {
   "cell_type": "code",
   "execution_count": 89,
   "metadata": {},
   "outputs": [
    {
     "data": {
      "text/plain": [
       "0"
      ]
     },
     "execution_count": 89,
     "metadata": {},
     "output_type": "execute_result"
    }
   ],
   "source": [
    "# 重複チェック\n",
    "features.duplicated(subset=[\"race_id\", \"horse_id\"]).sum()"
   ]
  },
  {
   "cell_type": "markdown",
   "metadata": {},
   "source": [
    "# 学習"
   ]
  },
  {
   "cell_type": "code",
   "execution_count": 97,
   "metadata": {},
   "outputs": [],
   "source": [
    "%autoreload"
   ]
  },
  {
   "cell_type": "code",
   "execution_count": 94,
   "metadata": {},
   "outputs": [],
   "source": [
    "trainer = Trainer()"
   ]
  },
  {
   "cell_type": "code",
   "execution_count": 2,
   "metadata": {},
   "outputs": [
    {
     "ename": "NameError",
     "evalue": "name 'trainer' is not defined",
     "output_type": "error",
     "traceback": [
      "\u001b[1;31m---------------------------------------------------------------------------\u001b[0m",
      "\u001b[1;31mNameError\u001b[0m                                 Traceback (most recent call last)",
      "Cell \u001b[1;32mIn[2], line 1\u001b[0m\n\u001b[1;32m----> 1\u001b[0m evaluation_df \u001b[38;5;241m=\u001b[39m \u001b[43mtrainer\u001b[49m\u001b[38;5;241m.\u001b[39mrun(test_start_date\u001b[38;5;241m=\u001b[39m\u001b[38;5;124m\"\u001b[39m\u001b[38;5;124m2023-10-01\u001b[39m\u001b[38;5;124m\"\u001b[39m)\n",
      "\u001b[1;31mNameError\u001b[0m: name 'trainer' is not defined"
     ]
    }
   ],
   "source": [
    "evaluation_df = trainer.run(test_start_date=\"2023-10-01\")"
   ]
  },
  {
   "cell_type": "markdown",
   "metadata": {},
   "source": [
    "# 精度評価"
   ]
  },
  {
   "cell_type": "code",
   "execution_count": 1,
   "metadata": {},
   "outputs": [],
   "source": [
    "from evaluationing import Evaluator\n",
    "%load_ext autoreload"
   ]
  },
  {
   "cell_type": "code",
   "execution_count": 2,
   "metadata": {},
   "outputs": [],
   "source": [
    "evaluator = Evaluator()"
   ]
  },
  {
   "cell_type": "code",
   "execution_count": 3,
   "metadata": {},
   "outputs": [
    {
     "data": {
      "text/html": [
       "<div>\n",
       "<style scoped>\n",
       "    .dataframe tbody tr th:only-of-type {\n",
       "        vertical-align: middle;\n",
       "    }\n",
       "\n",
       "    .dataframe tbody tr th {\n",
       "        vertical-align: top;\n",
       "    }\n",
       "\n",
       "    .dataframe thead th {\n",
       "        text-align: right;\n",
       "    }\n",
       "</style>\n",
       "<table border=\"1\" class=\"dataframe\">\n",
       "  <thead>\n",
       "    <tr style=\"text-align: right;\">\n",
       "      <th></th>\n",
       "      <th>bet_type</th>\n",
       "      <th>bet_type</th>\n",
       "      <th>hitrate_model</th>\n",
       "      <th>hitrate_pop</th>\n",
       "      <th>returnrate_model</th>\n",
       "      <th>returnrate_pop</th>\n",
       "    </tr>\n",
       "  </thead>\n",
       "  <tbody>\n",
       "    <tr>\n",
       "      <th>0</th>\n",
       "      <td>単勝</td>\n",
       "      <td>単勝</td>\n",
       "      <td>0.328704</td>\n",
       "      <td>0.331019</td>\n",
       "      <td>0.797454</td>\n",
       "      <td>0.798727</td>\n",
       "    </tr>\n",
       "    <tr>\n",
       "      <th>1</th>\n",
       "      <td>複勝</td>\n",
       "      <td>複勝</td>\n",
       "      <td>0.635417</td>\n",
       "      <td>0.641204</td>\n",
       "      <td>0.835069</td>\n",
       "      <td>0.838194</td>\n",
       "    </tr>\n",
       "  </tbody>\n",
       "</table>\n",
       "</div>"
      ],
      "text/plain": [
       "  bet_type bet_type  hitrate_model  hitrate_pop  returnrate_model  \\\n",
       "0       単勝       単勝       0.328704     0.331019          0.797454   \n",
       "1       複勝       複勝       0.635417     0.641204          0.835069   \n",
       "\n",
       "   returnrate_pop  \n",
       "0        0.798727  \n",
       "1        0.838194  "
      ]
     },
     "execution_count": 3,
     "metadata": {},
     "output_type": "execute_result"
    }
   ],
   "source": [
    "evaluator.summarize_box_top_n(n=1, save_filename=\"box_summary_top1.csv\")"
   ]
  },
  {
   "cell_type": "code",
   "execution_count": 4,
   "metadata": {},
   "outputs": [
    {
     "data": {
      "text/html": [
       "<div>\n",
       "<style scoped>\n",
       "    .dataframe tbody tr th:only-of-type {\n",
       "        vertical-align: middle;\n",
       "    }\n",
       "\n",
       "    .dataframe tbody tr th {\n",
       "        vertical-align: top;\n",
       "    }\n",
       "\n",
       "    .dataframe thead th {\n",
       "        text-align: right;\n",
       "    }\n",
       "</style>\n",
       "<table border=\"1\" class=\"dataframe\">\n",
       "  <thead>\n",
       "    <tr style=\"text-align: right;\">\n",
       "      <th></th>\n",
       "      <th>bet_type</th>\n",
       "      <th>bet_type</th>\n",
       "      <th>hitrate_model</th>\n",
       "      <th>hitrate_pop</th>\n",
       "      <th>returnrate_model</th>\n",
       "      <th>returnrate_pop</th>\n",
       "    </tr>\n",
       "  </thead>\n",
       "  <tbody>\n",
       "    <tr>\n",
       "      <th>0</th>\n",
       "      <td>ワイド</td>\n",
       "      <td>ワイド</td>\n",
       "      <td>0.340278</td>\n",
       "      <td>0.324074</td>\n",
       "      <td>0.892593</td>\n",
       "      <td>0.809606</td>\n",
       "    </tr>\n",
       "    <tr>\n",
       "      <th>1</th>\n",
       "      <td>単勝</td>\n",
       "      <td>単勝</td>\n",
       "      <td>0.548611</td>\n",
       "      <td>0.543981</td>\n",
       "      <td>0.862674</td>\n",
       "      <td>0.836285</td>\n",
       "    </tr>\n",
       "    <tr>\n",
       "      <th>2</th>\n",
       "      <td>複勝</td>\n",
       "      <td>複勝</td>\n",
       "      <td>0.841435</td>\n",
       "      <td>0.842593</td>\n",
       "      <td>0.862095</td>\n",
       "      <td>0.839410</td>\n",
       "    </tr>\n",
       "    <tr>\n",
       "      <th>3</th>\n",
       "      <td>馬単</td>\n",
       "      <td>馬単</td>\n",
       "      <td>0.179398</td>\n",
       "      <td>0.170139</td>\n",
       "      <td>0.942824</td>\n",
       "      <td>0.811748</td>\n",
       "    </tr>\n",
       "    <tr>\n",
       "      <th>4</th>\n",
       "      <td>馬連</td>\n",
       "      <td>馬連</td>\n",
       "      <td>0.179398</td>\n",
       "      <td>0.170139</td>\n",
       "      <td>0.962153</td>\n",
       "      <td>0.829977</td>\n",
       "    </tr>\n",
       "  </tbody>\n",
       "</table>\n",
       "</div>"
      ],
      "text/plain": [
       "  bet_type bet_type  hitrate_model  hitrate_pop  returnrate_model  \\\n",
       "0      ワイド      ワイド       0.340278     0.324074          0.892593   \n",
       "1       単勝       単勝       0.548611     0.543981          0.862674   \n",
       "2       複勝       複勝       0.841435     0.842593          0.862095   \n",
       "3       馬単       馬単       0.179398     0.170139          0.942824   \n",
       "4       馬連       馬連       0.179398     0.170139          0.962153   \n",
       "\n",
       "   returnrate_pop  \n",
       "0        0.809606  \n",
       "1        0.836285  \n",
       "2        0.839410  \n",
       "3        0.811748  \n",
       "4        0.829977  "
      ]
     },
     "execution_count": 4,
     "metadata": {},
     "output_type": "execute_result"
    }
   ],
   "source": [
    "evaluator.summarize_box_top_n(n=2, save_filename=\"box_summary_top2.csv\")\n"
   ]
  },
  {
   "cell_type": "code",
   "execution_count": 5,
   "metadata": {},
   "outputs": [
    {
     "data": {
      "text/html": [
       "<div>\n",
       "<style scoped>\n",
       "    .dataframe tbody tr th:only-of-type {\n",
       "        vertical-align: middle;\n",
       "    }\n",
       "\n",
       "    .dataframe tbody tr th {\n",
       "        vertical-align: top;\n",
       "    }\n",
       "\n",
       "    .dataframe thead th {\n",
       "        text-align: right;\n",
       "    }\n",
       "</style>\n",
       "<table border=\"1\" class=\"dataframe\">\n",
       "  <thead>\n",
       "    <tr style=\"text-align: right;\">\n",
       "      <th></th>\n",
       "      <th>bet_type</th>\n",
       "      <th>bet_type</th>\n",
       "      <th>hitrate_model</th>\n",
       "      <th>hitrate_pop</th>\n",
       "      <th>returnrate_model</th>\n",
       "      <th>returnrate_pop</th>\n",
       "    </tr>\n",
       "  </thead>\n",
       "  <tbody>\n",
       "    <tr>\n",
       "      <th>0</th>\n",
       "      <td>ワイド</td>\n",
       "      <td>ワイド</td>\n",
       "      <td>0.563657</td>\n",
       "      <td>0.559028</td>\n",
       "      <td>0.813927</td>\n",
       "      <td>0.802353</td>\n",
       "    </tr>\n",
       "    <tr>\n",
       "      <th>1</th>\n",
       "      <td>三連単</td>\n",
       "      <td>三連単</td>\n",
       "      <td>0.093750</td>\n",
       "      <td>0.093750</td>\n",
       "      <td>0.702894</td>\n",
       "      <td>0.607870</td>\n",
       "    </tr>\n",
       "    <tr>\n",
       "      <th>2</th>\n",
       "      <td>三連複</td>\n",
       "      <td>三連複</td>\n",
       "      <td>0.093750</td>\n",
       "      <td>0.093750</td>\n",
       "      <td>0.765972</td>\n",
       "      <td>0.731713</td>\n",
       "    </tr>\n",
       "    <tr>\n",
       "      <th>3</th>\n",
       "      <td>単勝</td>\n",
       "      <td>単勝</td>\n",
       "      <td>0.675926</td>\n",
       "      <td>0.663194</td>\n",
       "      <td>0.836381</td>\n",
       "      <td>0.794676</td>\n",
       "    </tr>\n",
       "    <tr>\n",
       "      <th>4</th>\n",
       "      <td>複勝</td>\n",
       "      <td>複勝</td>\n",
       "      <td>0.930556</td>\n",
       "      <td>0.924769</td>\n",
       "      <td>0.836844</td>\n",
       "      <td>0.824807</td>\n",
       "    </tr>\n",
       "    <tr>\n",
       "      <th>5</th>\n",
       "      <td>馬単</td>\n",
       "      <td>馬単</td>\n",
       "      <td>0.336806</td>\n",
       "      <td>0.322917</td>\n",
       "      <td>0.814275</td>\n",
       "      <td>0.713117</td>\n",
       "    </tr>\n",
       "    <tr>\n",
       "      <th>6</th>\n",
       "      <td>馬連</td>\n",
       "      <td>馬連</td>\n",
       "      <td>0.336806</td>\n",
       "      <td>0.322917</td>\n",
       "      <td>0.829861</td>\n",
       "      <td>0.733719</td>\n",
       "    </tr>\n",
       "  </tbody>\n",
       "</table>\n",
       "</div>"
      ],
      "text/plain": [
       "  bet_type bet_type  hitrate_model  hitrate_pop  returnrate_model  \\\n",
       "0      ワイド      ワイド       0.563657     0.559028          0.813927   \n",
       "1      三連単      三連単       0.093750     0.093750          0.702894   \n",
       "2      三連複      三連複       0.093750     0.093750          0.765972   \n",
       "3       単勝       単勝       0.675926     0.663194          0.836381   \n",
       "4       複勝       複勝       0.930556     0.924769          0.836844   \n",
       "5       馬単       馬単       0.336806     0.322917          0.814275   \n",
       "6       馬連       馬連       0.336806     0.322917          0.829861   \n",
       "\n",
       "   returnrate_pop  \n",
       "0        0.802353  \n",
       "1        0.607870  \n",
       "2        0.731713  \n",
       "3        0.794676  \n",
       "4        0.824807  \n",
       "5        0.713117  \n",
       "6        0.733719  "
      ]
     },
     "execution_count": 5,
     "metadata": {},
     "output_type": "execute_result"
    }
   ],
   "source": [
    "evaluator.summarize_box_top_n(n=3, save_filename=\"box_summary_top3.csv\")\n"
   ]
  },
  {
   "cell_type": "code",
   "execution_count": null,
   "metadata": {},
   "outputs": [],
   "source": []
  }
 ],
 "metadata": {
  "kernelspec": {
   "display_name": "pythonProject",
   "language": "python",
   "name": "python3"
  },
  "language_info": {
   "codemirror_mode": {
    "name": "ipython",
    "version": 3
   },
   "file_extension": ".py",
   "mimetype": "text/x-python",
   "name": "python",
   "nbconvert_exporter": "python",
   "pygments_lexer": "ipython3",
   "version": "3.12.7"
  }
 },
 "nbformat": 4,
 "nbformat_minor": 2
}
