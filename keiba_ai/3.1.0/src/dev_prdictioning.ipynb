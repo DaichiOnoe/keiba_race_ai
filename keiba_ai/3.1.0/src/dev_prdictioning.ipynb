{
 "cells": [
  {
   "cell_type": "markdown",
   "metadata": {},
   "source": [
    "# 役割\n",
    "本番運用時の予測を行うnotebook。モデルの学習（`train.ipynb`）が完了している必要がある。"
   ]
  },
  {
   "cell_type": "markdown",
   "metadata": {},
   "source": [
    "# インポート"
   ]
  },
  {
   "cell_type": "code",
   "execution_count": 1,
   "metadata": {},
   "outputs": [],
   "source": [
    "import preprocessing\n",
    "from feature_producing_prediction import PredictionFeatureCreator\n",
    "import predictioning\n",
    "%load_ext autoreload"
   ]
  },
  {
   "cell_type": "code",
   "execution_count": 86,
   "metadata": {},
   "outputs": [],
   "source": [
    "%autoreload"
   ]
  },
  {
   "cell_type": "markdown",
   "metadata": {},
   "source": [
    "# 事前準備\n",
    "**当日出走馬が確定した時点**で実行できる"
   ]
  },
  {
   "cell_type": "code",
   "execution_count": 2,
   "metadata": {},
   "outputs": [],
   "source": [
    "# 予測時の学習母集団はcommon/data/prediction_population/に配置している\n",
    "POPULATION_DIR = preprocessing.COMMON_DATA_DIR / \"prediction_population\""
   ]
  },
  {
   "cell_type": "code",
   "execution_count": 202,
   "metadata": {},
   "outputs": [],
   "source": [
    "# 当日出走馬の過去成績テーブルの前処理\n",
    "horse_results_preprocessed = preprocessing.process_horse_results(\n",
    "    population_dir=POPULATION_DIR,\n",
    "    populaton_filename=\"population.csv\",\n",
    "    input_filename=\"horse_results_prediction.csv\",\n",
    "    output_filename=\"horse_results_prediction.csv\"\n",
    ")"
   ]
  },
  {
   "cell_type": "code",
   "execution_count": 203,
   "metadata": {},
   "outputs": [
    {
     "data": {
      "text/plain": [
       "np.int64(0)"
      ]
     },
     "execution_count": 203,
     "metadata": {},
     "output_type": "execute_result"
    }
   ],
   "source": [
    "# データの重複チェック\n",
    "horse_results_preprocessed.duplicated(subset=[ \"horse_id\", \"date\"]).sum()\n"
   ]
  },
  {
   "cell_type": "code",
   "execution_count": 204,
   "metadata": {},
   "outputs": [],
   "source": [
    "# 当日出走馬の血統テーブルの前処理\n",
    "peds_preprocessed = preprocessing.process_peds(\n",
    "    population_dir=POPULATION_DIR,\n",
    "    populaton_filename= \"population.csv\",\n",
    "    input_filename=\"peds_prediction.csv\",\n",
    "    output_filename=\"peds_prediction.csv\"\n",
    ")"
   ]
  },
  {
   "cell_type": "code",
   "execution_count": 80,
   "metadata": {},
   "outputs": [
    {
     "data": {
      "application/vnd.jupyter.widget-view+json": {
       "model_id": "be42f8eb0f36459aad0da00faaeda1e8",
       "version_major": 2,
       "version_minor": 0
      },
      "text/plain": [
       "agg_horse_n_races_relative:   0%|          | 0/5 [00:00<?, ?it/s]"
      ]
     },
     "metadata": {},
     "output_type": "display_data"
    },
    {
     "name": "stdout",
     "output_type": "stream",
     "text": [
      "running agg_interval()...\n"
     ]
    }
   ],
   "source": [
    "pfc = PredictionFeatureCreator()\n",
    "# 過去成績集計は事前に行うことができる\n",
    "pfc.create_baselog()\n",
    "pfc.agg_horse_n_races()\n",
    "pfc.agg_horse_n_races_relative()\n",
    "pfc.agg_interval()"
   ]
  },
  {
   "cell_type": "code",
   "execution_count": 206,
   "metadata": {},
   "outputs": [
    {
     "data": {
      "text/html": [
       "<div>\n",
       "<style scoped>\n",
       "    .dataframe tbody tr th:only-of-type {\n",
       "        vertical-align: middle;\n",
       "    }\n",
       "\n",
       "    .dataframe tbody tr th {\n",
       "        vertical-align: top;\n",
       "    }\n",
       "\n",
       "    .dataframe thead th {\n",
       "        text-align: right;\n",
       "    }\n",
       "</style>\n",
       "<table border=\"1\" class=\"dataframe\">\n",
       "  <thead>\n",
       "    <tr style=\"text-align: right;\">\n",
       "      <th></th>\n",
       "      <th>date</th>\n",
       "      <th>race_id</th>\n",
       "      <th>horse_id</th>\n",
       "      <th>date_horse</th>\n",
       "      <th>rank</th>\n",
       "      <th>prize</th>\n",
       "      <th>rank_diff</th>\n",
       "      <th>weather</th>\n",
       "      <th>race_type</th>\n",
       "      <th>course_len</th>\n",
       "      <th>ground_state</th>\n",
       "      <th>race_class</th>\n",
       "      <th>n_horses</th>\n",
       "      <th>time</th>\n",
       "      <th>win</th>\n",
       "      <th>rentai</th>\n",
       "      <th>show</th>\n",
       "      <th>place</th>\n",
       "    </tr>\n",
       "  </thead>\n",
       "  <tbody>\n",
       "    <tr>\n",
       "      <th>2842</th>\n",
       "      <td>2025-03-02</td>\n",
       "      <td>202510011201</td>\n",
       "      <td>2022103128</td>\n",
       "      <td>2025-02-23</td>\n",
       "      <td>2.0</td>\n",
       "      <td>220.0</td>\n",
       "      <td>0.5</td>\n",
       "      <td>3.0</td>\n",
       "      <td>0</td>\n",
       "      <td>1700</td>\n",
       "      <td>0</td>\n",
       "      <td>1.0</td>\n",
       "      <td>12</td>\n",
       "      <td>106.1</td>\n",
       "      <td>0</td>\n",
       "      <td>1</td>\n",
       "      <td>1</td>\n",
       "      <td>10.0</td>\n",
       "    </tr>\n",
       "    <tr>\n",
       "      <th>2966</th>\n",
       "      <td>2025-03-02</td>\n",
       "      <td>202510011203</td>\n",
       "      <td>2022102890</td>\n",
       "      <td>2025-02-23</td>\n",
       "      <td>3.0</td>\n",
       "      <td>112.0</td>\n",
       "      <td>1.3</td>\n",
       "      <td>0.0</td>\n",
       "      <td>0</td>\n",
       "      <td>1000</td>\n",
       "      <td>0</td>\n",
       "      <td>1.0</td>\n",
       "      <td>14</td>\n",
       "      <td>60.4</td>\n",
       "      <td>0</td>\n",
       "      <td>0</td>\n",
       "      <td>1</td>\n",
       "      <td>10.0</td>\n",
       "    </tr>\n",
       "    <tr>\n",
       "      <th>273</th>\n",
       "      <td>2025-03-02</td>\n",
       "      <td>202506020207</td>\n",
       "      <td>2022101206</td>\n",
       "      <td>2025-02-23</td>\n",
       "      <td>10.0</td>\n",
       "      <td>0.0</td>\n",
       "      <td>1.5</td>\n",
       "      <td>0.0</td>\n",
       "      <td>1</td>\n",
       "      <td>1600</td>\n",
       "      <td>0</td>\n",
       "      <td>2.0</td>\n",
       "      <td>13</td>\n",
       "      <td>96.5</td>\n",
       "      <td>0</td>\n",
       "      <td>0</td>\n",
       "      <td>0</td>\n",
       "      <td>5.0</td>\n",
       "    </tr>\n",
       "    <tr>\n",
       "      <th>3411</th>\n",
       "      <td>2025-03-02</td>\n",
       "      <td>202510011206</td>\n",
       "      <td>2020100621</td>\n",
       "      <td>2025-02-23</td>\n",
       "      <td>12.0</td>\n",
       "      <td>0.0</td>\n",
       "      <td>1.0</td>\n",
       "      <td>1.0</td>\n",
       "      <td>1</td>\n",
       "      <td>1800</td>\n",
       "      <td>0</td>\n",
       "      <td>5.0</td>\n",
       "      <td>14</td>\n",
       "      <td>109.0</td>\n",
       "      <td>0</td>\n",
       "      <td>0</td>\n",
       "      <td>0</td>\n",
       "      <td>10.0</td>\n",
       "    </tr>\n",
       "    <tr>\n",
       "      <th>3437</th>\n",
       "      <td>2025-03-02</td>\n",
       "      <td>202510011206</td>\n",
       "      <td>2021106904</td>\n",
       "      <td>2025-02-23</td>\n",
       "      <td>5.0</td>\n",
       "      <td>80.0</td>\n",
       "      <td>0.8</td>\n",
       "      <td>1.0</td>\n",
       "      <td>1</td>\n",
       "      <td>2000</td>\n",
       "      <td>0</td>\n",
       "      <td>2.0</td>\n",
       "      <td>12</td>\n",
       "      <td>120.9</td>\n",
       "      <td>0</td>\n",
       "      <td>0</td>\n",
       "      <td>0</td>\n",
       "      <td>10.0</td>\n",
       "    </tr>\n",
       "    <tr>\n",
       "      <th>...</th>\n",
       "      <td>...</td>\n",
       "      <td>...</td>\n",
       "      <td>...</td>\n",
       "      <td>...</td>\n",
       "      <td>...</td>\n",
       "      <td>...</td>\n",
       "      <td>...</td>\n",
       "      <td>...</td>\n",
       "      <td>...</td>\n",
       "      <td>...</td>\n",
       "      <td>...</td>\n",
       "      <td>...</td>\n",
       "      <td>...</td>\n",
       "      <td>...</td>\n",
       "      <td>...</td>\n",
       "      <td>...</td>\n",
       "      <td>...</td>\n",
       "      <td>...</td>\n",
       "    </tr>\n",
       "    <tr>\n",
       "      <th>1106</th>\n",
       "      <td>2025-03-02</td>\n",
       "      <td>202506020211</td>\n",
       "      <td>2016106606</td>\n",
       "      <td>2018-11-24</td>\n",
       "      <td>11.0</td>\n",
       "      <td>0.0</td>\n",
       "      <td>1.3</td>\n",
       "      <td>0.0</td>\n",
       "      <td>1</td>\n",
       "      <td>1800</td>\n",
       "      <td>0</td>\n",
       "      <td>1.0</td>\n",
       "      <td>18</td>\n",
       "      <td>110.9</td>\n",
       "      <td>0</td>\n",
       "      <td>0</td>\n",
       "      <td>0</td>\n",
       "      <td>5.0</td>\n",
       "    </tr>\n",
       "    <tr>\n",
       "      <th>1107</th>\n",
       "      <td>2025-03-02</td>\n",
       "      <td>202506020211</td>\n",
       "      <td>2016106606</td>\n",
       "      <td>2018-11-11</td>\n",
       "      <td>10.0</td>\n",
       "      <td>0.0</td>\n",
       "      <td>1.0</td>\n",
       "      <td>0.0</td>\n",
       "      <td>1</td>\n",
       "      <td>1800</td>\n",
       "      <td>0</td>\n",
       "      <td>1.0</td>\n",
       "      <td>15</td>\n",
       "      <td>110.8</td>\n",
       "      <td>0</td>\n",
       "      <td>0</td>\n",
       "      <td>0</td>\n",
       "      <td>5.0</td>\n",
       "    </tr>\n",
       "    <tr>\n",
       "      <th>1108</th>\n",
       "      <td>2025-03-02</td>\n",
       "      <td>202506020211</td>\n",
       "      <td>2016106606</td>\n",
       "      <td>2018-11-04</td>\n",
       "      <td>8.0</td>\n",
       "      <td>0.0</td>\n",
       "      <td>2.6</td>\n",
       "      <td>1.0</td>\n",
       "      <td>0</td>\n",
       "      <td>1600</td>\n",
       "      <td>0</td>\n",
       "      <td>1.0</td>\n",
       "      <td>9</td>\n",
       "      <td>101.5</td>\n",
       "      <td>0</td>\n",
       "      <td>0</td>\n",
       "      <td>0</td>\n",
       "      <td>5.0</td>\n",
       "    </tr>\n",
       "    <tr>\n",
       "      <th>1109</th>\n",
       "      <td>2025-03-02</td>\n",
       "      <td>202506020211</td>\n",
       "      <td>2016106606</td>\n",
       "      <td>2018-09-22</td>\n",
       "      <td>13.0</td>\n",
       "      <td>0.0</td>\n",
       "      <td>5.2</td>\n",
       "      <td>1.0</td>\n",
       "      <td>0</td>\n",
       "      <td>1800</td>\n",
       "      <td>2</td>\n",
       "      <td>1.0</td>\n",
       "      <td>15</td>\n",
       "      <td>118.5</td>\n",
       "      <td>0</td>\n",
       "      <td>0</td>\n",
       "      <td>0</td>\n",
       "      <td>6.0</td>\n",
       "    </tr>\n",
       "    <tr>\n",
       "      <th>1110</th>\n",
       "      <td>2025-03-02</td>\n",
       "      <td>202506020211</td>\n",
       "      <td>2016106606</td>\n",
       "      <td>2018-08-11</td>\n",
       "      <td>13.0</td>\n",
       "      <td>0.0</td>\n",
       "      <td>2.8</td>\n",
       "      <td>0.0</td>\n",
       "      <td>1</td>\n",
       "      <td>1800</td>\n",
       "      <td>0</td>\n",
       "      <td>0.0</td>\n",
       "      <td>14</td>\n",
       "      <td>111.2</td>\n",
       "      <td>0</td>\n",
       "      <td>0</td>\n",
       "      <td>0</td>\n",
       "      <td>4.0</td>\n",
       "    </tr>\n",
       "  </tbody>\n",
       "</table>\n",
       "<p>4920 rows × 18 columns</p>\n",
       "</div>"
      ],
      "text/plain": [
       "            date       race_id    horse_id  date_horse  rank  prize  \\\n",
       "2842  2025-03-02  202510011201  2022103128  2025-02-23   2.0  220.0   \n",
       "2966  2025-03-02  202510011203  2022102890  2025-02-23   3.0  112.0   \n",
       "273   2025-03-02  202506020207  2022101206  2025-02-23  10.0    0.0   \n",
       "3411  2025-03-02  202510011206  2020100621  2025-02-23  12.0    0.0   \n",
       "3437  2025-03-02  202510011206  2021106904  2025-02-23   5.0   80.0   \n",
       "...          ...           ...         ...         ...   ...    ...   \n",
       "1106  2025-03-02  202506020211  2016106606  2018-11-24  11.0    0.0   \n",
       "1107  2025-03-02  202506020211  2016106606  2018-11-11  10.0    0.0   \n",
       "1108  2025-03-02  202506020211  2016106606  2018-11-04   8.0    0.0   \n",
       "1109  2025-03-02  202506020211  2016106606  2018-09-22  13.0    0.0   \n",
       "1110  2025-03-02  202506020211  2016106606  2018-08-11  13.0    0.0   \n",
       "\n",
       "      rank_diff  weather  race_type  course_len  ground_state  race_class  \\\n",
       "2842        0.5      3.0          0        1700             0         1.0   \n",
       "2966        1.3      0.0          0        1000             0         1.0   \n",
       "273         1.5      0.0          1        1600             0         2.0   \n",
       "3411        1.0      1.0          1        1800             0         5.0   \n",
       "3437        0.8      1.0          1        2000             0         2.0   \n",
       "...         ...      ...        ...         ...           ...         ...   \n",
       "1106        1.3      0.0          1        1800             0         1.0   \n",
       "1107        1.0      0.0          1        1800             0         1.0   \n",
       "1108        2.6      1.0          0        1600             0         1.0   \n",
       "1109        5.2      1.0          0        1800             2         1.0   \n",
       "1110        2.8      0.0          1        1800             0         0.0   \n",
       "\n",
       "      n_horses   time  win  rentai  show  place  \n",
       "2842        12  106.1    0       1     1   10.0  \n",
       "2966        14   60.4    0       0     1   10.0  \n",
       "273         13   96.5    0       0     0    5.0  \n",
       "3411        14  109.0    0       0     0   10.0  \n",
       "3437        12  120.9    0       0     0   10.0  \n",
       "...        ...    ...  ...     ...   ...    ...  \n",
       "1106        18  110.9    0       0     0    5.0  \n",
       "1107        15  110.8    0       0     0    5.0  \n",
       "1108         9  101.5    0       0     0    5.0  \n",
       "1109        15  118.5    0       0     0    6.0  \n",
       "1110        14  111.2    0       0     0    4.0  \n",
       "\n",
       "[4920 rows x 18 columns]"
      ]
     },
     "execution_count": 206,
     "metadata": {},
     "output_type": "execute_result"
    }
   ],
   "source": [
    "pfc.baselog"
   ]
  },
  {
   "cell_type": "markdown",
   "metadata": {},
   "source": [
    "# 当日の予測処理\n",
    "レース直前出走直前に実行する"
   ]
  },
  {
   "cell_type": "code",
   "execution_count": 82,
   "metadata": {},
   "outputs": [
    {
     "data": {
      "text/html": [
       "<div>\n",
       "<style scoped>\n",
       "    .dataframe tbody tr th:only-of-type {\n",
       "        vertical-align: middle;\n",
       "    }\n",
       "\n",
       "    .dataframe tbody tr th {\n",
       "        vertical-align: top;\n",
       "    }\n",
       "\n",
       "    .dataframe thead th {\n",
       "        text-align: right;\n",
       "    }\n",
       "</style>\n",
       "<table border=\"1\" class=\"dataframe\">\n",
       "  <thead>\n",
       "    <tr style=\"text-align: right;\">\n",
       "      <th></th>\n",
       "      <th>race_id</th>\n",
       "      <th>race_type</th>\n",
       "      <th>around</th>\n",
       "      <th>course_len</th>\n",
       "      <th>weather</th>\n",
       "      <th>ground_state</th>\n",
       "      <th>race_class</th>\n",
       "      <th>place</th>\n",
       "    </tr>\n",
       "  </thead>\n",
       "  <tbody>\n",
       "    <tr>\n",
       "      <th>0</th>\n",
       "      <td>202509010210</td>\n",
       "      <td>0</td>\n",
       "      <td>0</td>\n",
       "      <td>1800</td>\n",
       "      <td>3</td>\n",
       "      <td>0</td>\n",
       "      <td>4</td>\n",
       "      <td>9</td>\n",
       "    </tr>\n",
       "  </tbody>\n",
       "</table>\n",
       "</div>"
      ],
      "text/plain": [
       "        race_id  race_type  around  course_len  weather  ground_state  \\\n",
       "0  202509010210          0       0        1800        3             0   \n",
       "\n",
       "   race_class  place  \n",
       "0           4      9  "
      ]
     },
     "execution_count": 82,
     "metadata": {},
     "output_type": "execute_result"
    }
   ],
   "source": [
    "pfc.race_info"
   ]
  },
  {
   "cell_type": "code",
   "execution_count": 87,
   "metadata": {},
   "outputs": [
    {
     "name": "stdout",
     "output_type": "stream",
     "text": [
      "fetching shubuta page html...\n"
     ]
    },
    {
     "name": "stderr",
     "output_type": "stream",
     "text": [
      "c:\\Users\\Onoe Daichi\\Downloads\\競馬AI\\keiba_ai\\v3_exp_4\\src\\feature_producing_prediction.py:184: FutureWarning: Passing literal html to 'read_html' is deprecated and will be removed in a future version. To read from a literal string, wrap it in a 'StringIO' object.\n",
      "  df = pd.read_html(html)[0]\n"
     ]
    },
    {
     "data": {
      "application/vnd.jupyter.widget-view+json": {
       "model_id": "5846dab7792e4aa1ad555552538b42cf",
       "version_major": 2,
       "version_minor": 0
      },
      "text/plain": [
       "agg_horse_per_course_len:   0%|          | 0/6 [00:00<?, ?it/s]"
      ]
     },
     "metadata": {},
     "output_type": "display_data"
    },
    {
     "data": {
      "application/vnd.jupyter.widget-view+json": {
       "model_id": "da4b9de2588d41d8b744fb5a69bcfcd9",
       "version_major": 2,
       "version_minor": 0
      },
      "text/plain": [
       "agg_horse_per_ground_state_race_type:   0%|          | 0/6 [00:00<?, ?it/s]"
      ]
     },
     "metadata": {},
     "output_type": "display_data"
    },
    {
     "data": {
      "application/vnd.jupyter.widget-view+json": {
       "model_id": "4322c848fd8a40c593229637dba391ee",
       "version_major": 2,
       "version_minor": 0
      },
      "text/plain": [
       "agg_horse_per_race_class:   0%|          | 0/6 [00:00<?, ?it/s]"
      ]
     },
     "metadata": {},
     "output_type": "display_data"
    },
    {
     "data": {
      "application/vnd.jupyter.widget-view+json": {
       "model_id": "1b4e0a13887e4d3f8391e072feffd5b3",
       "version_major": 2,
       "version_minor": 0
      },
      "text/plain": [
       "agg_horse_per_race_type:   0%|          | 0/6 [00:00<?, ?it/s]"
      ]
     },
     "metadata": {},
     "output_type": "display_data"
    },
    {
     "name": "stdout",
     "output_type": "stream",
     "text": [
      "running agg_jockey()...\n",
      "running agg_trainer()...\n",
      "running agg_sire()...\n",
      "running cross_feature()...\n",
      "merging all features...\n"
     ]
    }
   ],
   "source": [
    "# 特徴量の更新\n",
    "features = pfc.create_features(\n",
    "    race_id=\"202509010210\",  # 予測するレースidを指定\n",
    "    skip_agg_horse=True  # 事前に集計した場合はスキップできる\n",
    ")"
   ]
  },
  {
   "cell_type": "markdown",
   "metadata": {},
   "source": [
    "# race_classマッピングの修正"
   ]
  },
  {
   "cell_type": "code",
   "execution_count": 13,
   "metadata": {},
   "outputs": [],
   "source": [
    "import json\n",
    "from pathlib import Path\n",
    "from bs4 import BeautifulSoup\n",
    "# import numpy as np\n",
    "import pandas as pd\n",
    "import re\n",
    "COMMON_DATA_DIR = Path(\"..\", \"..\", \"common\", \"data\")\n",
    "POPULATION_DIR = COMMON_DATA_DIR / \"prediction_population\"\n",
    "MAPPING_DIR = COMMON_DATA_DIR / \"mapping\"\n",
    "with open(MAPPING_DIR / \"race_class.json\", \"r\") as f:\n",
    "    race_class_mapping = json.load(f)\n",
    "# pfc.htmls[\"202509010210\"]\n",
    "# soup = BeautifulSoup(pfc.htmls[\"202509010210\"], \"lxml\").find(\"div\", class_=\"RaceList_Item02\")\n",
    "# soup"
   ]
  },
  {
   "cell_type": "code",
   "execution_count": 14,
   "metadata": {},
   "outputs": [
    {
     "data": {
      "text/plain": [
       "'新馬|未勝利|1勝クラス|１勝クラス|2勝クラス|２勝クラス|3勝クラス|３勝クラス|オープン|L|GIII|GII|GI|特別|500万下|1000万下|1600万下|OP'"
      ]
     },
     "execution_count": 14,
     "metadata": {},
     "output_type": "execute_result"
    }
   ],
   "source": [
    "regex_race_class = \"|\".join(race_class_mapping)\n",
    "regex_race_class"
   ]
  },
  {
   "cell_type": "code",
   "execution_count": 7,
   "metadata": {},
   "outputs": [
    {
     "data": {
      "text/html": [
       "<div>\n",
       "<style scoped>\n",
       "    .dataframe tbody tr th:only-of-type {\n",
       "        vertical-align: middle;\n",
       "    }\n",
       "\n",
       "    .dataframe tbody tr th {\n",
       "        vertical-align: top;\n",
       "    }\n",
       "\n",
       "    .dataframe thead th {\n",
       "        text-align: right;\n",
       "    }\n",
       "</style>\n",
       "<table border=\"1\" class=\"dataframe\">\n",
       "  <thead>\n",
       "    <tr style=\"text-align: right;\">\n",
       "      <th></th>\n",
       "      <th>race_id</th>\n",
       "      <th>title</th>\n",
       "      <th>info_1</th>\n",
       "      <th>info_2</th>\n",
       "    </tr>\n",
       "  </thead>\n",
       "  <tbody>\n",
       "    <tr>\n",
       "      <th>3630</th>\n",
       "      <td>201902010309</td>\n",
       "      <td>3歳以上1勝クラス</td>\n",
       "      <td>['芝右1200m', '天候:雨', '芝:稍重', '発走:14:15']</td>\n",
       "      <td>['2019年6月22日', '1回函館3日目', '3歳以上1勝クラス', '牝', '指...</td>\n",
       "    </tr>\n",
       "    <tr>\n",
       "      <th>3631</th>\n",
       "      <td>201902010310</td>\n",
       "      <td>湯川特別(1勝)</td>\n",
       "      <td>['芝右2000m', '天候:雨', '芝:稍重', '発走:14:50', '過去の湯川...</td>\n",
       "      <td>['2019年6月22日', '1回函館3日目', '3歳以上1勝クラス', '混', '特...</td>\n",
       "    </tr>\n",
       "    <tr>\n",
       "      <th>3632</th>\n",
       "      <td>201902010311</td>\n",
       "      <td>大沼ステークス(L)</td>\n",
       "      <td>['ダ右1700m', '天候:雨', 'ダート:稍重', '発走:15:25', '過去の...</td>\n",
       "      <td>['2019年6月22日', '1回函館3日目', '3歳以上オープン', '国際', '特...</td>\n",
       "    </tr>\n",
       "    <tr>\n",
       "      <th>3633</th>\n",
       "      <td>201902010312</td>\n",
       "      <td>長万部特別(1勝)</td>\n",
       "      <td>['芝右1200m', '天候:曇', '芝:稍重', '発走:16:05', '過去の長万...</td>\n",
       "      <td>['2019年6月22日', '1回函館3日目', '3歳以上1勝クラス', '特指', '...</td>\n",
       "    </tr>\n",
       "    <tr>\n",
       "      <th>3634</th>\n",
       "      <td>201902010401</td>\n",
       "      <td>3歳未勝利</td>\n",
       "      <td>['芝右1200m', '天候:曇', '芝:重', '発走:09:50']</td>\n",
       "      <td>['2019年6月23日', '1回函館4日目', '3歳未勝利', '混', '指', '...</td>\n",
       "    </tr>\n",
       "    <tr>\n",
       "      <th>3635</th>\n",
       "      <td>201902010402</td>\n",
       "      <td>3歳未勝利</td>\n",
       "      <td>['ダ右1700m', '天候:曇', 'ダート:重', '発走:10:15']</td>\n",
       "      <td>['2019年6月23日', '1回函館4日目', '3歳未勝利', '牝', '指', '...</td>\n",
       "    </tr>\n",
       "    <tr>\n",
       "      <th>3636</th>\n",
       "      <td>201902010403</td>\n",
       "      <td>3歳未勝利</td>\n",
       "      <td>['芝右1800m', '天候:曇', '芝:稍重', '発走:10:45']</td>\n",
       "      <td>['2019年6月23日', '1回函館4日目', '3歳未勝利', '指', '馬齢']</td>\n",
       "    </tr>\n",
       "    <tr>\n",
       "      <th>3637</th>\n",
       "      <td>201902010404</td>\n",
       "      <td>3歳未勝利</td>\n",
       "      <td>['ダ右1700m', '天候:曇', 'ダート:重', '発走:11:15']</td>\n",
       "      <td>['2019年6月23日', '1回函館4日目', '3歳未勝利', '指', '馬齢']</td>\n",
       "    </tr>\n",
       "    <tr>\n",
       "      <th>3638</th>\n",
       "      <td>201902010405</td>\n",
       "      <td>2歳新馬</td>\n",
       "      <td>['芝右1200m', '天候:曇', '芝:稍重', '発走:12:05']</td>\n",
       "      <td>['2019年6月23日', '1回函館4日目', '2歳新馬', '混', '指', '馬齢']</td>\n",
       "    </tr>\n",
       "    <tr>\n",
       "      <th>3639</th>\n",
       "      <td>201902010406</td>\n",
       "      <td>3歳未勝利</td>\n",
       "      <td>['芝右2000m', '天候:曇', '芝:稍重', '発走:12:35']</td>\n",
       "      <td>['2019年6月23日', '1回函館4日目', '3歳未勝利', '指', '馬齢']</td>\n",
       "    </tr>\n",
       "  </tbody>\n",
       "</table>\n",
       "</div>"
      ],
      "text/plain": [
       "           race_id       title  \\\n",
       "3630  201902010309   3歳以上1勝クラス   \n",
       "3631  201902010310    湯川特別(1勝)   \n",
       "3632  201902010311  大沼ステークス(L)   \n",
       "3633  201902010312   長万部特別(1勝)   \n",
       "3634  201902010401       3歳未勝利   \n",
       "3635  201902010402       3歳未勝利   \n",
       "3636  201902010403       3歳未勝利   \n",
       "3637  201902010404       3歳未勝利   \n",
       "3638  201902010405        2歳新馬   \n",
       "3639  201902010406       3歳未勝利   \n",
       "\n",
       "                                                 info_1  \\\n",
       "3630            ['芝右1200m', '天候:雨', '芝:稍重', '発走:14:15']   \n",
       "3631  ['芝右2000m', '天候:雨', '芝:稍重', '発走:14:50', '過去の湯川...   \n",
       "3632  ['ダ右1700m', '天候:雨', 'ダート:稍重', '発走:15:25', '過去の...   \n",
       "3633  ['芝右1200m', '天候:曇', '芝:稍重', '発走:16:05', '過去の長万...   \n",
       "3634             ['芝右1200m', '天候:曇', '芝:重', '発走:09:50']   \n",
       "3635           ['ダ右1700m', '天候:曇', 'ダート:重', '発走:10:15']   \n",
       "3636            ['芝右1800m', '天候:曇', '芝:稍重', '発走:10:45']   \n",
       "3637           ['ダ右1700m', '天候:曇', 'ダート:重', '発走:11:15']   \n",
       "3638            ['芝右1200m', '天候:曇', '芝:稍重', '発走:12:05']   \n",
       "3639            ['芝右2000m', '天候:曇', '芝:稍重', '発走:12:35']   \n",
       "\n",
       "                                                 info_2  \n",
       "3630  ['2019年6月22日', '1回函館3日目', '3歳以上1勝クラス', '牝', '指...  \n",
       "3631  ['2019年6月22日', '1回函館3日目', '3歳以上1勝クラス', '混', '特...  \n",
       "3632  ['2019年6月22日', '1回函館3日目', '3歳以上オープン', '国際', '特...  \n",
       "3633  ['2019年6月22日', '1回函館3日目', '3歳以上1勝クラス', '特指', '...  \n",
       "3634  ['2019年6月23日', '1回函館4日目', '3歳未勝利', '混', '指', '...  \n",
       "3635  ['2019年6月23日', '1回函館4日目', '3歳未勝利', '牝', '指', '...  \n",
       "3636      ['2019年6月23日', '1回函館4日目', '3歳未勝利', '指', '馬齢']  \n",
       "3637      ['2019年6月23日', '1回函館4日目', '3歳未勝利', '指', '馬齢']  \n",
       "3638  ['2019年6月23日', '1回函館4日目', '2歳新馬', '混', '指', '馬齢']  \n",
       "3639      ['2019年6月23日', '1回函館4日目', '3歳未勝利', '指', '馬齢']  "
      ]
     },
     "execution_count": 7,
     "metadata": {},
     "output_type": "execute_result"
    }
   ],
   "source": [
    "df = pd.read_csv(COMMON_DATA_DIR/\"rawdf\"/\"race_info_18-24.csv\",sep=\"\\t\")[3630:3640]\n",
    "df"
   ]
  },
  {
   "cell_type": "code",
   "execution_count": 12,
   "metadata": {},
   "outputs": [
    {
     "data": {
      "text/plain": [
       "3630    1勝クラス\n",
       "3631       特別\n",
       "3632        L\n",
       "3633       特別\n",
       "3634      未勝利\n",
       "3635      未勝利\n",
       "3636      未勝利\n",
       "3637      未勝利\n",
       "3638       新馬\n",
       "3639      未勝利\n",
       "Name: 0, dtype: object"
      ]
     },
     "execution_count": 12,
     "metadata": {},
     "output_type": "execute_result"
    }
   ],
   "source": [
    "df[\"title\"].str.extract(rf\"({regex_race_class})\").fillna(df[\"info_2\"].str.extract(rf\"({regex_race_class})\"))[0]"
   ]
  },
  {
   "cell_type": "code",
   "execution_count": 15,
   "metadata": {},
   "outputs": [
    {
     "data": {
      "text/plain": [
       "3630    2\n",
       "3631    5\n",
       "3632    5\n",
       "3633    5\n",
       "3634    1\n",
       "3635    1\n",
       "3636    1\n",
       "3637    1\n",
       "3638    0\n",
       "3639    1\n",
       "Name: race_class, dtype: int64"
      ]
     },
     "execution_count": 15,
     "metadata": {},
     "output_type": "execute_result"
    }
   ],
   "source": [
    "df[\"race_class\"] = (\n",
    "        df[\"title\"]\n",
    "        .str.extract(rf\"({regex_race_class})\")\n",
    "        # タイトルからレース階級情報が取れない場合はinfo2から取得\n",
    "        .fillna(df[\"info_2\"].str.extract(rf\"({regex_race_class})\"))[0]\n",
    "        .map(race_class_mapping)\n",
    "    )\n",
    "df[\"race_class\"]"
   ]
  },
  {
   "cell_type": "code",
   "execution_count": 66,
   "metadata": {},
   "outputs": [
    {
     "data": {
      "text/plain": [
       "[]"
      ]
     },
     "execution_count": 66,
     "metadata": {},
     "output_type": "execute_result"
    }
   ],
   "source": [
    "divs = soup.find_all(\"div\")\n",
    "titile = soup.find(\"h1\").text.strip()\n",
    "regex_race_class = \"|\".join(race_class_mapping)\n",
    "race_class_title = re.findall(regex_race_class, titile)\n",
    "race_class_title"
   ]
  },
  {
   "cell_type": "code",
   "execution_count": 68,
   "metadata": {},
   "outputs": [
    {
     "data": {
      "text/plain": [
       "['３勝クラス']"
      ]
     },
     "execution_count": 68,
     "metadata": {},
     "output_type": "execute_result"
    }
   ],
   "source": [
    "# regex_race_class = \"|\".join(race_class_mapping)\n",
    "race_class = re.findall(regex_race_class, divs[1].text)\n",
    "race_class"
   ]
  },
  {
   "cell_type": "code",
   "execution_count": null,
   "metadata": {},
   "outputs": [],
   "source": [
    "info_dict = {}\n",
    "if len(race_class_title) != 0:\n",
    "            info_dict = race_class_mapping[race_class_title[0]]\n",
    "elif len(race_class) != 0:\n",
    "            info_dict = race_class_mapping[race_class[0]]\n",
    "else:\n",
    "        info_dict = None"
   ]
  },
  {
   "cell_type": "code",
   "execution_count": 85,
   "metadata": {},
   "outputs": [
    {
     "data": {
      "text/plain": [
       "4"
      ]
     },
     "execution_count": 85,
     "metadata": {},
     "output_type": "execute_result"
    }
   ],
   "source": [
    "info_dict"
   ]
  },
  {
   "cell_type": "code",
   "execution_count": null,
   "metadata": {},
   "outputs": [
    {
     "data": {
      "text/plain": [
       "'1回阪神2日目サラ系４歳以上３勝クラス(混)(特指)定量10頭本賞金:1840,740,460,280,184万円'"
      ]
     },
     "execution_count": 55,
     "metadata": {},
     "output_type": "execute_result"
    }
   ],
   "source": [
    "clean_text = re.sub(r\"\\s+\", \"\", divs[1].text) \n",
    "clean_text"
   ]
  },
  {
   "cell_type": "code",
   "execution_count": 83,
   "metadata": {},
   "outputs": [],
   "source": [
    "# 予測\n",
    "prediction = predictioning.predict(\n",
    "    features,\n",
    "    model_filename=\"model_latest.pkl\",\n",
    "    calibration_model_filename=\"calibration_model_latest.pkl\",\n",
    "    # sort_col=\"expect_return\",\n",
    ")"
   ]
  },
  {
   "cell_type": "code",
   "execution_count": 84,
   "metadata": {},
   "outputs": [
    {
     "data": {
      "text/html": [
       "<div>\n",
       "<style scoped>\n",
       "    .dataframe tbody tr th:only-of-type {\n",
       "        vertical-align: middle;\n",
       "    }\n",
       "\n",
       "    .dataframe tbody tr th {\n",
       "        vertical-align: top;\n",
       "    }\n",
       "\n",
       "    .dataframe thead th {\n",
       "        text-align: right;\n",
       "    }\n",
       "</style>\n",
       "<table border=\"1\" class=\"dataframe\">\n",
       "  <thead>\n",
       "    <tr style=\"text-align: right;\">\n",
       "      <th></th>\n",
       "      <th>race_id</th>\n",
       "      <th>umaban</th>\n",
       "      <th>tansyo_odds</th>\n",
       "      <th>popularity</th>\n",
       "      <th>pred</th>\n",
       "      <th>pred_calibrated</th>\n",
       "      <th>expect_return</th>\n",
       "      <th>expect_return_calibrated</th>\n",
       "    </tr>\n",
       "  </thead>\n",
       "  <tbody>\n",
       "    <tr>\n",
       "      <th>0</th>\n",
       "      <td>202509010210</td>\n",
       "      <td>1</td>\n",
       "      <td>54.7</td>\n",
       "      <td>8</td>\n",
       "      <td>0.018806</td>\n",
       "      <td>0.020367</td>\n",
       "      <td>1.028703</td>\n",
       "      <td>1.114053</td>\n",
       "    </tr>\n",
       "    <tr>\n",
       "      <th>6</th>\n",
       "      <td>202509010210</td>\n",
       "      <td>7</td>\n",
       "      <td>35.2</td>\n",
       "      <td>6</td>\n",
       "      <td>0.025132</td>\n",
       "      <td>0.025510</td>\n",
       "      <td>0.884644</td>\n",
       "      <td>0.897959</td>\n",
       "    </tr>\n",
       "    <tr>\n",
       "      <th>2</th>\n",
       "      <td>202509010210</td>\n",
       "      <td>3</td>\n",
       "      <td>1.4</td>\n",
       "      <td>1</td>\n",
       "      <td>0.627014</td>\n",
       "      <td>0.903430</td>\n",
       "      <td>0.877819</td>\n",
       "      <td>1.264802</td>\n",
       "    </tr>\n",
       "    <tr>\n",
       "      <th>8</th>\n",
       "      <td>202509010210</td>\n",
       "      <td>9</td>\n",
       "      <td>12.9</td>\n",
       "      <td>3</td>\n",
       "      <td>0.066229</td>\n",
       "      <td>0.043140</td>\n",
       "      <td>0.854360</td>\n",
       "      <td>0.556506</td>\n",
       "    </tr>\n",
       "    <tr>\n",
       "      <th>5</th>\n",
       "      <td>202509010210</td>\n",
       "      <td>6</td>\n",
       "      <td>13.7</td>\n",
       "      <td>4</td>\n",
       "      <td>0.059661</td>\n",
       "      <td>0.043140</td>\n",
       "      <td>0.817353</td>\n",
       "      <td>0.591018</td>\n",
       "    </tr>\n",
       "    <tr>\n",
       "      <th>1</th>\n",
       "      <td>202509010210</td>\n",
       "      <td>2</td>\n",
       "      <td>33.6</td>\n",
       "      <td>5</td>\n",
       "      <td>0.023875</td>\n",
       "      <td>0.025510</td>\n",
       "      <td>0.802208</td>\n",
       "      <td>0.857143</td>\n",
       "    </tr>\n",
       "    <tr>\n",
       "      <th>9</th>\n",
       "      <td>202509010210</td>\n",
       "      <td>10</td>\n",
       "      <td>80.9</td>\n",
       "      <td>9</td>\n",
       "      <td>0.009461</td>\n",
       "      <td>0.005450</td>\n",
       "      <td>0.765419</td>\n",
       "      <td>0.440872</td>\n",
       "    </tr>\n",
       "    <tr>\n",
       "      <th>4</th>\n",
       "      <td>202509010210</td>\n",
       "      <td>5</td>\n",
       "      <td>36.9</td>\n",
       "      <td>7</td>\n",
       "      <td>0.020019</td>\n",
       "      <td>0.020367</td>\n",
       "      <td>0.738691</td>\n",
       "      <td>0.751527</td>\n",
       "    </tr>\n",
       "    <tr>\n",
       "      <th>7</th>\n",
       "      <td>202509010210</td>\n",
       "      <td>8</td>\n",
       "      <td>3.5</td>\n",
       "      <td>2</td>\n",
       "      <td>0.209192</td>\n",
       "      <td>0.241379</td>\n",
       "      <td>0.732173</td>\n",
       "      <td>0.844828</td>\n",
       "    </tr>\n",
       "    <tr>\n",
       "      <th>3</th>\n",
       "      <td>202509010210</td>\n",
       "      <td>4</td>\n",
       "      <td>156.9</td>\n",
       "      <td>10</td>\n",
       "      <td>0.004560</td>\n",
       "      <td>0.004231</td>\n",
       "      <td>0.715542</td>\n",
       "      <td>0.663893</td>\n",
       "    </tr>\n",
       "  </tbody>\n",
       "</table>\n",
       "</div>"
      ],
      "text/plain": [
       "        race_id  umaban  tansyo_odds  popularity      pred  pred_calibrated  \\\n",
       "0  202509010210       1         54.7           8  0.018806         0.020367   \n",
       "6  202509010210       7         35.2           6  0.025132         0.025510   \n",
       "2  202509010210       3          1.4           1  0.627014         0.903430   \n",
       "8  202509010210       9         12.9           3  0.066229         0.043140   \n",
       "5  202509010210       6         13.7           4  0.059661         0.043140   \n",
       "1  202509010210       2         33.6           5  0.023875         0.025510   \n",
       "9  202509010210      10         80.9           9  0.009461         0.005450   \n",
       "4  202509010210       5         36.9           7  0.020019         0.020367   \n",
       "7  202509010210       8          3.5           2  0.209192         0.241379   \n",
       "3  202509010210       4        156.9          10  0.004560         0.004231   \n",
       "\n",
       "   expect_return  expect_return_calibrated  \n",
       "0       1.028703                  1.114053  \n",
       "6       0.884644                  0.897959  \n",
       "2       0.877819                  1.264802  \n",
       "8       0.854360                  0.556506  \n",
       "5       0.817353                  0.591018  \n",
       "1       0.802208                  0.857143  \n",
       "9       0.765419                  0.440872  \n",
       "4       0.738691                  0.751527  \n",
       "7       0.732173                  0.844828  \n",
       "3       0.715542                  0.663893  "
      ]
     },
     "execution_count": 84,
     "metadata": {},
     "output_type": "execute_result"
    }
   ],
   "source": [
    "# 2024年までを学習させたバージョン\n",
    "sorted_features = prediction.sort_values(by='expect_return', ascending=False)\n",
    "sorted_features"
   ]
  }
 ],
 "metadata": {
  "kernelspec": {
   "display_name": "pythonProject",
   "language": "python",
   "name": "python3"
  },
  "language_info": {
   "codemirror_mode": {
    "name": "ipython",
    "version": 3
   },
   "file_extension": ".py",
   "mimetype": "text/x-python",
   "name": "python",
   "nbconvert_exporter": "python",
   "pygments_lexer": "ipython3",
   "version": "3.12.7"
  }
 },
 "nbformat": 4,
 "nbformat_minor": 2
}
