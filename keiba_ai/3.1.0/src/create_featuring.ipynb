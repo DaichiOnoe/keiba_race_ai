{
 "cells": [
  {
   "cell_type": "markdown",
   "metadata": {},
   "source": [
    "# データ加工以降の流れはこのファイルで完了する"
   ]
  },
  {
   "cell_type": "markdown",
   "metadata": {},
   "source": [
    "# インポート"
   ]
  },
  {
   "cell_type": "code",
   "execution_count": 1,
   "metadata": {},
   "outputs": [],
   "source": [
    "import gc\n",
    "\n",
    "import pandas as pd\n",
    "from pathlib import Path\n",
    "import create_population\n",
    "import preprocessing\n",
    "from feature_producing import FeatureCreator\n",
    "%load_ext autoreload"
   ]
  },
  {
   "cell_type": "code",
   "execution_count": 8,
   "metadata": {},
   "outputs": [],
   "source": [
    "# モジュールを更新した場合、以下を実行することで更新を反映させる\n",
    "%autoreload"
   ]
  },
  {
   "cell_type": "markdown",
   "metadata": {},
   "source": [
    "# 学習母集団の作成"
   ]
  },
  {
   "cell_type": "code",
   "execution_count": 2,
   "metadata": {},
   "outputs": [],
   "source": [
    "population = create_population.create(\n",
    "    from_=\"2008-01-01\",\n",
    "    to_=\"2024-12-31\",\n",
    "    race_info_filename=\"race_info08-24.csv\",\n",
    "    results_filename=\"results08-24.csv\",\n",
    "    output_filename=\"population.csv\",\n",
    ")"
   ]
  },
  {
   "cell_type": "markdown",
   "metadata": {},
   "source": [
    "# データ前処理"
   ]
  },
  {
   "cell_type": "markdown",
   "metadata": {},
   "source": [
    "## レース結果テーブル"
   ]
  },
  {
   "cell_type": "code",
   "execution_count": 3,
   "metadata": {},
   "outputs": [
    {
     "data": {
      "text/plain": [
       "race_id        0\n",
       "horse_id       0\n",
       "jockey_id      0\n",
       "trainer_id     0\n",
       "rank           0\n",
       "umaban         0\n",
       "wakuban        0\n",
       "tansho_odds    0\n",
       "popularity     0\n",
       "impost         0\n",
       "sex            0\n",
       "age            0\n",
       "weight         1\n",
       "weight_diff    0\n",
       "n_horses       0\n",
       "time           0\n",
       "time_rank      0\n",
       "dtype: int64"
      ]
     },
     "execution_count": 3,
     "metadata": {},
     "output_type": "execute_result"
    }
   ],
   "source": [
    "results_preprocessed = preprocessing.process_results(\n",
    "    input_filename=\"results08-24.csv\",\n",
    "    output_filename=\"results08-24.csv\"\n",
    ")\n",
    "# 重複チェック\n",
    "assert results_preprocessed.duplicated(subset=[\"race_id\", \"horse_id\"]).sum() == 0\n",
    "# 欠損チェック\n",
    "results_preprocessed.isnull().sum()"
   ]
  },
  {
   "cell_type": "code",
   "execution_count": 4,
   "metadata": {},
   "outputs": [
    {
     "data": {
      "text/plain": [
       "race_id\n",
       "2008    49872\n",
       "2009    50032\n",
       "2010    49568\n",
       "2011    48726\n",
       "2012    49472\n",
       "2013    49638\n",
       "2014    49877\n",
       "2015    49609\n",
       "2016    49697\n",
       "2017    48922\n",
       "2018    48185\n",
       "2019    47118\n",
       "2020    47876\n",
       "2021    47476\n",
       "2022    46840\n",
       "2023    47273\n",
       "2024    46643\n",
       "Name: count, dtype: int64"
      ]
     },
     "execution_count": 4,
     "metadata": {},
     "output_type": "execute_result"
    }
   ],
   "source": [
    "# 年ごとのレース数\n",
    "results_preprocessed[\"race_id\"].astype(str).str[:4].value_counts().sort_index()"
   ]
  },
  {
   "cell_type": "code",
   "execution_count": 5,
   "metadata": {},
   "outputs": [
    {
     "data": {
      "text/plain": [
       "340"
      ]
     },
     "execution_count": 5,
     "metadata": {},
     "output_type": "execute_result"
    }
   ],
   "source": [
    "# メモリ解放\n",
    "del results_preprocessed\n",
    "gc.collect()"
   ]
  },
  {
   "cell_type": "markdown",
   "metadata": {},
   "source": [
    "## 馬の過去成績テーブル"
   ]
  },
  {
   "cell_type": "code",
   "execution_count": 9,
   "metadata": {},
   "outputs": [
    {
     "data": {
      "text/plain": [
       "horse_id              0\n",
       "date                  0\n",
       "rank                  0\n",
       "prize                 0\n",
       "rank_diff          2358\n",
       "weather            1919\n",
       "race_type            59\n",
       "course_len           59\n",
       "ground_state         72\n",
       "race_class       966820\n",
       "n_horses            522\n",
       "time                942\n",
       "win                   0\n",
       "rentai                0\n",
       "show                  0\n",
       "place           1150512\n",
       "dtype: int64"
      ]
     },
     "execution_count": 9,
     "metadata": {},
     "output_type": "execute_result"
    }
   ],
   "source": [
    "# placeで欠損が多いのは地方競馬の開催場所をマッピングしていないため\n",
    "horse_results_preprocessed = preprocessing.process_horse_results(\n",
    "    input_filename=\"horse_results08-24.csv\",\n",
    "    output_filename=\"horse_results08-24.csv\"\n",
    "    )\n",
    "# 重複チェック\n",
    "assert horse_results_preprocessed.duplicated(subset=[\"horse_id\", \"date\"]).sum() == 0\n",
    "# 欠損チェック\n",
    "horse_results_preprocessed.isnull().sum()"
   ]
  },
  {
   "cell_type": "code",
   "execution_count": 10,
   "metadata": {},
   "outputs": [
    {
     "data": {
      "text/plain": [
       "182"
      ]
     },
     "execution_count": 10,
     "metadata": {},
     "output_type": "execute_result"
    }
   ],
   "source": [
    "# メモリ解放\n",
    "del horse_results_preprocessed\n",
    "gc.collect()"
   ]
  },
  {
   "cell_type": "markdown",
   "metadata": {},
   "source": [
    "## レース情報テーブル"
   ]
  },
  {
   "cell_type": "code",
   "execution_count": 11,
   "metadata": {},
   "outputs": [
    {
     "data": {
      "text/plain": [
       "race_id            0\n",
       "date               0\n",
       "race_type          0\n",
       "around          2164\n",
       "course_len       358\n",
       "weather            0\n",
       "ground_state       0\n",
       "race_class         0\n",
       "place              0\n",
       "month              0\n",
       "sin_date           0\n",
       "cos_date           0\n",
       "dtype: int64"
      ]
     },
     "execution_count": 11,
     "metadata": {},
     "output_type": "execute_result"
    }
   ],
   "source": [
    "race_info_preprocessed = preprocessing.process_race_info(\n",
    "    input_filename=\"race_info08-24.csv\",\n",
    "    output_filename=\"race_info08-24.csv\"\n",
    ")\n",
    "# 重複チェック\n",
    "assert race_info_preprocessed.duplicated(subset=[\"race_id\"]).sum() == 0\n",
    "# 欠損チェック\n",
    "race_info_preprocessed.isnull().sum()"
   ]
  },
  {
   "cell_type": "code",
   "execution_count": 12,
   "metadata": {},
   "outputs": [
    {
     "data": {
      "text/plain": [
       "race_id\n",
       "2008    3452\n",
       "2009    3453\n",
       "2010    3454\n",
       "2011    3453\n",
       "2012    3454\n",
       "2013    3454\n",
       "2014    3451\n",
       "2015    3454\n",
       "2016    3454\n",
       "2017    3455\n",
       "2018    3453\n",
       "2019    3452\n",
       "2020    3456\n",
       "2021    3456\n",
       "2022    3456\n",
       "2023    3456\n",
       "2024    3442\n",
       "Name: count, dtype: int64"
      ]
     },
     "execution_count": 12,
     "metadata": {},
     "output_type": "execute_result"
    }
   ],
   "source": [
    "# 年ごとのレース数\n",
    "race_info_preprocessed[\"race_id\"].astype(str).str[:4].value_counts().sort_index()"
   ]
  },
  {
   "cell_type": "code",
   "execution_count": 13,
   "metadata": {},
   "outputs": [
    {
     "data": {
      "text/plain": [
       "136"
      ]
     },
     "execution_count": 13,
     "metadata": {},
     "output_type": "execute_result"
    }
   ],
   "source": [
    "# メモリ解放\n",
    "del race_info_preprocessed\n",
    "gc.collect()"
   ]
  },
  {
   "cell_type": "markdown",
   "metadata": {},
   "source": [
    "## 騎手リーディングテーブル"
   ]
  },
  {
   "cell_type": "code",
   "execution_count": 25,
   "metadata": {},
   "outputs": [
    {
     "data": {
      "text/plain": [
       "jockey_id             0\n",
       "year                  0\n",
       "rank                  0\n",
       "n_races               0\n",
       "n_races_graded        0\n",
       "winrate_graded     1038\n",
       "n_races_special       0\n",
       "winrate_special     234\n",
       "n_races_ordinal       0\n",
       "winrate_ordinal     314\n",
       "n_races_turf          0\n",
       "winrate_turf        292\n",
       "n_races_dirt          0\n",
       "winrate_dirt        433\n",
       "winrate               0\n",
       "placerate             0\n",
       "showrate              0\n",
       "prize                 0\n",
       "dtype: int64"
      ]
     },
     "execution_count": 25,
     "metadata": {},
     "output_type": "execute_result"
    }
   ],
   "source": [
    "jockey_leading_preprocessed = preprocessing.process_jockey_leading()\n",
    "# 重複チェック\n",
    "# assert jockey_leading_preprocessed.duplicated(subset=[\"jockey_id\", \"year\"]).sum() == 0\n",
    "# 欠損チェック\n",
    "jockey_leading_preprocessed.isnull().sum()"
   ]
  },
  {
   "cell_type": "code",
   "execution_count": 26,
   "metadata": {},
   "outputs": [
    {
     "data": {
      "text/plain": [
       "year\n",
       "2007    247\n",
       "2008    247\n",
       "2009    242\n",
       "2010    248\n",
       "2011    223\n",
       "2012    154\n",
       "2013    180\n",
       "2014    144\n",
       "2015    184\n",
       "2016    137\n",
       "2017    153\n",
       "2018    147\n",
       "2019    144\n",
       "2020    185\n",
       "2021    155\n",
       "2022    196\n",
       "2023    198\n",
       "2024    200\n",
       "Name: count, dtype: int64"
      ]
     },
     "execution_count": 26,
     "metadata": {},
     "output_type": "execute_result"
    }
   ],
   "source": [
    "# 年ごとのデータ数\n",
    "jockey_leading_preprocessed[\"year\"].value_counts().sort_index()"
   ]
  },
  {
   "cell_type": "code",
   "execution_count": 27,
   "metadata": {},
   "outputs": [
    {
     "data": {
      "text/plain": [
       "19"
      ]
     },
     "execution_count": 27,
     "metadata": {},
     "output_type": "execute_result"
    }
   ],
   "source": [
    "# メモリ解放\n",
    "del jockey_leading_preprocessed\n",
    "gc.collect()"
   ]
  },
  {
   "cell_type": "markdown",
   "metadata": {},
   "source": [
    "## 調教師リーディングテーブル"
   ]
  },
  {
   "cell_type": "code",
   "execution_count": 28,
   "metadata": {},
   "outputs": [
    {
     "data": {
      "text/plain": [
       "trainer_id           0\n",
       "year                 0\n",
       "rank                 0\n",
       "n_races              0\n",
       "n_races_graded       0\n",
       "winrate_graded     938\n",
       "n_races_special      0\n",
       "winrate_special    375\n",
       "n_races_ordinal      0\n",
       "winrate_ordinal    580\n",
       "n_races_turf         0\n",
       "winrate_turf       157\n",
       "n_races_dirt         0\n",
       "winrate_dirt       645\n",
       "winrate              0\n",
       "placerate            0\n",
       "showrate             0\n",
       "prize                0\n",
       "dtype: int64"
      ]
     },
     "execution_count": 28,
     "metadata": {},
     "output_type": "execute_result"
    }
   ],
   "source": [
    "trainer_leading_preprocessed = preprocessing.process_trainer_leading()\n",
    "# 重複チェック\n",
    "# assert trainer_leading_preprocessed.duplicated(subset=[\"trainer_id\", \"year\"]).sum() == 0\n",
    "# 欠損チェック\n",
    "trainer_leading_preprocessed.isnull().sum()"
   ]
  },
  {
   "cell_type": "code",
   "execution_count": 29,
   "metadata": {},
   "outputs": [
    {
     "data": {
      "text/plain": [
       "year\n",
       "2007    330\n",
       "2008    283\n",
       "2009    319\n",
       "2010    275\n",
       "2011    308\n",
       "2012    231\n",
       "2013    252\n",
       "2014    250\n",
       "2017    250\n",
       "2018    152\n",
       "2019    231\n",
       "2020    229\n",
       "2021    227\n",
       "2022    230\n",
       "2023    234\n",
       "2024    227\n",
       "Name: count, dtype: int64"
      ]
     },
     "execution_count": 29,
     "metadata": {},
     "output_type": "execute_result"
    }
   ],
   "source": [
    "# 年ごとのデータ数\n",
    "trainer_leading_preprocessed[\"year\"].value_counts().sort_index()"
   ]
  },
  {
   "cell_type": "code",
   "execution_count": 30,
   "metadata": {},
   "outputs": [
    {
     "data": {
      "text/plain": [
       "19"
      ]
     },
     "execution_count": 30,
     "metadata": {},
     "output_type": "execute_result"
    }
   ],
   "source": [
    "# メモリ解放\n",
    "del trainer_leading_preprocessed\n",
    "gc.collect()"
   ]
  },
  {
   "cell_type": "markdown",
   "metadata": {},
   "source": [
    "## 種牡馬リーディングテーブル"
   ]
  },
  {
   "cell_type": "code",
   "execution_count": 31,
   "metadata": {},
   "outputs": [
    {
     "data": {
      "text/plain": [
       "category\n",
       "page_id          0\n",
       "sire_id          0\n",
       "year             0\n",
       "race_type        0\n",
       "n_races          0\n",
       "n_wins           0\n",
       "course_len       0\n",
       "winrate       2180\n",
       "dtype: int64"
      ]
     },
     "execution_count": 31,
     "metadata": {},
     "output_type": "execute_result"
    }
   ],
   "source": [
    "sire_leading_preprocessed = preprocessing.process_sire_leading()\n",
    "# 重複チェック\n",
    "# assert sire_leading_preprocessed.duplicated(\n",
    "#     subset=[\"sire_id\", \"year\", \"race_type\"]\n",
    "# ).sum() == 0\n",
    "# 欠損チェック\n",
    "sire_leading_preprocessed.isnull().sum()"
   ]
  },
  {
   "cell_type": "code",
   "execution_count": 32,
   "metadata": {},
   "outputs": [
    {
     "data": {
      "text/plain": [
       "year\n",
       "2007    1000\n",
       "2008     900\n",
       "2009    1000\n",
       "2010    1000\n",
       "2011    1000\n",
       "2012     976\n",
       "2013     800\n",
       "2014      14\n",
       "2015      48\n",
       "2016      26\n",
       "2017     788\n",
       "2018     800\n",
       "2019     800\n",
       "2020     894\n",
       "2021     774\n",
       "2022     802\n",
       "2023     888\n",
       "2024    1000\n",
       "Name: count, dtype: int64"
      ]
     },
     "execution_count": 32,
     "metadata": {},
     "output_type": "execute_result"
    }
   ],
   "source": [
    "# 年ごとのデータ数\n",
    "sire_leading_preprocessed[\"year\"].value_counts().sort_index()"
   ]
  },
  {
   "cell_type": "code",
   "execution_count": 33,
   "metadata": {},
   "outputs": [
    {
     "data": {
      "text/plain": [
       "54"
      ]
     },
     "execution_count": 33,
     "metadata": {},
     "output_type": "execute_result"
    }
   ],
   "source": [
    "# メモリ解放\n",
    "del sire_leading_preprocessed\n",
    "gc.collect()"
   ]
  },
  {
   "cell_type": "markdown",
   "metadata": {},
   "source": [
    "## 血統テーブル"
   ]
  },
  {
   "cell_type": "code",
   "execution_count": 34,
   "metadata": {},
   "outputs": [
    {
     "data": {
      "text/plain": [
       "horse_id    0\n",
       "sire_id     0\n",
       "bms_id      0\n",
       "dtype: int64"
      ]
     },
     "execution_count": 34,
     "metadata": {},
     "output_type": "execute_result"
    }
   ],
   "source": [
    "peds_preprocessed = preprocessing.process_peds(\n",
    "    input_filename=\"peds08-24.csv\",\n",
    "    output_filename=\"peds08-24.csv\"\n",
    ")\n",
    "# 重複チェック\n",
    "# assert peds_preprocessed.duplicated(subset=[\"horse_id\"]).sum() == 0\n",
    "# 欠損チェック\n",
    "peds_preprocessed.isnull().sum()"
   ]
  },
  {
   "cell_type": "code",
   "execution_count": 35,
   "metadata": {},
   "outputs": [
    {
     "data": {
      "text/plain": [
       "0"
      ]
     },
     "execution_count": 35,
     "metadata": {},
     "output_type": "execute_result"
    }
   ],
   "source": [
    "# メモリ解放\n",
    "del peds_preprocessed\n",
    "gc.collect()"
   ]
  },
  {
   "cell_type": "markdown",
   "metadata": {},
   "source": [
    "## 払い戻しテーブル"
   ]
  },
  {
   "cell_type": "code",
   "execution_count": null,
   "metadata": {},
   "outputs": [
    {
     "ename": "AttributeError",
     "evalue": "Can only use .str accessor with string values!",
     "output_type": "error",
     "traceback": [
      "\u001b[1;31m---------------------------------------------------------------------------\u001b[0m",
      "\u001b[1;31mAttributeError\u001b[0m                            Traceback (most recent call last)",
      "Cell \u001b[1;32mIn[33], line 1\u001b[0m\n\u001b[1;32m----> 1\u001b[0m return_tables_preprocessed \u001b[38;5;241m=\u001b[39m \u001b[43mpreprocessing\u001b[49m\u001b[38;5;241;43m.\u001b[39;49m\u001b[43mprocess_return_tables\u001b[49m\u001b[43m(\u001b[49m\u001b[43m)\u001b[49m\n\u001b[0;32m      2\u001b[0m \u001b[38;5;66;03m# 欠損チェック\u001b[39;00m\n\u001b[0;32m      3\u001b[0m return_tables_preprocessed\u001b[38;5;241m.\u001b[39misnull()\u001b[38;5;241m.\u001b[39msum()\n",
      "File \u001b[1;32mc:\\Users\\Onoe Daichi\\Downloads\\競馬AI\\keiba_ai\\v3_exp_4\\src\\preprocessing.py:284\u001b[0m, in \u001b[0;36mprocess_return_tables\u001b[1;34m(population_dir, population_filename, input_dir, input_filename, output_dir, output_filename)\u001b[0m\n\u001b[0;32m    276\u001b[0m population \u001b[38;5;241m=\u001b[39m pd\u001b[38;5;241m.\u001b[39mread_csv(population_dir \u001b[38;5;241m/\u001b[39m population_filename, sep\u001b[38;5;241m=\u001b[39m\u001b[38;5;124m\"\u001b[39m\u001b[38;5;130;01m\\t\u001b[39;00m\u001b[38;5;124m\"\u001b[39m)\n\u001b[0;32m    277\u001b[0m df \u001b[38;5;241m=\u001b[39m pd\u001b[38;5;241m.\u001b[39mread_csv(input_dir \u001b[38;5;241m/\u001b[39m input_filename, sep\u001b[38;5;241m=\u001b[39m\u001b[38;5;124m\"\u001b[39m\u001b[38;5;130;01m\\t\u001b[39;00m\u001b[38;5;124m\"\u001b[39m, index_col\u001b[38;5;241m=\u001b[39m\u001b[38;5;241m0\u001b[39m)\u001b[38;5;241m.\u001b[39mquery(\n\u001b[0;32m    278\u001b[0m     \u001b[38;5;124m\"\u001b[39m\u001b[38;5;124mrace_id in @population[\u001b[39m\u001b[38;5;124m'\u001b[39m\u001b[38;5;124mrace_id\u001b[39m\u001b[38;5;124m'\u001b[39m\u001b[38;5;124m]\u001b[39m\u001b[38;5;124m\"\u001b[39m\n\u001b[0;32m    279\u001b[0m )\n\u001b[0;32m    280\u001b[0m df \u001b[38;5;241m=\u001b[39m (\n\u001b[0;32m    281\u001b[0m     \u001b[43mdf\u001b[49m\u001b[43m[\u001b[49m\u001b[43m[\u001b[49m\u001b[38;5;124;43m\"\u001b[39;49m\u001b[38;5;124;43m0\u001b[39;49m\u001b[38;5;124;43m\"\u001b[39;49m\u001b[43m,\u001b[49m\u001b[43m \u001b[49m\u001b[38;5;124;43m\"\u001b[39;49m\u001b[38;5;124;43m1\u001b[39;49m\u001b[38;5;124;43m\"\u001b[39;49m\u001b[43m,\u001b[49m\u001b[43m \u001b[49m\u001b[38;5;124;43m\"\u001b[39;49m\u001b[38;5;124;43m2\u001b[39;49m\u001b[38;5;124;43m\"\u001b[39;49m\u001b[43m]\u001b[49m\u001b[43m]\u001b[49m\n\u001b[0;32m    282\u001b[0m \u001b[43m    \u001b[49m\u001b[38;5;241;43m.\u001b[39;49m\u001b[43mreplace\u001b[49m\u001b[43m(\u001b[49m\u001b[38;5;124;43m\"\u001b[39;49m\u001b[38;5;124;43m (-|→) \u001b[39;49m\u001b[38;5;124;43m\"\u001b[39;49m\u001b[43m,\u001b[49m\u001b[43m \u001b[49m\u001b[38;5;124;43m\"\u001b[39;49m\u001b[38;5;124;43m-\u001b[39;49m\u001b[38;5;124;43m\"\u001b[39;49m\u001b[43m,\u001b[49m\u001b[43m \u001b[49m\u001b[43mregex\u001b[49m\u001b[38;5;241;43m=\u001b[39;49m\u001b[38;5;28;43;01mTrue\u001b[39;49;00m\u001b[43m)\u001b[49m\n\u001b[0;32m    283\u001b[0m \u001b[43m    \u001b[49m\u001b[38;5;241;43m.\u001b[39;49m\u001b[43mreplace\u001b[49m\u001b[43m(\u001b[49m\u001b[38;5;124;43m\"\u001b[39;49m\u001b[38;5;124;43m,\u001b[39;49m\u001b[38;5;124;43m\"\u001b[39;49m\u001b[43m,\u001b[49m\u001b[43m \u001b[49m\u001b[38;5;124;43m\"\u001b[39;49m\u001b[38;5;124;43m\"\u001b[39;49m\u001b[43m,\u001b[49m\u001b[43m \u001b[49m\u001b[43mregex\u001b[49m\u001b[38;5;241;43m=\u001b[39;49m\u001b[38;5;28;43;01mTrue\u001b[39;49;00m\u001b[43m)\u001b[49m\n\u001b[1;32m--> 284\u001b[0m \u001b[43m    \u001b[49m\u001b[38;5;241;43m.\u001b[39;49m\u001b[43mapply\u001b[49m\u001b[43m(\u001b[49m\u001b[38;5;28;43;01mlambda\u001b[39;49;00m\u001b[43m \u001b[49m\u001b[43mx\u001b[49m\u001b[43m:\u001b[49m\u001b[43m \u001b[49m\u001b[43mx\u001b[49m\u001b[38;5;241;43m.\u001b[39;49m\u001b[43mstr\u001b[49m\u001b[38;5;241;43m.\u001b[39;49m\u001b[43msplit\u001b[49m\u001b[43m(\u001b[49m\u001b[43m)\u001b[49m\u001b[43m)\u001b[49m\n\u001b[0;32m    285\u001b[0m     \u001b[38;5;241m.\u001b[39mexplode([\u001b[38;5;124m\"\u001b[39m\u001b[38;5;124m1\u001b[39m\u001b[38;5;124m\"\u001b[39m, \u001b[38;5;124m\"\u001b[39m\u001b[38;5;124m2\u001b[39m\u001b[38;5;124m\"\u001b[39m])\n\u001b[0;32m    286\u001b[0m     \u001b[38;5;241m.\u001b[39mexplode(\u001b[38;5;124m\"\u001b[39m\u001b[38;5;124m0\u001b[39m\u001b[38;5;124m\"\u001b[39m)\n\u001b[0;32m    287\u001b[0m     \u001b[38;5;241m.\u001b[39mapply(\u001b[38;5;28;01mlambda\u001b[39;00m x: x\u001b[38;5;241m.\u001b[39mstr\u001b[38;5;241m.\u001b[39msplit(\u001b[38;5;124m\"\u001b[39m\u001b[38;5;124m-\u001b[39m\u001b[38;5;124m\"\u001b[39m))\n\u001b[0;32m    288\u001b[0m     \u001b[38;5;241m.\u001b[39mexplode([\u001b[38;5;124m\"\u001b[39m\u001b[38;5;124m0\u001b[39m\u001b[38;5;124m\"\u001b[39m, \u001b[38;5;124m\"\u001b[39m\u001b[38;5;124m2\u001b[39m\u001b[38;5;124m\"\u001b[39m])\n\u001b[0;32m    289\u001b[0m )\n\u001b[0;32m    290\u001b[0m df\u001b[38;5;241m.\u001b[39mcolumns \u001b[38;5;241m=\u001b[39m [\u001b[38;5;124m\"\u001b[39m\u001b[38;5;124mbet_type\u001b[39m\u001b[38;5;124m\"\u001b[39m, \u001b[38;5;124m\"\u001b[39m\u001b[38;5;124mwin_umaban\u001b[39m\u001b[38;5;124m\"\u001b[39m, \u001b[38;5;124m\"\u001b[39m\u001b[38;5;124mreturn\u001b[39m\u001b[38;5;124m\"\u001b[39m]\n\u001b[0;32m    291\u001b[0m df \u001b[38;5;241m=\u001b[39m df\u001b[38;5;241m.\u001b[39mquery(\u001b[38;5;124m\"\u001b[39m\u001b[38;5;124mbet_type != \u001b[39m\u001b[38;5;124m'\u001b[39m\u001b[38;5;124m枠連\u001b[39m\u001b[38;5;124m'\u001b[39m\u001b[38;5;124m\"\u001b[39m)\u001b[38;5;241m.\u001b[39mreset_index()\n",
      "File \u001b[1;32mc:\\Users\\Onoe Daichi\\anaconda3\\envs\\pythonProject\\Lib\\site-packages\\pandas\\core\\frame.py:10374\u001b[0m, in \u001b[0;36mDataFrame.apply\u001b[1;34m(self, func, axis, raw, result_type, args, by_row, engine, engine_kwargs, **kwargs)\u001b[0m\n\u001b[0;32m  10360\u001b[0m \u001b[38;5;28;01mfrom\u001b[39;00m \u001b[38;5;21;01mpandas\u001b[39;00m\u001b[38;5;21;01m.\u001b[39;00m\u001b[38;5;21;01mcore\u001b[39;00m\u001b[38;5;21;01m.\u001b[39;00m\u001b[38;5;21;01mapply\u001b[39;00m \u001b[38;5;28;01mimport\u001b[39;00m frame_apply\n\u001b[0;32m  10362\u001b[0m op \u001b[38;5;241m=\u001b[39m frame_apply(\n\u001b[0;32m  10363\u001b[0m     \u001b[38;5;28mself\u001b[39m,\n\u001b[0;32m  10364\u001b[0m     func\u001b[38;5;241m=\u001b[39mfunc,\n\u001b[1;32m   (...)\u001b[0m\n\u001b[0;32m  10372\u001b[0m     kwargs\u001b[38;5;241m=\u001b[39mkwargs,\n\u001b[0;32m  10373\u001b[0m )\n\u001b[1;32m> 10374\u001b[0m \u001b[38;5;28;01mreturn\u001b[39;00m \u001b[43mop\u001b[49m\u001b[38;5;241;43m.\u001b[39;49m\u001b[43mapply\u001b[49m\u001b[43m(\u001b[49m\u001b[43m)\u001b[49m\u001b[38;5;241m.\u001b[39m__finalize__(\u001b[38;5;28mself\u001b[39m, method\u001b[38;5;241m=\u001b[39m\u001b[38;5;124m\"\u001b[39m\u001b[38;5;124mapply\u001b[39m\u001b[38;5;124m\"\u001b[39m)\n",
      "File \u001b[1;32mc:\\Users\\Onoe Daichi\\anaconda3\\envs\\pythonProject\\Lib\\site-packages\\pandas\\core\\apply.py:916\u001b[0m, in \u001b[0;36mFrameApply.apply\u001b[1;34m(self)\u001b[0m\n\u001b[0;32m    913\u001b[0m \u001b[38;5;28;01melif\u001b[39;00m \u001b[38;5;28mself\u001b[39m\u001b[38;5;241m.\u001b[39mraw:\n\u001b[0;32m    914\u001b[0m     \u001b[38;5;28;01mreturn\u001b[39;00m \u001b[38;5;28mself\u001b[39m\u001b[38;5;241m.\u001b[39mapply_raw(engine\u001b[38;5;241m=\u001b[39m\u001b[38;5;28mself\u001b[39m\u001b[38;5;241m.\u001b[39mengine, engine_kwargs\u001b[38;5;241m=\u001b[39m\u001b[38;5;28mself\u001b[39m\u001b[38;5;241m.\u001b[39mengine_kwargs)\n\u001b[1;32m--> 916\u001b[0m \u001b[38;5;28;01mreturn\u001b[39;00m \u001b[38;5;28;43mself\u001b[39;49m\u001b[38;5;241;43m.\u001b[39;49m\u001b[43mapply_standard\u001b[49m\u001b[43m(\u001b[49m\u001b[43m)\u001b[49m\n",
      "File \u001b[1;32mc:\\Users\\Onoe Daichi\\anaconda3\\envs\\pythonProject\\Lib\\site-packages\\pandas\\core\\apply.py:1063\u001b[0m, in \u001b[0;36mFrameApply.apply_standard\u001b[1;34m(self)\u001b[0m\n\u001b[0;32m   1061\u001b[0m \u001b[38;5;28;01mdef\u001b[39;00m \u001b[38;5;21mapply_standard\u001b[39m(\u001b[38;5;28mself\u001b[39m):\n\u001b[0;32m   1062\u001b[0m     \u001b[38;5;28;01mif\u001b[39;00m \u001b[38;5;28mself\u001b[39m\u001b[38;5;241m.\u001b[39mengine \u001b[38;5;241m==\u001b[39m \u001b[38;5;124m\"\u001b[39m\u001b[38;5;124mpython\u001b[39m\u001b[38;5;124m\"\u001b[39m:\n\u001b[1;32m-> 1063\u001b[0m         results, res_index \u001b[38;5;241m=\u001b[39m \u001b[38;5;28;43mself\u001b[39;49m\u001b[38;5;241;43m.\u001b[39;49m\u001b[43mapply_series_generator\u001b[49m\u001b[43m(\u001b[49m\u001b[43m)\u001b[49m\n\u001b[0;32m   1064\u001b[0m     \u001b[38;5;28;01melse\u001b[39;00m:\n\u001b[0;32m   1065\u001b[0m         results, res_index \u001b[38;5;241m=\u001b[39m \u001b[38;5;28mself\u001b[39m\u001b[38;5;241m.\u001b[39mapply_series_numba()\n",
      "File \u001b[1;32mc:\\Users\\Onoe Daichi\\anaconda3\\envs\\pythonProject\\Lib\\site-packages\\pandas\\core\\apply.py:1081\u001b[0m, in \u001b[0;36mFrameApply.apply_series_generator\u001b[1;34m(self)\u001b[0m\n\u001b[0;32m   1078\u001b[0m \u001b[38;5;28;01mwith\u001b[39;00m option_context(\u001b[38;5;124m\"\u001b[39m\u001b[38;5;124mmode.chained_assignment\u001b[39m\u001b[38;5;124m\"\u001b[39m, \u001b[38;5;28;01mNone\u001b[39;00m):\n\u001b[0;32m   1079\u001b[0m     \u001b[38;5;28;01mfor\u001b[39;00m i, v \u001b[38;5;129;01min\u001b[39;00m \u001b[38;5;28menumerate\u001b[39m(series_gen):\n\u001b[0;32m   1080\u001b[0m         \u001b[38;5;66;03m# ignore SettingWithCopy here in case the user mutates\u001b[39;00m\n\u001b[1;32m-> 1081\u001b[0m         results[i] \u001b[38;5;241m=\u001b[39m \u001b[38;5;28;43mself\u001b[39;49m\u001b[38;5;241;43m.\u001b[39;49m\u001b[43mfunc\u001b[49m\u001b[43m(\u001b[49m\u001b[43mv\u001b[49m\u001b[43m,\u001b[49m\u001b[43m \u001b[49m\u001b[38;5;241;43m*\u001b[39;49m\u001b[38;5;28;43mself\u001b[39;49m\u001b[38;5;241;43m.\u001b[39;49m\u001b[43margs\u001b[49m\u001b[43m,\u001b[49m\u001b[43m \u001b[49m\u001b[38;5;241;43m*\u001b[39;49m\u001b[38;5;241;43m*\u001b[39;49m\u001b[38;5;28;43mself\u001b[39;49m\u001b[38;5;241;43m.\u001b[39;49m\u001b[43mkwargs\u001b[49m\u001b[43m)\u001b[49m\n\u001b[0;32m   1082\u001b[0m         \u001b[38;5;28;01mif\u001b[39;00m \u001b[38;5;28misinstance\u001b[39m(results[i], ABCSeries):\n\u001b[0;32m   1083\u001b[0m             \u001b[38;5;66;03m# If we have a view on v, we need to make a copy because\u001b[39;00m\n\u001b[0;32m   1084\u001b[0m             \u001b[38;5;66;03m#  series_generator will swap out the underlying data\u001b[39;00m\n\u001b[0;32m   1085\u001b[0m             results[i] \u001b[38;5;241m=\u001b[39m results[i]\u001b[38;5;241m.\u001b[39mcopy(deep\u001b[38;5;241m=\u001b[39m\u001b[38;5;28;01mFalse\u001b[39;00m)\n",
      "File \u001b[1;32mc:\\Users\\Onoe Daichi\\Downloads\\競馬AI\\keiba_ai\\v3_exp_4\\src\\preprocessing.py:284\u001b[0m, in \u001b[0;36mprocess_return_tables.<locals>.<lambda>\u001b[1;34m(x)\u001b[0m\n\u001b[0;32m    276\u001b[0m population \u001b[38;5;241m=\u001b[39m pd\u001b[38;5;241m.\u001b[39mread_csv(population_dir \u001b[38;5;241m/\u001b[39m population_filename, sep\u001b[38;5;241m=\u001b[39m\u001b[38;5;124m\"\u001b[39m\u001b[38;5;130;01m\\t\u001b[39;00m\u001b[38;5;124m\"\u001b[39m)\n\u001b[0;32m    277\u001b[0m df \u001b[38;5;241m=\u001b[39m pd\u001b[38;5;241m.\u001b[39mread_csv(input_dir \u001b[38;5;241m/\u001b[39m input_filename, sep\u001b[38;5;241m=\u001b[39m\u001b[38;5;124m\"\u001b[39m\u001b[38;5;130;01m\\t\u001b[39;00m\u001b[38;5;124m\"\u001b[39m, index_col\u001b[38;5;241m=\u001b[39m\u001b[38;5;241m0\u001b[39m)\u001b[38;5;241m.\u001b[39mquery(\n\u001b[0;32m    278\u001b[0m     \u001b[38;5;124m\"\u001b[39m\u001b[38;5;124mrace_id in @population[\u001b[39m\u001b[38;5;124m'\u001b[39m\u001b[38;5;124mrace_id\u001b[39m\u001b[38;5;124m'\u001b[39m\u001b[38;5;124m]\u001b[39m\u001b[38;5;124m\"\u001b[39m\n\u001b[0;32m    279\u001b[0m )\n\u001b[0;32m    280\u001b[0m df \u001b[38;5;241m=\u001b[39m (\n\u001b[0;32m    281\u001b[0m     df[[\u001b[38;5;124m\"\u001b[39m\u001b[38;5;124m0\u001b[39m\u001b[38;5;124m\"\u001b[39m, \u001b[38;5;124m\"\u001b[39m\u001b[38;5;124m1\u001b[39m\u001b[38;5;124m\"\u001b[39m, \u001b[38;5;124m\"\u001b[39m\u001b[38;5;124m2\u001b[39m\u001b[38;5;124m\"\u001b[39m]]\n\u001b[0;32m    282\u001b[0m     \u001b[38;5;241m.\u001b[39mreplace(\u001b[38;5;124m\"\u001b[39m\u001b[38;5;124m (-|→) \u001b[39m\u001b[38;5;124m\"\u001b[39m, \u001b[38;5;124m\"\u001b[39m\u001b[38;5;124m-\u001b[39m\u001b[38;5;124m\"\u001b[39m, regex\u001b[38;5;241m=\u001b[39m\u001b[38;5;28;01mTrue\u001b[39;00m)\n\u001b[0;32m    283\u001b[0m     \u001b[38;5;241m.\u001b[39mreplace(\u001b[38;5;124m\"\u001b[39m\u001b[38;5;124m,\u001b[39m\u001b[38;5;124m\"\u001b[39m, \u001b[38;5;124m\"\u001b[39m\u001b[38;5;124m\"\u001b[39m, regex\u001b[38;5;241m=\u001b[39m\u001b[38;5;28;01mTrue\u001b[39;00m)\n\u001b[1;32m--> 284\u001b[0m     \u001b[38;5;241m.\u001b[39mapply(\u001b[38;5;28;01mlambda\u001b[39;00m x: \u001b[43mx\u001b[49m\u001b[38;5;241;43m.\u001b[39;49m\u001b[43mstr\u001b[49m\u001b[38;5;241m.\u001b[39msplit())\n\u001b[0;32m    285\u001b[0m     \u001b[38;5;241m.\u001b[39mexplode([\u001b[38;5;124m\"\u001b[39m\u001b[38;5;124m1\u001b[39m\u001b[38;5;124m\"\u001b[39m, \u001b[38;5;124m\"\u001b[39m\u001b[38;5;124m2\u001b[39m\u001b[38;5;124m\"\u001b[39m])\n\u001b[0;32m    286\u001b[0m     \u001b[38;5;241m.\u001b[39mexplode(\u001b[38;5;124m\"\u001b[39m\u001b[38;5;124m0\u001b[39m\u001b[38;5;124m\"\u001b[39m)\n\u001b[0;32m    287\u001b[0m     \u001b[38;5;241m.\u001b[39mapply(\u001b[38;5;28;01mlambda\u001b[39;00m x: x\u001b[38;5;241m.\u001b[39mstr\u001b[38;5;241m.\u001b[39msplit(\u001b[38;5;124m\"\u001b[39m\u001b[38;5;124m-\u001b[39m\u001b[38;5;124m\"\u001b[39m))\n\u001b[0;32m    288\u001b[0m     \u001b[38;5;241m.\u001b[39mexplode([\u001b[38;5;124m\"\u001b[39m\u001b[38;5;124m0\u001b[39m\u001b[38;5;124m\"\u001b[39m, \u001b[38;5;124m\"\u001b[39m\u001b[38;5;124m2\u001b[39m\u001b[38;5;124m\"\u001b[39m])\n\u001b[0;32m    289\u001b[0m )\n\u001b[0;32m    290\u001b[0m df\u001b[38;5;241m.\u001b[39mcolumns \u001b[38;5;241m=\u001b[39m [\u001b[38;5;124m\"\u001b[39m\u001b[38;5;124mbet_type\u001b[39m\u001b[38;5;124m\"\u001b[39m, \u001b[38;5;124m\"\u001b[39m\u001b[38;5;124mwin_umaban\u001b[39m\u001b[38;5;124m\"\u001b[39m, \u001b[38;5;124m\"\u001b[39m\u001b[38;5;124mreturn\u001b[39m\u001b[38;5;124m\"\u001b[39m]\n\u001b[0;32m    291\u001b[0m df \u001b[38;5;241m=\u001b[39m df\u001b[38;5;241m.\u001b[39mquery(\u001b[38;5;124m\"\u001b[39m\u001b[38;5;124mbet_type != \u001b[39m\u001b[38;5;124m'\u001b[39m\u001b[38;5;124m枠連\u001b[39m\u001b[38;5;124m'\u001b[39m\u001b[38;5;124m\"\u001b[39m)\u001b[38;5;241m.\u001b[39mreset_index()\n",
      "File \u001b[1;32mc:\\Users\\Onoe Daichi\\anaconda3\\envs\\pythonProject\\Lib\\site-packages\\pandas\\core\\generic.py:6299\u001b[0m, in \u001b[0;36mNDFrame.__getattr__\u001b[1;34m(self, name)\u001b[0m\n\u001b[0;32m   6292\u001b[0m \u001b[38;5;28;01mif\u001b[39;00m (\n\u001b[0;32m   6293\u001b[0m     name \u001b[38;5;129;01mnot\u001b[39;00m \u001b[38;5;129;01min\u001b[39;00m \u001b[38;5;28mself\u001b[39m\u001b[38;5;241m.\u001b[39m_internal_names_set\n\u001b[0;32m   6294\u001b[0m     \u001b[38;5;129;01mand\u001b[39;00m name \u001b[38;5;129;01mnot\u001b[39;00m \u001b[38;5;129;01min\u001b[39;00m \u001b[38;5;28mself\u001b[39m\u001b[38;5;241m.\u001b[39m_metadata\n\u001b[0;32m   6295\u001b[0m     \u001b[38;5;129;01mand\u001b[39;00m name \u001b[38;5;129;01mnot\u001b[39;00m \u001b[38;5;129;01min\u001b[39;00m \u001b[38;5;28mself\u001b[39m\u001b[38;5;241m.\u001b[39m_accessors\n\u001b[0;32m   6296\u001b[0m     \u001b[38;5;129;01mand\u001b[39;00m \u001b[38;5;28mself\u001b[39m\u001b[38;5;241m.\u001b[39m_info_axis\u001b[38;5;241m.\u001b[39m_can_hold_identifiers_and_holds_name(name)\n\u001b[0;32m   6297\u001b[0m ):\n\u001b[0;32m   6298\u001b[0m     \u001b[38;5;28;01mreturn\u001b[39;00m \u001b[38;5;28mself\u001b[39m[name]\n\u001b[1;32m-> 6299\u001b[0m \u001b[38;5;28;01mreturn\u001b[39;00m \u001b[38;5;28;43mobject\u001b[39;49m\u001b[38;5;241;43m.\u001b[39;49m\u001b[38;5;21;43m__getattribute__\u001b[39;49m\u001b[43m(\u001b[49m\u001b[38;5;28;43mself\u001b[39;49m\u001b[43m,\u001b[49m\u001b[43m \u001b[49m\u001b[43mname\u001b[49m\u001b[43m)\u001b[49m\n",
      "File \u001b[1;32mc:\\Users\\Onoe Daichi\\anaconda3\\envs\\pythonProject\\Lib\\site-packages\\pandas\\core\\accessor.py:224\u001b[0m, in \u001b[0;36mCachedAccessor.__get__\u001b[1;34m(self, obj, cls)\u001b[0m\n\u001b[0;32m    221\u001b[0m \u001b[38;5;28;01mif\u001b[39;00m obj \u001b[38;5;129;01mis\u001b[39;00m \u001b[38;5;28;01mNone\u001b[39;00m:\n\u001b[0;32m    222\u001b[0m     \u001b[38;5;66;03m# we're accessing the attribute of the class, i.e., Dataset.geo\u001b[39;00m\n\u001b[0;32m    223\u001b[0m     \u001b[38;5;28;01mreturn\u001b[39;00m \u001b[38;5;28mself\u001b[39m\u001b[38;5;241m.\u001b[39m_accessor\n\u001b[1;32m--> 224\u001b[0m accessor_obj \u001b[38;5;241m=\u001b[39m \u001b[38;5;28;43mself\u001b[39;49m\u001b[38;5;241;43m.\u001b[39;49m\u001b[43m_accessor\u001b[49m\u001b[43m(\u001b[49m\u001b[43mobj\u001b[49m\u001b[43m)\u001b[49m\n\u001b[0;32m    225\u001b[0m \u001b[38;5;66;03m# Replace the property with the accessor object. Inspired by:\u001b[39;00m\n\u001b[0;32m    226\u001b[0m \u001b[38;5;66;03m# https://www.pydanny.com/cached-property.html\u001b[39;00m\n\u001b[0;32m    227\u001b[0m \u001b[38;5;66;03m# We need to use object.__setattr__ because we overwrite __setattr__ on\u001b[39;00m\n\u001b[0;32m    228\u001b[0m \u001b[38;5;66;03m# NDFrame\u001b[39;00m\n\u001b[0;32m    229\u001b[0m \u001b[38;5;28mobject\u001b[39m\u001b[38;5;241m.\u001b[39m\u001b[38;5;21m__setattr__\u001b[39m(obj, \u001b[38;5;28mself\u001b[39m\u001b[38;5;241m.\u001b[39m_name, accessor_obj)\n",
      "File \u001b[1;32mc:\\Users\\Onoe Daichi\\anaconda3\\envs\\pythonProject\\Lib\\site-packages\\pandas\\core\\strings\\accessor.py:191\u001b[0m, in \u001b[0;36mStringMethods.__init__\u001b[1;34m(self, data)\u001b[0m\n\u001b[0;32m    188\u001b[0m \u001b[38;5;28;01mdef\u001b[39;00m \u001b[38;5;21m__init__\u001b[39m(\u001b[38;5;28mself\u001b[39m, data) \u001b[38;5;241m-\u001b[39m\u001b[38;5;241m>\u001b[39m \u001b[38;5;28;01mNone\u001b[39;00m:\n\u001b[0;32m    189\u001b[0m     \u001b[38;5;28;01mfrom\u001b[39;00m \u001b[38;5;21;01mpandas\u001b[39;00m\u001b[38;5;21;01m.\u001b[39;00m\u001b[38;5;21;01mcore\u001b[39;00m\u001b[38;5;21;01m.\u001b[39;00m\u001b[38;5;21;01marrays\u001b[39;00m\u001b[38;5;21;01m.\u001b[39;00m\u001b[38;5;21;01mstring_\u001b[39;00m \u001b[38;5;28;01mimport\u001b[39;00m StringDtype\n\u001b[1;32m--> 191\u001b[0m     \u001b[38;5;28mself\u001b[39m\u001b[38;5;241m.\u001b[39m_inferred_dtype \u001b[38;5;241m=\u001b[39m \u001b[38;5;28;43mself\u001b[39;49m\u001b[38;5;241;43m.\u001b[39;49m\u001b[43m_validate\u001b[49m\u001b[43m(\u001b[49m\u001b[43mdata\u001b[49m\u001b[43m)\u001b[49m\n\u001b[0;32m    192\u001b[0m     \u001b[38;5;28mself\u001b[39m\u001b[38;5;241m.\u001b[39m_is_categorical \u001b[38;5;241m=\u001b[39m \u001b[38;5;28misinstance\u001b[39m(data\u001b[38;5;241m.\u001b[39mdtype, CategoricalDtype)\n\u001b[0;32m    193\u001b[0m     \u001b[38;5;28mself\u001b[39m\u001b[38;5;241m.\u001b[39m_is_string \u001b[38;5;241m=\u001b[39m \u001b[38;5;28misinstance\u001b[39m(data\u001b[38;5;241m.\u001b[39mdtype, StringDtype)\n",
      "File \u001b[1;32mc:\\Users\\Onoe Daichi\\anaconda3\\envs\\pythonProject\\Lib\\site-packages\\pandas\\core\\strings\\accessor.py:245\u001b[0m, in \u001b[0;36mStringMethods._validate\u001b[1;34m(data)\u001b[0m\n\u001b[0;32m    242\u001b[0m inferred_dtype \u001b[38;5;241m=\u001b[39m lib\u001b[38;5;241m.\u001b[39minfer_dtype(values, skipna\u001b[38;5;241m=\u001b[39m\u001b[38;5;28;01mTrue\u001b[39;00m)\n\u001b[0;32m    244\u001b[0m \u001b[38;5;28;01mif\u001b[39;00m inferred_dtype \u001b[38;5;129;01mnot\u001b[39;00m \u001b[38;5;129;01min\u001b[39;00m allowed_types:\n\u001b[1;32m--> 245\u001b[0m     \u001b[38;5;28;01mraise\u001b[39;00m \u001b[38;5;167;01mAttributeError\u001b[39;00m(\u001b[38;5;124m\"\u001b[39m\u001b[38;5;124mCan only use .str accessor with string values!\u001b[39m\u001b[38;5;124m\"\u001b[39m)\n\u001b[0;32m    246\u001b[0m \u001b[38;5;28;01mreturn\u001b[39;00m inferred_dtype\n",
      "\u001b[1;31mAttributeError\u001b[0m: Can only use .str accessor with string values!"
     ]
    }
   ],
   "source": [
    "# 払い戻しテーブルは学習実行のプロセスでは使用しない。上位n頭のかけ方をシミュレーションする際に必要\n",
    "return_tables_preprocessed = preprocessing.process_return_tables()\n",
    "# 欠損チェック\n",
    "return_tables_preprocessed.isnull().sum()"
   ]
  },
  {
   "cell_type": "markdown",
   "metadata": {},
   "source": [
    "#  特徴量作成"
   ]
  },
  {
   "cell_type": "code",
   "execution_count": 3,
   "metadata": {},
   "outputs": [],
   "source": [
    "%autoreload"
   ]
  },
  {
   "cell_type": "code",
   "execution_count": 2,
   "metadata": {},
   "outputs": [
    {
     "data": {
      "application/vnd.jupyter.widget-view+json": {
       "model_id": "60de76055312407299955db624fe5d74",
       "version_major": 2,
       "version_minor": 0
      },
      "text/plain": [
       "Processing population chunks:   0%|          | 0/84 [00:00<?, ?it/s]"
      ]
     },
     "metadata": {},
     "output_type": "display_data"
    },
    {
     "name": "stdout",
     "output_type": "stream",
     "text": [
      "running create_baselog()...\n"
     ]
    },
    {
     "data": {
      "application/vnd.jupyter.widget-view+json": {
       "model_id": "7f875c5d5c2f4087bbbdf42f19c14aac",
       "version_major": 2,
       "version_minor": 0
      },
      "text/plain": [
       "agg_horse_n_races_relative:   0%|          | 0/5 [00:00<?, ?it/s]"
      ]
     },
     "metadata": {},
     "output_type": "display_data"
    },
    {
     "name": "stdout",
     "output_type": "stream",
     "text": [
      "running agg_interval()...\n",
      "running agg_jockey()...\n",
      "running agg_trainer()...\n"
     ]
    },
    {
     "data": {
      "application/vnd.jupyter.widget-view+json": {
       "model_id": "213f7eeab6924664b9999f27f882dc29",
       "version_major": 2,
       "version_minor": 0
      },
      "text/plain": [
       "agg_horse_per_course_len:   0%|          | 0/6 [00:00<?, ?it/s]"
      ]
     },
     "metadata": {},
     "output_type": "display_data"
    },
    {
     "data": {
      "application/vnd.jupyter.widget-view+json": {
       "model_id": "5a32bf1aa7514094baefba6fd4a08f3e",
       "version_major": 2,
       "version_minor": 0
      },
      "text/plain": [
       "agg_horse_per_ground_state_race_type:   0%|          | 0/6 [00:00<?, ?it/s]"
      ]
     },
     "metadata": {},
     "output_type": "display_data"
    },
    {
     "data": {
      "application/vnd.jupyter.widget-view+json": {
       "model_id": "532428079fb948c89e51a69b8a96720a",
       "version_major": 2,
       "version_minor": 0
      },
      "text/plain": [
       "agg_horse_per_race_class:   0%|          | 0/6 [00:00<?, ?it/s]"
      ]
     },
     "metadata": {},
     "output_type": "display_data"
    },
    {
     "ename": "",
     "evalue": "",
     "output_type": "error",
     "traceback": [
      "\u001b[1;31m現在のセルまたは前のセルでコードを実行中に、カーネル (Kernel) がクラッシュしました。\n",
      "\u001b[1;31mエラーの原因を特定するには、セル内のコードを確認してください。\n",
      "\u001b[1;31m詳細については<a href='https://aka.ms/vscodeJupyterKernelCrash'>こちら</a>をクリックします。\n",
      "\u001b[1;31m詳細については、Jupyter <a href='command:jupyter.viewOutput'>ログ</a> を参照してください。"
     ]
    }
   ],
   "source": [
    "fc = FeatureCreator(\n",
    "    results_filename=\"results08-24.csv\",\n",
    "    race_info_filename=\"race_info08-24.csv\",\n",
    "    horse_results_filename=\"horse_results08-24.csv\",\n",
    "    peds_filename=\"peds08-24.csv\",\n",
    "    output_filename=\"features08-24.csv\",)\n",
    "\n",
    "features = fc.create_features()\n",
    "# 重複チェック\n",
    "assert features.duplicated(subset=[\"race_id\", \"horse_id\"]).sum() == 0\n",
    "features"
   ]
  },
  {
   "cell_type": "code",
   "execution_count": 11,
   "metadata": {},
   "outputs": [
    {
     "data": {
      "text/html": [
       "<div>\n",
       "<style scoped>\n",
       "    .dataframe tbody tr th:only-of-type {\n",
       "        vertical-align: middle;\n",
       "    }\n",
       "\n",
       "    .dataframe tbody tr th {\n",
       "        vertical-align: top;\n",
       "    }\n",
       "\n",
       "    .dataframe thead th {\n",
       "        text-align: right;\n",
       "    }\n",
       "</style>\n",
       "<table border=\"1\" class=\"dataframe\">\n",
       "  <thead>\n",
       "    <tr style=\"text-align: right;\">\n",
       "      <th></th>\n",
       "      <th>race_id</th>\n",
       "      <th>date</th>\n",
       "      <th>horse_id</th>\n",
       "      <th>jockey_id</th>\n",
       "      <th>trainer_id</th>\n",
       "      <th>rank</th>\n",
       "      <th>umaban</th>\n",
       "      <th>wakuban</th>\n",
       "      <th>tansho_odds</th>\n",
       "      <th>popularity</th>\n",
       "      <th>...</th>\n",
       "      <th>sire_course_len_diff_relative</th>\n",
       "      <th>date_horse</th>\n",
       "      <th>interval</th>\n",
       "      <th>wakuban_race_type</th>\n",
       "      <th>umaban_race_type</th>\n",
       "      <th>wakuban_around</th>\n",
       "      <th>umaban_around</th>\n",
       "      <th>month_sex</th>\n",
       "      <th>sin_date_sex</th>\n",
       "      <th>cos_date_sex</th>\n",
       "    </tr>\n",
       "  </thead>\n",
       "  <tbody>\n",
       "    <tr>\n",
       "      <th>0</th>\n",
       "      <td>201801010101</td>\n",
       "      <td>2018-07-28</td>\n",
       "      <td>2016104880</td>\n",
       "      <td>5339</td>\n",
       "      <td>386</td>\n",
       "      <td>1</td>\n",
       "      <td>1</td>\n",
       "      <td>1</td>\n",
       "      <td>1.1</td>\n",
       "      <td>1</td>\n",
       "      <td>...</td>\n",
       "      <td>NaN</td>\n",
       "      <td>NaN</td>\n",
       "      <td>NaN</td>\n",
       "      <td>-1.0</td>\n",
       "      <td>-1.0</td>\n",
       "      <td>NaN</td>\n",
       "      <td>NaN</td>\n",
       "      <td>7.0</td>\n",
       "      <td>0.561693</td>\n",
       "      <td>0.101175</td>\n",
       "    </tr>\n",
       "    <tr>\n",
       "      <th>1</th>\n",
       "      <td>201801010101</td>\n",
       "      <td>2018-07-28</td>\n",
       "      <td>2016101840</td>\n",
       "      <td>5203</td>\n",
       "      <td>1148</td>\n",
       "      <td>2</td>\n",
       "      <td>6</td>\n",
       "      <td>6</td>\n",
       "      <td>7.6</td>\n",
       "      <td>2</td>\n",
       "      <td>...</td>\n",
       "      <td>NaN</td>\n",
       "      <td>NaN</td>\n",
       "      <td>NaN</td>\n",
       "      <td>-6.0</td>\n",
       "      <td>-6.0</td>\n",
       "      <td>NaN</td>\n",
       "      <td>NaN</td>\n",
       "      <td>-7.0</td>\n",
       "      <td>-0.561693</td>\n",
       "      <td>-0.101175</td>\n",
       "    </tr>\n",
       "    <tr>\n",
       "      <th>2</th>\n",
       "      <td>201801010101</td>\n",
       "      <td>2018-07-28</td>\n",
       "      <td>2016105057</td>\n",
       "      <td>1127</td>\n",
       "      <td>1132</td>\n",
       "      <td>3</td>\n",
       "      <td>3</td>\n",
       "      <td>3</td>\n",
       "      <td>8.3</td>\n",
       "      <td>3</td>\n",
       "      <td>...</td>\n",
       "      <td>NaN</td>\n",
       "      <td>NaN</td>\n",
       "      <td>NaN</td>\n",
       "      <td>-3.0</td>\n",
       "      <td>-3.0</td>\n",
       "      <td>NaN</td>\n",
       "      <td>NaN</td>\n",
       "      <td>-7.0</td>\n",
       "      <td>-0.561693</td>\n",
       "      <td>-0.101175</td>\n",
       "    </tr>\n",
       "    <tr>\n",
       "      <th>3</th>\n",
       "      <td>201801010101</td>\n",
       "      <td>2018-07-28</td>\n",
       "      <td>2016103985</td>\n",
       "      <td>1085</td>\n",
       "      <td>434</td>\n",
       "      <td>4</td>\n",
       "      <td>4</td>\n",
       "      <td>4</td>\n",
       "      <td>46.7</td>\n",
       "      <td>5</td>\n",
       "      <td>...</td>\n",
       "      <td>NaN</td>\n",
       "      <td>NaN</td>\n",
       "      <td>NaN</td>\n",
       "      <td>-4.0</td>\n",
       "      <td>-4.0</td>\n",
       "      <td>NaN</td>\n",
       "      <td>NaN</td>\n",
       "      <td>-7.0</td>\n",
       "      <td>-0.561693</td>\n",
       "      <td>-0.101175</td>\n",
       "    </tr>\n",
       "    <tr>\n",
       "      <th>4</th>\n",
       "      <td>201801010101</td>\n",
       "      <td>2018-07-28</td>\n",
       "      <td>2016103821</td>\n",
       "      <td>1170</td>\n",
       "      <td>417</td>\n",
       "      <td>5</td>\n",
       "      <td>5</td>\n",
       "      <td>5</td>\n",
       "      <td>39.8</td>\n",
       "      <td>4</td>\n",
       "      <td>...</td>\n",
       "      <td>NaN</td>\n",
       "      <td>NaN</td>\n",
       "      <td>NaN</td>\n",
       "      <td>-5.0</td>\n",
       "      <td>-5.0</td>\n",
       "      <td>NaN</td>\n",
       "      <td>NaN</td>\n",
       "      <td>-7.0</td>\n",
       "      <td>-0.561693</td>\n",
       "      <td>-0.101175</td>\n",
       "    </tr>\n",
       "    <tr>\n",
       "      <th>...</th>\n",
       "      <td>...</td>\n",
       "      <td>...</td>\n",
       "      <td>...</td>\n",
       "      <td>...</td>\n",
       "      <td>...</td>\n",
       "      <td>...</td>\n",
       "      <td>...</td>\n",
       "      <td>...</td>\n",
       "      <td>...</td>\n",
       "      <td>...</td>\n",
       "      <td>...</td>\n",
       "      <td>...</td>\n",
       "      <td>...</td>\n",
       "      <td>...</td>\n",
       "      <td>...</td>\n",
       "      <td>...</td>\n",
       "      <td>...</td>\n",
       "      <td>...</td>\n",
       "      <td>...</td>\n",
       "      <td>...</td>\n",
       "      <td>...</td>\n",
       "    </tr>\n",
       "    <tr>\n",
       "      <th>628105</th>\n",
       "      <td>201409050812</td>\n",
       "      <td>2014-12-28</td>\n",
       "      <td>2007102676</td>\n",
       "      <td>1018</td>\n",
       "      <td>1071</td>\n",
       "      <td>12</td>\n",
       "      <td>12</td>\n",
       "      <td>6</td>\n",
       "      <td>22.8</td>\n",
       "      <td>8</td>\n",
       "      <td>...</td>\n",
       "      <td>NaN</td>\n",
       "      <td>2014-11-15</td>\n",
       "      <td>43.0</td>\n",
       "      <td>6.0</td>\n",
       "      <td>12.0</td>\n",
       "      <td>NaN</td>\n",
       "      <td>NaN</td>\n",
       "      <td>-12.0</td>\n",
       "      <td>-0.944121</td>\n",
       "      <td>-1.998438</td>\n",
       "    </tr>\n",
       "    <tr>\n",
       "      <th>628106</th>\n",
       "      <td>201409050812</td>\n",
       "      <td>2014-12-28</td>\n",
       "      <td>2010101256</td>\n",
       "      <td>5383</td>\n",
       "      <td>427</td>\n",
       "      <td>13</td>\n",
       "      <td>8</td>\n",
       "      <td>4</td>\n",
       "      <td>7.5</td>\n",
       "      <td>4</td>\n",
       "      <td>...</td>\n",
       "      <td>NaN</td>\n",
       "      <td>2014-11-16</td>\n",
       "      <td>42.0</td>\n",
       "      <td>4.0</td>\n",
       "      <td>8.0</td>\n",
       "      <td>NaN</td>\n",
       "      <td>NaN</td>\n",
       "      <td>-12.0</td>\n",
       "      <td>-0.944121</td>\n",
       "      <td>-1.998438</td>\n",
       "    </tr>\n",
       "    <tr>\n",
       "      <th>628107</th>\n",
       "      <td>201409050812</td>\n",
       "      <td>2014-12-28</td>\n",
       "      <td>2008101935</td>\n",
       "      <td>1093</td>\n",
       "      <td>378</td>\n",
       "      <td>14</td>\n",
       "      <td>5</td>\n",
       "      <td>3</td>\n",
       "      <td>49.9</td>\n",
       "      <td>12</td>\n",
       "      <td>...</td>\n",
       "      <td>NaN</td>\n",
       "      <td>2014-11-23</td>\n",
       "      <td>35.0</td>\n",
       "      <td>3.0</td>\n",
       "      <td>5.0</td>\n",
       "      <td>NaN</td>\n",
       "      <td>NaN</td>\n",
       "      <td>-12.0</td>\n",
       "      <td>-0.944121</td>\n",
       "      <td>-1.998438</td>\n",
       "    </tr>\n",
       "    <tr>\n",
       "      <th>628108</th>\n",
       "      <td>201409050812</td>\n",
       "      <td>2014-12-28</td>\n",
       "      <td>2009100970</td>\n",
       "      <td>1037</td>\n",
       "      <td>1032</td>\n",
       "      <td>15</td>\n",
       "      <td>14</td>\n",
       "      <td>7</td>\n",
       "      <td>7.3</td>\n",
       "      <td>3</td>\n",
       "      <td>...</td>\n",
       "      <td>NaN</td>\n",
       "      <td>2014-11-30</td>\n",
       "      <td>28.0</td>\n",
       "      <td>7.0</td>\n",
       "      <td>14.0</td>\n",
       "      <td>NaN</td>\n",
       "      <td>NaN</td>\n",
       "      <td>-12.0</td>\n",
       "      <td>-0.944121</td>\n",
       "      <td>-1.998438</td>\n",
       "    </tr>\n",
       "    <tr>\n",
       "      <th>628109</th>\n",
       "      <td>201409050812</td>\n",
       "      <td>2014-12-28</td>\n",
       "      <td>2008110094</td>\n",
       "      <td>1125</td>\n",
       "      <td>1057</td>\n",
       "      <td>16</td>\n",
       "      <td>11</td>\n",
       "      <td>6</td>\n",
       "      <td>210.8</td>\n",
       "      <td>16</td>\n",
       "      <td>...</td>\n",
       "      <td>NaN</td>\n",
       "      <td>2014-11-23</td>\n",
       "      <td>35.0</td>\n",
       "      <td>6.0</td>\n",
       "      <td>11.0</td>\n",
       "      <td>NaN</td>\n",
       "      <td>NaN</td>\n",
       "      <td>-12.0</td>\n",
       "      <td>-0.944121</td>\n",
       "      <td>-1.998438</td>\n",
       "    </tr>\n",
       "  </tbody>\n",
       "</table>\n",
       "<p>628110 rows × 557 columns</p>\n",
       "</div>"
      ],
      "text/plain": [
       "             race_id        date    horse_id  jockey_id  trainer_id  rank  \\\n",
       "0       201801010101  2018-07-28  2016104880       5339         386     1   \n",
       "1       201801010101  2018-07-28  2016101840       5203        1148     2   \n",
       "2       201801010101  2018-07-28  2016105057       1127        1132     3   \n",
       "3       201801010101  2018-07-28  2016103985       1085         434     4   \n",
       "4       201801010101  2018-07-28  2016103821       1170         417     5   \n",
       "...              ...         ...         ...        ...         ...   ...   \n",
       "628105  201409050812  2014-12-28  2007102676       1018        1071    12   \n",
       "628106  201409050812  2014-12-28  2010101256       5383         427    13   \n",
       "628107  201409050812  2014-12-28  2008101935       1093         378    14   \n",
       "628108  201409050812  2014-12-28  2009100970       1037        1032    15   \n",
       "628109  201409050812  2014-12-28  2008110094       1125        1057    16   \n",
       "\n",
       "        umaban  wakuban  tansho_odds  popularity  ...  \\\n",
       "0            1        1          1.1           1  ...   \n",
       "1            6        6          7.6           2  ...   \n",
       "2            3        3          8.3           3  ...   \n",
       "3            4        4         46.7           5  ...   \n",
       "4            5        5         39.8           4  ...   \n",
       "...        ...      ...          ...         ...  ...   \n",
       "628105      12        6         22.8           8  ...   \n",
       "628106       8        4          7.5           4  ...   \n",
       "628107       5        3         49.9          12  ...   \n",
       "628108      14        7          7.3           3  ...   \n",
       "628109      11        6        210.8          16  ...   \n",
       "\n",
       "        sire_course_len_diff_relative  date_horse  interval  \\\n",
       "0                                 NaN         NaN       NaN   \n",
       "1                                 NaN         NaN       NaN   \n",
       "2                                 NaN         NaN       NaN   \n",
       "3                                 NaN         NaN       NaN   \n",
       "4                                 NaN         NaN       NaN   \n",
       "...                               ...         ...       ...   \n",
       "628105                            NaN  2014-11-15      43.0   \n",
       "628106                            NaN  2014-11-16      42.0   \n",
       "628107                            NaN  2014-11-23      35.0   \n",
       "628108                            NaN  2014-11-30      28.0   \n",
       "628109                            NaN  2014-11-23      35.0   \n",
       "\n",
       "        wakuban_race_type  umaban_race_type  wakuban_around  umaban_around  \\\n",
       "0                    -1.0              -1.0             NaN            NaN   \n",
       "1                    -6.0              -6.0             NaN            NaN   \n",
       "2                    -3.0              -3.0             NaN            NaN   \n",
       "3                    -4.0              -4.0             NaN            NaN   \n",
       "4                    -5.0              -5.0             NaN            NaN   \n",
       "...                   ...               ...             ...            ...   \n",
       "628105                6.0              12.0             NaN            NaN   \n",
       "628106                4.0               8.0             NaN            NaN   \n",
       "628107                3.0               5.0             NaN            NaN   \n",
       "628108                7.0              14.0             NaN            NaN   \n",
       "628109                6.0              11.0             NaN            NaN   \n",
       "\n",
       "        month_sex  sin_date_sex  cos_date_sex  \n",
       "0             7.0      0.561693      0.101175  \n",
       "1            -7.0     -0.561693     -0.101175  \n",
       "2            -7.0     -0.561693     -0.101175  \n",
       "3            -7.0     -0.561693     -0.101175  \n",
       "4            -7.0     -0.561693     -0.101175  \n",
       "...           ...           ...           ...  \n",
       "628105      -12.0     -0.944121     -1.998438  \n",
       "628106      -12.0     -0.944121     -1.998438  \n",
       "628107      -12.0     -0.944121     -1.998438  \n",
       "628108      -12.0     -0.944121     -1.998438  \n",
       "628109      -12.0     -0.944121     -1.998438  \n",
       "\n",
       "[628110 rows x 557 columns]"
      ]
     },
     "execution_count": 11,
     "metadata": {},
     "output_type": "execute_result"
    }
   ],
   "source": [
    "chunks = pd.read_csv(Path(\"..\", \"data\",\"02_features\",\"features12-24.csv\"), sep=\"\\t\", chunksize=10000)  # チャンクで読み込み\n",
    "features = pd.concat(chunks) \n",
    "features"
   ]
  },
  {
   "cell_type": "code",
   "execution_count": null,
   "metadata": {},
   "outputs": [
    {
     "data": {
      "text/html": [
       "<div>\n",
       "<style scoped>\n",
       "    .dataframe tbody tr th:only-of-type {\n",
       "        vertical-align: middle;\n",
       "    }\n",
       "\n",
       "    .dataframe tbody tr th {\n",
       "        vertical-align: top;\n",
       "    }\n",
       "\n",
       "    .dataframe thead th {\n",
       "        text-align: right;\n",
       "    }\n",
       "</style>\n",
       "<table border=\"1\" class=\"dataframe\">\n",
       "  <thead>\n",
       "    <tr style=\"text-align: right;\">\n",
       "      <th></th>\n",
       "      <th>place</th>\n",
       "      <th>weight</th>\n",
       "      <th>race_class</th>\n",
       "      <th>rank_3races</th>\n",
       "      <th>rank_1000races</th>\n",
       "      <th>jockey_rank_relative</th>\n",
       "      <th>trainer_rank_relative</th>\n",
       "      <th>time_mean_10races_per_course_len_relative</th>\n",
       "      <th>sire_n_races_relative</th>\n",
       "      <th>rank_diff_mean_2races_relative</th>\n",
       "      <th>rank_diff_mean_3races_relative</th>\n",
       "      <th>rank_diff_mean_1000races_relative</th>\n",
       "    </tr>\n",
       "    <tr>\n",
       "      <th>year</th>\n",
       "      <th></th>\n",
       "      <th></th>\n",
       "      <th></th>\n",
       "      <th></th>\n",
       "      <th></th>\n",
       "      <th></th>\n",
       "      <th></th>\n",
       "      <th></th>\n",
       "      <th></th>\n",
       "      <th></th>\n",
       "      <th></th>\n",
       "      <th></th>\n",
       "    </tr>\n",
       "  </thead>\n",
       "  <tbody>\n",
       "    <tr>\n",
       "      <th>2012</th>\n",
       "      <td>0</td>\n",
       "      <td>0</td>\n",
       "      <td>0</td>\n",
       "      <td>4572</td>\n",
       "      <td>4572</td>\n",
       "      <td>4903</td>\n",
       "      <td>773</td>\n",
       "      <td>19632</td>\n",
       "      <td>49472</td>\n",
       "      <td>4582</td>\n",
       "      <td>4580</td>\n",
       "      <td>4579</td>\n",
       "    </tr>\n",
       "    <tr>\n",
       "      <th>2013</th>\n",
       "      <td>0</td>\n",
       "      <td>1</td>\n",
       "      <td>0</td>\n",
       "      <td>4478</td>\n",
       "      <td>4478</td>\n",
       "      <td>17892</td>\n",
       "      <td>15241</td>\n",
       "      <td>19276</td>\n",
       "      <td>49638</td>\n",
       "      <td>4490</td>\n",
       "      <td>4485</td>\n",
       "      <td>4483</td>\n",
       "    </tr>\n",
       "    <tr>\n",
       "      <th>2014</th>\n",
       "      <td>0</td>\n",
       "      <td>0</td>\n",
       "      <td>0</td>\n",
       "      <td>4522</td>\n",
       "      <td>4522</td>\n",
       "      <td>3554</td>\n",
       "      <td>1200</td>\n",
       "      <td>19477</td>\n",
       "      <td>49877</td>\n",
       "      <td>4531</td>\n",
       "      <td>4528</td>\n",
       "      <td>4525</td>\n",
       "    </tr>\n",
       "    <tr>\n",
       "      <th>2015</th>\n",
       "      <td>0</td>\n",
       "      <td>0</td>\n",
       "      <td>0</td>\n",
       "      <td>4446</td>\n",
       "      <td>4446</td>\n",
       "      <td>46992</td>\n",
       "      <td>1253</td>\n",
       "      <td>19072</td>\n",
       "      <td>2786</td>\n",
       "      <td>4458</td>\n",
       "      <td>4454</td>\n",
       "      <td>4453</td>\n",
       "    </tr>\n",
       "    <tr>\n",
       "      <th>2016</th>\n",
       "      <td>0</td>\n",
       "      <td>0</td>\n",
       "      <td>0</td>\n",
       "      <td>4524</td>\n",
       "      <td>4524</td>\n",
       "      <td>3327</td>\n",
       "      <td>49697</td>\n",
       "      <td>19398</td>\n",
       "      <td>3050</td>\n",
       "      <td>4534</td>\n",
       "      <td>4530</td>\n",
       "      <td>4526</td>\n",
       "    </tr>\n",
       "    <tr>\n",
       "      <th>2017</th>\n",
       "      <td>0</td>\n",
       "      <td>0</td>\n",
       "      <td>0</td>\n",
       "      <td>4538</td>\n",
       "      <td>4538</td>\n",
       "      <td>32321</td>\n",
       "      <td>48922</td>\n",
       "      <td>19004</td>\n",
       "      <td>12115</td>\n",
       "      <td>4548</td>\n",
       "      <td>4546</td>\n",
       "      <td>4543</td>\n",
       "    </tr>\n",
       "    <tr>\n",
       "      <th>2018</th>\n",
       "      <td>0</td>\n",
       "      <td>0</td>\n",
       "      <td>0</td>\n",
       "      <td>8766</td>\n",
       "      <td>8766</td>\n",
       "      <td>18464</td>\n",
       "      <td>1159</td>\n",
       "      <td>20891</td>\n",
       "      <td>34703</td>\n",
       "      <td>8803</td>\n",
       "      <td>8796</td>\n",
       "      <td>8796</td>\n",
       "    </tr>\n",
       "    <tr>\n",
       "      <th>2019</th>\n",
       "      <td>0</td>\n",
       "      <td>0</td>\n",
       "      <td>0</td>\n",
       "      <td>8400</td>\n",
       "      <td>8400</td>\n",
       "      <td>4023</td>\n",
       "      <td>13846</td>\n",
       "      <td>21265</td>\n",
       "      <td>3494</td>\n",
       "      <td>8406</td>\n",
       "      <td>8402</td>\n",
       "      <td>8400</td>\n",
       "    </tr>\n",
       "    <tr>\n",
       "      <th>2020</th>\n",
       "      <td>0</td>\n",
       "      <td>0</td>\n",
       "      <td>0</td>\n",
       "      <td>6556</td>\n",
       "      <td>6556</td>\n",
       "      <td>5487</td>\n",
       "      <td>690</td>\n",
       "      <td>20538</td>\n",
       "      <td>3373</td>\n",
       "      <td>6559</td>\n",
       "      <td>6558</td>\n",
       "      <td>6557</td>\n",
       "    </tr>\n",
       "    <tr>\n",
       "      <th>2021</th>\n",
       "      <td>0</td>\n",
       "      <td>0</td>\n",
       "      <td>0</td>\n",
       "      <td>5413</td>\n",
       "      <td>5413</td>\n",
       "      <td>3076</td>\n",
       "      <td>1444</td>\n",
       "      <td>19387</td>\n",
       "      <td>2965</td>\n",
       "      <td>5418</td>\n",
       "      <td>5416</td>\n",
       "      <td>5416</td>\n",
       "    </tr>\n",
       "    <tr>\n",
       "      <th>2022</th>\n",
       "      <td>0</td>\n",
       "      <td>0</td>\n",
       "      <td>0</td>\n",
       "      <td>4844</td>\n",
       "      <td>4844</td>\n",
       "      <td>3050</td>\n",
       "      <td>807</td>\n",
       "      <td>18698</td>\n",
       "      <td>2921</td>\n",
       "      <td>4861</td>\n",
       "      <td>4853</td>\n",
       "      <td>4848</td>\n",
       "    </tr>\n",
       "    <tr>\n",
       "      <th>2023</th>\n",
       "      <td>0</td>\n",
       "      <td>0</td>\n",
       "      <td>0</td>\n",
       "      <td>4708</td>\n",
       "      <td>4708</td>\n",
       "      <td>2286</td>\n",
       "      <td>651</td>\n",
       "      <td>18636</td>\n",
       "      <td>2755</td>\n",
       "      <td>4718</td>\n",
       "      <td>4712</td>\n",
       "      <td>4710</td>\n",
       "    </tr>\n",
       "    <tr>\n",
       "      <th>2024</th>\n",
       "      <td>0</td>\n",
       "      <td>0</td>\n",
       "      <td>0</td>\n",
       "      <td>4832</td>\n",
       "      <td>4832</td>\n",
       "      <td>3148</td>\n",
       "      <td>1428</td>\n",
       "      <td>18442</td>\n",
       "      <td>3040</td>\n",
       "      <td>4851</td>\n",
       "      <td>4844</td>\n",
       "      <td>4842</td>\n",
       "    </tr>\n",
       "  </tbody>\n",
       "</table>\n",
       "</div>"
      ],
      "text/plain": [
       "      place  weight  race_class  rank_3races  rank_1000races  \\\n",
       "year                                                           \n",
       "2012      0       0           0         4572            4572   \n",
       "2013      0       1           0         4478            4478   \n",
       "2014      0       0           0         4522            4522   \n",
       "2015      0       0           0         4446            4446   \n",
       "2016      0       0           0         4524            4524   \n",
       "2017      0       0           0         4538            4538   \n",
       "2018      0       0           0         8766            8766   \n",
       "2019      0       0           0         8400            8400   \n",
       "2020      0       0           0         6556            6556   \n",
       "2021      0       0           0         5413            5413   \n",
       "2022      0       0           0         4844            4844   \n",
       "2023      0       0           0         4708            4708   \n",
       "2024      0       0           0         4832            4832   \n",
       "\n",
       "      jockey_rank_relative  trainer_rank_relative  \\\n",
       "year                                                \n",
       "2012                  4903                    773   \n",
       "2013                 17892                  15241   \n",
       "2014                  3554                   1200   \n",
       "2015                 46992                   1253   \n",
       "2016                  3327                  49697   \n",
       "2017                 32321                  48922   \n",
       "2018                 18464                   1159   \n",
       "2019                  4023                  13846   \n",
       "2020                  5487                    690   \n",
       "2021                  3076                   1444   \n",
       "2022                  3050                    807   \n",
       "2023                  2286                    651   \n",
       "2024                  3148                   1428   \n",
       "\n",
       "      time_mean_10races_per_course_len_relative  sire_n_races_relative  \\\n",
       "year                                                                     \n",
       "2012                                      19632                  49472   \n",
       "2013                                      19276                  49638   \n",
       "2014                                      19477                  49877   \n",
       "2015                                      19072                   2786   \n",
       "2016                                      19398                   3050   \n",
       "2017                                      19004                  12115   \n",
       "2018                                      20891                  34703   \n",
       "2019                                      21265                   3494   \n",
       "2020                                      20538                   3373   \n",
       "2021                                      19387                   2965   \n",
       "2022                                      18698                   2921   \n",
       "2023                                      18636                   2755   \n",
       "2024                                      18442                   3040   \n",
       "\n",
       "      rank_diff_mean_2races_relative  rank_diff_mean_3races_relative  \\\n",
       "year                                                                   \n",
       "2012                            4582                            4580   \n",
       "2013                            4490                            4485   \n",
       "2014                            4531                            4528   \n",
       "2015                            4458                            4454   \n",
       "2016                            4534                            4530   \n",
       "2017                            4548                            4546   \n",
       "2018                            8803                            8796   \n",
       "2019                            8406                            8402   \n",
       "2020                            6559                            6558   \n",
       "2021                            5418                            5416   \n",
       "2022                            4861                            4853   \n",
       "2023                            4718                            4712   \n",
       "2024                            4851                            4844   \n",
       "\n",
       "      rank_diff_mean_1000races_relative  \n",
       "year                                     \n",
       "2012                               4579  \n",
       "2013                               4483  \n",
       "2014                               4525  \n",
       "2015                               4453  \n",
       "2016                               4526  \n",
       "2017                               4543  \n",
       "2018                               8796  \n",
       "2019                               8400  \n",
       "2020                               6557  \n",
       "2021                               5416  \n",
       "2022                               4848  \n",
       "2023                               4710  \n",
       "2024                               4842  "
      ]
     },
     "execution_count": 3,
     "metadata": {},
     "output_type": "execute_result"
    },
    {
     "ename": "",
     "evalue": "",
     "output_type": "error",
     "traceback": [
      "\u001b[1;31m現在のセルまたは前のセルでコードを実行中に、カーネル (Kernel) がクラッシュしました。\n",
      "\u001b[1;31mエラーの原因を特定するには、セル内のコードを確認してください。\n",
      "\u001b[1;31m詳細については<a href='https://aka.ms/vscodeJupyterKernelCrash'>こちら</a>をクリックします。\n",
      "\u001b[1;31m詳細については、Jupyter <a href='command:jupyter.viewOutput'>ログ</a> を参照してください。"
     ]
    }
   ],
   "source": [
    "# 主要な特徴量について、年ごとの欠損率を確認しておく\n",
    "features[\"year\"] = pd.to_datetime(features[\"date\"]).dt.year\n",
    "features.groupby(\"year\")[\n",
    "    [   \n",
    "        \"place\",\n",
    "        \"weight\",\n",
    "        \"race_class\",\n",
    "        \"rank_3races\",\n",
    "        'rank_1000races',\n",
    "        \"jockey_rank_relative\",\n",
    "        \"trainer_rank_relative\",\n",
    "        \"time_mean_10races_per_course_len_relative\",\n",
    "        \"sire_n_races_relative\",\n",
    "        \"rank_diff_mean_2races_relative\",\n",
    "        \"rank_diff_mean_3races_relative\",\n",
    "        \"rank_diff_mean_1000races_relative\"\n",
    "    ]\n",
    "].apply(lambda x: x.isnull().sum())"
   ]
  },
  {
   "cell_type": "code",
   "execution_count": 4,
   "metadata": {},
   "outputs": [
    {
     "data": {
      "text/plain": [
       "0"
      ]
     },
     "execution_count": 4,
     "metadata": {},
     "output_type": "execute_result"
    }
   ],
   "source": [
    "# メモリ解放\n",
    "del features\n",
    "gc.collect()"
   ]
  },
  {
   "cell_type": "markdown",
   "metadata": {},
   "source": [
    "続いて、以下のnotebookを実行する\n",
    "- オフライン検証：`offline_evaluation.ipynb`\n",
    "- 本番運用時のモデル学習：`train.ipynb`\n",
    "- 本番運用時の予測：`prediction.ipynb`"
   ]
  },
  {
   "cell_type": "markdown",
   "metadata": {},
   "source": []
  }
 ],
 "metadata": {
  "kernelspec": {
   "display_name": "py312",
   "language": "python",
   "name": "python3"
  },
  "language_info": {
   "codemirror_mode": {
    "name": "ipython",
    "version": 3
   },
   "file_extension": ".py",
   "mimetype": "text/x-python",
   "name": "python",
   "nbconvert_exporter": "python",
   "pygments_lexer": "ipython3",
   "version": "3.12.7"
  }
 },
 "nbformat": 4,
 "nbformat_minor": 2
}
