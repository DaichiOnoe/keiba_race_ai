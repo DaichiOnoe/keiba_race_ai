{
 "cells": [
  {
   "cell_type": "markdown",
   "id": "e8f700a2-8464-40d1-b61e-e4b8746e2a04",
   "metadata": {},
   "source": [
    "# インポート"
   ]
  },
  {
   "cell_type": "code",
   "execution_count": 1,
   "id": "2c987512-d359-4960-9cf3-4572e027a2c0",
   "metadata": {},
   "outputs": [],
   "source": [
    "import pandas as pd\n",
    "from pathlib import Path\n",
    "\n",
    "COMMON_DATA_DIR = Path(\"..\",\"..\",\"common\",\"data\")\n",
    "RAWDF_DIR = COMMON_DATA_DIR/\"rawdf\""
   ]
  },
  {
   "cell_type": "markdown",
   "id": "f4efb927-9466-44b1-83d4-c612d1456653",
   "metadata": {},
   "source": [
    "##　データ加工"
   ]
  },
  {
   "cell_type": "markdown",
   "id": "f78744c6",
   "metadata": {},
   "source": []
  },
  {
   "cell_type": "markdown",
   "id": "33c5c08e-7873-4f80-b2f0-dfbba6c034bb",
   "metadata": {},
   "source": [
    "##　レース結果テーブルのデータ加工"
   ]
  },
  {
   "cell_type": "code",
   "execution_count": 2,
   "id": "155e5033-625d-43e1-b776-d15f86ac496e",
   "metadata": {},
   "outputs": [],
   "source": [
    "df = pd.read_csv(RAWDF_DIR / \"results.csv\", sep=\"\\t\")"
   ]
  },
  {
   "cell_type": "code",
   "execution_count": 3,
   "id": "09b44792-e773-41e0-967a-4b5c4e00f741",
   "metadata": {
    "scrolled": true
   },
   "outputs": [
    {
     "data": {
      "text/html": [
       "<div>\n",
       "<style scoped>\n",
       "    .dataframe tbody tr th:only-of-type {\n",
       "        vertical-align: middle;\n",
       "    }\n",
       "\n",
       "    .dataframe tbody tr th {\n",
       "        vertical-align: top;\n",
       "    }\n",
       "\n",
       "    .dataframe thead th {\n",
       "        text-align: right;\n",
       "    }\n",
       "</style>\n",
       "<table border=\"1\" class=\"dataframe\">\n",
       "  <thead>\n",
       "    <tr style=\"text-align: right;\">\n",
       "      <th></th>\n",
       "      <th>race_id</th>\n",
       "      <th>着順</th>\n",
       "      <th>枠番</th>\n",
       "      <th>馬番</th>\n",
       "      <th>馬名</th>\n",
       "      <th>性齢</th>\n",
       "      <th>斤量</th>\n",
       "      <th>騎手</th>\n",
       "      <th>タイム</th>\n",
       "      <th>着差</th>\n",
       "    </tr>\n",
       "  </thead>\n",
       "  <tbody>\n",
       "    <tr>\n",
       "      <th>0</th>\n",
       "      <td>202301010101</td>\n",
       "      <td>1</td>\n",
       "      <td>5</td>\n",
       "      <td>5</td>\n",
       "      <td>サトミノキラリ</td>\n",
       "      <td>牡2</td>\n",
       "      <td>55.0</td>\n",
       "      <td>横山武史</td>\n",
       "      <td>1:09.5</td>\n",
       "      <td>NaN</td>\n",
       "    </tr>\n",
       "    <tr>\n",
       "      <th>1</th>\n",
       "      <td>202301010101</td>\n",
       "      <td>2</td>\n",
       "      <td>8</td>\n",
       "      <td>8</td>\n",
       "      <td>ベアゴーゴー</td>\n",
       "      <td>牝2</td>\n",
       "      <td>55.0</td>\n",
       "      <td>浜中俊</td>\n",
       "      <td>1:09.5</td>\n",
       "      <td>クビ</td>\n",
       "    </tr>\n",
       "    <tr>\n",
       "      <th>2</th>\n",
       "      <td>202301010101</td>\n",
       "      <td>3</td>\n",
       "      <td>6</td>\n",
       "      <td>6</td>\n",
       "      <td>ハピアーザンエバー</td>\n",
       "      <td>牡2</td>\n",
       "      <td>55.0</td>\n",
       "      <td>藤岡佑介</td>\n",
       "      <td>1:10.0</td>\n",
       "      <td>2.1/2</td>\n",
       "    </tr>\n",
       "    <tr>\n",
       "      <th>3</th>\n",
       "      <td>202301010101</td>\n",
       "      <td>4</td>\n",
       "      <td>4</td>\n",
       "      <td>4</td>\n",
       "      <td>デビルシズカチャン</td>\n",
       "      <td>牝2</td>\n",
       "      <td>55.0</td>\n",
       "      <td>ルメール</td>\n",
       "      <td>1:10.2</td>\n",
       "      <td>1.1/2</td>\n",
       "    </tr>\n",
       "    <tr>\n",
       "      <th>4</th>\n",
       "      <td>202301010101</td>\n",
       "      <td>5</td>\n",
       "      <td>1</td>\n",
       "      <td>1</td>\n",
       "      <td>ウィスピースノー</td>\n",
       "      <td>牝2</td>\n",
       "      <td>55.0</td>\n",
       "      <td>吉田隼人</td>\n",
       "      <td>1:10.3</td>\n",
       "      <td>1/2</td>\n",
       "    </tr>\n",
       "    <tr>\n",
       "      <th>...</th>\n",
       "      <td>...</td>\n",
       "      <td>...</td>\n",
       "      <td>...</td>\n",
       "      <td>...</td>\n",
       "      <td>...</td>\n",
       "      <td>...</td>\n",
       "      <td>...</td>\n",
       "      <td>...</td>\n",
       "      <td>...</td>\n",
       "      <td>...</td>\n",
       "    </tr>\n",
       "    <tr>\n",
       "      <th>47667</th>\n",
       "      <td>202310030812</td>\n",
       "      <td>8</td>\n",
       "      <td>1</td>\n",
       "      <td>1</td>\n",
       "      <td>リヴァーレ</td>\n",
       "      <td>牝3</td>\n",
       "      <td>53.0</td>\n",
       "      <td>太宰啓介</td>\n",
       "      <td>2:42.9</td>\n",
       "      <td>1.1/4</td>\n",
       "    </tr>\n",
       "    <tr>\n",
       "      <th>47668</th>\n",
       "      <td>202310030812</td>\n",
       "      <td>9</td>\n",
       "      <td>6</td>\n",
       "      <td>7</td>\n",
       "      <td>シュアーウィナー</td>\n",
       "      <td>牡5</td>\n",
       "      <td>55.0</td>\n",
       "      <td>川端海翼</td>\n",
       "      <td>2:43.5</td>\n",
       "      <td>3.1/2</td>\n",
       "    </tr>\n",
       "    <tr>\n",
       "      <th>47669</th>\n",
       "      <td>202310030812</td>\n",
       "      <td>10</td>\n",
       "      <td>2</td>\n",
       "      <td>2</td>\n",
       "      <td>アウローラシエル</td>\n",
       "      <td>牡3</td>\n",
       "      <td>55.0</td>\n",
       "      <td>和田竜二</td>\n",
       "      <td>2:43.6</td>\n",
       "      <td>3/4</td>\n",
       "    </tr>\n",
       "    <tr>\n",
       "      <th>47670</th>\n",
       "      <td>202310030812</td>\n",
       "      <td>11</td>\n",
       "      <td>4</td>\n",
       "      <td>4</td>\n",
       "      <td>ハイグッドエース</td>\n",
       "      <td>牡4</td>\n",
       "      <td>55.0</td>\n",
       "      <td>西塚洸二</td>\n",
       "      <td>2:43.7</td>\n",
       "      <td>3/4</td>\n",
       "    </tr>\n",
       "    <tr>\n",
       "      <th>47671</th>\n",
       "      <td>202310030812</td>\n",
       "      <td>12</td>\n",
       "      <td>5</td>\n",
       "      <td>5</td>\n",
       "      <td>コスモフランメ</td>\n",
       "      <td>牝3</td>\n",
       "      <td>52.0</td>\n",
       "      <td>角田大河</td>\n",
       "      <td>2:44.1</td>\n",
       "      <td>2.1/2</td>\n",
       "    </tr>\n",
       "  </tbody>\n",
       "</table>\n",
       "<p>47672 rows × 10 columns</p>\n",
       "</div>"
      ],
      "text/plain": [
       "            race_id  着順  枠番  馬番         馬名  性齢    斤量    騎手     タイム     着差\n",
       "0      202301010101   1   5   5    サトミノキラリ  牡2  55.0  横山武史  1:09.5    NaN\n",
       "1      202301010101   2   8   8     ベアゴーゴー  牝2  55.0   浜中俊  1:09.5     クビ\n",
       "2      202301010101   3   6   6  ハピアーザンエバー  牡2  55.0  藤岡佑介  1:10.0  2.1/2\n",
       "3      202301010101   4   4   4  デビルシズカチャン  牝2  55.0  ルメール  1:10.2  1.1/2\n",
       "4      202301010101   5   1   1   ウィスピースノー  牝2  55.0  吉田隼人  1:10.3    1/2\n",
       "...             ...  ..  ..  ..        ...  ..   ...   ...     ...    ...\n",
       "47667  202310030812   8   1   1      リヴァーレ  牝3  53.0  太宰啓介  2:42.9  1.1/4\n",
       "47668  202310030812   9   6   7   シュアーウィナー  牡5  55.0  川端海翼  2:43.5  3.1/2\n",
       "47669  202310030812  10   2   2   アウローラシエル  牡3  55.0  和田竜二  2:43.6    3/4\n",
       "47670  202310030812  11   4   4   ハイグッドエース  牡4  55.0  西塚洸二  2:43.7    3/4\n",
       "47671  202310030812  12   5   5    コスモフランメ  牝3  52.0  角田大河  2:44.1  2.1/2\n",
       "\n",
       "[47672 rows x 10 columns]"
      ]
     },
     "execution_count": 3,
     "metadata": {},
     "output_type": "execute_result"
    }
   ],
   "source": [
    "# ilocで行列の数を指定\n",
    "df.iloc[:,0:10]"
   ]
  },
  {
   "cell_type": "code",
   "execution_count": 4,
   "id": "7df44cbd-35d8-4956-81f6-3670bfa4a56f",
   "metadata": {
    "collapsed": true,
    "jupyter": {
     "outputs_hidden": true
    },
    "scrolled": true
   },
   "outputs": [
    {
     "data": {
      "text/plain": [
       "0         1\n",
       "1         2\n",
       "2         3\n",
       "3         4\n",
       "4         5\n",
       "         ..\n",
       "47667     8\n",
       "47668     9\n",
       "47669    10\n",
       "47670    11\n",
       "47671    12\n",
       "Name: 着順, Length: 47672, dtype: object"
      ]
     },
     "execution_count": 4,
     "metadata": {},
     "output_type": "execute_result"
    }
   ],
   "source": [
    "#以下、各列において数値型になっている確認。そうでなければ加工していく\n",
    "df[\"着順\"]"
   ]
  },
  {
   "cell_type": "code",
   "execution_count": 13,
   "id": "099099ac-d834-423e-9d30-fc31f823a640",
   "metadata": {
    "collapsed": true,
    "jupyter": {
     "outputs_hidden": true
    },
    "scrolled": true
   },
   "outputs": [
    {
     "data": {
      "text/plain": [
       "rank\n",
       "3.0     3460\n",
       "1.0     3459\n",
       "2.0     3456\n",
       "4.0     3456\n",
       "5.0     3456\n",
       "6.0     3443\n",
       "7.0     3424\n",
       "8.0     3367\n",
       "9.0     3259\n",
       "10.0    3101\n",
       "11.0    2895\n",
       "12.0    2637\n",
       "13.0    2342\n",
       "14.0    2047\n",
       "15.0    1708\n",
       "16.0    1279\n",
       "NaN      399\n",
       "17.0     280\n",
       "18.0     204\n",
       "Name: count, dtype: int64"
      ]
     },
     "execution_count": 13,
     "metadata": {},
     "output_type": "execute_result"
    }
   ],
   "source": [
    "# dtyopeがobjectになっている。機械学習に通すには数字の型にする必要がある。\n",
    "普通にやるとnumeric関数によりエラーを欠損値として処理するように指定\n",
    "df[\"rank\"] = pd.to_numeric(df[\"着順\"], errors=\"coerce\")\n",
    "df[\"rank\"].value_counts(dropna=False)"
   ]
  },
  {
   "cell_type": "code",
   "execution_count": 15,
   "id": "876e57e8-52b1-43b3-afbe-7f9641609f42",
   "metadata": {},
   "outputs": [],
   "source": [
    "df.dropna(subset=[\"rank\"],inplace=True)"
   ]
  },
  {
   "cell_type": "code",
   "execution_count": 16,
   "id": "1c2e7d1a-e464-4125-a551-c743a749c937",
   "metadata": {
    "collapsed": true,
    "jupyter": {
     "outputs_hidden": true
    },
    "scrolled": true
   },
   "outputs": [
    {
     "data": {
      "text/plain": [
       "rank\n",
       "3.0     3460\n",
       "1.0     3459\n",
       "2.0     3456\n",
       "4.0     3456\n",
       "5.0     3456\n",
       "6.0     3443\n",
       "7.0     3424\n",
       "8.0     3367\n",
       "9.0     3259\n",
       "10.0    3101\n",
       "11.0    2895\n",
       "12.0    2637\n",
       "13.0    2342\n",
       "14.0    2047\n",
       "15.0    1708\n",
       "16.0    1279\n",
       "17.0     280\n",
       "18.0     204\n",
       "Name: count, dtype: int64"
      ]
     },
     "execution_count": 16,
     "metadata": {},
     "output_type": "execute_result"
    }
   ],
   "source": [
    "df[\"rank\"].value_counts(dropna=False)"
   ]
  },
  {
   "cell_type": "code",
   "execution_count": 17,
   "id": "f2bb1b54-f641-4d3c-a420-bd34e5b02c1e",
   "metadata": {},
   "outputs": [
    {
     "data": {
      "text/plain": [
       "0        5\n",
       "1        8\n",
       "2        6\n",
       "3        4\n",
       "4        1\n",
       "        ..\n",
       "47667    1\n",
       "47668    7\n",
       "47669    2\n",
       "47670    4\n",
       "47671    5\n",
       "Name: 馬番, Length: 47273, dtype: int64"
      ]
     },
     "execution_count": 17,
     "metadata": {},
     "output_type": "execute_result"
    }
   ],
   "source": [
    "df[\"馬番\"].astype(int)"
   ]
  },
  {
   "cell_type": "code",
   "execution_count": 19,
   "id": "f5b11350-82c3-4db4-bb19-6f9abfc11da2",
   "metadata": {},
   "outputs": [
    {
     "data": {
      "text/plain": [
       "性齢\n",
       "牡    25038\n",
       "牝    19922\n",
       "セ     2313\n",
       "Name: count, dtype: int64"
      ]
     },
     "execution_count": 19,
     "metadata": {},
     "output_type": "execute_result"
    }
   ],
   "source": [
    "df[\"性齢\"].str[0].value_counts()"
   ]
  },
  {
   "cell_type": "code",
   "execution_count": 24,
   "id": "880626c0-934c-4832-a3c2-8f31fec585d9",
   "metadata": {},
   "outputs": [],
   "source": [
    "#ラベルエンコーディング：カテゴリ変数を整数にマッピングするデータ加工手法\n",
    "sex_mapping = {\"牡\":0, \"牝\":1, \"セ\":2}"
   ]
  },
  {
   "cell_type": "code",
   "execution_count": 26,
   "id": "14b71753-837e-4e82-833e-525a6b120c34",
   "metadata": {},
   "outputs": [
    {
     "data": {
      "text/plain": [
       "性齢\n",
       "0    25038\n",
       "1    19922\n",
       "2     2313\n",
       "Name: count, dtype: int64"
      ]
     },
     "execution_count": 26,
     "metadata": {},
     "output_type": "execute_result"
    }
   ],
   "source": [
    "df[\"性齢\"].str[0].map(sex_mapping).value_counts()"
   ]
  },
  {
   "cell_type": "code",
   "execution_count": 27,
   "id": "c1d67983-f5a7-422b-a477-32dfac93f7af",
   "metadata": {},
   "outputs": [
    {
     "data": {
      "text/plain": [
       "0        2\n",
       "1        2\n",
       "2        2\n",
       "3        2\n",
       "4        2\n",
       "        ..\n",
       "47667    3\n",
       "47668    5\n",
       "47669    3\n",
       "47670    4\n",
       "47671    3\n",
       "Name: 性齢, Length: 47273, dtype: int64"
      ]
     },
     "execution_count": 27,
     "metadata": {},
     "output_type": "execute_result"
    }
   ],
   "source": [
    "df[\"性齢\"].str[1:].astype(int)"
   ]
  },
  {
   "cell_type": "code",
   "execution_count": 28,
   "id": "c7c897f4-e5c4-42a4-8958-6fb5649774bd",
   "metadata": {},
   "outputs": [
    {
     "data": {
      "text/plain": [
       "0        55.0\n",
       "1        55.0\n",
       "2        55.0\n",
       "3        55.0\n",
       "4        55.0\n",
       "         ... \n",
       "47667    53.0\n",
       "47668    55.0\n",
       "47669    55.0\n",
       "47670    55.0\n",
       "47671    52.0\n",
       "Name: 斤量, Length: 47273, dtype: float64"
      ]
     },
     "execution_count": 28,
     "metadata": {},
     "output_type": "execute_result"
    }
   ],
   "source": [
    "df[\"斤量\"]"
   ]
  },
  {
   "cell_type": "code",
   "execution_count": 29,
   "id": "d1a86928-8a44-4b84-9766-9593321cee05",
   "metadata": {
    "scrolled": true
   },
   "outputs": [
    {
     "data": {
      "text/html": [
       "<div>\n",
       "<style scoped>\n",
       "    .dataframe tbody tr th:only-of-type {\n",
       "        vertical-align: middle;\n",
       "    }\n",
       "\n",
       "    .dataframe tbody tr th {\n",
       "        vertical-align: top;\n",
       "    }\n",
       "\n",
       "    .dataframe thead th {\n",
       "        text-align: right;\n",
       "    }\n",
       "</style>\n",
       "<table border=\"1\" class=\"dataframe\">\n",
       "  <thead>\n",
       "    <tr style=\"text-align: right;\">\n",
       "      <th></th>\n",
       "      <th>単勝</th>\n",
       "      <th>人気</th>\n",
       "      <th>馬体重</th>\n",
       "      <th>調教師</th>\n",
       "      <th>horse_id</th>\n",
       "      <th>jockey_id</th>\n",
       "      <th>trainer_id</th>\n",
       "      <th>owner_id</th>\n",
       "      <th>rank</th>\n",
       "    </tr>\n",
       "  </thead>\n",
       "  <tbody>\n",
       "    <tr>\n",
       "      <th>0</th>\n",
       "      <td>1.2</td>\n",
       "      <td>1.0</td>\n",
       "      <td>452(-4)</td>\n",
       "      <td>[東] 鈴木伸尋</td>\n",
       "      <td>2021101429</td>\n",
       "      <td>1170</td>\n",
       "      <td>1026</td>\n",
       "      <td>1026</td>\n",
       "      <td>1.0</td>\n",
       "    </tr>\n",
       "    <tr>\n",
       "      <th>1</th>\n",
       "      <td>4.1</td>\n",
       "      <td>2.0</td>\n",
       "      <td>454(+2)</td>\n",
       "      <td>[東] 杉浦宏昭</td>\n",
       "      <td>2021105872</td>\n",
       "      <td>1115</td>\n",
       "      <td>1008</td>\n",
       "      <td>1008</td>\n",
       "      <td>2.0</td>\n",
       "    </tr>\n",
       "    <tr>\n",
       "      <th>2</th>\n",
       "      <td>59.9</td>\n",
       "      <td>6.0</td>\n",
       "      <td>438(-6)</td>\n",
       "      <td>[西] 羽月友彦</td>\n",
       "      <td>2021106854</td>\n",
       "      <td>1093</td>\n",
       "      <td>1091</td>\n",
       "      <td>1091</td>\n",
       "      <td>3.0</td>\n",
       "    </tr>\n",
       "    <tr>\n",
       "      <th>3</th>\n",
       "      <td>16.6</td>\n",
       "      <td>3.0</td>\n",
       "      <td>450(+2)</td>\n",
       "      <td>[西] 武幸四郎</td>\n",
       "      <td>2021105553</td>\n",
       "      <td>5339</td>\n",
       "      <td>1160</td>\n",
       "      <td>1160</td>\n",
       "      <td>4.0</td>\n",
       "    </tr>\n",
       "    <tr>\n",
       "      <th>4</th>\n",
       "      <td>23.9</td>\n",
       "      <td>5.0</td>\n",
       "      <td>434(-10)</td>\n",
       "      <td>[西] 今野貞一</td>\n",
       "      <td>2021100648</td>\n",
       "      <td>1095</td>\n",
       "      <td>1128</td>\n",
       "      <td>1128</td>\n",
       "      <td>5.0</td>\n",
       "    </tr>\n",
       "    <tr>\n",
       "      <th>...</th>\n",
       "      <td>...</td>\n",
       "      <td>...</td>\n",
       "      <td>...</td>\n",
       "      <td>...</td>\n",
       "      <td>...</td>\n",
       "      <td>...</td>\n",
       "      <td>...</td>\n",
       "      <td>...</td>\n",
       "      <td>...</td>\n",
       "    </tr>\n",
       "    <tr>\n",
       "      <th>47667</th>\n",
       "      <td>62.8</td>\n",
       "      <td>11.0</td>\n",
       "      <td>394(+2)</td>\n",
       "      <td>[西] 松永幹夫</td>\n",
       "      <td>2020105644</td>\n",
       "      <td>1037</td>\n",
       "      <td>1092</td>\n",
       "      <td>1092</td>\n",
       "      <td>8.0</td>\n",
       "    </tr>\n",
       "    <tr>\n",
       "      <th>47668</th>\n",
       "      <td>125.6</td>\n",
       "      <td>12.0</td>\n",
       "      <td>470(-4)</td>\n",
       "      <td>[西] 安田隆行</td>\n",
       "      <td>2018106584</td>\n",
       "      <td>1195</td>\n",
       "      <td>438</td>\n",
       "      <td>438</td>\n",
       "      <td>9.0</td>\n",
       "    </tr>\n",
       "    <tr>\n",
       "      <th>47669</th>\n",
       "      <td>9.8</td>\n",
       "      <td>5.0</td>\n",
       "      <td>496(+8)</td>\n",
       "      <td>[西] 森田直行</td>\n",
       "      <td>2020101781</td>\n",
       "      <td>1018</td>\n",
       "      <td>1142</td>\n",
       "      <td>1142</td>\n",
       "      <td>10.0</td>\n",
       "    </tr>\n",
       "    <tr>\n",
       "      <th>47670</th>\n",
       "      <td>37.2</td>\n",
       "      <td>10.0</td>\n",
       "      <td>440(-2)</td>\n",
       "      <td>[西] 大根田裕</td>\n",
       "      <td>2019106647</td>\n",
       "      <td>1200</td>\n",
       "      <td>1032</td>\n",
       "      <td>1032</td>\n",
       "      <td>11.0</td>\n",
       "    </tr>\n",
       "    <tr>\n",
       "      <th>47671</th>\n",
       "      <td>6.2</td>\n",
       "      <td>4.0</td>\n",
       "      <td>442(+6)</td>\n",
       "      <td>[西] 宮徹</td>\n",
       "      <td>2020103324</td>\n",
       "      <td>1199</td>\n",
       "      <td>1018</td>\n",
       "      <td>1018</td>\n",
       "      <td>12.0</td>\n",
       "    </tr>\n",
       "  </tbody>\n",
       "</table>\n",
       "<p>47273 rows × 9 columns</p>\n",
       "</div>"
      ],
      "text/plain": [
       "          単勝    人気       馬体重       調教師    horse_id  jockey_id  trainer_id  \\\n",
       "0        1.2   1.0   452(-4)  [東] 鈴木伸尋  2021101429       1170        1026   \n",
       "1        4.1   2.0   454(+2)  [東] 杉浦宏昭  2021105872       1115        1008   \n",
       "2       59.9   6.0   438(-6)  [西] 羽月友彦  2021106854       1093        1091   \n",
       "3       16.6   3.0   450(+2)  [西] 武幸四郎  2021105553       5339        1160   \n",
       "4       23.9   5.0  434(-10)  [西] 今野貞一  2021100648       1095        1128   \n",
       "...      ...   ...       ...       ...         ...        ...         ...   \n",
       "47667   62.8  11.0   394(+2)  [西] 松永幹夫  2020105644       1037        1092   \n",
       "47668  125.6  12.0   470(-4)  [西] 安田隆行  2018106584       1195         438   \n",
       "47669    9.8   5.0   496(+8)  [西] 森田直行  2020101781       1018        1142   \n",
       "47670   37.2  10.0   440(-2)  [西] 大根田裕  2019106647       1200        1032   \n",
       "47671    6.2   4.0   442(+6)    [西] 宮徹  2020103324       1199        1018   \n",
       "\n",
       "       owner_id  rank  \n",
       "0          1026   1.0  \n",
       "1          1008   2.0  \n",
       "2          1091   3.0  \n",
       "3          1160   4.0  \n",
       "4          1128   5.0  \n",
       "...         ...   ...  \n",
       "47667      1092   8.0  \n",
       "47668       438   9.0  \n",
       "47669      1142  10.0  \n",
       "47670      1032  11.0  \n",
       "47671      1018  12.0  \n",
       "\n",
       "[47273 rows x 9 columns]"
      ]
     },
     "execution_count": 29,
     "metadata": {},
     "output_type": "execute_result"
    }
   ],
   "source": [
    "# １０列目意向を確認\n",
    "df.iloc[:,10:20]"
   ]
  },
  {
   "cell_type": "code",
   "execution_count": 30,
   "id": "99523278-e689-4092-a090-d43120599109",
   "metadata": {},
   "outputs": [
    {
     "data": {
      "text/plain": [
       "0          1.2\n",
       "1          4.1\n",
       "2         59.9\n",
       "3         16.6\n",
       "4         23.9\n",
       "         ...  \n",
       "47667     62.8\n",
       "47668    125.6\n",
       "47669      9.8\n",
       "47670     37.2\n",
       "47671      6.2\n",
       "Name: 単勝, Length: 47273, dtype: object"
      ]
     },
     "execution_count": 30,
     "metadata": {},
     "output_type": "execute_result"
    }
   ],
   "source": [
    "df[\"単勝\"]"
   ]
  },
  {
   "cell_type": "code",
   "execution_count": 32,
   "id": "7a3006cc-5215-4940-9bca-f651f435ba06",
   "metadata": {},
   "outputs": [
    {
     "data": {
      "text/plain": [
       "0          1.2\n",
       "1          4.1\n",
       "2         59.9\n",
       "3         16.6\n",
       "4         23.9\n",
       "         ...  \n",
       "47667     62.8\n",
       "47668    125.6\n",
       "47669      9.8\n",
       "47670     37.2\n",
       "47671      6.2\n",
       "Name: 単勝, Length: 47273, dtype: float64"
      ]
     },
     "execution_count": 32,
     "metadata": {},
     "output_type": "execute_result"
    }
   ],
   "source": [
    "df[\"単勝\"].astype(float)"
   ]
  },
  {
   "cell_type": "code",
   "execution_count": 33,
   "id": "606bf918-9287-48f9-b8e1-720ce7e6ca5a",
   "metadata": {},
   "outputs": [
    {
     "data": {
      "text/plain": [
       "0         1\n",
       "1         2\n",
       "2         6\n",
       "3         3\n",
       "4         5\n",
       "         ..\n",
       "47667    11\n",
       "47668    12\n",
       "47669     5\n",
       "47670    10\n",
       "47671     4\n",
       "Name: 人気, Length: 47273, dtype: int64"
      ]
     },
     "execution_count": 33,
     "metadata": {},
     "output_type": "execute_result"
    }
   ],
   "source": [
    "df[\"人気\"].astype(int)"
   ]
  },
  {
   "cell_type": "code",
   "execution_count": 37,
   "id": "ebdb379a-898f-4a7e-b9e3-9952e0fe1a64",
   "metadata": {
    "scrolled": true
   },
   "outputs": [
    {
     "data": {
      "text/plain": [
       "0        452\n",
       "1        454\n",
       "2        438\n",
       "3        450\n",
       "4        434\n",
       "        ... \n",
       "47667    394\n",
       "47668    470\n",
       "47669    496\n",
       "47670    440\n",
       "47671    442\n",
       "Name: weight, Length: 47273, dtype: int64"
      ]
     },
     "execution_count": 37,
     "metadata": {},
     "output_type": "execute_result"
    }
   ],
   "source": [
    "df[\"weight\"] = df[\"馬体重\"].str.extract(r\"(\\d+)\").astype(int)\n",
    "df['weight']"
   ]
  },
  {
   "cell_type": "code",
   "execution_count": 40,
   "id": "2a3bba22-bd00-46df-a514-72aa69ce9ba2",
   "metadata": {},
   "outputs": [
    {
     "data": {
      "text/plain": [
       "0        -4\n",
       "1         2\n",
       "2        -6\n",
       "3         2\n",
       "4       -10\n",
       "         ..\n",
       "47667     2\n",
       "47668    -4\n",
       "47669     8\n",
       "47670    -2\n",
       "47671     6\n",
       "Name: weight_diff, Length: 47273, dtype: int64"
      ]
     },
     "execution_count": 40,
     "metadata": {},
     "output_type": "execute_result"
    }
   ],
   "source": [
    "# 馬体重増減の部分も抜き出す\n",
    "df[\"馬体重\"].str.extract(r\"\\((.+)\\)\").astype(int)\n",
    "df[\"weight_diff\"] = df[\"馬体重\"].str.extract(r\"\\((.+)\\)\").astype(int)\n",
    "df[\"weight_diff\"]"
   ]
  },
  {
   "cell_type": "code",
   "execution_count": 5,
   "id": "4bc16e44-b9aa-4d51-b9bc-8938f7acbc35",
   "metadata": {},
   "outputs": [
    {
     "data": {
      "text/plain": [
       "0        5\n",
       "1        8\n",
       "2        6\n",
       "3        4\n",
       "4        1\n",
       "        ..\n",
       "47667    1\n",
       "47668    6\n",
       "47669    2\n",
       "47670    4\n",
       "47671    5\n",
       "Name: 枠番, Length: 47672, dtype: int64"
      ]
     },
     "execution_count": 5,
     "metadata": {},
     "output_type": "execute_result"
    }
   ],
   "source": [
    "df[\"枠番\"]"
   ]
  },
  {
   "cell_type": "code",
   "execution_count": 7,
   "id": "673b4161",
   "metadata": {},
   "outputs": [],
   "source": [
    "# 馬テーブルのデータ抽出\n",
    "df = pd.read_csv(RAWDF_DIR/\"horse_results.csv\", sep=\"\\t\")"
   ]
  },
  {
   "cell_type": "code",
   "execution_count": null,
   "id": "c4092be0",
   "metadata": {},
   "outputs": [
    {
     "data": {
      "text/html": [
       "<div>\n",
       "<style scoped>\n",
       "    .dataframe tbody tr th:only-of-type {\n",
       "        vertical-align: middle;\n",
       "    }\n",
       "\n",
       "    .dataframe tbody tr th {\n",
       "        vertical-align: top;\n",
       "    }\n",
       "\n",
       "    .dataframe thead th {\n",
       "        text-align: right;\n",
       "    }\n",
       "</style>\n",
       "<table border=\"1\" class=\"dataframe\">\n",
       "  <thead>\n",
       "    <tr style=\"text-align: right;\">\n",
       "      <th></th>\n",
       "      <th>オッズ</th>\n",
       "      <th>人気</th>\n",
       "      <th>着順</th>\n",
       "      <th>騎手</th>\n",
       "      <th>斤量</th>\n",
       "      <th>距離</th>\n",
       "      <th>馬場</th>\n",
       "      <th>馬場指数</th>\n",
       "      <th>タイム</th>\n",
       "      <th>着差</th>\n",
       "    </tr>\n",
       "  </thead>\n",
       "  <tbody>\n",
       "    <tr>\n",
       "      <th>0</th>\n",
       "      <td>3.8</td>\n",
       "      <td>2.0</td>\n",
       "      <td>9</td>\n",
       "      <td>津村明秀</td>\n",
       "      <td>57.0</td>\n",
       "      <td>芝1400</td>\n",
       "      <td>良</td>\n",
       "      <td>**</td>\n",
       "      <td>1:21.8</td>\n",
       "      <td>0.2</td>\n",
       "    </tr>\n",
       "    <tr>\n",
       "      <th>1</th>\n",
       "      <td>1.9</td>\n",
       "      <td>1.0</td>\n",
       "      <td>1</td>\n",
       "      <td>津村明秀</td>\n",
       "      <td>56.0</td>\n",
       "      <td>芝1400</td>\n",
       "      <td>良</td>\n",
       "      <td>**</td>\n",
       "      <td>1:19.7</td>\n",
       "      <td>-0.5</td>\n",
       "    </tr>\n",
       "    <tr>\n",
       "      <th>2</th>\n",
       "      <td>3.0</td>\n",
       "      <td>2.0</td>\n",
       "      <td>2</td>\n",
       "      <td>津村明秀</td>\n",
       "      <td>55.0</td>\n",
       "      <td>芝1400</td>\n",
       "      <td>良</td>\n",
       "      <td>**</td>\n",
       "      <td>1:22.0</td>\n",
       "      <td>0.4</td>\n",
       "    </tr>\n",
       "    <tr>\n",
       "      <th>3</th>\n",
       "      <td>11.3</td>\n",
       "      <td>5.0</td>\n",
       "      <td>2</td>\n",
       "      <td>津村明秀</td>\n",
       "      <td>54.0</td>\n",
       "      <td>芝1400</td>\n",
       "      <td>良</td>\n",
       "      <td>**</td>\n",
       "      <td>1:20.3</td>\n",
       "      <td>0.0</td>\n",
       "    </tr>\n",
       "    <tr>\n",
       "      <th>4</th>\n",
       "      <td>75.3</td>\n",
       "      <td>11.0</td>\n",
       "      <td>13</td>\n",
       "      <td>内田博幸</td>\n",
       "      <td>57.0</td>\n",
       "      <td>芝1600</td>\n",
       "      <td>稍</td>\n",
       "      <td>**</td>\n",
       "      <td>1:35.3</td>\n",
       "      <td>0.9</td>\n",
       "    </tr>\n",
       "    <tr>\n",
       "      <th>...</th>\n",
       "      <td>...</td>\n",
       "      <td>...</td>\n",
       "      <td>...</td>\n",
       "      <td>...</td>\n",
       "      <td>...</td>\n",
       "      <td>...</td>\n",
       "      <td>...</td>\n",
       "      <td>...</td>\n",
       "      <td>...</td>\n",
       "      <td>...</td>\n",
       "    </tr>\n",
       "    <tr>\n",
       "      <th>212935</th>\n",
       "      <td>1.3</td>\n",
       "      <td>1.0</td>\n",
       "      <td>1</td>\n",
       "      <td>藤原幹生</td>\n",
       "      <td>56.0</td>\n",
       "      <td>ダ1400</td>\n",
       "      <td>良</td>\n",
       "      <td>**</td>\n",
       "      <td>1:33.1</td>\n",
       "      <td>-0.5</td>\n",
       "    </tr>\n",
       "    <tr>\n",
       "      <th>212936</th>\n",
       "      <td>8.2</td>\n",
       "      <td>4.0</td>\n",
       "      <td>3</td>\n",
       "      <td>藤原幹生</td>\n",
       "      <td>56.0</td>\n",
       "      <td>ダ1400</td>\n",
       "      <td>良</td>\n",
       "      <td>**</td>\n",
       "      <td>1:30.8</td>\n",
       "      <td>0.4</td>\n",
       "    </tr>\n",
       "    <tr>\n",
       "      <th>212937</th>\n",
       "      <td>9.8</td>\n",
       "      <td>4.0</td>\n",
       "      <td>5</td>\n",
       "      <td>藤原幹生</td>\n",
       "      <td>56.0</td>\n",
       "      <td>ダ800</td>\n",
       "      <td>重</td>\n",
       "      <td>**</td>\n",
       "      <td>0:51.1</td>\n",
       "      <td>2.3</td>\n",
       "    </tr>\n",
       "    <tr>\n",
       "      <th>212938</th>\n",
       "      <td>47.5</td>\n",
       "      <td>13.0</td>\n",
       "      <td>14</td>\n",
       "      <td>松若風馬</td>\n",
       "      <td>56.0</td>\n",
       "      <td>ダ1700</td>\n",
       "      <td>良</td>\n",
       "      <td>**</td>\n",
       "      <td>1:49.4</td>\n",
       "      <td>3.4</td>\n",
       "    </tr>\n",
       "    <tr>\n",
       "      <th>212939</th>\n",
       "      <td>128.5</td>\n",
       "      <td>15.0</td>\n",
       "      <td>16</td>\n",
       "      <td>水口優也</td>\n",
       "      <td>56.0</td>\n",
       "      <td>ダ1700</td>\n",
       "      <td>良</td>\n",
       "      <td>**</td>\n",
       "      <td>1:51.8</td>\n",
       "      <td>5.8</td>\n",
       "    </tr>\n",
       "  </tbody>\n",
       "</table>\n",
       "<p>212940 rows × 10 columns</p>\n",
       "</div>"
      ],
      "text/plain": [
       "          オッズ    人気  着順    騎手    斤量     距離 馬場 馬場指数     タイム   着差\n",
       "0         3.8   2.0   9  津村明秀  57.0  芝1400  良   **  1:21.8  0.2\n",
       "1         1.9   1.0   1  津村明秀  56.0  芝1400  良   **  1:19.7 -0.5\n",
       "2         3.0   2.0   2  津村明秀  55.0  芝1400  良   **  1:22.0  0.4\n",
       "3        11.3   5.0   2  津村明秀  54.0  芝1400  良   **  1:20.3  0.0\n",
       "4        75.3  11.0  13  内田博幸  57.0  芝1600  稍   **  1:35.3  0.9\n",
       "...       ...   ...  ..   ...   ...    ... ..  ...     ...  ...\n",
       "212935    1.3   1.0   1  藤原幹生  56.0  ダ1400  良   **  1:33.1 -0.5\n",
       "212936    8.2   4.0   3  藤原幹生  56.0  ダ1400  良   **  1:30.8  0.4\n",
       "212937    9.8   4.0   5  藤原幹生  56.0   ダ800  重   **  0:51.1  2.3\n",
       "212938   47.5  13.0  14  松若風馬  56.0  ダ1700  良   **  1:49.4  3.4\n",
       "212939  128.5  15.0  16  水口優也  56.0  ダ1700  良   **  1:51.8  5.8\n",
       "\n",
       "[212940 rows x 10 columns]"
      ]
     },
     "execution_count": 9,
     "metadata": {},
     "output_type": "execute_result"
    }
   ],
   "source": [
    "df.iloc[:,10:20]"
   ]
  },
  {
   "cell_type": "code",
   "execution_count": 10,
   "id": "a1565aa0",
   "metadata": {},
   "outputs": [
    {
     "data": {
      "text/html": [
       "<div>\n",
       "<style scoped>\n",
       "    .dataframe tbody tr th:only-of-type {\n",
       "        vertical-align: middle;\n",
       "    }\n",
       "\n",
       "    .dataframe tbody tr th {\n",
       "        vertical-align: top;\n",
       "    }\n",
       "\n",
       "    .dataframe thead th {\n",
       "        text-align: right;\n",
       "    }\n",
       "</style>\n",
       "<table border=\"1\" class=\"dataframe\">\n",
       "  <thead>\n",
       "    <tr style=\"text-align: right;\">\n",
       "      <th></th>\n",
       "      <th>horse_id</th>\n",
       "      <th>日付</th>\n",
       "      <th>開催</th>\n",
       "      <th>天気</th>\n",
       "      <th>R</th>\n",
       "      <th>レース名</th>\n",
       "      <th>映像</th>\n",
       "      <th>頭数</th>\n",
       "      <th>枠番</th>\n",
       "      <th>馬番</th>\n",
       "    </tr>\n",
       "  </thead>\n",
       "  <tbody>\n",
       "    <tr>\n",
       "      <th>0</th>\n",
       "      <td>2021101429</td>\n",
       "      <td>2024/11/09</td>\n",
       "      <td>5東京3</td>\n",
       "      <td>晴</td>\n",
       "      <td>10.0</td>\n",
       "      <td>奥多摩S(3勝クラス)</td>\n",
       "      <td>NaN</td>\n",
       "      <td>14</td>\n",
       "      <td>5.0</td>\n",
       "      <td>8</td>\n",
       "    </tr>\n",
       "    <tr>\n",
       "      <th>1</th>\n",
       "      <td>2021101429</td>\n",
       "      <td>2024/10/06</td>\n",
       "      <td>4東京2</td>\n",
       "      <td>曇</td>\n",
       "      <td>8.0</td>\n",
       "      <td>3歳以上2勝クラス</td>\n",
       "      <td>NaN</td>\n",
       "      <td>13</td>\n",
       "      <td>6.0</td>\n",
       "      <td>8</td>\n",
       "    </tr>\n",
       "    <tr>\n",
       "      <th>2</th>\n",
       "      <td>2021101429</td>\n",
       "      <td>2024/09/01</td>\n",
       "      <td>3新潟8</td>\n",
       "      <td>晴</td>\n",
       "      <td>9.0</td>\n",
       "      <td>飯豊特別(2勝クラス)</td>\n",
       "      <td>NaN</td>\n",
       "      <td>7</td>\n",
       "      <td>7.0</td>\n",
       "      <td>7</td>\n",
       "    </tr>\n",
       "    <tr>\n",
       "      <th>3</th>\n",
       "      <td>2021101429</td>\n",
       "      <td>2024/08/10</td>\n",
       "      <td>3新潟1</td>\n",
       "      <td>晴</td>\n",
       "      <td>10.0</td>\n",
       "      <td>新発田城特別(2勝クラス)</td>\n",
       "      <td>NaN</td>\n",
       "      <td>14</td>\n",
       "      <td>8.0</td>\n",
       "      <td>13</td>\n",
       "    </tr>\n",
       "    <tr>\n",
       "      <th>4</th>\n",
       "      <td>2021101429</td>\n",
       "      <td>2024/04/06</td>\n",
       "      <td>3中山5</td>\n",
       "      <td>曇</td>\n",
       "      <td>11.0</td>\n",
       "      <td>ニュージーランドT(GII)</td>\n",
       "      <td>NaN</td>\n",
       "      <td>16</td>\n",
       "      <td>8.0</td>\n",
       "      <td>16</td>\n",
       "    </tr>\n",
       "    <tr>\n",
       "      <th>...</th>\n",
       "      <td>...</td>\n",
       "      <td>...</td>\n",
       "      <td>...</td>\n",
       "      <td>...</td>\n",
       "      <td>...</td>\n",
       "      <td>...</td>\n",
       "      <td>...</td>\n",
       "      <td>...</td>\n",
       "      <td>...</td>\n",
       "      <td>...</td>\n",
       "    </tr>\n",
       "    <tr>\n",
       "      <th>212935</th>\n",
       "      <td>2020102750</td>\n",
       "      <td>2023/12/27</td>\n",
       "      <td>笠松</td>\n",
       "      <td>晴</td>\n",
       "      <td>3.0</td>\n",
       "      <td>C21組</td>\n",
       "      <td>NaN</td>\n",
       "      <td>7</td>\n",
       "      <td>5.0</td>\n",
       "      <td>5</td>\n",
       "    </tr>\n",
       "    <tr>\n",
       "      <th>212936</th>\n",
       "      <td>2020102750</td>\n",
       "      <td>2023/12/06</td>\n",
       "      <td>笠松</td>\n",
       "      <td>晴</td>\n",
       "      <td>2.0</td>\n",
       "      <td>マックル賞(C)</td>\n",
       "      <td>NaN</td>\n",
       "      <td>8</td>\n",
       "      <td>1.0</td>\n",
       "      <td>1</td>\n",
       "    </tr>\n",
       "    <tr>\n",
       "      <th>212937</th>\n",
       "      <td>2020102750</td>\n",
       "      <td>2023/11/07</td>\n",
       "      <td>笠松</td>\n",
       "      <td>曇</td>\n",
       "      <td>1.0</td>\n",
       "      <td>C24組</td>\n",
       "      <td>NaN</td>\n",
       "      <td>7</td>\n",
       "      <td>4.0</td>\n",
       "      <td>4</td>\n",
       "    </tr>\n",
       "    <tr>\n",
       "      <th>212938</th>\n",
       "      <td>2020102750</td>\n",
       "      <td>2023/09/03</td>\n",
       "      <td>3小倉8</td>\n",
       "      <td>晴</td>\n",
       "      <td>6.0</td>\n",
       "      <td>3歳未勝利</td>\n",
       "      <td>NaN</td>\n",
       "      <td>16</td>\n",
       "      <td>7.0</td>\n",
       "      <td>13</td>\n",
       "    </tr>\n",
       "    <tr>\n",
       "      <th>212939</th>\n",
       "      <td>2020106159</td>\n",
       "      <td>2023/09/03</td>\n",
       "      <td>3小倉8</td>\n",
       "      <td>晴</td>\n",
       "      <td>6.0</td>\n",
       "      <td>3歳未勝利</td>\n",
       "      <td>NaN</td>\n",
       "      <td>16</td>\n",
       "      <td>2.0</td>\n",
       "      <td>3</td>\n",
       "    </tr>\n",
       "  </tbody>\n",
       "</table>\n",
       "<p>212940 rows × 10 columns</p>\n",
       "</div>"
      ],
      "text/plain": [
       "          horse_id          日付    開催 天気     R            レース名  映像  頭数   枠番  馬番\n",
       "0       2021101429  2024/11/09  5東京3  晴  10.0     奥多摩S(3勝クラス) NaN  14  5.0   8\n",
       "1       2021101429  2024/10/06  4東京2  曇   8.0       3歳以上2勝クラス NaN  13  6.0   8\n",
       "2       2021101429  2024/09/01  3新潟8  晴   9.0     飯豊特別(2勝クラス) NaN   7  7.0   7\n",
       "3       2021101429  2024/08/10  3新潟1  晴  10.0   新発田城特別(2勝クラス) NaN  14  8.0  13\n",
       "4       2021101429  2024/04/06  3中山5  曇  11.0  ニュージーランドT(GII) NaN  16  8.0  16\n",
       "...            ...         ...   ... ..   ...             ...  ..  ..  ...  ..\n",
       "212935  2020102750  2023/12/27    笠松  晴   3.0            C21組 NaN   7  5.0   5\n",
       "212936  2020102750  2023/12/06    笠松  晴   2.0        マックル賞(C) NaN   8  1.0   1\n",
       "212937  2020102750  2023/11/07    笠松  曇   1.0            C24組 NaN   7  4.0   4\n",
       "212938  2020102750  2023/09/03  3小倉8  晴   6.0           3歳未勝利 NaN  16  7.0  13\n",
       "212939  2020106159  2023/09/03  3小倉8  晴   6.0           3歳未勝利 NaN  16  2.0   3\n",
       "\n",
       "[212940 rows x 10 columns]"
      ]
     },
     "execution_count": 10,
     "metadata": {},
     "output_type": "execute_result"
    }
   ],
   "source": [
    "df.iloc[:,0:10]"
   ]
  },
  {
   "cell_type": "code",
   "execution_count": 11,
   "id": "9a1ee397",
   "metadata": {},
   "outputs": [
    {
     "data": {
      "text/plain": [
       "0         2024/11/09\n",
       "1         2024/10/06\n",
       "2         2024/09/01\n",
       "3         2024/08/10\n",
       "4         2024/04/06\n",
       "             ...    \n",
       "212935    2023/12/27\n",
       "212936    2023/12/06\n",
       "212937    2023/11/07\n",
       "212938    2023/09/03\n",
       "212939    2023/09/03\n",
       "Name: 日付, Length: 212940, dtype: object"
      ]
     },
     "execution_count": 11,
     "metadata": {},
     "output_type": "execute_result"
    }
   ],
   "source": [
    "df[\"日付\"]"
   ]
  },
  {
   "cell_type": "code",
   "execution_count": 12,
   "id": "fdc4d096",
   "metadata": {},
   "outputs": [
    {
     "data": {
      "text/plain": [
       "0        2024-11-09\n",
       "1        2024-10-06\n",
       "2        2024-09-01\n",
       "3        2024-08-10\n",
       "4        2024-04-06\n",
       "            ...    \n",
       "212935   2023-12-27\n",
       "212936   2023-12-06\n",
       "212937   2023-11-07\n",
       "212938   2023-09-03\n",
       "212939   2023-09-03\n",
       "Name: 日付, Length: 212940, dtype: datetime64[ns]"
      ]
     },
     "execution_count": 12,
     "metadata": {},
     "output_type": "execute_result"
    }
   ],
   "source": [
    "pd.to_datetime(df[\"日付\"])"
   ]
  },
  {
   "cell_type": "code",
   "execution_count": 14,
   "id": "c340b982",
   "metadata": {},
   "outputs": [
    {
     "data": {
      "text/plain": [
       "天気\n",
       "晴     126248\n",
       "曇      64863\n",
       "雨      13240\n",
       "小雨      7747\n",
       "雪        176\n",
       "小雪       174\n",
       "Name: count, dtype: int64"
      ]
     },
     "execution_count": 14,
     "metadata": {},
     "output_type": "execute_result"
    }
   ],
   "source": [
    "df[\"天気\"].value_counts()"
   ]
  },
  {
   "cell_type": "code",
   "execution_count": null,
   "id": "ed277ab3",
   "metadata": {},
   "outputs": [],
   "source": []
  }
 ],
 "metadata": {
  "kernelspec": {
   "display_name": "pythonProject",
   "language": "python",
   "name": "python3"
  },
  "language_info": {
   "codemirror_mode": {
    "name": "ipython",
    "version": 3
   },
   "file_extension": ".py",
   "mimetype": "text/x-python",
   "name": "python",
   "nbconvert_exporter": "python",
   "pygments_lexer": "ipython3",
   "version": "3.12.7"
  }
 },
 "nbformat": 4,
 "nbformat_minor": 5
}
