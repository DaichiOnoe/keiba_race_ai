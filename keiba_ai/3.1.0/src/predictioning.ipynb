{
 "cells": [
  {
   "cell_type": "markdown",
   "metadata": {},
   "source": [
    "# 役割\n",
    "本番運用時の予測を行うnotebook。モデルの学習（`train.ipynb`）が完了している必要がある。"
   ]
  },
  {
   "cell_type": "markdown",
   "metadata": {},
   "source": [
    "# インポート"
   ]
  },
  {
   "cell_type": "code",
   "execution_count": 1,
   "metadata": {},
   "outputs": [],
   "source": [
    "import preprocessing\n",
    "from feature_producing_prediction import PredictionFeatureCreator\n",
    "import predictioning\n",
    "import pandas as pd\n",
    "from pathlib import Path\n",
    "%load_ext autoreload"
   ]
  },
  {
   "cell_type": "code",
   "execution_count": 17,
   "metadata": {},
   "outputs": [],
   "source": [
    "%autoreload"
   ]
  },
  {
   "cell_type": "markdown",
   "metadata": {},
   "source": [
    "# 事前準備\n",
    "**当日出走馬が確定した時点**で実行できる"
   ]
  },
  {
   "cell_type": "code",
   "execution_count": 7,
   "metadata": {},
   "outputs": [],
   "source": [
    "# 予測時の学習母集団はcommon/data/prediction_population/に配置している\n",
    "POPULATION_DIR = preprocessing.COMMON_DATA_DIR / \"prediction_population\""
   ]
  },
  {
   "cell_type": "code",
   "execution_count": 8,
   "metadata": {},
   "outputs": [],
   "source": [
    "# 当日出走馬の過去成績テーブルの前処理\n",
    "horse_results_preprocessed = preprocessing.process_horse_results(\n",
    "    population_dir=POPULATION_DIR,\n",
    "    population_filename = \"population.csv\",\n",
    "    input_filename=\"horse_results_prediction.csv\",\n",
    "    output_filename=\"horse_results_prediction.csv\"\n",
    ")\n",
    "# 当日出走馬の血統テーブルの前処理\n",
    "peds_preprocessed = preprocessing.process_peds(\n",
    "    population_dir=POPULATION_DIR,\n",
    "    populaton_filename= \"population.csv\",\n",
    "    input_filename=\"peds_prediction.csv\",\n",
    "    output_filename=\"peds_prediction.csv\"\n",
    ")"
   ]
  },
  {
   "cell_type": "code",
   "execution_count": 4,
   "metadata": {},
   "outputs": [
    {
     "data": {
      "text/plain": [
       "(np.int64(0),\n",
       " horse_id    0\n",
       " sire_id     0\n",
       " bms_id      0\n",
       " dtype: int64)"
      ]
     },
     "execution_count": 4,
     "metadata": {},
     "output_type": "execute_result"
    }
   ],
   "source": [
    "# データの重複チェック\n",
    "horse_results_preprocessed.duplicated(subset=[ \"horse_id\", \"date\"]).sum(), peds_preprocessed.isnull().sum() \n"
   ]
  },
  {
   "cell_type": "markdown",
   "metadata": {},
   "source": [
    "# 当日の予測処理\n",
    "レース直前出走直前に実行する"
   ]
  },
  {
   "cell_type": "code",
   "execution_count": 41,
   "metadata": {},
   "outputs": [
    {
     "data": {
      "application/vnd.jupyter.widget-view+json": {
       "model_id": "ac3a2365fae7483b99ff12b7a48bcede",
       "version_major": 2,
       "version_minor": 0
      },
      "text/plain": [
       "agg_horse_n_races_relative:   0%|          | 0/5 [00:00<?, ?it/s]"
      ]
     },
     "metadata": {},
     "output_type": "display_data"
    },
    {
     "name": "stdout",
     "output_type": "stream",
     "text": [
      "running agg_interval()...\n",
      "fetching shubuta page html...\n"
     ]
    },
    {
     "data": {
      "application/vnd.jupyter.widget-view+json": {
       "model_id": "84e69a66519649bcb9a26f501a580d22",
       "version_major": 2,
       "version_minor": 0
      },
      "text/plain": [
       "agg_horse_per_course_len:   0%|          | 0/6 [00:00<?, ?it/s]"
      ]
     },
     "metadata": {},
     "output_type": "display_data"
    },
    {
     "data": {
      "application/vnd.jupyter.widget-view+json": {
       "model_id": "ae6e280f5a39465ca4237f02a2bc9c3a",
       "version_major": 2,
       "version_minor": 0
      },
      "text/plain": [
       "agg_horse_per_ground_state_race_type:   0%|          | 0/6 [00:00<?, ?it/s]"
      ]
     },
     "metadata": {},
     "output_type": "display_data"
    },
    {
     "data": {
      "application/vnd.jupyter.widget-view+json": {
       "model_id": "694d0bf674694610ad78b79599d49672",
       "version_major": 2,
       "version_minor": 0
      },
      "text/plain": [
       "agg_horse_per_race_class:   0%|          | 0/6 [00:00<?, ?it/s]"
      ]
     },
     "metadata": {},
     "output_type": "display_data"
    },
    {
     "data": {
      "application/vnd.jupyter.widget-view+json": {
       "model_id": "272f61a949ba4f76ac7b41d2bc694974",
       "version_major": 2,
       "version_minor": 0
      },
      "text/plain": [
       "agg_horse_per_race_type:   0%|          | 0/6 [00:00<?, ?it/s]"
      ]
     },
     "metadata": {},
     "output_type": "display_data"
    },
    {
     "name": "stdout",
     "output_type": "stream",
     "text": [
      "running agg_jockey()...\n",
      "running agg_trainer()...\n",
      "running agg_sire()...\n",
      "running cross_feature()...\n",
      "merging all features...\n"
     ]
    },
    {
     "name": "stderr",
     "output_type": "stream",
     "text": [
      "/home/load0/競馬AI/keiba_race_ai/keiba_ai/3.1.0/src/feature_producing_prediction.py:677: FutureWarning: Passing literal html to 'read_html' is deprecated and will be removed in a future version. To read from a literal string, wrap it in a 'StringIO' object.\n",
      "  pd.read_html(html)[0][[\"馬番\", \"単勝\"]]\n"
     ]
    }
   ],
   "source": [
    "pfc = PredictionFeatureCreator(race_id=\"202505021011\", weight = True)\n",
    "pfc.create_features()\n",
    "features = await pfc.update_odds_and_popularity()"
   ]
  },
  {
   "cell_type": "code",
   "execution_count": 42,
   "metadata": {},
   "outputs": [
    {
     "data": {
      "text/html": [
       "<div>\n",
       "<style scoped>\n",
       "    .dataframe tbody tr th:only-of-type {\n",
       "        vertical-align: middle;\n",
       "    }\n",
       "\n",
       "    .dataframe tbody tr th {\n",
       "        vertical-align: top;\n",
       "    }\n",
       "\n",
       "    .dataframe thead th {\n",
       "        text-align: right;\n",
       "    }\n",
       "</style>\n",
       "<table border=\"1\" class=\"dataframe\">\n",
       "  <thead>\n",
       "    <tr style=\"text-align: right;\">\n",
       "      <th></th>\n",
       "      <th>race_id</th>\n",
       "      <th>umaban</th>\n",
       "      <th>tansho_odds</th>\n",
       "      <th>popularity</th>\n",
       "      <th>pred</th>\n",
       "      <th>pred_calibrated</th>\n",
       "      <th>expect_return</th>\n",
       "      <th>expect_return_calibrated</th>\n",
       "    </tr>\n",
       "  </thead>\n",
       "  <tbody>\n",
       "    <tr>\n",
       "      <th>11</th>\n",
       "      <td>202505021011</td>\n",
       "      <td>12</td>\n",
       "      <td>15.1</td>\n",
       "      <td>6.0</td>\n",
       "      <td>0.086599</td>\n",
       "      <td>0.087001</td>\n",
       "      <td>1.307640</td>\n",
       "      <td>1.313715</td>\n",
       "    </tr>\n",
       "    <tr>\n",
       "      <th>10</th>\n",
       "      <td>202505021011</td>\n",
       "      <td>11</td>\n",
       "      <td>315.1</td>\n",
       "      <td>18.0</td>\n",
       "      <td>0.002484</td>\n",
       "      <td>0.004042</td>\n",
       "      <td>0.782771</td>\n",
       "      <td>1.273646</td>\n",
       "    </tr>\n",
       "    <tr>\n",
       "      <th>5</th>\n",
       "      <td>202505021011</td>\n",
       "      <td>6</td>\n",
       "      <td>78.7</td>\n",
       "      <td>12.0</td>\n",
       "      <td>0.012066</td>\n",
       "      <td>0.013120</td>\n",
       "      <td>0.949561</td>\n",
       "      <td>1.032507</td>\n",
       "    </tr>\n",
       "    <tr>\n",
       "      <th>0</th>\n",
       "      <td>202505021011</td>\n",
       "      <td>1</td>\n",
       "      <td>3.6</td>\n",
       "      <td>2.0</td>\n",
       "      <td>0.217735</td>\n",
       "      <td>0.230490</td>\n",
       "      <td>0.783847</td>\n",
       "      <td>0.829764</td>\n",
       "    </tr>\n",
       "    <tr>\n",
       "      <th>4</th>\n",
       "      <td>202505021011</td>\n",
       "      <td>5</td>\n",
       "      <td>3.6</td>\n",
       "      <td>2.0</td>\n",
       "      <td>0.210494</td>\n",
       "      <td>0.230490</td>\n",
       "      <td>0.757780</td>\n",
       "      <td>0.829764</td>\n",
       "    </tr>\n",
       "    <tr>\n",
       "      <th>8</th>\n",
       "      <td>202505021011</td>\n",
       "      <td>9</td>\n",
       "      <td>3.2</td>\n",
       "      <td>1.0</td>\n",
       "      <td>0.274215</td>\n",
       "      <td>0.256983</td>\n",
       "      <td>0.877488</td>\n",
       "      <td>0.822346</td>\n",
       "    </tr>\n",
       "    <tr>\n",
       "      <th>2</th>\n",
       "      <td>202505021011</td>\n",
       "      <td>3</td>\n",
       "      <td>18.5</td>\n",
       "      <td>7.0</td>\n",
       "      <td>0.043826</td>\n",
       "      <td>0.042511</td>\n",
       "      <td>0.810774</td>\n",
       "      <td>0.786462</td>\n",
       "    </tr>\n",
       "    <tr>\n",
       "      <th>6</th>\n",
       "      <td>202505021011</td>\n",
       "      <td>7</td>\n",
       "      <td>29.2</td>\n",
       "      <td>8.0</td>\n",
       "      <td>0.026873</td>\n",
       "      <td>0.026786</td>\n",
       "      <td>0.784694</td>\n",
       "      <td>0.782143</td>\n",
       "    </tr>\n",
       "    <tr>\n",
       "      <th>16</th>\n",
       "      <td>202505021011</td>\n",
       "      <td>17</td>\n",
       "      <td>186.1</td>\n",
       "      <td>14.0</td>\n",
       "      <td>0.004737</td>\n",
       "      <td>0.004042</td>\n",
       "      <td>0.881629</td>\n",
       "      <td>0.752223</td>\n",
       "    </tr>\n",
       "    <tr>\n",
       "      <th>9</th>\n",
       "      <td>202505021011</td>\n",
       "      <td>10</td>\n",
       "      <td>42.2</td>\n",
       "      <td>9.0</td>\n",
       "      <td>0.016519</td>\n",
       "      <td>0.015267</td>\n",
       "      <td>0.697084</td>\n",
       "      <td>0.644275</td>\n",
       "    </tr>\n",
       "    <tr>\n",
       "      <th>12</th>\n",
       "      <td>202505021011</td>\n",
       "      <td>13</td>\n",
       "      <td>48.4</td>\n",
       "      <td>10.0</td>\n",
       "      <td>0.014330</td>\n",
       "      <td>0.013120</td>\n",
       "      <td>0.693595</td>\n",
       "      <td>0.634985</td>\n",
       "    </tr>\n",
       "    <tr>\n",
       "      <th>17</th>\n",
       "      <td>202505021011</td>\n",
       "      <td>18</td>\n",
       "      <td>14.2</td>\n",
       "      <td>5.0</td>\n",
       "      <td>0.061849</td>\n",
       "      <td>0.042511</td>\n",
       "      <td>0.878257</td>\n",
       "      <td>0.603663</td>\n",
       "    </tr>\n",
       "    <tr>\n",
       "      <th>14</th>\n",
       "      <td>202505021011</td>\n",
       "      <td>15</td>\n",
       "      <td>14.0</td>\n",
       "      <td>4.0</td>\n",
       "      <td>0.067449</td>\n",
       "      <td>0.042511</td>\n",
       "      <td>0.944279</td>\n",
       "      <td>0.595160</td>\n",
       "    </tr>\n",
       "    <tr>\n",
       "      <th>3</th>\n",
       "      <td>202505021011</td>\n",
       "      <td>4</td>\n",
       "      <td>245.7</td>\n",
       "      <td>15.0</td>\n",
       "      <td>0.002370</td>\n",
       "      <td>0.002299</td>\n",
       "      <td>0.582376</td>\n",
       "      <td>0.564828</td>\n",
       "    </tr>\n",
       "    <tr>\n",
       "      <th>15</th>\n",
       "      <td>202505021011</td>\n",
       "      <td>16</td>\n",
       "      <td>127.6</td>\n",
       "      <td>13.0</td>\n",
       "      <td>0.005067</td>\n",
       "      <td>0.004042</td>\n",
       "      <td>0.646508</td>\n",
       "      <td>0.515764</td>\n",
       "    </tr>\n",
       "    <tr>\n",
       "      <th>13</th>\n",
       "      <td>202505021011</td>\n",
       "      <td>14</td>\n",
       "      <td>74.7</td>\n",
       "      <td>11.0</td>\n",
       "      <td>0.009856</td>\n",
       "      <td>0.004796</td>\n",
       "      <td>0.736257</td>\n",
       "      <td>0.358273</td>\n",
       "    </tr>\n",
       "    <tr>\n",
       "      <th>1</th>\n",
       "      <td>202505021011</td>\n",
       "      <td>2</td>\n",
       "      <td>309.0</td>\n",
       "      <td>17.0</td>\n",
       "      <td>0.001950</td>\n",
       "      <td>0.000000</td>\n",
       "      <td>0.602703</td>\n",
       "      <td>0.000000</td>\n",
       "    </tr>\n",
       "    <tr>\n",
       "      <th>7</th>\n",
       "      <td>202505021011</td>\n",
       "      <td>8</td>\n",
       "      <td>276.6</td>\n",
       "      <td>16.0</td>\n",
       "      <td>0.001945</td>\n",
       "      <td>0.000000</td>\n",
       "      <td>0.537857</td>\n",
       "      <td>0.000000</td>\n",
       "    </tr>\n",
       "  </tbody>\n",
       "</table>\n",
       "</div>"
      ],
      "text/plain": [
       "         race_id  umaban  tansho_odds  popularity      pred  pred_calibrated  \\\n",
       "11  202505021011      12         15.1         6.0  0.086599         0.087001   \n",
       "10  202505021011      11        315.1        18.0  0.002484         0.004042   \n",
       "5   202505021011       6         78.7        12.0  0.012066         0.013120   \n",
       "0   202505021011       1          3.6         2.0  0.217735         0.230490   \n",
       "4   202505021011       5          3.6         2.0  0.210494         0.230490   \n",
       "8   202505021011       9          3.2         1.0  0.274215         0.256983   \n",
       "2   202505021011       3         18.5         7.0  0.043826         0.042511   \n",
       "6   202505021011       7         29.2         8.0  0.026873         0.026786   \n",
       "16  202505021011      17        186.1        14.0  0.004737         0.004042   \n",
       "9   202505021011      10         42.2         9.0  0.016519         0.015267   \n",
       "12  202505021011      13         48.4        10.0  0.014330         0.013120   \n",
       "17  202505021011      18         14.2         5.0  0.061849         0.042511   \n",
       "14  202505021011      15         14.0         4.0  0.067449         0.042511   \n",
       "3   202505021011       4        245.7        15.0  0.002370         0.002299   \n",
       "15  202505021011      16        127.6        13.0  0.005067         0.004042   \n",
       "13  202505021011      14         74.7        11.0  0.009856         0.004796   \n",
       "1   202505021011       2        309.0        17.0  0.001950         0.000000   \n",
       "7   202505021011       8        276.6        16.0  0.001945         0.000000   \n",
       "\n",
       "    expect_return  expect_return_calibrated  \n",
       "11       1.307640                  1.313715  \n",
       "10       0.782771                  1.273646  \n",
       "5        0.949561                  1.032507  \n",
       "0        0.783847                  0.829764  \n",
       "4        0.757780                  0.829764  \n",
       "8        0.877488                  0.822346  \n",
       "2        0.810774                  0.786462  \n",
       "6        0.784694                  0.782143  \n",
       "16       0.881629                  0.752223  \n",
       "9        0.697084                  0.644275  \n",
       "12       0.693595                  0.634985  \n",
       "17       0.878257                  0.603663  \n",
       "14       0.944279                  0.595160  \n",
       "3        0.582376                  0.564828  \n",
       "15       0.646508                  0.515764  \n",
       "13       0.736257                  0.358273  \n",
       "1        0.602703                  0.000000  \n",
       "7        0.537857                  0.000000  "
      ]
     },
     "execution_count": 42,
     "metadata": {},
     "output_type": "execute_result"
    }
   ],
   "source": [
    "# 予測\n",
    "prediction = predictioning.predict(\n",
    "    features,\n",
    "    # model_filename=\"model.pkl\",\n",
    "    # calibration_model_filename=\"calibration_model.pkl\",\n",
    "    model_filename=\"model_latest.pkl\",\n",
    "    calibration_model_filename=\"calibration_model_latest.pkl\",\n",
    "    config_filepath=\"config.yaml\",\n",
    "    sort_col=\"expect_return_calibrated\",\n",
    ")\n",
    "prediction"
   ]
  },
  {
   "cell_type": "code",
   "execution_count": 36,
   "metadata": {},
   "outputs": [
    {
     "data": {
      "text/html": [
       "<div>\n",
       "<style scoped>\n",
       "    .dataframe tbody tr th:only-of-type {\n",
       "        vertical-align: middle;\n",
       "    }\n",
       "\n",
       "    .dataframe tbody tr th {\n",
       "        vertical-align: top;\n",
       "    }\n",
       "\n",
       "    .dataframe thead th {\n",
       "        text-align: right;\n",
       "    }\n",
       "</style>\n",
       "<table border=\"1\" class=\"dataframe\">\n",
       "  <thead>\n",
       "    <tr style=\"text-align: right;\">\n",
       "      <th></th>\n",
       "      <th>race_id</th>\n",
       "      <th>umaban</th>\n",
       "      <th>tansho_odds</th>\n",
       "      <th>popularity</th>\n",
       "      <th>pred</th>\n",
       "      <th>pred_calibrated</th>\n",
       "      <th>expect_return</th>\n",
       "      <th>expect_return_calibrated</th>\n",
       "    </tr>\n",
       "  </thead>\n",
       "  <tbody>\n",
       "    <tr>\n",
       "      <th>17</th>\n",
       "      <td>202505021011</td>\n",
       "      <td>18</td>\n",
       "      <td>12.1</td>\n",
       "      <td>4.0</td>\n",
       "      <td>0.095485</td>\n",
       "      <td>0.082759</td>\n",
       "      <td>1.155368</td>\n",
       "      <td>1.001379</td>\n",
       "    </tr>\n",
       "    <tr>\n",
       "      <th>11</th>\n",
       "      <td>202505021011</td>\n",
       "      <td>12</td>\n",
       "      <td>16.5</td>\n",
       "      <td>7.0</td>\n",
       "      <td>0.067037</td>\n",
       "      <td>0.042679</td>\n",
       "      <td>1.106107</td>\n",
       "      <td>0.704209</td>\n",
       "    </tr>\n",
       "    <tr>\n",
       "      <th>8</th>\n",
       "      <td>202505021011</td>\n",
       "      <td>9</td>\n",
       "      <td>3.1</td>\n",
       "      <td>1.0</td>\n",
       "      <td>0.296057</td>\n",
       "      <td>0.267045</td>\n",
       "      <td>0.917777</td>\n",
       "      <td>0.827841</td>\n",
       "    </tr>\n",
       "    <tr>\n",
       "      <th>15</th>\n",
       "      <td>202505021011</td>\n",
       "      <td>16</td>\n",
       "      <td>91.2</td>\n",
       "      <td>13.0</td>\n",
       "      <td>0.009393</td>\n",
       "      <td>0.006039</td>\n",
       "      <td>0.856687</td>\n",
       "      <td>0.550725</td>\n",
       "    </tr>\n",
       "    <tr>\n",
       "      <th>14</th>\n",
       "      <td>202505021011</td>\n",
       "      <td>15</td>\n",
       "      <td>14.1</td>\n",
       "      <td>5.0</td>\n",
       "      <td>0.060425</td>\n",
       "      <td>0.042679</td>\n",
       "      <td>0.851994</td>\n",
       "      <td>0.601778</td>\n",
       "    </tr>\n",
       "    <tr>\n",
       "      <th>13</th>\n",
       "      <td>202505021011</td>\n",
       "      <td>14</td>\n",
       "      <td>55.9</td>\n",
       "      <td>11.0</td>\n",
       "      <td>0.015210</td>\n",
       "      <td>0.010357</td>\n",
       "      <td>0.850245</td>\n",
       "      <td>0.578941</td>\n",
       "    </tr>\n",
       "    <tr>\n",
       "      <th>5</th>\n",
       "      <td>202505021011</td>\n",
       "      <td>6</td>\n",
       "      <td>57.4</td>\n",
       "      <td>12.0</td>\n",
       "      <td>0.014602</td>\n",
       "      <td>0.010357</td>\n",
       "      <td>0.838168</td>\n",
       "      <td>0.594476</td>\n",
       "    </tr>\n",
       "    <tr>\n",
       "      <th>1</th>\n",
       "      <td>202505021011</td>\n",
       "      <td>2</td>\n",
       "      <td>190.1</td>\n",
       "      <td>17.0</td>\n",
       "      <td>0.004215</td>\n",
       "      <td>0.003851</td>\n",
       "      <td>0.801356</td>\n",
       "      <td>0.732092</td>\n",
       "    </tr>\n",
       "    <tr>\n",
       "      <th>2</th>\n",
       "      <td>202505021011</td>\n",
       "      <td>3</td>\n",
       "      <td>15.3</td>\n",
       "      <td>6.0</td>\n",
       "      <td>0.050208</td>\n",
       "      <td>0.042679</td>\n",
       "      <td>0.768180</td>\n",
       "      <td>0.652993</td>\n",
       "    </tr>\n",
       "    <tr>\n",
       "      <th>0</th>\n",
       "      <td>202505021011</td>\n",
       "      <td>1</td>\n",
       "      <td>4.0</td>\n",
       "      <td>2.0</td>\n",
       "      <td>0.191381</td>\n",
       "      <td>0.209756</td>\n",
       "      <td>0.765524</td>\n",
       "      <td>0.839024</td>\n",
       "    </tr>\n",
       "    <tr>\n",
       "      <th>6</th>\n",
       "      <td>202505021011</td>\n",
       "      <td>7</td>\n",
       "      <td>24.8</td>\n",
       "      <td>8.0</td>\n",
       "      <td>0.030814</td>\n",
       "      <td>0.027473</td>\n",
       "      <td>0.764178</td>\n",
       "      <td>0.681319</td>\n",
       "    </tr>\n",
       "    <tr>\n",
       "      <th>12</th>\n",
       "      <td>202505021011</td>\n",
       "      <td>13</td>\n",
       "      <td>40.2</td>\n",
       "      <td>10.0</td>\n",
       "      <td>0.018528</td>\n",
       "      <td>0.016529</td>\n",
       "      <td>0.744836</td>\n",
       "      <td>0.664463</td>\n",
       "    </tr>\n",
       "    <tr>\n",
       "      <th>4</th>\n",
       "      <td>202505021011</td>\n",
       "      <td>5</td>\n",
       "      <td>4.2</td>\n",
       "      <td>3.0</td>\n",
       "      <td>0.168196</td>\n",
       "      <td>0.165563</td>\n",
       "      <td>0.706423</td>\n",
       "      <td>0.695364</td>\n",
       "    </tr>\n",
       "    <tr>\n",
       "      <th>9</th>\n",
       "      <td>202505021011</td>\n",
       "      <td>10</td>\n",
       "      <td>33.1</td>\n",
       "      <td>9.0</td>\n",
       "      <td>0.021010</td>\n",
       "      <td>0.025126</td>\n",
       "      <td>0.695419</td>\n",
       "      <td>0.831658</td>\n",
       "    </tr>\n",
       "    <tr>\n",
       "      <th>7</th>\n",
       "      <td>202505021011</td>\n",
       "      <td>8</td>\n",
       "      <td>173.5</td>\n",
       "      <td>16.0</td>\n",
       "      <td>0.003837</td>\n",
       "      <td>0.003851</td>\n",
       "      <td>0.665655</td>\n",
       "      <td>0.668164</td>\n",
       "    </tr>\n",
       "    <tr>\n",
       "      <th>16</th>\n",
       "      <td>202505021011</td>\n",
       "      <td>17</td>\n",
       "      <td>127.8</td>\n",
       "      <td>14.0</td>\n",
       "      <td>0.005012</td>\n",
       "      <td>0.003901</td>\n",
       "      <td>0.640535</td>\n",
       "      <td>0.498570</td>\n",
       "    </tr>\n",
       "    <tr>\n",
       "      <th>10</th>\n",
       "      <td>202505021011</td>\n",
       "      <td>11</td>\n",
       "      <td>200.4</td>\n",
       "      <td>18.0</td>\n",
       "      <td>0.003125</td>\n",
       "      <td>0.000000</td>\n",
       "      <td>0.626267</td>\n",
       "      <td>0.000000</td>\n",
       "    </tr>\n",
       "    <tr>\n",
       "      <th>3</th>\n",
       "      <td>202505021011</td>\n",
       "      <td>4</td>\n",
       "      <td>148.9</td>\n",
       "      <td>15.0</td>\n",
       "      <td>0.003892</td>\n",
       "      <td>0.003851</td>\n",
       "      <td>0.579467</td>\n",
       "      <td>0.573427</td>\n",
       "    </tr>\n",
       "  </tbody>\n",
       "</table>\n",
       "</div>"
      ],
      "text/plain": [
       "         race_id  umaban  tansho_odds  popularity      pred  pred_calibrated  \\\n",
       "17  202505021011      18         12.1         4.0  0.095485         0.082759   \n",
       "11  202505021011      12         16.5         7.0  0.067037         0.042679   \n",
       "8   202505021011       9          3.1         1.0  0.296057         0.267045   \n",
       "15  202505021011      16         91.2        13.0  0.009393         0.006039   \n",
       "14  202505021011      15         14.1         5.0  0.060425         0.042679   \n",
       "13  202505021011      14         55.9        11.0  0.015210         0.010357   \n",
       "5   202505021011       6         57.4        12.0  0.014602         0.010357   \n",
       "1   202505021011       2        190.1        17.0  0.004215         0.003851   \n",
       "2   202505021011       3         15.3         6.0  0.050208         0.042679   \n",
       "0   202505021011       1          4.0         2.0  0.191381         0.209756   \n",
       "6   202505021011       7         24.8         8.0  0.030814         0.027473   \n",
       "12  202505021011      13         40.2        10.0  0.018528         0.016529   \n",
       "4   202505021011       5          4.2         3.0  0.168196         0.165563   \n",
       "9   202505021011      10         33.1         9.0  0.021010         0.025126   \n",
       "7   202505021011       8        173.5        16.0  0.003837         0.003851   \n",
       "16  202505021011      17        127.8        14.0  0.005012         0.003901   \n",
       "10  202505021011      11        200.4        18.0  0.003125         0.000000   \n",
       "3   202505021011       4        148.9        15.0  0.003892         0.003851   \n",
       "\n",
       "    expect_return  expect_return_calibrated  \n",
       "17       1.155368                  1.001379  \n",
       "11       1.106107                  0.704209  \n",
       "8        0.917777                  0.827841  \n",
       "15       0.856687                  0.550725  \n",
       "14       0.851994                  0.601778  \n",
       "13       0.850245                  0.578941  \n",
       "5        0.838168                  0.594476  \n",
       "1        0.801356                  0.732092  \n",
       "2        0.768180                  0.652993  \n",
       "0        0.765524                  0.839024  \n",
       "6        0.764178                  0.681319  \n",
       "12       0.744836                  0.664463  \n",
       "4        0.706423                  0.695364  \n",
       "9        0.695419                  0.831658  \n",
       "7        0.665655                  0.668164  \n",
       "16       0.640535                  0.498570  \n",
       "10       0.626267                  0.000000  \n",
       "3        0.579467                  0.573427  "
      ]
     },
     "execution_count": 36,
     "metadata": {},
     "output_type": "execute_result"
    }
   ],
   "source": [
    "# 予測\n",
    "prediction = predictioning.predict(\n",
    "    features,\n",
    "    model_filename=\"model_wr.pkl\",\n",
    "    calibration_model_filename=\"calibration_model_wr.pkl\",\n",
    "    config_filepath=\"config_wr.yaml\",\n",
    "    # model_filename=\"model.pkl\",   \n",
    "    # calibration_model_filename=\"calibration_model.pkl\",\n",
    "    sort_col=\"expect_return\",    \n",
    ")\n",
    "prediction"
   ]
  },
  {
   "cell_type": "markdown",
   "metadata": {},
   "source": [
    "# 一括で１日分のレースを予測する"
   ]
  },
  {
   "cell_type": "code",
   "execution_count": 15,
   "metadata": {},
   "outputs": [
    {
     "data": {
      "text/html": [
       "<div>\n",
       "<style scoped>\n",
       "    .dataframe tbody tr th:only-of-type {\n",
       "        vertical-align: middle;\n",
       "    }\n",
       "\n",
       "    .dataframe tbody tr th {\n",
       "        vertical-align: top;\n",
       "    }\n",
       "\n",
       "    .dataframe thead th {\n",
       "        text-align: right;\n",
       "    }\n",
       "</style>\n",
       "<table border=\"1\" class=\"dataframe\">\n",
       "  <thead>\n",
       "    <tr style=\"text-align: right;\">\n",
       "      <th></th>\n",
       "      <th>race_id</th>\n",
       "      <th>race_name</th>\n",
       "      <th>post_time</th>\n",
       "    </tr>\n",
       "  </thead>\n",
       "  <tbody>\n",
       "    <tr>\n",
       "      <th>0</th>\n",
       "      <td>202504010801</td>\n",
       "      <td>3歳未勝利</td>\n",
       "      <td>09:50</td>\n",
       "    </tr>\n",
       "    <tr>\n",
       "      <th>1</th>\n",
       "      <td>202508021001</td>\n",
       "      <td>3歳未勝利</td>\n",
       "      <td>09:55</td>\n",
       "    </tr>\n",
       "    <tr>\n",
       "      <th>2</th>\n",
       "      <td>202505021001</td>\n",
       "      <td>3歳未勝利</td>\n",
       "      <td>10:05</td>\n",
       "    </tr>\n",
       "    <tr>\n",
       "      <th>3</th>\n",
       "      <td>202504010802</td>\n",
       "      <td>3歳未勝利</td>\n",
       "      <td>10:15</td>\n",
       "    </tr>\n",
       "    <tr>\n",
       "      <th>4</th>\n",
       "      <td>202508021002</td>\n",
       "      <td>3歳未勝利</td>\n",
       "      <td>10:20</td>\n",
       "    </tr>\n",
       "    <tr>\n",
       "      <th>5</th>\n",
       "      <td>202505021002</td>\n",
       "      <td>3歳未勝利</td>\n",
       "      <td>10:30</td>\n",
       "    </tr>\n",
       "    <tr>\n",
       "      <th>6</th>\n",
       "      <td>202504010803</td>\n",
       "      <td>3歳未勝利</td>\n",
       "      <td>10:40</td>\n",
       "    </tr>\n",
       "    <tr>\n",
       "      <th>7</th>\n",
       "      <td>202508021003</td>\n",
       "      <td>3歳未勝利</td>\n",
       "      <td>10:50</td>\n",
       "    </tr>\n",
       "    <tr>\n",
       "      <th>8</th>\n",
       "      <td>202505021003</td>\n",
       "      <td>3歳未勝利</td>\n",
       "      <td>11:00</td>\n",
       "    </tr>\n",
       "    <tr>\n",
       "      <th>9</th>\n",
       "      <td>202504010804</td>\n",
       "      <td>4歳以上障害未勝利</td>\n",
       "      <td>11:10</td>\n",
       "    </tr>\n",
       "    <tr>\n",
       "      <th>10</th>\n",
       "      <td>202508021004</td>\n",
       "      <td>3歳未勝利</td>\n",
       "      <td>11:20</td>\n",
       "    </tr>\n",
       "    <tr>\n",
       "      <th>11</th>\n",
       "      <td>202505021004</td>\n",
       "      <td>3歳未勝利</td>\n",
       "      <td>11:30</td>\n",
       "    </tr>\n",
       "    <tr>\n",
       "      <th>12</th>\n",
       "      <td>202504010805</td>\n",
       "      <td>3歳未勝利</td>\n",
       "      <td>12:00</td>\n",
       "    </tr>\n",
       "    <tr>\n",
       "      <th>13</th>\n",
       "      <td>202508021005</td>\n",
       "      <td>3歳未勝利</td>\n",
       "      <td>12:10</td>\n",
       "    </tr>\n",
       "    <tr>\n",
       "      <th>14</th>\n",
       "      <td>202505021005</td>\n",
       "      <td>3歳未勝利</td>\n",
       "      <td>12:20</td>\n",
       "    </tr>\n",
       "    <tr>\n",
       "      <th>15</th>\n",
       "      <td>202504010806</td>\n",
       "      <td>3歳未勝利</td>\n",
       "      <td>12:30</td>\n",
       "    </tr>\n",
       "    <tr>\n",
       "      <th>16</th>\n",
       "      <td>202508021006</td>\n",
       "      <td>3歳1勝クラス</td>\n",
       "      <td>12:40</td>\n",
       "    </tr>\n",
       "    <tr>\n",
       "      <th>17</th>\n",
       "      <td>202505021006</td>\n",
       "      <td>3歳1勝クラス</td>\n",
       "      <td>12:50</td>\n",
       "    </tr>\n",
       "    <tr>\n",
       "      <th>18</th>\n",
       "      <td>202504010807</td>\n",
       "      <td>4歳以上1勝クラス</td>\n",
       "      <td>13:00</td>\n",
       "    </tr>\n",
       "    <tr>\n",
       "      <th>19</th>\n",
       "      <td>202508021007</td>\n",
       "      <td>3歳1勝クラス</td>\n",
       "      <td>13:10</td>\n",
       "    </tr>\n",
       "    <tr>\n",
       "      <th>20</th>\n",
       "      <td>202505021007</td>\n",
       "      <td>4歳以上1勝クラス</td>\n",
       "      <td>13:20</td>\n",
       "    </tr>\n",
       "    <tr>\n",
       "      <th>21</th>\n",
       "      <td>202504010808</td>\n",
       "      <td>4歳以上1勝クラス</td>\n",
       "      <td>13:30</td>\n",
       "    </tr>\n",
       "    <tr>\n",
       "      <th>22</th>\n",
       "      <td>202508021008</td>\n",
       "      <td>聖護院特別</td>\n",
       "      <td>13:40</td>\n",
       "    </tr>\n",
       "    <tr>\n",
       "      <th>23</th>\n",
       "      <td>202505021008</td>\n",
       "      <td>三峰山特別</td>\n",
       "      <td>13:50</td>\n",
       "    </tr>\n",
       "    <tr>\n",
       "      <th>24</th>\n",
       "      <td>202504010809</td>\n",
       "      <td>二王子特別</td>\n",
       "      <td>14:05</td>\n",
       "    </tr>\n",
       "    <tr>\n",
       "      <th>25</th>\n",
       "      <td>202508021009</td>\n",
       "      <td>4歳以上1勝クラス</td>\n",
       "      <td>14:15</td>\n",
       "    </tr>\n",
       "    <tr>\n",
       "      <th>26</th>\n",
       "      <td>202505021009</td>\n",
       "      <td>調布特別</td>\n",
       "      <td>14:25</td>\n",
       "    </tr>\n",
       "    <tr>\n",
       "      <th>27</th>\n",
       "      <td>202504010810</td>\n",
       "      <td>火打山特別</td>\n",
       "      <td>14:40</td>\n",
       "    </tr>\n",
       "    <tr>\n",
       "      <th>28</th>\n",
       "      <td>202508021010</td>\n",
       "      <td>高瀬川S</td>\n",
       "      <td>14:50</td>\n",
       "    </tr>\n",
       "    <tr>\n",
       "      <th>29</th>\n",
       "      <td>202505021010</td>\n",
       "      <td>フリーウェイ</td>\n",
       "      <td>15:00</td>\n",
       "    </tr>\n",
       "    <tr>\n",
       "      <th>30</th>\n",
       "      <td>202504010811</td>\n",
       "      <td>韋駄天S</td>\n",
       "      <td>15:20</td>\n",
       "    </tr>\n",
       "    <tr>\n",
       "      <th>31</th>\n",
       "      <td>202508021011</td>\n",
       "      <td>都大路S</td>\n",
       "      <td>15:30</td>\n",
       "    </tr>\n",
       "    <tr>\n",
       "      <th>32</th>\n",
       "      <td>202505021011</td>\n",
       "      <td>オークス</td>\n",
       "      <td>15:40</td>\n",
       "    </tr>\n",
       "    <tr>\n",
       "      <th>33</th>\n",
       "      <td>202504010812</td>\n",
       "      <td>4歳以上1勝クラス</td>\n",
       "      <td>16:00</td>\n",
       "    </tr>\n",
       "    <tr>\n",
       "      <th>34</th>\n",
       "      <td>202508021012</td>\n",
       "      <td>4歳以上2勝クラス</td>\n",
       "      <td>16:10</td>\n",
       "    </tr>\n",
       "    <tr>\n",
       "      <th>35</th>\n",
       "      <td>202505021012</td>\n",
       "      <td>丹沢S</td>\n",
       "      <td>16:30</td>\n",
       "    </tr>\n",
       "  </tbody>\n",
       "</table>\n",
       "</div>"
      ],
      "text/plain": [
       "         race_id  race_name post_time\n",
       "0   202504010801      3歳未勝利     09:50\n",
       "1   202508021001      3歳未勝利     09:55\n",
       "2   202505021001      3歳未勝利     10:05\n",
       "3   202504010802      3歳未勝利     10:15\n",
       "4   202508021002      3歳未勝利     10:20\n",
       "5   202505021002      3歳未勝利     10:30\n",
       "6   202504010803      3歳未勝利     10:40\n",
       "7   202508021003      3歳未勝利     10:50\n",
       "8   202505021003      3歳未勝利     11:00\n",
       "9   202504010804  4歳以上障害未勝利     11:10\n",
       "10  202508021004      3歳未勝利     11:20\n",
       "11  202505021004      3歳未勝利     11:30\n",
       "12  202504010805      3歳未勝利     12:00\n",
       "13  202508021005      3歳未勝利     12:10\n",
       "14  202505021005      3歳未勝利     12:20\n",
       "15  202504010806      3歳未勝利     12:30\n",
       "16  202508021006    3歳1勝クラス     12:40\n",
       "17  202505021006    3歳1勝クラス     12:50\n",
       "18  202504010807  4歳以上1勝クラス     13:00\n",
       "19  202508021007    3歳1勝クラス     13:10\n",
       "20  202505021007  4歳以上1勝クラス     13:20\n",
       "21  202504010808  4歳以上1勝クラス     13:30\n",
       "22  202508021008      聖護院特別     13:40\n",
       "23  202505021008      三峰山特別     13:50\n",
       "24  202504010809      二王子特別     14:05\n",
       "25  202508021009  4歳以上1勝クラス     14:15\n",
       "26  202505021009       調布特別     14:25\n",
       "27  202504010810      火打山特別     14:40\n",
       "28  202508021010       高瀬川S     14:50\n",
       "29  202505021010     フリーウェイ     15:00\n",
       "30  202504010811       韋駄天S     15:20\n",
       "31  202508021011       都大路S     15:30\n",
       "32  202505021011       オークス     15:40\n",
       "33  202504010812  4歳以上1勝クラス     16:00\n",
       "34  202508021012  4歳以上2勝クラス     16:10\n",
       "35  202505021012        丹沢S     16:30"
      ]
     },
     "execution_count": 15,
     "metadata": {},
     "output_type": "execute_result"
    }
   ],
   "source": [
    "post_time = await predictioning.scrape_race_time_table(kaisai_date=\"20250525\")\n",
    "post_time"
   ]
  },
  {
   "cell_type": "code",
   "execution_count": 16,
   "metadata": {},
   "outputs": [],
   "source": [
    "race_id_list = post_time[\"race_id\"].unique()"
   ]
  },
  {
   "cell_type": "code",
   "execution_count": 17,
   "metadata": {},
   "outputs": [
    {
     "data": {
      "application/vnd.jupyter.widget-view+json": {
       "model_id": "a1f8a75220294ba59d4b3d73ceb1e0a6",
       "version_major": 2,
       "version_minor": 0
      },
      "text/plain": [
       "agg_horse_n_races_relative:   0%|          | 0/5 [00:00<?, ?it/s]"
      ]
     },
     "metadata": {},
     "output_type": "display_data"
    },
    {
     "name": "stdout",
     "output_type": "stream",
     "text": [
      "running agg_interval()...\n",
      "fetching shubuta page html...\n"
     ]
    },
    {
     "data": {
      "application/vnd.jupyter.widget-view+json": {
       "model_id": "003952296971444d8d0d696b1cc098ed",
       "version_major": 2,
       "version_minor": 0
      },
      "text/plain": [
       "agg_horse_per_course_len:   0%|          | 0/6 [00:00<?, ?it/s]"
      ]
     },
     "metadata": {},
     "output_type": "display_data"
    },
    {
     "data": {
      "application/vnd.jupyter.widget-view+json": {
       "model_id": "36e4346dd07140ed863debd761fb941d",
       "version_major": 2,
       "version_minor": 0
      },
      "text/plain": [
       "agg_horse_per_ground_state_race_type:   0%|          | 0/6 [00:00<?, ?it/s]"
      ]
     },
     "metadata": {},
     "output_type": "display_data"
    },
    {
     "data": {
      "application/vnd.jupyter.widget-view+json": {
       "model_id": "4ff3653902b047b5b1751c42c28319f3",
       "version_major": 2,
       "version_minor": 0
      },
      "text/plain": [
       "agg_horse_per_race_class:   0%|          | 0/6 [00:00<?, ?it/s]"
      ]
     },
     "metadata": {},
     "output_type": "display_data"
    },
    {
     "data": {
      "application/vnd.jupyter.widget-view+json": {
       "model_id": "0410cc8fac644128ab64bc4d4815a7cd",
       "version_major": 2,
       "version_minor": 0
      },
      "text/plain": [
       "agg_horse_per_race_type:   0%|          | 0/6 [00:00<?, ?it/s]"
      ]
     },
     "metadata": {},
     "output_type": "display_data"
    },
    {
     "name": "stdout",
     "output_type": "stream",
     "text": [
      "running agg_jockey()...\n",
      "running agg_trainer()...\n",
      "running agg_sire()...\n",
      "running cross_feature()...\n",
      "merging all features...\n"
     ]
    },
    {
     "name": "stderr",
     "output_type": "stream",
     "text": [
      "/home/load0/競馬AI/keiba_race_ai/keiba_ai/3.1.0/src/feature_producing_prediction.py:677: FutureWarning: Passing literal html to 'read_html' is deprecated and will be removed in a future version. To read from a literal string, wrap it in a 'StringIO' object.\n",
      "  pd.read_html(html)[0][[\"馬番\", \"単勝\"]]\n"
     ]
    },
    {
     "data": {
      "application/vnd.jupyter.widget-view+json": {
       "model_id": "cba241cca1b8416eb1edc28e1b6c4c9a",
       "version_major": 2,
       "version_minor": 0
      },
      "text/plain": [
       "agg_horse_n_races_relative:   0%|          | 0/5 [00:00<?, ?it/s]"
      ]
     },
     "metadata": {},
     "output_type": "display_data"
    },
    {
     "name": "stdout",
     "output_type": "stream",
     "text": [
      "running agg_interval()...\n",
      "fetching shubuta page html...\n"
     ]
    },
    {
     "data": {
      "application/vnd.jupyter.widget-view+json": {
       "model_id": "7c7a97f87d8442f1bf3952529d692b46",
       "version_major": 2,
       "version_minor": 0
      },
      "text/plain": [
       "agg_horse_per_course_len:   0%|          | 0/6 [00:00<?, ?it/s]"
      ]
     },
     "metadata": {},
     "output_type": "display_data"
    },
    {
     "data": {
      "application/vnd.jupyter.widget-view+json": {
       "model_id": "f53f9553140748c6b8b630e0f6d3ab97",
       "version_major": 2,
       "version_minor": 0
      },
      "text/plain": [
       "agg_horse_per_ground_state_race_type:   0%|          | 0/6 [00:00<?, ?it/s]"
      ]
     },
     "metadata": {},
     "output_type": "display_data"
    },
    {
     "data": {
      "application/vnd.jupyter.widget-view+json": {
       "model_id": "b9d148a023d043a2ae27a37014804a8a",
       "version_major": 2,
       "version_minor": 0
      },
      "text/plain": [
       "agg_horse_per_race_class:   0%|          | 0/6 [00:00<?, ?it/s]"
      ]
     },
     "metadata": {},
     "output_type": "display_data"
    },
    {
     "data": {
      "application/vnd.jupyter.widget-view+json": {
       "model_id": "09167f905e7d471caa2a5ed8c5d5171e",
       "version_major": 2,
       "version_minor": 0
      },
      "text/plain": [
       "agg_horse_per_race_type:   0%|          | 0/6 [00:00<?, ?it/s]"
      ]
     },
     "metadata": {},
     "output_type": "display_data"
    },
    {
     "name": "stdout",
     "output_type": "stream",
     "text": [
      "running agg_jockey()...\n",
      "running agg_trainer()...\n",
      "running agg_sire()...\n",
      "running cross_feature()...\n",
      "merging all features...\n"
     ]
    },
    {
     "name": "stderr",
     "output_type": "stream",
     "text": [
      "/home/load0/競馬AI/keiba_race_ai/keiba_ai/3.1.0/src/feature_producing_prediction.py:677: FutureWarning: Passing literal html to 'read_html' is deprecated and will be removed in a future version. To read from a literal string, wrap it in a 'StringIO' object.\n",
      "  pd.read_html(html)[0][[\"馬番\", \"単勝\"]]\n"
     ]
    },
    {
     "data": {
      "application/vnd.jupyter.widget-view+json": {
       "model_id": "7eab2a5c809c446c9b773c492757f899",
       "version_major": 2,
       "version_minor": 0
      },
      "text/plain": [
       "agg_horse_n_races_relative:   0%|          | 0/5 [00:00<?, ?it/s]"
      ]
     },
     "metadata": {},
     "output_type": "display_data"
    },
    {
     "name": "stdout",
     "output_type": "stream",
     "text": [
      "running agg_interval()...\n",
      "fetching shubuta page html...\n"
     ]
    },
    {
     "data": {
      "application/vnd.jupyter.widget-view+json": {
       "model_id": "b2918f1c045e4303904650f88cf5a9e4",
       "version_major": 2,
       "version_minor": 0
      },
      "text/plain": [
       "agg_horse_per_course_len:   0%|          | 0/6 [00:00<?, ?it/s]"
      ]
     },
     "metadata": {},
     "output_type": "display_data"
    },
    {
     "data": {
      "application/vnd.jupyter.widget-view+json": {
       "model_id": "64dd6ccdce614d8386b3579460c4c28c",
       "version_major": 2,
       "version_minor": 0
      },
      "text/plain": [
       "agg_horse_per_ground_state_race_type:   0%|          | 0/6 [00:00<?, ?it/s]"
      ]
     },
     "metadata": {},
     "output_type": "display_data"
    },
    {
     "data": {
      "application/vnd.jupyter.widget-view+json": {
       "model_id": "c42d8be332f04830954efaf56d021dfa",
       "version_major": 2,
       "version_minor": 0
      },
      "text/plain": [
       "agg_horse_per_race_class:   0%|          | 0/6 [00:00<?, ?it/s]"
      ]
     },
     "metadata": {},
     "output_type": "display_data"
    },
    {
     "data": {
      "application/vnd.jupyter.widget-view+json": {
       "model_id": "dca1f79abe5a49a689946ad95b99876f",
       "version_major": 2,
       "version_minor": 0
      },
      "text/plain": [
       "agg_horse_per_race_type:   0%|          | 0/6 [00:00<?, ?it/s]"
      ]
     },
     "metadata": {},
     "output_type": "display_data"
    },
    {
     "name": "stdout",
     "output_type": "stream",
     "text": [
      "running agg_jockey()...\n",
      "running agg_trainer()...\n",
      "running agg_sire()...\n",
      "running cross_feature()...\n",
      "merging all features...\n"
     ]
    },
    {
     "name": "stderr",
     "output_type": "stream",
     "text": [
      "/home/load0/競馬AI/keiba_race_ai/keiba_ai/3.1.0/src/feature_producing_prediction.py:677: FutureWarning: Passing literal html to 'read_html' is deprecated and will be removed in a future version. To read from a literal string, wrap it in a 'StringIO' object.\n",
      "  pd.read_html(html)[0][[\"馬番\", \"単勝\"]]\n"
     ]
    },
    {
     "data": {
      "application/vnd.jupyter.widget-view+json": {
       "model_id": "40b638381b1f40a3b3c54b1724826a37",
       "version_major": 2,
       "version_minor": 0
      },
      "text/plain": [
       "agg_horse_n_races_relative:   0%|          | 0/5 [00:00<?, ?it/s]"
      ]
     },
     "metadata": {},
     "output_type": "display_data"
    },
    {
     "name": "stdout",
     "output_type": "stream",
     "text": [
      "running agg_interval()...\n",
      "fetching shubuta page html...\n"
     ]
    },
    {
     "data": {
      "application/vnd.jupyter.widget-view+json": {
       "model_id": "93d80c2330774563a95506bbe55360b3",
       "version_major": 2,
       "version_minor": 0
      },
      "text/plain": [
       "agg_horse_per_course_len:   0%|          | 0/6 [00:00<?, ?it/s]"
      ]
     },
     "metadata": {},
     "output_type": "display_data"
    },
    {
     "data": {
      "application/vnd.jupyter.widget-view+json": {
       "model_id": "c15890e5f8ea430c986730eba828a00b",
       "version_major": 2,
       "version_minor": 0
      },
      "text/plain": [
       "agg_horse_per_ground_state_race_type:   0%|          | 0/6 [00:00<?, ?it/s]"
      ]
     },
     "metadata": {},
     "output_type": "display_data"
    },
    {
     "data": {
      "application/vnd.jupyter.widget-view+json": {
       "model_id": "7342173d94a34dcc964167c876b7df6d",
       "version_major": 2,
       "version_minor": 0
      },
      "text/plain": [
       "agg_horse_per_race_class:   0%|          | 0/6 [00:00<?, ?it/s]"
      ]
     },
     "metadata": {},
     "output_type": "display_data"
    },
    {
     "data": {
      "application/vnd.jupyter.widget-view+json": {
       "model_id": "236cbacf7bd94ab681ea752bc594e737",
       "version_major": 2,
       "version_minor": 0
      },
      "text/plain": [
       "agg_horse_per_race_type:   0%|          | 0/6 [00:00<?, ?it/s]"
      ]
     },
     "metadata": {},
     "output_type": "display_data"
    },
    {
     "name": "stdout",
     "output_type": "stream",
     "text": [
      "running agg_jockey()...\n",
      "running agg_trainer()...\n",
      "running agg_sire()...\n",
      "running cross_feature()...\n",
      "merging all features...\n"
     ]
    },
    {
     "name": "stderr",
     "output_type": "stream",
     "text": [
      "/home/load0/競馬AI/keiba_race_ai/keiba_ai/3.1.0/src/feature_producing_prediction.py:677: FutureWarning: Passing literal html to 'read_html' is deprecated and will be removed in a future version. To read from a literal string, wrap it in a 'StringIO' object.\n",
      "  pd.read_html(html)[0][[\"馬番\", \"単勝\"]]\n"
     ]
    },
    {
     "data": {
      "application/vnd.jupyter.widget-view+json": {
       "model_id": "906b6f5660b740828c51dd22b5c999a3",
       "version_major": 2,
       "version_minor": 0
      },
      "text/plain": [
       "agg_horse_n_races_relative:   0%|          | 0/5 [00:00<?, ?it/s]"
      ]
     },
     "metadata": {},
     "output_type": "display_data"
    },
    {
     "name": "stdout",
     "output_type": "stream",
     "text": [
      "running agg_interval()...\n",
      "fetching shubuta page html...\n"
     ]
    },
    {
     "data": {
      "application/vnd.jupyter.widget-view+json": {
       "model_id": "b725a2a7fc564e478c888dc3657be831",
       "version_major": 2,
       "version_minor": 0
      },
      "text/plain": [
       "agg_horse_per_course_len:   0%|          | 0/6 [00:00<?, ?it/s]"
      ]
     },
     "metadata": {},
     "output_type": "display_data"
    },
    {
     "data": {
      "application/vnd.jupyter.widget-view+json": {
       "model_id": "4b0816a0cf40471ea105b1763c690a43",
       "version_major": 2,
       "version_minor": 0
      },
      "text/plain": [
       "agg_horse_per_ground_state_race_type:   0%|          | 0/6 [00:00<?, ?it/s]"
      ]
     },
     "metadata": {},
     "output_type": "display_data"
    },
    {
     "data": {
      "application/vnd.jupyter.widget-view+json": {
       "model_id": "b9beaa04b58a4053b31de82bad373e77",
       "version_major": 2,
       "version_minor": 0
      },
      "text/plain": [
       "agg_horse_per_race_class:   0%|          | 0/6 [00:00<?, ?it/s]"
      ]
     },
     "metadata": {},
     "output_type": "display_data"
    },
    {
     "data": {
      "application/vnd.jupyter.widget-view+json": {
       "model_id": "7c857697fb3d4ec5833ff64e6cbbd015",
       "version_major": 2,
       "version_minor": 0
      },
      "text/plain": [
       "agg_horse_per_race_type:   0%|          | 0/6 [00:00<?, ?it/s]"
      ]
     },
     "metadata": {},
     "output_type": "display_data"
    },
    {
     "name": "stdout",
     "output_type": "stream",
     "text": [
      "running agg_jockey()...\n",
      "running agg_trainer()...\n",
      "running agg_sire()...\n",
      "running cross_feature()...\n",
      "merging all features...\n"
     ]
    },
    {
     "name": "stderr",
     "output_type": "stream",
     "text": [
      "/home/load0/競馬AI/keiba_race_ai/keiba_ai/3.1.0/src/feature_producing_prediction.py:677: FutureWarning: Passing literal html to 'read_html' is deprecated and will be removed in a future version. To read from a literal string, wrap it in a 'StringIO' object.\n",
      "  pd.read_html(html)[0][[\"馬番\", \"単勝\"]]\n"
     ]
    },
    {
     "data": {
      "application/vnd.jupyter.widget-view+json": {
       "model_id": "a4f90a4377d3485daa9f6b0018a2d358",
       "version_major": 2,
       "version_minor": 0
      },
      "text/plain": [
       "agg_horse_n_races_relative:   0%|          | 0/5 [00:00<?, ?it/s]"
      ]
     },
     "metadata": {},
     "output_type": "display_data"
    },
    {
     "name": "stdout",
     "output_type": "stream",
     "text": [
      "running agg_interval()...\n",
      "fetching shubuta page html...\n"
     ]
    },
    {
     "data": {
      "application/vnd.jupyter.widget-view+json": {
       "model_id": "eacc507ab38541beaaee7e690efc5ad8",
       "version_major": 2,
       "version_minor": 0
      },
      "text/plain": [
       "agg_horse_per_course_len:   0%|          | 0/6 [00:00<?, ?it/s]"
      ]
     },
     "metadata": {},
     "output_type": "display_data"
    },
    {
     "data": {
      "application/vnd.jupyter.widget-view+json": {
       "model_id": "5a54014be32f480bb3dbf380fbdfea59",
       "version_major": 2,
       "version_minor": 0
      },
      "text/plain": [
       "agg_horse_per_ground_state_race_type:   0%|          | 0/6 [00:00<?, ?it/s]"
      ]
     },
     "metadata": {},
     "output_type": "display_data"
    },
    {
     "data": {
      "application/vnd.jupyter.widget-view+json": {
       "model_id": "665bfeec55f64e968c85bc80bddf9aab",
       "version_major": 2,
       "version_minor": 0
      },
      "text/plain": [
       "agg_horse_per_race_class:   0%|          | 0/6 [00:00<?, ?it/s]"
      ]
     },
     "metadata": {},
     "output_type": "display_data"
    },
    {
     "data": {
      "application/vnd.jupyter.widget-view+json": {
       "model_id": "045b7d1030604fb6884249038f447bfa",
       "version_major": 2,
       "version_minor": 0
      },
      "text/plain": [
       "agg_horse_per_race_type:   0%|          | 0/6 [00:00<?, ?it/s]"
      ]
     },
     "metadata": {},
     "output_type": "display_data"
    },
    {
     "name": "stdout",
     "output_type": "stream",
     "text": [
      "running agg_jockey()...\n",
      "running agg_trainer()...\n",
      "running agg_sire()...\n",
      "running cross_feature()...\n",
      "merging all features...\n"
     ]
    },
    {
     "name": "stderr",
     "output_type": "stream",
     "text": [
      "/home/load0/競馬AI/keiba_race_ai/keiba_ai/3.1.0/src/feature_producing_prediction.py:677: FutureWarning: Passing literal html to 'read_html' is deprecated and will be removed in a future version. To read from a literal string, wrap it in a 'StringIO' object.\n",
      "  pd.read_html(html)[0][[\"馬番\", \"単勝\"]]\n"
     ]
    },
    {
     "data": {
      "application/vnd.jupyter.widget-view+json": {
       "model_id": "18acdcad0e51426bb2c3f8729e5b0a50",
       "version_major": 2,
       "version_minor": 0
      },
      "text/plain": [
       "agg_horse_n_races_relative:   0%|          | 0/5 [00:00<?, ?it/s]"
      ]
     },
     "metadata": {},
     "output_type": "display_data"
    },
    {
     "name": "stdout",
     "output_type": "stream",
     "text": [
      "running agg_interval()...\n",
      "fetching shubuta page html...\n"
     ]
    },
    {
     "data": {
      "application/vnd.jupyter.widget-view+json": {
       "model_id": "4006e54cd2b54aa192445db498df9d0a",
       "version_major": 2,
       "version_minor": 0
      },
      "text/plain": [
       "agg_horse_per_course_len:   0%|          | 0/6 [00:00<?, ?it/s]"
      ]
     },
     "metadata": {},
     "output_type": "display_data"
    },
    {
     "data": {
      "application/vnd.jupyter.widget-view+json": {
       "model_id": "e5d8f891661b44ec9b25e126fcdb8117",
       "version_major": 2,
       "version_minor": 0
      },
      "text/plain": [
       "agg_horse_per_ground_state_race_type:   0%|          | 0/6 [00:00<?, ?it/s]"
      ]
     },
     "metadata": {},
     "output_type": "display_data"
    },
    {
     "data": {
      "application/vnd.jupyter.widget-view+json": {
       "model_id": "a9e673cf6a784a6eb59ae7c799af37f4",
       "version_major": 2,
       "version_minor": 0
      },
      "text/plain": [
       "agg_horse_per_race_class:   0%|          | 0/6 [00:00<?, ?it/s]"
      ]
     },
     "metadata": {},
     "output_type": "display_data"
    },
    {
     "data": {
      "application/vnd.jupyter.widget-view+json": {
       "model_id": "07de4a739dd14422884c6fe27191cee0",
       "version_major": 2,
       "version_minor": 0
      },
      "text/plain": [
       "agg_horse_per_race_type:   0%|          | 0/6 [00:00<?, ?it/s]"
      ]
     },
     "metadata": {},
     "output_type": "display_data"
    },
    {
     "name": "stdout",
     "output_type": "stream",
     "text": [
      "running agg_jockey()...\n",
      "running agg_trainer()...\n",
      "running agg_sire()...\n",
      "running cross_feature()...\n",
      "merging all features...\n"
     ]
    },
    {
     "name": "stderr",
     "output_type": "stream",
     "text": [
      "/home/load0/競馬AI/keiba_race_ai/keiba_ai/3.1.0/src/feature_producing_prediction.py:677: FutureWarning: Passing literal html to 'read_html' is deprecated and will be removed in a future version. To read from a literal string, wrap it in a 'StringIO' object.\n",
      "  pd.read_html(html)[0][[\"馬番\", \"単勝\"]]\n"
     ]
    },
    {
     "data": {
      "application/vnd.jupyter.widget-view+json": {
       "model_id": "0bece84e7e034950b5f666131deca42b",
       "version_major": 2,
       "version_minor": 0
      },
      "text/plain": [
       "agg_horse_n_races_relative:   0%|          | 0/5 [00:00<?, ?it/s]"
      ]
     },
     "metadata": {},
     "output_type": "display_data"
    },
    {
     "name": "stdout",
     "output_type": "stream",
     "text": [
      "running agg_interval()...\n",
      "fetching shubuta page html...\n"
     ]
    },
    {
     "data": {
      "application/vnd.jupyter.widget-view+json": {
       "model_id": "70bd3f4275924718b942a47738f19ec5",
       "version_major": 2,
       "version_minor": 0
      },
      "text/plain": [
       "agg_horse_per_course_len:   0%|          | 0/6 [00:00<?, ?it/s]"
      ]
     },
     "metadata": {},
     "output_type": "display_data"
    },
    {
     "data": {
      "application/vnd.jupyter.widget-view+json": {
       "model_id": "2330154bd3cb42cab8fdfe437bc8c091",
       "version_major": 2,
       "version_minor": 0
      },
      "text/plain": [
       "agg_horse_per_ground_state_race_type:   0%|          | 0/6 [00:00<?, ?it/s]"
      ]
     },
     "metadata": {},
     "output_type": "display_data"
    },
    {
     "data": {
      "application/vnd.jupyter.widget-view+json": {
       "model_id": "6fc1927316154514a571610256b22e97",
       "version_major": 2,
       "version_minor": 0
      },
      "text/plain": [
       "agg_horse_per_race_class:   0%|          | 0/6 [00:00<?, ?it/s]"
      ]
     },
     "metadata": {},
     "output_type": "display_data"
    },
    {
     "data": {
      "application/vnd.jupyter.widget-view+json": {
       "model_id": "96e8fb5e17ff4d1286bde850acdcfe67",
       "version_major": 2,
       "version_minor": 0
      },
      "text/plain": [
       "agg_horse_per_race_type:   0%|          | 0/6 [00:00<?, ?it/s]"
      ]
     },
     "metadata": {},
     "output_type": "display_data"
    },
    {
     "name": "stdout",
     "output_type": "stream",
     "text": [
      "running agg_jockey()...\n",
      "running agg_trainer()...\n",
      "running agg_sire()...\n",
      "running cross_feature()...\n",
      "merging all features...\n"
     ]
    },
    {
     "name": "stderr",
     "output_type": "stream",
     "text": [
      "/home/load0/競馬AI/keiba_race_ai/keiba_ai/3.1.0/src/feature_producing_prediction.py:677: FutureWarning: Passing literal html to 'read_html' is deprecated and will be removed in a future version. To read from a literal string, wrap it in a 'StringIO' object.\n",
      "  pd.read_html(html)[0][[\"馬番\", \"単勝\"]]\n"
     ]
    },
    {
     "data": {
      "application/vnd.jupyter.widget-view+json": {
       "model_id": "41421c5022b34406acb49d7607dea8c9",
       "version_major": 2,
       "version_minor": 0
      },
      "text/plain": [
       "agg_horse_n_races_relative:   0%|          | 0/5 [00:00<?, ?it/s]"
      ]
     },
     "metadata": {},
     "output_type": "display_data"
    },
    {
     "name": "stdout",
     "output_type": "stream",
     "text": [
      "running agg_interval()...\n",
      "fetching shubuta page html...\n"
     ]
    },
    {
     "data": {
      "application/vnd.jupyter.widget-view+json": {
       "model_id": "9c831ad7d5dd4e07a803de62a639d8b4",
       "version_major": 2,
       "version_minor": 0
      },
      "text/plain": [
       "agg_horse_per_course_len:   0%|          | 0/6 [00:00<?, ?it/s]"
      ]
     },
     "metadata": {},
     "output_type": "display_data"
    },
    {
     "data": {
      "application/vnd.jupyter.widget-view+json": {
       "model_id": "308ae6212a824f60991642384279c7df",
       "version_major": 2,
       "version_minor": 0
      },
      "text/plain": [
       "agg_horse_per_ground_state_race_type:   0%|          | 0/6 [00:00<?, ?it/s]"
      ]
     },
     "metadata": {},
     "output_type": "display_data"
    },
    {
     "data": {
      "application/vnd.jupyter.widget-view+json": {
       "model_id": "1c64b90fae9743a489403d66c8dc27e4",
       "version_major": 2,
       "version_minor": 0
      },
      "text/plain": [
       "agg_horse_per_race_class:   0%|          | 0/6 [00:00<?, ?it/s]"
      ]
     },
     "metadata": {},
     "output_type": "display_data"
    },
    {
     "data": {
      "application/vnd.jupyter.widget-view+json": {
       "model_id": "4258ac76dad64a418f0e6f9c32e5621f",
       "version_major": 2,
       "version_minor": 0
      },
      "text/plain": [
       "agg_horse_per_race_type:   0%|          | 0/6 [00:00<?, ?it/s]"
      ]
     },
     "metadata": {},
     "output_type": "display_data"
    },
    {
     "name": "stdout",
     "output_type": "stream",
     "text": [
      "running agg_jockey()...\n",
      "running agg_trainer()...\n",
      "running agg_sire()...\n",
      "running cross_feature()...\n",
      "merging all features...\n"
     ]
    },
    {
     "name": "stderr",
     "output_type": "stream",
     "text": [
      "/home/load0/競馬AI/keiba_race_ai/keiba_ai/3.1.0/src/feature_producing_prediction.py:677: FutureWarning: Passing literal html to 'read_html' is deprecated and will be removed in a future version. To read from a literal string, wrap it in a 'StringIO' object.\n",
      "  pd.read_html(html)[0][[\"馬番\", \"単勝\"]]\n"
     ]
    },
    {
     "data": {
      "application/vnd.jupyter.widget-view+json": {
       "model_id": "b615b9429eb349cf96d038720895b943",
       "version_major": 2,
       "version_minor": 0
      },
      "text/plain": [
       "agg_horse_n_races_relative:   0%|          | 0/5 [00:00<?, ?it/s]"
      ]
     },
     "metadata": {},
     "output_type": "display_data"
    },
    {
     "name": "stdout",
     "output_type": "stream",
     "text": [
      "running agg_interval()...\n",
      "fetching shubuta page html...\n"
     ]
    },
    {
     "data": {
      "application/vnd.jupyter.widget-view+json": {
       "model_id": "227dd45395284f03aa374051fc4d7401",
       "version_major": 2,
       "version_minor": 0
      },
      "text/plain": [
       "agg_horse_per_course_len:   0%|          | 0/6 [00:00<?, ?it/s]"
      ]
     },
     "metadata": {},
     "output_type": "display_data"
    },
    {
     "data": {
      "application/vnd.jupyter.widget-view+json": {
       "model_id": "947fd872318d49ad98bd7a921896ac5f",
       "version_major": 2,
       "version_minor": 0
      },
      "text/plain": [
       "agg_horse_per_ground_state_race_type:   0%|          | 0/6 [00:00<?, ?it/s]"
      ]
     },
     "metadata": {},
     "output_type": "display_data"
    },
    {
     "data": {
      "application/vnd.jupyter.widget-view+json": {
       "model_id": "8bf6a5ec772d412aa93d347122898dd6",
       "version_major": 2,
       "version_minor": 0
      },
      "text/plain": [
       "agg_horse_per_race_class:   0%|          | 0/6 [00:00<?, ?it/s]"
      ]
     },
     "metadata": {},
     "output_type": "display_data"
    },
    {
     "data": {
      "application/vnd.jupyter.widget-view+json": {
       "model_id": "5523ec6e490a484c939427ded44a117e",
       "version_major": 2,
       "version_minor": 0
      },
      "text/plain": [
       "agg_horse_per_race_type:   0%|          | 0/6 [00:00<?, ?it/s]"
      ]
     },
     "metadata": {},
     "output_type": "display_data"
    },
    {
     "name": "stdout",
     "output_type": "stream",
     "text": [
      "running agg_jockey()...\n",
      "running agg_trainer()...\n",
      "running agg_sire()...\n",
      "running cross_feature()...\n",
      "merging all features...\n"
     ]
    },
    {
     "name": "stderr",
     "output_type": "stream",
     "text": [
      "/home/load0/競馬AI/keiba_race_ai/keiba_ai/3.1.0/src/feature_producing_prediction.py:677: FutureWarning: Passing literal html to 'read_html' is deprecated and will be removed in a future version. To read from a literal string, wrap it in a 'StringIO' object.\n",
      "  pd.read_html(html)[0][[\"馬番\", \"単勝\"]]\n"
     ]
    },
    {
     "data": {
      "application/vnd.jupyter.widget-view+json": {
       "model_id": "b9285451ac544fbaba5ba0824db31999",
       "version_major": 2,
       "version_minor": 0
      },
      "text/plain": [
       "agg_horse_n_races_relative:   0%|          | 0/5 [00:00<?, ?it/s]"
      ]
     },
     "metadata": {},
     "output_type": "display_data"
    },
    {
     "name": "stdout",
     "output_type": "stream",
     "text": [
      "running agg_interval()...\n",
      "fetching shubuta page html...\n"
     ]
    },
    {
     "data": {
      "application/vnd.jupyter.widget-view+json": {
       "model_id": "151824e0d8f344e692e363a5cba80a9b",
       "version_major": 2,
       "version_minor": 0
      },
      "text/plain": [
       "agg_horse_per_course_len:   0%|          | 0/6 [00:00<?, ?it/s]"
      ]
     },
     "metadata": {},
     "output_type": "display_data"
    },
    {
     "data": {
      "application/vnd.jupyter.widget-view+json": {
       "model_id": "baf50d65db3945f2be46cb0dfbc89273",
       "version_major": 2,
       "version_minor": 0
      },
      "text/plain": [
       "agg_horse_per_ground_state_race_type:   0%|          | 0/6 [00:00<?, ?it/s]"
      ]
     },
     "metadata": {},
     "output_type": "display_data"
    },
    {
     "data": {
      "application/vnd.jupyter.widget-view+json": {
       "model_id": "ba6c4c30b5cf40d9a8069a917404719b",
       "version_major": 2,
       "version_minor": 0
      },
      "text/plain": [
       "agg_horse_per_race_class:   0%|          | 0/6 [00:00<?, ?it/s]"
      ]
     },
     "metadata": {},
     "output_type": "display_data"
    },
    {
     "data": {
      "application/vnd.jupyter.widget-view+json": {
       "model_id": "c49720df7f6c432f8a4a3c96218a05ed",
       "version_major": 2,
       "version_minor": 0
      },
      "text/plain": [
       "agg_horse_per_race_type:   0%|          | 0/6 [00:00<?, ?it/s]"
      ]
     },
     "metadata": {},
     "output_type": "display_data"
    },
    {
     "name": "stdout",
     "output_type": "stream",
     "text": [
      "running agg_jockey()...\n",
      "running agg_trainer()...\n",
      "running agg_sire()...\n",
      "running cross_feature()...\n",
      "merging all features...\n"
     ]
    },
    {
     "name": "stderr",
     "output_type": "stream",
     "text": [
      "/home/load0/競馬AI/keiba_race_ai/keiba_ai/3.1.0/src/feature_producing_prediction.py:677: FutureWarning: Passing literal html to 'read_html' is deprecated and will be removed in a future version. To read from a literal string, wrap it in a 'StringIO' object.\n",
      "  pd.read_html(html)[0][[\"馬番\", \"単勝\"]]\n"
     ]
    },
    {
     "data": {
      "application/vnd.jupyter.widget-view+json": {
       "model_id": "63ec6e1db604495590791a8198bc5baa",
       "version_major": 2,
       "version_minor": 0
      },
      "text/plain": [
       "agg_horse_n_races_relative:   0%|          | 0/5 [00:00<?, ?it/s]"
      ]
     },
     "metadata": {},
     "output_type": "display_data"
    },
    {
     "name": "stdout",
     "output_type": "stream",
     "text": [
      "running agg_interval()...\n",
      "fetching shubuta page html...\n"
     ]
    },
    {
     "data": {
      "application/vnd.jupyter.widget-view+json": {
       "model_id": "d1eda714ea8f4e8186b7636956bd8297",
       "version_major": 2,
       "version_minor": 0
      },
      "text/plain": [
       "agg_horse_per_course_len:   0%|          | 0/6 [00:00<?, ?it/s]"
      ]
     },
     "metadata": {},
     "output_type": "display_data"
    },
    {
     "data": {
      "application/vnd.jupyter.widget-view+json": {
       "model_id": "de4fd507ada04882bf9d9ec14520a977",
       "version_major": 2,
       "version_minor": 0
      },
      "text/plain": [
       "agg_horse_per_ground_state_race_type:   0%|          | 0/6 [00:00<?, ?it/s]"
      ]
     },
     "metadata": {},
     "output_type": "display_data"
    },
    {
     "data": {
      "application/vnd.jupyter.widget-view+json": {
       "model_id": "c88fa834b68b4302851a097db8b3dec8",
       "version_major": 2,
       "version_minor": 0
      },
      "text/plain": [
       "agg_horse_per_race_class:   0%|          | 0/6 [00:00<?, ?it/s]"
      ]
     },
     "metadata": {},
     "output_type": "display_data"
    },
    {
     "data": {
      "application/vnd.jupyter.widget-view+json": {
       "model_id": "ea8341f7ff754de3840fd5860ab46a3d",
       "version_major": 2,
       "version_minor": 0
      },
      "text/plain": [
       "agg_horse_per_race_type:   0%|          | 0/6 [00:00<?, ?it/s]"
      ]
     },
     "metadata": {},
     "output_type": "display_data"
    },
    {
     "name": "stdout",
     "output_type": "stream",
     "text": [
      "running agg_jockey()...\n",
      "running agg_trainer()...\n",
      "running agg_sire()...\n",
      "running cross_feature()...\n",
      "merging all features...\n"
     ]
    },
    {
     "name": "stderr",
     "output_type": "stream",
     "text": [
      "/home/load0/競馬AI/keiba_race_ai/keiba_ai/3.1.0/src/feature_producing_prediction.py:677: FutureWarning: Passing literal html to 'read_html' is deprecated and will be removed in a future version. To read from a literal string, wrap it in a 'StringIO' object.\n",
      "  pd.read_html(html)[0][[\"馬番\", \"単勝\"]]\n"
     ]
    },
    {
     "data": {
      "application/vnd.jupyter.widget-view+json": {
       "model_id": "edf7ca021c824b37b2379589936917da",
       "version_major": 2,
       "version_minor": 0
      },
      "text/plain": [
       "agg_horse_n_races_relative:   0%|          | 0/5 [00:00<?, ?it/s]"
      ]
     },
     "metadata": {},
     "output_type": "display_data"
    },
    {
     "name": "stdout",
     "output_type": "stream",
     "text": [
      "running agg_interval()...\n",
      "fetching shubuta page html...\n"
     ]
    },
    {
     "data": {
      "application/vnd.jupyter.widget-view+json": {
       "model_id": "959e04740b4548e99c85a8037338dbeb",
       "version_major": 2,
       "version_minor": 0
      },
      "text/plain": [
       "agg_horse_per_course_len:   0%|          | 0/6 [00:00<?, ?it/s]"
      ]
     },
     "metadata": {},
     "output_type": "display_data"
    },
    {
     "data": {
      "application/vnd.jupyter.widget-view+json": {
       "model_id": "2b0a6ca8997845bca7e8a4a28be8128a",
       "version_major": 2,
       "version_minor": 0
      },
      "text/plain": [
       "agg_horse_per_ground_state_race_type:   0%|          | 0/6 [00:00<?, ?it/s]"
      ]
     },
     "metadata": {},
     "output_type": "display_data"
    },
    {
     "data": {
      "application/vnd.jupyter.widget-view+json": {
       "model_id": "243e6faa3f2e45919793f409285cbcb8",
       "version_major": 2,
       "version_minor": 0
      },
      "text/plain": [
       "agg_horse_per_race_class:   0%|          | 0/6 [00:00<?, ?it/s]"
      ]
     },
     "metadata": {},
     "output_type": "display_data"
    },
    {
     "data": {
      "application/vnd.jupyter.widget-view+json": {
       "model_id": "120ace6766e44b8a82b55123cbc5c0bc",
       "version_major": 2,
       "version_minor": 0
      },
      "text/plain": [
       "agg_horse_per_race_type:   0%|          | 0/6 [00:00<?, ?it/s]"
      ]
     },
     "metadata": {},
     "output_type": "display_data"
    },
    {
     "name": "stdout",
     "output_type": "stream",
     "text": [
      "running agg_jockey()...\n",
      "running agg_trainer()...\n",
      "running agg_sire()...\n",
      "running cross_feature()...\n",
      "merging all features...\n"
     ]
    },
    {
     "name": "stderr",
     "output_type": "stream",
     "text": [
      "/home/load0/競馬AI/keiba_race_ai/keiba_ai/3.1.0/src/feature_producing_prediction.py:677: FutureWarning: Passing literal html to 'read_html' is deprecated and will be removed in a future version. To read from a literal string, wrap it in a 'StringIO' object.\n",
      "  pd.read_html(html)[0][[\"馬番\", \"単勝\"]]\n"
     ]
    },
    {
     "data": {
      "application/vnd.jupyter.widget-view+json": {
       "model_id": "2cc59616620643d6a3a7dd9d6ae9d7fa",
       "version_major": 2,
       "version_minor": 0
      },
      "text/plain": [
       "agg_horse_n_races_relative:   0%|          | 0/5 [00:00<?, ?it/s]"
      ]
     },
     "metadata": {},
     "output_type": "display_data"
    },
    {
     "name": "stdout",
     "output_type": "stream",
     "text": [
      "running agg_interval()...\n",
      "fetching shubuta page html...\n"
     ]
    },
    {
     "data": {
      "application/vnd.jupyter.widget-view+json": {
       "model_id": "085ed1d9e5004582a08875ce5a82f233",
       "version_major": 2,
       "version_minor": 0
      },
      "text/plain": [
       "agg_horse_per_course_len:   0%|          | 0/6 [00:00<?, ?it/s]"
      ]
     },
     "metadata": {},
     "output_type": "display_data"
    },
    {
     "data": {
      "application/vnd.jupyter.widget-view+json": {
       "model_id": "14cb409fd088446abb3baf0bbe8a48e2",
       "version_major": 2,
       "version_minor": 0
      },
      "text/plain": [
       "agg_horse_per_ground_state_race_type:   0%|          | 0/6 [00:00<?, ?it/s]"
      ]
     },
     "metadata": {},
     "output_type": "display_data"
    },
    {
     "data": {
      "application/vnd.jupyter.widget-view+json": {
       "model_id": "8db27a95ddd041f6aa9d8e4a66b80309",
       "version_major": 2,
       "version_minor": 0
      },
      "text/plain": [
       "agg_horse_per_race_class:   0%|          | 0/6 [00:00<?, ?it/s]"
      ]
     },
     "metadata": {},
     "output_type": "display_data"
    },
    {
     "data": {
      "application/vnd.jupyter.widget-view+json": {
       "model_id": "083dc9ecca544387a8fb9f181909eca0",
       "version_major": 2,
       "version_minor": 0
      },
      "text/plain": [
       "agg_horse_per_race_type:   0%|          | 0/6 [00:00<?, ?it/s]"
      ]
     },
     "metadata": {},
     "output_type": "display_data"
    },
    {
     "name": "stdout",
     "output_type": "stream",
     "text": [
      "running agg_jockey()...\n",
      "running agg_trainer()...\n",
      "running agg_sire()...\n",
      "running cross_feature()...\n",
      "merging all features...\n"
     ]
    },
    {
     "name": "stderr",
     "output_type": "stream",
     "text": [
      "/home/load0/競馬AI/keiba_race_ai/keiba_ai/3.1.0/src/feature_producing_prediction.py:677: FutureWarning: Passing literal html to 'read_html' is deprecated and will be removed in a future version. To read from a literal string, wrap it in a 'StringIO' object.\n",
      "  pd.read_html(html)[0][[\"馬番\", \"単勝\"]]\n"
     ]
    },
    {
     "data": {
      "application/vnd.jupyter.widget-view+json": {
       "model_id": "1b25edd7bcc747b8b2ab3bd9f4302207",
       "version_major": 2,
       "version_minor": 0
      },
      "text/plain": [
       "agg_horse_n_races_relative:   0%|          | 0/5 [00:00<?, ?it/s]"
      ]
     },
     "metadata": {},
     "output_type": "display_data"
    },
    {
     "name": "stdout",
     "output_type": "stream",
     "text": [
      "running agg_interval()...\n",
      "fetching shubuta page html...\n"
     ]
    },
    {
     "data": {
      "application/vnd.jupyter.widget-view+json": {
       "model_id": "d003bc279a294d9f9730ca6159276d2b",
       "version_major": 2,
       "version_minor": 0
      },
      "text/plain": [
       "agg_horse_per_course_len:   0%|          | 0/6 [00:00<?, ?it/s]"
      ]
     },
     "metadata": {},
     "output_type": "display_data"
    },
    {
     "data": {
      "application/vnd.jupyter.widget-view+json": {
       "model_id": "f60a629c6b0944ecb79021e455c42a26",
       "version_major": 2,
       "version_minor": 0
      },
      "text/plain": [
       "agg_horse_per_ground_state_race_type:   0%|          | 0/6 [00:00<?, ?it/s]"
      ]
     },
     "metadata": {},
     "output_type": "display_data"
    },
    {
     "data": {
      "application/vnd.jupyter.widget-view+json": {
       "model_id": "ada25dab92a441318f1cd527ec3a424b",
       "version_major": 2,
       "version_minor": 0
      },
      "text/plain": [
       "agg_horse_per_race_class:   0%|          | 0/6 [00:00<?, ?it/s]"
      ]
     },
     "metadata": {},
     "output_type": "display_data"
    },
    {
     "data": {
      "application/vnd.jupyter.widget-view+json": {
       "model_id": "0e726a31406b436ba863627ccad7a9ba",
       "version_major": 2,
       "version_minor": 0
      },
      "text/plain": [
       "agg_horse_per_race_type:   0%|          | 0/6 [00:00<?, ?it/s]"
      ]
     },
     "metadata": {},
     "output_type": "display_data"
    },
    {
     "name": "stdout",
     "output_type": "stream",
     "text": [
      "running agg_jockey()...\n",
      "running agg_trainer()...\n",
      "running agg_sire()...\n",
      "running cross_feature()...\n",
      "merging all features...\n"
     ]
    },
    {
     "name": "stderr",
     "output_type": "stream",
     "text": [
      "/home/load0/競馬AI/keiba_race_ai/keiba_ai/3.1.0/src/feature_producing_prediction.py:677: FutureWarning: Passing literal html to 'read_html' is deprecated and will be removed in a future version. To read from a literal string, wrap it in a 'StringIO' object.\n",
      "  pd.read_html(html)[0][[\"馬番\", \"単勝\"]]\n"
     ]
    },
    {
     "data": {
      "application/vnd.jupyter.widget-view+json": {
       "model_id": "9a8bb96183bb4754b3b12249d75c90fd",
       "version_major": 2,
       "version_minor": 0
      },
      "text/plain": [
       "agg_horse_n_races_relative:   0%|          | 0/5 [00:00<?, ?it/s]"
      ]
     },
     "metadata": {},
     "output_type": "display_data"
    },
    {
     "name": "stdout",
     "output_type": "stream",
     "text": [
      "running agg_interval()...\n",
      "fetching shubuta page html...\n"
     ]
    },
    {
     "data": {
      "application/vnd.jupyter.widget-view+json": {
       "model_id": "dd368c79a1b746aeb806619a988f9642",
       "version_major": 2,
       "version_minor": 0
      },
      "text/plain": [
       "agg_horse_per_course_len:   0%|          | 0/6 [00:00<?, ?it/s]"
      ]
     },
     "metadata": {},
     "output_type": "display_data"
    },
    {
     "data": {
      "application/vnd.jupyter.widget-view+json": {
       "model_id": "5acf893161cb4c76b96047d32535610b",
       "version_major": 2,
       "version_minor": 0
      },
      "text/plain": [
       "agg_horse_per_ground_state_race_type:   0%|          | 0/6 [00:00<?, ?it/s]"
      ]
     },
     "metadata": {},
     "output_type": "display_data"
    },
    {
     "data": {
      "application/vnd.jupyter.widget-view+json": {
       "model_id": "6a8ebbf1c52142cfb81c15268518a2eb",
       "version_major": 2,
       "version_minor": 0
      },
      "text/plain": [
       "agg_horse_per_race_class:   0%|          | 0/6 [00:00<?, ?it/s]"
      ]
     },
     "metadata": {},
     "output_type": "display_data"
    },
    {
     "data": {
      "application/vnd.jupyter.widget-view+json": {
       "model_id": "12c5d8d2a53f4057a67adac7ebfdb9b0",
       "version_major": 2,
       "version_minor": 0
      },
      "text/plain": [
       "agg_horse_per_race_type:   0%|          | 0/6 [00:00<?, ?it/s]"
      ]
     },
     "metadata": {},
     "output_type": "display_data"
    },
    {
     "name": "stdout",
     "output_type": "stream",
     "text": [
      "running agg_jockey()...\n",
      "running agg_trainer()...\n",
      "running agg_sire()...\n",
      "running cross_feature()...\n",
      "merging all features...\n"
     ]
    },
    {
     "name": "stderr",
     "output_type": "stream",
     "text": [
      "/home/load0/競馬AI/keiba_race_ai/keiba_ai/3.1.0/src/feature_producing_prediction.py:677: FutureWarning: Passing literal html to 'read_html' is deprecated and will be removed in a future version. To read from a literal string, wrap it in a 'StringIO' object.\n",
      "  pd.read_html(html)[0][[\"馬番\", \"単勝\"]]\n"
     ]
    },
    {
     "data": {
      "application/vnd.jupyter.widget-view+json": {
       "model_id": "29ea6efff36348cfb6311cf651351c21",
       "version_major": 2,
       "version_minor": 0
      },
      "text/plain": [
       "agg_horse_n_races_relative:   0%|          | 0/5 [00:00<?, ?it/s]"
      ]
     },
     "metadata": {},
     "output_type": "display_data"
    },
    {
     "name": "stdout",
     "output_type": "stream",
     "text": [
      "running agg_interval()...\n",
      "fetching shubuta page html...\n"
     ]
    },
    {
     "data": {
      "application/vnd.jupyter.widget-view+json": {
       "model_id": "c9248198cd634b27b5dd85a84635d29b",
       "version_major": 2,
       "version_minor": 0
      },
      "text/plain": [
       "agg_horse_per_course_len:   0%|          | 0/6 [00:00<?, ?it/s]"
      ]
     },
     "metadata": {},
     "output_type": "display_data"
    },
    {
     "data": {
      "application/vnd.jupyter.widget-view+json": {
       "model_id": "d71f47156541460b92d364a58ccaab75",
       "version_major": 2,
       "version_minor": 0
      },
      "text/plain": [
       "agg_horse_per_ground_state_race_type:   0%|          | 0/6 [00:00<?, ?it/s]"
      ]
     },
     "metadata": {},
     "output_type": "display_data"
    },
    {
     "data": {
      "application/vnd.jupyter.widget-view+json": {
       "model_id": "3a5db78d81a845daa3e03ed2429202ca",
       "version_major": 2,
       "version_minor": 0
      },
      "text/plain": [
       "agg_horse_per_race_class:   0%|          | 0/6 [00:00<?, ?it/s]"
      ]
     },
     "metadata": {},
     "output_type": "display_data"
    },
    {
     "data": {
      "application/vnd.jupyter.widget-view+json": {
       "model_id": "d729d3f03d9249528888fcd798c29964",
       "version_major": 2,
       "version_minor": 0
      },
      "text/plain": [
       "agg_horse_per_race_type:   0%|          | 0/6 [00:00<?, ?it/s]"
      ]
     },
     "metadata": {},
     "output_type": "display_data"
    },
    {
     "name": "stdout",
     "output_type": "stream",
     "text": [
      "running agg_jockey()...\n",
      "running agg_trainer()...\n",
      "running agg_sire()...\n",
      "running cross_feature()...\n",
      "merging all features...\n"
     ]
    },
    {
     "name": "stderr",
     "output_type": "stream",
     "text": [
      "/home/load0/競馬AI/keiba_race_ai/keiba_ai/3.1.0/src/feature_producing_prediction.py:677: FutureWarning: Passing literal html to 'read_html' is deprecated and will be removed in a future version. To read from a literal string, wrap it in a 'StringIO' object.\n",
      "  pd.read_html(html)[0][[\"馬番\", \"単勝\"]]\n"
     ]
    },
    {
     "data": {
      "application/vnd.jupyter.widget-view+json": {
       "model_id": "e39208a5890d4b69a6d60813a8034d3f",
       "version_major": 2,
       "version_minor": 0
      },
      "text/plain": [
       "agg_horse_n_races_relative:   0%|          | 0/5 [00:00<?, ?it/s]"
      ]
     },
     "metadata": {},
     "output_type": "display_data"
    },
    {
     "name": "stdout",
     "output_type": "stream",
     "text": [
      "running agg_interval()...\n",
      "fetching shubuta page html...\n"
     ]
    },
    {
     "data": {
      "application/vnd.jupyter.widget-view+json": {
       "model_id": "335b8f6cbd6544668011a95f8df35228",
       "version_major": 2,
       "version_minor": 0
      },
      "text/plain": [
       "agg_horse_per_course_len:   0%|          | 0/6 [00:00<?, ?it/s]"
      ]
     },
     "metadata": {},
     "output_type": "display_data"
    },
    {
     "data": {
      "application/vnd.jupyter.widget-view+json": {
       "model_id": "03211ca260d649e5bd1a1d3aef2072b1",
       "version_major": 2,
       "version_minor": 0
      },
      "text/plain": [
       "agg_horse_per_ground_state_race_type:   0%|          | 0/6 [00:00<?, ?it/s]"
      ]
     },
     "metadata": {},
     "output_type": "display_data"
    },
    {
     "data": {
      "application/vnd.jupyter.widget-view+json": {
       "model_id": "e062345e2bc44a2aa9feb3dea295a42b",
       "version_major": 2,
       "version_minor": 0
      },
      "text/plain": [
       "agg_horse_per_race_class:   0%|          | 0/6 [00:00<?, ?it/s]"
      ]
     },
     "metadata": {},
     "output_type": "display_data"
    },
    {
     "data": {
      "application/vnd.jupyter.widget-view+json": {
       "model_id": "8b3113fd9e77447d9ce46cfbacc1bd0d",
       "version_major": 2,
       "version_minor": 0
      },
      "text/plain": [
       "agg_horse_per_race_type:   0%|          | 0/6 [00:00<?, ?it/s]"
      ]
     },
     "metadata": {},
     "output_type": "display_data"
    },
    {
     "name": "stdout",
     "output_type": "stream",
     "text": [
      "running agg_jockey()...\n",
      "running agg_trainer()...\n",
      "running agg_sire()...\n",
      "running cross_feature()...\n",
      "merging all features...\n"
     ]
    },
    {
     "name": "stderr",
     "output_type": "stream",
     "text": [
      "/home/load0/競馬AI/keiba_race_ai/keiba_ai/3.1.0/src/feature_producing_prediction.py:677: FutureWarning: Passing literal html to 'read_html' is deprecated and will be removed in a future version. To read from a literal string, wrap it in a 'StringIO' object.\n",
      "  pd.read_html(html)[0][[\"馬番\", \"単勝\"]]\n"
     ]
    },
    {
     "data": {
      "application/vnd.jupyter.widget-view+json": {
       "model_id": "637f0ff55ddc4a47b56b8c20fee6a599",
       "version_major": 2,
       "version_minor": 0
      },
      "text/plain": [
       "agg_horse_n_races_relative:   0%|          | 0/5 [00:00<?, ?it/s]"
      ]
     },
     "metadata": {},
     "output_type": "display_data"
    },
    {
     "name": "stdout",
     "output_type": "stream",
     "text": [
      "running agg_interval()...\n",
      "fetching shubuta page html...\n"
     ]
    },
    {
     "data": {
      "application/vnd.jupyter.widget-view+json": {
       "model_id": "a7537cd01bd8466aaa1e192fad2e5e2e",
       "version_major": 2,
       "version_minor": 0
      },
      "text/plain": [
       "agg_horse_per_course_len:   0%|          | 0/6 [00:00<?, ?it/s]"
      ]
     },
     "metadata": {},
     "output_type": "display_data"
    },
    {
     "data": {
      "application/vnd.jupyter.widget-view+json": {
       "model_id": "1f3a4e260b5e4230976d879a285ff57d",
       "version_major": 2,
       "version_minor": 0
      },
      "text/plain": [
       "agg_horse_per_ground_state_race_type:   0%|          | 0/6 [00:00<?, ?it/s]"
      ]
     },
     "metadata": {},
     "output_type": "display_data"
    },
    {
     "data": {
      "application/vnd.jupyter.widget-view+json": {
       "model_id": "840501135b2f49899ef91a81edf8e495",
       "version_major": 2,
       "version_minor": 0
      },
      "text/plain": [
       "agg_horse_per_race_class:   0%|          | 0/6 [00:00<?, ?it/s]"
      ]
     },
     "metadata": {},
     "output_type": "display_data"
    },
    {
     "data": {
      "application/vnd.jupyter.widget-view+json": {
       "model_id": "ff0e1157202048698cbc4acdbab57b1e",
       "version_major": 2,
       "version_minor": 0
      },
      "text/plain": [
       "agg_horse_per_race_type:   0%|          | 0/6 [00:00<?, ?it/s]"
      ]
     },
     "metadata": {},
     "output_type": "display_data"
    },
    {
     "name": "stdout",
     "output_type": "stream",
     "text": [
      "running agg_jockey()...\n",
      "running agg_trainer()...\n",
      "running agg_sire()...\n",
      "running cross_feature()...\n",
      "merging all features...\n"
     ]
    },
    {
     "name": "stderr",
     "output_type": "stream",
     "text": [
      "/home/load0/競馬AI/keiba_race_ai/keiba_ai/3.1.0/src/feature_producing_prediction.py:677: FutureWarning: Passing literal html to 'read_html' is deprecated and will be removed in a future version. To read from a literal string, wrap it in a 'StringIO' object.\n",
      "  pd.read_html(html)[0][[\"馬番\", \"単勝\"]]\n"
     ]
    },
    {
     "data": {
      "application/vnd.jupyter.widget-view+json": {
       "model_id": "87bde38c057e4c9c92b2a7396a543983",
       "version_major": 2,
       "version_minor": 0
      },
      "text/plain": [
       "agg_horse_n_races_relative:   0%|          | 0/5 [00:00<?, ?it/s]"
      ]
     },
     "metadata": {},
     "output_type": "display_data"
    },
    {
     "name": "stdout",
     "output_type": "stream",
     "text": [
      "running agg_interval()...\n",
      "fetching shubuta page html...\n"
     ]
    },
    {
     "data": {
      "application/vnd.jupyter.widget-view+json": {
       "model_id": "4490f89ba9b2485b9724745ed050933d",
       "version_major": 2,
       "version_minor": 0
      },
      "text/plain": [
       "agg_horse_per_course_len:   0%|          | 0/6 [00:00<?, ?it/s]"
      ]
     },
     "metadata": {},
     "output_type": "display_data"
    },
    {
     "data": {
      "application/vnd.jupyter.widget-view+json": {
       "model_id": "ae7148a075094edfa60d7c67a9f34a05",
       "version_major": 2,
       "version_minor": 0
      },
      "text/plain": [
       "agg_horse_per_ground_state_race_type:   0%|          | 0/6 [00:00<?, ?it/s]"
      ]
     },
     "metadata": {},
     "output_type": "display_data"
    },
    {
     "data": {
      "application/vnd.jupyter.widget-view+json": {
       "model_id": "fa21215a9cba4b0e8f9bc33e70a2d9a7",
       "version_major": 2,
       "version_minor": 0
      },
      "text/plain": [
       "agg_horse_per_race_class:   0%|          | 0/6 [00:00<?, ?it/s]"
      ]
     },
     "metadata": {},
     "output_type": "display_data"
    },
    {
     "data": {
      "application/vnd.jupyter.widget-view+json": {
       "model_id": "8e0f8c7d471c4cd19f9a5bee9bb5193b",
       "version_major": 2,
       "version_minor": 0
      },
      "text/plain": [
       "agg_horse_per_race_type:   0%|          | 0/6 [00:00<?, ?it/s]"
      ]
     },
     "metadata": {},
     "output_type": "display_data"
    },
    {
     "name": "stdout",
     "output_type": "stream",
     "text": [
      "running agg_jockey()...\n",
      "running agg_trainer()...\n",
      "running agg_sire()...\n",
      "running cross_feature()...\n",
      "merging all features...\n"
     ]
    },
    {
     "name": "stderr",
     "output_type": "stream",
     "text": [
      "/home/load0/競馬AI/keiba_race_ai/keiba_ai/3.1.0/src/feature_producing_prediction.py:677: FutureWarning: Passing literal html to 'read_html' is deprecated and will be removed in a future version. To read from a literal string, wrap it in a 'StringIO' object.\n",
      "  pd.read_html(html)[0][[\"馬番\", \"単勝\"]]\n"
     ]
    },
    {
     "data": {
      "application/vnd.jupyter.widget-view+json": {
       "model_id": "8c484103b070426abad392ea87bb2f08",
       "version_major": 2,
       "version_minor": 0
      },
      "text/plain": [
       "agg_horse_n_races_relative:   0%|          | 0/5 [00:00<?, ?it/s]"
      ]
     },
     "metadata": {},
     "output_type": "display_data"
    },
    {
     "name": "stdout",
     "output_type": "stream",
     "text": [
      "running agg_interval()...\n",
      "fetching shubuta page html...\n"
     ]
    },
    {
     "data": {
      "application/vnd.jupyter.widget-view+json": {
       "model_id": "04edf92083854535ab0ea83e09dd198d",
       "version_major": 2,
       "version_minor": 0
      },
      "text/plain": [
       "agg_horse_per_course_len:   0%|          | 0/6 [00:00<?, ?it/s]"
      ]
     },
     "metadata": {},
     "output_type": "display_data"
    },
    {
     "data": {
      "application/vnd.jupyter.widget-view+json": {
       "model_id": "9b842d60174e40f9b61d10dcb0f273e1",
       "version_major": 2,
       "version_minor": 0
      },
      "text/plain": [
       "agg_horse_per_ground_state_race_type:   0%|          | 0/6 [00:00<?, ?it/s]"
      ]
     },
     "metadata": {},
     "output_type": "display_data"
    },
    {
     "data": {
      "application/vnd.jupyter.widget-view+json": {
       "model_id": "e8ee34f9c3794f8eb297c09bf97bdbe9",
       "version_major": 2,
       "version_minor": 0
      },
      "text/plain": [
       "agg_horse_per_race_class:   0%|          | 0/6 [00:00<?, ?it/s]"
      ]
     },
     "metadata": {},
     "output_type": "display_data"
    },
    {
     "data": {
      "application/vnd.jupyter.widget-view+json": {
       "model_id": "735a98b3e084451d8320589b25f75dc4",
       "version_major": 2,
       "version_minor": 0
      },
      "text/plain": [
       "agg_horse_per_race_type:   0%|          | 0/6 [00:00<?, ?it/s]"
      ]
     },
     "metadata": {},
     "output_type": "display_data"
    },
    {
     "name": "stdout",
     "output_type": "stream",
     "text": [
      "running agg_jockey()...\n",
      "running agg_trainer()...\n",
      "running agg_sire()...\n",
      "running cross_feature()...\n",
      "merging all features...\n"
     ]
    },
    {
     "name": "stderr",
     "output_type": "stream",
     "text": [
      "/home/load0/競馬AI/keiba_race_ai/keiba_ai/3.1.0/src/feature_producing_prediction.py:677: FutureWarning: Passing literal html to 'read_html' is deprecated and will be removed in a future version. To read from a literal string, wrap it in a 'StringIO' object.\n",
      "  pd.read_html(html)[0][[\"馬番\", \"単勝\"]]\n"
     ]
    },
    {
     "data": {
      "application/vnd.jupyter.widget-view+json": {
       "model_id": "c37e0a01c781425fbd772750e280b3f9",
       "version_major": 2,
       "version_minor": 0
      },
      "text/plain": [
       "agg_horse_n_races_relative:   0%|          | 0/5 [00:00<?, ?it/s]"
      ]
     },
     "metadata": {},
     "output_type": "display_data"
    },
    {
     "name": "stdout",
     "output_type": "stream",
     "text": [
      "running agg_interval()...\n",
      "fetching shubuta page html...\n"
     ]
    },
    {
     "data": {
      "application/vnd.jupyter.widget-view+json": {
       "model_id": "0af26e8fa4c14665abe8874a375d49c5",
       "version_major": 2,
       "version_minor": 0
      },
      "text/plain": [
       "agg_horse_per_course_len:   0%|          | 0/6 [00:00<?, ?it/s]"
      ]
     },
     "metadata": {},
     "output_type": "display_data"
    },
    {
     "data": {
      "application/vnd.jupyter.widget-view+json": {
       "model_id": "b116468518f947b885f643a62683fb0e",
       "version_major": 2,
       "version_minor": 0
      },
      "text/plain": [
       "agg_horse_per_ground_state_race_type:   0%|          | 0/6 [00:00<?, ?it/s]"
      ]
     },
     "metadata": {},
     "output_type": "display_data"
    },
    {
     "data": {
      "application/vnd.jupyter.widget-view+json": {
       "model_id": "197bc4dfdfa3484a9dbdae9654bdbe00",
       "version_major": 2,
       "version_minor": 0
      },
      "text/plain": [
       "agg_horse_per_race_class:   0%|          | 0/6 [00:00<?, ?it/s]"
      ]
     },
     "metadata": {},
     "output_type": "display_data"
    },
    {
     "data": {
      "application/vnd.jupyter.widget-view+json": {
       "model_id": "1fb76f5e5de746b7bfa865256a5905e0",
       "version_major": 2,
       "version_minor": 0
      },
      "text/plain": [
       "agg_horse_per_race_type:   0%|          | 0/6 [00:00<?, ?it/s]"
      ]
     },
     "metadata": {},
     "output_type": "display_data"
    },
    {
     "name": "stdout",
     "output_type": "stream",
     "text": [
      "running agg_jockey()...\n",
      "running agg_trainer()...\n",
      "running agg_sire()...\n",
      "running cross_feature()...\n",
      "merging all features...\n"
     ]
    },
    {
     "name": "stderr",
     "output_type": "stream",
     "text": [
      "/home/load0/競馬AI/keiba_race_ai/keiba_ai/3.1.0/src/feature_producing_prediction.py:677: FutureWarning: Passing literal html to 'read_html' is deprecated and will be removed in a future version. To read from a literal string, wrap it in a 'StringIO' object.\n",
      "  pd.read_html(html)[0][[\"馬番\", \"単勝\"]]\n"
     ]
    },
    {
     "data": {
      "application/vnd.jupyter.widget-view+json": {
       "model_id": "d25cfea6c3154372b03b44c30a7af29f",
       "version_major": 2,
       "version_minor": 0
      },
      "text/plain": [
       "agg_horse_n_races_relative:   0%|          | 0/5 [00:00<?, ?it/s]"
      ]
     },
     "metadata": {},
     "output_type": "display_data"
    },
    {
     "name": "stdout",
     "output_type": "stream",
     "text": [
      "running agg_interval()...\n",
      "fetching shubuta page html...\n"
     ]
    },
    {
     "data": {
      "application/vnd.jupyter.widget-view+json": {
       "model_id": "8a9a18d61c5e4d7089dfe4ba61c83b0d",
       "version_major": 2,
       "version_minor": 0
      },
      "text/plain": [
       "agg_horse_per_course_len:   0%|          | 0/6 [00:00<?, ?it/s]"
      ]
     },
     "metadata": {},
     "output_type": "display_data"
    },
    {
     "data": {
      "application/vnd.jupyter.widget-view+json": {
       "model_id": "c27aa12341fb45fb9492cd9e4ca7fd8e",
       "version_major": 2,
       "version_minor": 0
      },
      "text/plain": [
       "agg_horse_per_ground_state_race_type:   0%|          | 0/6 [00:00<?, ?it/s]"
      ]
     },
     "metadata": {},
     "output_type": "display_data"
    },
    {
     "data": {
      "application/vnd.jupyter.widget-view+json": {
       "model_id": "f00b67ffc26c4ca88d7d83e97614ab08",
       "version_major": 2,
       "version_minor": 0
      },
      "text/plain": [
       "agg_horse_per_race_class:   0%|          | 0/6 [00:00<?, ?it/s]"
      ]
     },
     "metadata": {},
     "output_type": "display_data"
    },
    {
     "data": {
      "application/vnd.jupyter.widget-view+json": {
       "model_id": "b15f27a3fbd946919114adc7012a60ad",
       "version_major": 2,
       "version_minor": 0
      },
      "text/plain": [
       "agg_horse_per_race_type:   0%|          | 0/6 [00:00<?, ?it/s]"
      ]
     },
     "metadata": {},
     "output_type": "display_data"
    },
    {
     "name": "stdout",
     "output_type": "stream",
     "text": [
      "running agg_jockey()...\n",
      "running agg_trainer()...\n",
      "running agg_sire()...\n",
      "running cross_feature()...\n",
      "merging all features...\n"
     ]
    },
    {
     "name": "stderr",
     "output_type": "stream",
     "text": [
      "/home/load0/競馬AI/keiba_race_ai/keiba_ai/3.1.0/src/feature_producing_prediction.py:677: FutureWarning: Passing literal html to 'read_html' is deprecated and will be removed in a future version. To read from a literal string, wrap it in a 'StringIO' object.\n",
      "  pd.read_html(html)[0][[\"馬番\", \"単勝\"]]\n"
     ]
    },
    {
     "data": {
      "application/vnd.jupyter.widget-view+json": {
       "model_id": "12e2795b66e64fecbfd20bbdfe640314",
       "version_major": 2,
       "version_minor": 0
      },
      "text/plain": [
       "agg_horse_n_races_relative:   0%|          | 0/5 [00:00<?, ?it/s]"
      ]
     },
     "metadata": {},
     "output_type": "display_data"
    },
    {
     "name": "stdout",
     "output_type": "stream",
     "text": [
      "running agg_interval()...\n",
      "fetching shubuta page html...\n"
     ]
    },
    {
     "data": {
      "application/vnd.jupyter.widget-view+json": {
       "model_id": "62548677e18842abaf414935302473bb",
       "version_major": 2,
       "version_minor": 0
      },
      "text/plain": [
       "agg_horse_per_course_len:   0%|          | 0/6 [00:00<?, ?it/s]"
      ]
     },
     "metadata": {},
     "output_type": "display_data"
    },
    {
     "data": {
      "application/vnd.jupyter.widget-view+json": {
       "model_id": "504a0af9be6e43298cb5451482ac02f5",
       "version_major": 2,
       "version_minor": 0
      },
      "text/plain": [
       "agg_horse_per_ground_state_race_type:   0%|          | 0/6 [00:00<?, ?it/s]"
      ]
     },
     "metadata": {},
     "output_type": "display_data"
    },
    {
     "data": {
      "application/vnd.jupyter.widget-view+json": {
       "model_id": "d2442d44cf764f7cb44383e3d1d0fe11",
       "version_major": 2,
       "version_minor": 0
      },
      "text/plain": [
       "agg_horse_per_race_class:   0%|          | 0/6 [00:00<?, ?it/s]"
      ]
     },
     "metadata": {},
     "output_type": "display_data"
    },
    {
     "data": {
      "application/vnd.jupyter.widget-view+json": {
       "model_id": "03af084364814ec9be7500684b7b16d4",
       "version_major": 2,
       "version_minor": 0
      },
      "text/plain": [
       "agg_horse_per_race_type:   0%|          | 0/6 [00:00<?, ?it/s]"
      ]
     },
     "metadata": {},
     "output_type": "display_data"
    },
    {
     "name": "stdout",
     "output_type": "stream",
     "text": [
      "running agg_jockey()...\n",
      "running agg_trainer()...\n",
      "running agg_sire()...\n",
      "running cross_feature()...\n",
      "merging all features...\n"
     ]
    },
    {
     "name": "stderr",
     "output_type": "stream",
     "text": [
      "/home/load0/競馬AI/keiba_race_ai/keiba_ai/3.1.0/src/feature_producing_prediction.py:677: FutureWarning: Passing literal html to 'read_html' is deprecated and will be removed in a future version. To read from a literal string, wrap it in a 'StringIO' object.\n",
      "  pd.read_html(html)[0][[\"馬番\", \"単勝\"]]\n"
     ]
    },
    {
     "data": {
      "application/vnd.jupyter.widget-view+json": {
       "model_id": "5638ffdb74914346aced49189b2b1eed",
       "version_major": 2,
       "version_minor": 0
      },
      "text/plain": [
       "agg_horse_n_races_relative:   0%|          | 0/5 [00:00<?, ?it/s]"
      ]
     },
     "metadata": {},
     "output_type": "display_data"
    },
    {
     "name": "stdout",
     "output_type": "stream",
     "text": [
      "running agg_interval()...\n",
      "fetching shubuta page html...\n"
     ]
    },
    {
     "data": {
      "application/vnd.jupyter.widget-view+json": {
       "model_id": "e373ba066052435cb461733b89ed6b2f",
       "version_major": 2,
       "version_minor": 0
      },
      "text/plain": [
       "agg_horse_per_course_len:   0%|          | 0/6 [00:00<?, ?it/s]"
      ]
     },
     "metadata": {},
     "output_type": "display_data"
    },
    {
     "data": {
      "application/vnd.jupyter.widget-view+json": {
       "model_id": "298f003b79744c3695cc89473f4ebc13",
       "version_major": 2,
       "version_minor": 0
      },
      "text/plain": [
       "agg_horse_per_ground_state_race_type:   0%|          | 0/6 [00:00<?, ?it/s]"
      ]
     },
     "metadata": {},
     "output_type": "display_data"
    },
    {
     "data": {
      "application/vnd.jupyter.widget-view+json": {
       "model_id": "e0be62bec55b45648c7dbbf0589f16cc",
       "version_major": 2,
       "version_minor": 0
      },
      "text/plain": [
       "agg_horse_per_race_class:   0%|          | 0/6 [00:00<?, ?it/s]"
      ]
     },
     "metadata": {},
     "output_type": "display_data"
    },
    {
     "data": {
      "application/vnd.jupyter.widget-view+json": {
       "model_id": "9bcb01454ffd4a818bc0af9e1c468e23",
       "version_major": 2,
       "version_minor": 0
      },
      "text/plain": [
       "agg_horse_per_race_type:   0%|          | 0/6 [00:00<?, ?it/s]"
      ]
     },
     "metadata": {},
     "output_type": "display_data"
    },
    {
     "name": "stdout",
     "output_type": "stream",
     "text": [
      "running agg_jockey()...\n",
      "running agg_trainer()...\n",
      "running agg_sire()...\n",
      "running cross_feature()...\n",
      "merging all features...\n"
     ]
    },
    {
     "name": "stderr",
     "output_type": "stream",
     "text": [
      "/home/load0/競馬AI/keiba_race_ai/keiba_ai/3.1.0/src/feature_producing_prediction.py:677: FutureWarning: Passing literal html to 'read_html' is deprecated and will be removed in a future version. To read from a literal string, wrap it in a 'StringIO' object.\n",
      "  pd.read_html(html)[0][[\"馬番\", \"単勝\"]]\n"
     ]
    },
    {
     "data": {
      "application/vnd.jupyter.widget-view+json": {
       "model_id": "8c5a75e8bdf64cea8c41c43350d29857",
       "version_major": 2,
       "version_minor": 0
      },
      "text/plain": [
       "agg_horse_n_races_relative:   0%|          | 0/5 [00:00<?, ?it/s]"
      ]
     },
     "metadata": {},
     "output_type": "display_data"
    },
    {
     "name": "stdout",
     "output_type": "stream",
     "text": [
      "running agg_interval()...\n",
      "fetching shubuta page html...\n"
     ]
    },
    {
     "data": {
      "application/vnd.jupyter.widget-view+json": {
       "model_id": "71f4e201bb154a738f2c32e5856b50e8",
       "version_major": 2,
       "version_minor": 0
      },
      "text/plain": [
       "agg_horse_per_course_len:   0%|          | 0/6 [00:00<?, ?it/s]"
      ]
     },
     "metadata": {},
     "output_type": "display_data"
    },
    {
     "data": {
      "application/vnd.jupyter.widget-view+json": {
       "model_id": "892ce80344cc42308dd8d123e503566a",
       "version_major": 2,
       "version_minor": 0
      },
      "text/plain": [
       "agg_horse_per_ground_state_race_type:   0%|          | 0/6 [00:00<?, ?it/s]"
      ]
     },
     "metadata": {},
     "output_type": "display_data"
    },
    {
     "data": {
      "application/vnd.jupyter.widget-view+json": {
       "model_id": "7144de95cd5a4093a92c5dcd45760dba",
       "version_major": 2,
       "version_minor": 0
      },
      "text/plain": [
       "agg_horse_per_race_class:   0%|          | 0/6 [00:00<?, ?it/s]"
      ]
     },
     "metadata": {},
     "output_type": "display_data"
    },
    {
     "data": {
      "application/vnd.jupyter.widget-view+json": {
       "model_id": "d0fe1a22777946a3842c7fa4810ac8d7",
       "version_major": 2,
       "version_minor": 0
      },
      "text/plain": [
       "agg_horse_per_race_type:   0%|          | 0/6 [00:00<?, ?it/s]"
      ]
     },
     "metadata": {},
     "output_type": "display_data"
    },
    {
     "name": "stdout",
     "output_type": "stream",
     "text": [
      "running agg_jockey()...\n",
      "running agg_trainer()...\n",
      "running agg_sire()...\n",
      "running cross_feature()...\n",
      "merging all features...\n"
     ]
    },
    {
     "name": "stderr",
     "output_type": "stream",
     "text": [
      "/home/load0/競馬AI/keiba_race_ai/keiba_ai/3.1.0/src/feature_producing_prediction.py:677: FutureWarning: Passing literal html to 'read_html' is deprecated and will be removed in a future version. To read from a literal string, wrap it in a 'StringIO' object.\n",
      "  pd.read_html(html)[0][[\"馬番\", \"単勝\"]]\n"
     ]
    },
    {
     "data": {
      "application/vnd.jupyter.widget-view+json": {
       "model_id": "b285f402b31b454f9f42666747dfe929",
       "version_major": 2,
       "version_minor": 0
      },
      "text/plain": [
       "agg_horse_n_races_relative:   0%|          | 0/5 [00:00<?, ?it/s]"
      ]
     },
     "metadata": {},
     "output_type": "display_data"
    },
    {
     "name": "stdout",
     "output_type": "stream",
     "text": [
      "running agg_interval()...\n",
      "fetching shubuta page html...\n"
     ]
    },
    {
     "data": {
      "application/vnd.jupyter.widget-view+json": {
       "model_id": "211ac587dc2b4eefafd2d681a5a39dd2",
       "version_major": 2,
       "version_minor": 0
      },
      "text/plain": [
       "agg_horse_per_course_len:   0%|          | 0/6 [00:00<?, ?it/s]"
      ]
     },
     "metadata": {},
     "output_type": "display_data"
    },
    {
     "data": {
      "application/vnd.jupyter.widget-view+json": {
       "model_id": "f8482c5d60244c1787b0490244672e59",
       "version_major": 2,
       "version_minor": 0
      },
      "text/plain": [
       "agg_horse_per_ground_state_race_type:   0%|          | 0/6 [00:00<?, ?it/s]"
      ]
     },
     "metadata": {},
     "output_type": "display_data"
    },
    {
     "data": {
      "application/vnd.jupyter.widget-view+json": {
       "model_id": "6252ec09808846569b6d20baacd5f332",
       "version_major": 2,
       "version_minor": 0
      },
      "text/plain": [
       "agg_horse_per_race_class:   0%|          | 0/6 [00:00<?, ?it/s]"
      ]
     },
     "metadata": {},
     "output_type": "display_data"
    },
    {
     "data": {
      "application/vnd.jupyter.widget-view+json": {
       "model_id": "60c7431609414ef18e48559c8046bc5a",
       "version_major": 2,
       "version_minor": 0
      },
      "text/plain": [
       "agg_horse_per_race_type:   0%|          | 0/6 [00:00<?, ?it/s]"
      ]
     },
     "metadata": {},
     "output_type": "display_data"
    },
    {
     "name": "stdout",
     "output_type": "stream",
     "text": [
      "running agg_jockey()...\n",
      "running agg_trainer()...\n",
      "running agg_sire()...\n",
      "running cross_feature()...\n",
      "merging all features...\n"
     ]
    },
    {
     "name": "stderr",
     "output_type": "stream",
     "text": [
      "/home/load0/競馬AI/keiba_race_ai/keiba_ai/3.1.0/src/feature_producing_prediction.py:677: FutureWarning: Passing literal html to 'read_html' is deprecated and will be removed in a future version. To read from a literal string, wrap it in a 'StringIO' object.\n",
      "  pd.read_html(html)[0][[\"馬番\", \"単勝\"]]\n"
     ]
    },
    {
     "data": {
      "application/vnd.jupyter.widget-view+json": {
       "model_id": "f41f723e821b43fe897cd777aa9a46ac",
       "version_major": 2,
       "version_minor": 0
      },
      "text/plain": [
       "agg_horse_n_races_relative:   0%|          | 0/5 [00:00<?, ?it/s]"
      ]
     },
     "metadata": {},
     "output_type": "display_data"
    },
    {
     "name": "stdout",
     "output_type": "stream",
     "text": [
      "running agg_interval()...\n",
      "fetching shubuta page html...\n"
     ]
    },
    {
     "data": {
      "application/vnd.jupyter.widget-view+json": {
       "model_id": "dcd7e21fd07446fd836a77cac788b473",
       "version_major": 2,
       "version_minor": 0
      },
      "text/plain": [
       "agg_horse_per_course_len:   0%|          | 0/6 [00:00<?, ?it/s]"
      ]
     },
     "metadata": {},
     "output_type": "display_data"
    },
    {
     "data": {
      "application/vnd.jupyter.widget-view+json": {
       "model_id": "bf7bfc65569c4bf98e0be88d781b84ef",
       "version_major": 2,
       "version_minor": 0
      },
      "text/plain": [
       "agg_horse_per_ground_state_race_type:   0%|          | 0/6 [00:00<?, ?it/s]"
      ]
     },
     "metadata": {},
     "output_type": "display_data"
    },
    {
     "data": {
      "application/vnd.jupyter.widget-view+json": {
       "model_id": "b97f724014f44750a1b35cfe6198c56e",
       "version_major": 2,
       "version_minor": 0
      },
      "text/plain": [
       "agg_horse_per_race_class:   0%|          | 0/6 [00:00<?, ?it/s]"
      ]
     },
     "metadata": {},
     "output_type": "display_data"
    },
    {
     "data": {
      "application/vnd.jupyter.widget-view+json": {
       "model_id": "121215ddae424fef898bd3a7d5417160",
       "version_major": 2,
       "version_minor": 0
      },
      "text/plain": [
       "agg_horse_per_race_type:   0%|          | 0/6 [00:00<?, ?it/s]"
      ]
     },
     "metadata": {},
     "output_type": "display_data"
    },
    {
     "name": "stdout",
     "output_type": "stream",
     "text": [
      "running agg_jockey()...\n",
      "running agg_trainer()...\n",
      "running agg_sire()...\n",
      "running cross_feature()...\n",
      "merging all features...\n"
     ]
    },
    {
     "name": "stderr",
     "output_type": "stream",
     "text": [
      "/home/load0/競馬AI/keiba_race_ai/keiba_ai/3.1.0/src/feature_producing_prediction.py:677: FutureWarning: Passing literal html to 'read_html' is deprecated and will be removed in a future version. To read from a literal string, wrap it in a 'StringIO' object.\n",
      "  pd.read_html(html)[0][[\"馬番\", \"単勝\"]]\n"
     ]
    },
    {
     "data": {
      "application/vnd.jupyter.widget-view+json": {
       "model_id": "d5a3c9f39b6d4e25b0444fdf36d88f54",
       "version_major": 2,
       "version_minor": 0
      },
      "text/plain": [
       "agg_horse_n_races_relative:   0%|          | 0/5 [00:00<?, ?it/s]"
      ]
     },
     "metadata": {},
     "output_type": "display_data"
    },
    {
     "name": "stdout",
     "output_type": "stream",
     "text": [
      "running agg_interval()...\n",
      "fetching shubuta page html...\n"
     ]
    },
    {
     "data": {
      "application/vnd.jupyter.widget-view+json": {
       "model_id": "19e8f4fff6134d3c8b61fd48058a5d68",
       "version_major": 2,
       "version_minor": 0
      },
      "text/plain": [
       "agg_horse_per_course_len:   0%|          | 0/6 [00:00<?, ?it/s]"
      ]
     },
     "metadata": {},
     "output_type": "display_data"
    },
    {
     "data": {
      "application/vnd.jupyter.widget-view+json": {
       "model_id": "a754687491a048d784ef9246d85a37f4",
       "version_major": 2,
       "version_minor": 0
      },
      "text/plain": [
       "agg_horse_per_ground_state_race_type:   0%|          | 0/6 [00:00<?, ?it/s]"
      ]
     },
     "metadata": {},
     "output_type": "display_data"
    },
    {
     "data": {
      "application/vnd.jupyter.widget-view+json": {
       "model_id": "cab39e687db546a4bc9560224756b612",
       "version_major": 2,
       "version_minor": 0
      },
      "text/plain": [
       "agg_horse_per_race_class:   0%|          | 0/6 [00:00<?, ?it/s]"
      ]
     },
     "metadata": {},
     "output_type": "display_data"
    },
    {
     "data": {
      "application/vnd.jupyter.widget-view+json": {
       "model_id": "2987f22f60a04bdf936aad401e31b3fa",
       "version_major": 2,
       "version_minor": 0
      },
      "text/plain": [
       "agg_horse_per_race_type:   0%|          | 0/6 [00:00<?, ?it/s]"
      ]
     },
     "metadata": {},
     "output_type": "display_data"
    },
    {
     "name": "stdout",
     "output_type": "stream",
     "text": [
      "running agg_jockey()...\n",
      "running agg_trainer()...\n",
      "running agg_sire()...\n",
      "running cross_feature()...\n",
      "merging all features...\n"
     ]
    },
    {
     "name": "stderr",
     "output_type": "stream",
     "text": [
      "/home/load0/競馬AI/keiba_race_ai/keiba_ai/3.1.0/src/feature_producing_prediction.py:677: FutureWarning: Passing literal html to 'read_html' is deprecated and will be removed in a future version. To read from a literal string, wrap it in a 'StringIO' object.\n",
      "  pd.read_html(html)[0][[\"馬番\", \"単勝\"]]\n"
     ]
    },
    {
     "data": {
      "application/vnd.jupyter.widget-view+json": {
       "model_id": "757b7b71e4d44716893a1bc9d34a9142",
       "version_major": 2,
       "version_minor": 0
      },
      "text/plain": [
       "agg_horse_n_races_relative:   0%|          | 0/5 [00:00<?, ?it/s]"
      ]
     },
     "metadata": {},
     "output_type": "display_data"
    },
    {
     "name": "stdout",
     "output_type": "stream",
     "text": [
      "running agg_interval()...\n",
      "fetching shubuta page html...\n"
     ]
    },
    {
     "data": {
      "application/vnd.jupyter.widget-view+json": {
       "model_id": "f720703a8c06416faee488af836447a0",
       "version_major": 2,
       "version_minor": 0
      },
      "text/plain": [
       "agg_horse_per_course_len:   0%|          | 0/6 [00:00<?, ?it/s]"
      ]
     },
     "metadata": {},
     "output_type": "display_data"
    },
    {
     "data": {
      "application/vnd.jupyter.widget-view+json": {
       "model_id": "83bdd6ae973e473db040c96f3e60867e",
       "version_major": 2,
       "version_minor": 0
      },
      "text/plain": [
       "agg_horse_per_ground_state_race_type:   0%|          | 0/6 [00:00<?, ?it/s]"
      ]
     },
     "metadata": {},
     "output_type": "display_data"
    },
    {
     "data": {
      "application/vnd.jupyter.widget-view+json": {
       "model_id": "c2eaffb13aa34411ab646e0a98da68b3",
       "version_major": 2,
       "version_minor": 0
      },
      "text/plain": [
       "agg_horse_per_race_class:   0%|          | 0/6 [00:00<?, ?it/s]"
      ]
     },
     "metadata": {},
     "output_type": "display_data"
    },
    {
     "data": {
      "application/vnd.jupyter.widget-view+json": {
       "model_id": "e7f3c1dc3bf24bb4b161789eee261dad",
       "version_major": 2,
       "version_minor": 0
      },
      "text/plain": [
       "agg_horse_per_race_type:   0%|          | 0/6 [00:00<?, ?it/s]"
      ]
     },
     "metadata": {},
     "output_type": "display_data"
    },
    {
     "name": "stdout",
     "output_type": "stream",
     "text": [
      "running agg_jockey()...\n",
      "running agg_trainer()...\n",
      "running agg_sire()...\n",
      "running cross_feature()...\n",
      "merging all features...\n"
     ]
    },
    {
     "name": "stderr",
     "output_type": "stream",
     "text": [
      "/home/load0/競馬AI/keiba_race_ai/keiba_ai/3.1.0/src/feature_producing_prediction.py:677: FutureWarning: Passing literal html to 'read_html' is deprecated and will be removed in a future version. To read from a literal string, wrap it in a 'StringIO' object.\n",
      "  pd.read_html(html)[0][[\"馬番\", \"単勝\"]]\n"
     ]
    },
    {
     "data": {
      "application/vnd.jupyter.widget-view+json": {
       "model_id": "acce72cd57fa4bbebefe16b3d6d6cbfc",
       "version_major": 2,
       "version_minor": 0
      },
      "text/plain": [
       "agg_horse_n_races_relative:   0%|          | 0/5 [00:00<?, ?it/s]"
      ]
     },
     "metadata": {},
     "output_type": "display_data"
    },
    {
     "name": "stdout",
     "output_type": "stream",
     "text": [
      "running agg_interval()...\n",
      "fetching shubuta page html...\n"
     ]
    },
    {
     "data": {
      "application/vnd.jupyter.widget-view+json": {
       "model_id": "37df894c8aae4d39a4f02050ef0da70e",
       "version_major": 2,
       "version_minor": 0
      },
      "text/plain": [
       "agg_horse_per_course_len:   0%|          | 0/6 [00:00<?, ?it/s]"
      ]
     },
     "metadata": {},
     "output_type": "display_data"
    },
    {
     "data": {
      "application/vnd.jupyter.widget-view+json": {
       "model_id": "1f58b137da0449efbe1494c0f2f0eb6d",
       "version_major": 2,
       "version_minor": 0
      },
      "text/plain": [
       "agg_horse_per_ground_state_race_type:   0%|          | 0/6 [00:00<?, ?it/s]"
      ]
     },
     "metadata": {},
     "output_type": "display_data"
    },
    {
     "data": {
      "application/vnd.jupyter.widget-view+json": {
       "model_id": "e7977956df12432b90ec1904225feaff",
       "version_major": 2,
       "version_minor": 0
      },
      "text/plain": [
       "agg_horse_per_race_class:   0%|          | 0/6 [00:00<?, ?it/s]"
      ]
     },
     "metadata": {},
     "output_type": "display_data"
    },
    {
     "data": {
      "application/vnd.jupyter.widget-view+json": {
       "model_id": "ddfceee4bc9d46eda292f8244cf0f13a",
       "version_major": 2,
       "version_minor": 0
      },
      "text/plain": [
       "agg_horse_per_race_type:   0%|          | 0/6 [00:00<?, ?it/s]"
      ]
     },
     "metadata": {},
     "output_type": "display_data"
    },
    {
     "name": "stdout",
     "output_type": "stream",
     "text": [
      "running agg_jockey()...\n",
      "running agg_trainer()...\n",
      "running agg_sire()...\n",
      "running cross_feature()...\n",
      "merging all features...\n"
     ]
    },
    {
     "name": "stderr",
     "output_type": "stream",
     "text": [
      "/home/load0/競馬AI/keiba_race_ai/keiba_ai/3.1.0/src/feature_producing_prediction.py:677: FutureWarning: Passing literal html to 'read_html' is deprecated and will be removed in a future version. To read from a literal string, wrap it in a 'StringIO' object.\n",
      "  pd.read_html(html)[0][[\"馬番\", \"単勝\"]]\n"
     ]
    },
    {
     "data": {
      "application/vnd.jupyter.widget-view+json": {
       "model_id": "fb79faf33ca943289b04bbd236dd8313",
       "version_major": 2,
       "version_minor": 0
      },
      "text/plain": [
       "agg_horse_n_races_relative:   0%|          | 0/5 [00:00<?, ?it/s]"
      ]
     },
     "metadata": {},
     "output_type": "display_data"
    },
    {
     "name": "stdout",
     "output_type": "stream",
     "text": [
      "running agg_interval()...\n",
      "fetching shubuta page html...\n"
     ]
    },
    {
     "data": {
      "application/vnd.jupyter.widget-view+json": {
       "model_id": "bb7324e3a4b24cc695ac60324542d2db",
       "version_major": 2,
       "version_minor": 0
      },
      "text/plain": [
       "agg_horse_per_course_len:   0%|          | 0/6 [00:00<?, ?it/s]"
      ]
     },
     "metadata": {},
     "output_type": "display_data"
    },
    {
     "data": {
      "application/vnd.jupyter.widget-view+json": {
       "model_id": "33dba76c45df48e2af34d53cfc0ce752",
       "version_major": 2,
       "version_minor": 0
      },
      "text/plain": [
       "agg_horse_per_ground_state_race_type:   0%|          | 0/6 [00:00<?, ?it/s]"
      ]
     },
     "metadata": {},
     "output_type": "display_data"
    },
    {
     "data": {
      "application/vnd.jupyter.widget-view+json": {
       "model_id": "6b07782d6b8d42afb0fb08329396d6bd",
       "version_major": 2,
       "version_minor": 0
      },
      "text/plain": [
       "agg_horse_per_race_class:   0%|          | 0/6 [00:00<?, ?it/s]"
      ]
     },
     "metadata": {},
     "output_type": "display_data"
    },
    {
     "data": {
      "application/vnd.jupyter.widget-view+json": {
       "model_id": "8f2a8c5ed62a44c58bfc227202dd812a",
       "version_major": 2,
       "version_minor": 0
      },
      "text/plain": [
       "agg_horse_per_race_type:   0%|          | 0/6 [00:00<?, ?it/s]"
      ]
     },
     "metadata": {},
     "output_type": "display_data"
    },
    {
     "name": "stdout",
     "output_type": "stream",
     "text": [
      "running agg_jockey()...\n",
      "running agg_trainer()...\n",
      "running agg_sire()...\n",
      "running cross_feature()...\n",
      "merging all features...\n"
     ]
    },
    {
     "name": "stderr",
     "output_type": "stream",
     "text": [
      "/home/load0/競馬AI/keiba_race_ai/keiba_ai/3.1.0/src/feature_producing_prediction.py:677: FutureWarning: Passing literal html to 'read_html' is deprecated and will be removed in a future version. To read from a literal string, wrap it in a 'StringIO' object.\n",
      "  pd.read_html(html)[0][[\"馬番\", \"単勝\"]]\n"
     ]
    },
    {
     "data": {
      "application/vnd.jupyter.widget-view+json": {
       "model_id": "0b73bc554b5e40a883743ef78e0bd9af",
       "version_major": 2,
       "version_minor": 0
      },
      "text/plain": [
       "agg_horse_n_races_relative:   0%|          | 0/5 [00:00<?, ?it/s]"
      ]
     },
     "metadata": {},
     "output_type": "display_data"
    },
    {
     "name": "stdout",
     "output_type": "stream",
     "text": [
      "running agg_interval()...\n",
      "fetching shubuta page html...\n"
     ]
    },
    {
     "data": {
      "application/vnd.jupyter.widget-view+json": {
       "model_id": "675dbb2caa0f467990660679e291cb89",
       "version_major": 2,
       "version_minor": 0
      },
      "text/plain": [
       "agg_horse_per_course_len:   0%|          | 0/6 [00:00<?, ?it/s]"
      ]
     },
     "metadata": {},
     "output_type": "display_data"
    },
    {
     "data": {
      "application/vnd.jupyter.widget-view+json": {
       "model_id": "13e196a9eaf744889906c590cb27763e",
       "version_major": 2,
       "version_minor": 0
      },
      "text/plain": [
       "agg_horse_per_ground_state_race_type:   0%|          | 0/6 [00:00<?, ?it/s]"
      ]
     },
     "metadata": {},
     "output_type": "display_data"
    },
    {
     "data": {
      "application/vnd.jupyter.widget-view+json": {
       "model_id": "ba2d32a821cf4f5a9155cf5afd5f525d",
       "version_major": 2,
       "version_minor": 0
      },
      "text/plain": [
       "agg_horse_per_race_class:   0%|          | 0/6 [00:00<?, ?it/s]"
      ]
     },
     "metadata": {},
     "output_type": "display_data"
    },
    {
     "data": {
      "application/vnd.jupyter.widget-view+json": {
       "model_id": "82ab89822a3c43438f69aa4db61fcd1d",
       "version_major": 2,
       "version_minor": 0
      },
      "text/plain": [
       "agg_horse_per_race_type:   0%|          | 0/6 [00:00<?, ?it/s]"
      ]
     },
     "metadata": {},
     "output_type": "display_data"
    },
    {
     "name": "stdout",
     "output_type": "stream",
     "text": [
      "running agg_jockey()...\n",
      "running agg_trainer()...\n",
      "running agg_sire()...\n",
      "running cross_feature()...\n",
      "merging all features...\n"
     ]
    },
    {
     "name": "stderr",
     "output_type": "stream",
     "text": [
      "/home/load0/競馬AI/keiba_race_ai/keiba_ai/3.1.0/src/feature_producing_prediction.py:677: FutureWarning: Passing literal html to 'read_html' is deprecated and will be removed in a future version. To read from a literal string, wrap it in a 'StringIO' object.\n",
      "  pd.read_html(html)[0][[\"馬番\", \"単勝\"]]\n"
     ]
    },
    {
     "data": {
      "application/vnd.jupyter.widget-view+json": {
       "model_id": "4f82d2621ec74a09a316a730ee472ac4",
       "version_major": 2,
       "version_minor": 0
      },
      "text/plain": [
       "agg_horse_n_races_relative:   0%|          | 0/5 [00:00<?, ?it/s]"
      ]
     },
     "metadata": {},
     "output_type": "display_data"
    },
    {
     "name": "stdout",
     "output_type": "stream",
     "text": [
      "running agg_interval()...\n",
      "fetching shubuta page html...\n"
     ]
    },
    {
     "data": {
      "application/vnd.jupyter.widget-view+json": {
       "model_id": "b66f0f5502e44f9eb3a0a7d944fad4c4",
       "version_major": 2,
       "version_minor": 0
      },
      "text/plain": [
       "agg_horse_per_course_len:   0%|          | 0/6 [00:00<?, ?it/s]"
      ]
     },
     "metadata": {},
     "output_type": "display_data"
    },
    {
     "data": {
      "application/vnd.jupyter.widget-view+json": {
       "model_id": "41320bfced634e44817049432057d29a",
       "version_major": 2,
       "version_minor": 0
      },
      "text/plain": [
       "agg_horse_per_ground_state_race_type:   0%|          | 0/6 [00:00<?, ?it/s]"
      ]
     },
     "metadata": {},
     "output_type": "display_data"
    },
    {
     "data": {
      "application/vnd.jupyter.widget-view+json": {
       "model_id": "458b4b61800c4e5b800fe13f9f7ee828",
       "version_major": 2,
       "version_minor": 0
      },
      "text/plain": [
       "agg_horse_per_race_class:   0%|          | 0/6 [00:00<?, ?it/s]"
      ]
     },
     "metadata": {},
     "output_type": "display_data"
    },
    {
     "data": {
      "application/vnd.jupyter.widget-view+json": {
       "model_id": "df62e321e327405ea1d8810afa6d0b8a",
       "version_major": 2,
       "version_minor": 0
      },
      "text/plain": [
       "agg_horse_per_race_type:   0%|          | 0/6 [00:00<?, ?it/s]"
      ]
     },
     "metadata": {},
     "output_type": "display_data"
    },
    {
     "name": "stdout",
     "output_type": "stream",
     "text": [
      "running agg_jockey()...\n",
      "running agg_trainer()...\n",
      "running agg_sire()...\n",
      "running cross_feature()...\n",
      "merging all features...\n"
     ]
    },
    {
     "name": "stderr",
     "output_type": "stream",
     "text": [
      "/home/load0/競馬AI/keiba_race_ai/keiba_ai/3.1.0/src/feature_producing_prediction.py:677: FutureWarning: Passing literal html to 'read_html' is deprecated and will be removed in a future version. To read from a literal string, wrap it in a 'StringIO' object.\n",
      "  pd.read_html(html)[0][[\"馬番\", \"単勝\"]]\n"
     ]
    },
    {
     "data": {
      "application/vnd.jupyter.widget-view+json": {
       "model_id": "c600366c1fcf4d278e00f0aa8f026dc9",
       "version_major": 2,
       "version_minor": 0
      },
      "text/plain": [
       "agg_horse_n_races_relative:   0%|          | 0/5 [00:00<?, ?it/s]"
      ]
     },
     "metadata": {},
     "output_type": "display_data"
    },
    {
     "name": "stdout",
     "output_type": "stream",
     "text": [
      "running agg_interval()...\n",
      "fetching shubuta page html...\n"
     ]
    },
    {
     "data": {
      "application/vnd.jupyter.widget-view+json": {
       "model_id": "95a9d6291bd141dd9d79c9df64e5af24",
       "version_major": 2,
       "version_minor": 0
      },
      "text/plain": [
       "agg_horse_per_course_len:   0%|          | 0/6 [00:00<?, ?it/s]"
      ]
     },
     "metadata": {},
     "output_type": "display_data"
    },
    {
     "data": {
      "application/vnd.jupyter.widget-view+json": {
       "model_id": "a471608b37e34c4e8a3c6d4216df8ec1",
       "version_major": 2,
       "version_minor": 0
      },
      "text/plain": [
       "agg_horse_per_ground_state_race_type:   0%|          | 0/6 [00:00<?, ?it/s]"
      ]
     },
     "metadata": {},
     "output_type": "display_data"
    },
    {
     "data": {
      "application/vnd.jupyter.widget-view+json": {
       "model_id": "18dad8565abc4195b53b4e4f4ad5171d",
       "version_major": 2,
       "version_minor": 0
      },
      "text/plain": [
       "agg_horse_per_race_class:   0%|          | 0/6 [00:00<?, ?it/s]"
      ]
     },
     "metadata": {},
     "output_type": "display_data"
    },
    {
     "data": {
      "application/vnd.jupyter.widget-view+json": {
       "model_id": "4fa45990f22a4570890bceac0071a7e0",
       "version_major": 2,
       "version_minor": 0
      },
      "text/plain": [
       "agg_horse_per_race_type:   0%|          | 0/6 [00:00<?, ?it/s]"
      ]
     },
     "metadata": {},
     "output_type": "display_data"
    },
    {
     "name": "stdout",
     "output_type": "stream",
     "text": [
      "running agg_jockey()...\n",
      "running agg_trainer()...\n",
      "running agg_sire()...\n",
      "running cross_feature()...\n",
      "merging all features...\n"
     ]
    },
    {
     "name": "stderr",
     "output_type": "stream",
     "text": [
      "/home/load0/競馬AI/keiba_race_ai/keiba_ai/3.1.0/src/feature_producing_prediction.py:677: FutureWarning: Passing literal html to 'read_html' is deprecated and will be removed in a future version. To read from a literal string, wrap it in a 'StringIO' object.\n",
      "  pd.read_html(html)[0][[\"馬番\", \"単勝\"]]\n"
     ]
    },
    {
     "data": {
      "application/vnd.jupyter.widget-view+json": {
       "model_id": "a8c1b604da7c4fdb9cdf23039266abbe",
       "version_major": 2,
       "version_minor": 0
      },
      "text/plain": [
       "agg_horse_n_races_relative:   0%|          | 0/5 [00:00<?, ?it/s]"
      ]
     },
     "metadata": {},
     "output_type": "display_data"
    },
    {
     "name": "stdout",
     "output_type": "stream",
     "text": [
      "running agg_interval()...\n",
      "fetching shubuta page html...\n"
     ]
    },
    {
     "data": {
      "application/vnd.jupyter.widget-view+json": {
       "model_id": "d925a3781ad04e10a9ed68b25ef67ddb",
       "version_major": 2,
       "version_minor": 0
      },
      "text/plain": [
       "agg_horse_per_course_len:   0%|          | 0/6 [00:00<?, ?it/s]"
      ]
     },
     "metadata": {},
     "output_type": "display_data"
    },
    {
     "data": {
      "application/vnd.jupyter.widget-view+json": {
       "model_id": "7d8476cb5423428f9b5332daa7c17513",
       "version_major": 2,
       "version_minor": 0
      },
      "text/plain": [
       "agg_horse_per_ground_state_race_type:   0%|          | 0/6 [00:00<?, ?it/s]"
      ]
     },
     "metadata": {},
     "output_type": "display_data"
    },
    {
     "data": {
      "application/vnd.jupyter.widget-view+json": {
       "model_id": "91fbbede51014364bb044bbdac647e76",
       "version_major": 2,
       "version_minor": 0
      },
      "text/plain": [
       "agg_horse_per_race_class:   0%|          | 0/6 [00:00<?, ?it/s]"
      ]
     },
     "metadata": {},
     "output_type": "display_data"
    },
    {
     "data": {
      "application/vnd.jupyter.widget-view+json": {
       "model_id": "ac84576fbda0454db81e26068af71fe4",
       "version_major": 2,
       "version_minor": 0
      },
      "text/plain": [
       "agg_horse_per_race_type:   0%|          | 0/6 [00:00<?, ?it/s]"
      ]
     },
     "metadata": {},
     "output_type": "display_data"
    },
    {
     "name": "stdout",
     "output_type": "stream",
     "text": [
      "running agg_jockey()...\n",
      "running agg_trainer()...\n",
      "running agg_sire()...\n",
      "running cross_feature()...\n",
      "merging all features...\n"
     ]
    },
    {
     "name": "stderr",
     "output_type": "stream",
     "text": [
      "/home/load0/競馬AI/keiba_race_ai/keiba_ai/3.1.0/src/feature_producing_prediction.py:677: FutureWarning: Passing literal html to 'read_html' is deprecated and will be removed in a future version. To read from a literal string, wrap it in a 'StringIO' object.\n",
      "  pd.read_html(html)[0][[\"馬番\", \"単勝\"]]\n"
     ]
    }
   ],
   "source": [
    "# features_dfにfeaturesを格納してつなげる\n",
    "features_df = []\n",
    "for race_id in race_id_list:\n",
    "    pfc = PredictionFeatureCreator(race_id=race_id, weight = False)\n",
    "    pfc.create_features()\n",
    "    features = await pfc.update_odds_and_popularity()\n",
    "    features_df.append(features)\n",
    "# features_dfを結合\n",
    "features_df = pd.concat(features_df)\n"
   ]
  },
  {
   "cell_type": "code",
   "execution_count": 18,
   "metadata": {},
   "outputs": [
    {
     "data": {
      "text/html": [
       "<div>\n",
       "<style scoped>\n",
       "    .dataframe tbody tr th:only-of-type {\n",
       "        vertical-align: middle;\n",
       "    }\n",
       "\n",
       "    .dataframe tbody tr th {\n",
       "        vertical-align: top;\n",
       "    }\n",
       "\n",
       "    .dataframe thead th {\n",
       "        text-align: right;\n",
       "    }\n",
       "</style>\n",
       "<table border=\"1\" class=\"dataframe\">\n",
       "  <thead>\n",
       "    <tr style=\"text-align: right;\">\n",
       "      <th></th>\n",
       "      <th>date_x</th>\n",
       "      <th>race_id</th>\n",
       "      <th>horse_id</th>\n",
       "      <th>jockey_id</th>\n",
       "      <th>trainer_id</th>\n",
       "      <th>umaban</th>\n",
       "      <th>wakuban</th>\n",
       "      <th>impost</th>\n",
       "      <th>sex</th>\n",
       "      <th>age</th>\n",
       "      <th>...</th>\n",
       "      <th>wakuban_around</th>\n",
       "      <th>umaban_around</th>\n",
       "      <th>month</th>\n",
       "      <th>sin_date</th>\n",
       "      <th>cos_date</th>\n",
       "      <th>month_sex</th>\n",
       "      <th>sin_date_sex</th>\n",
       "      <th>cos_date_sex</th>\n",
       "      <th>tansho_odds</th>\n",
       "      <th>popularity</th>\n",
       "    </tr>\n",
       "  </thead>\n",
       "  <tbody>\n",
       "    <tr>\n",
       "      <th>0</th>\n",
       "      <td>2025-05-25</td>\n",
       "      <td>202504010801</td>\n",
       "      <td>2022100263</td>\n",
       "      <td>1117</td>\n",
       "      <td>1081</td>\n",
       "      <td>1</td>\n",
       "      <td>1</td>\n",
       "      <td>57.0</td>\n",
       "      <td>0</td>\n",
       "      <td>3</td>\n",
       "      <td>...</td>\n",
       "      <td>NaN</td>\n",
       "      <td>NaN</td>\n",
       "      <td>5</td>\n",
       "      <td>0.602988</td>\n",
       "      <td>-0.79775</td>\n",
       "      <td>-5.0</td>\n",
       "      <td>-0.602988</td>\n",
       "      <td>0.79775</td>\n",
       "      <td>6.3</td>\n",
       "      <td>3.0</td>\n",
       "    </tr>\n",
       "    <tr>\n",
       "      <th>1</th>\n",
       "      <td>2025-05-25</td>\n",
       "      <td>202504010801</td>\n",
       "      <td>2022105627</td>\n",
       "      <td>1187</td>\n",
       "      <td>1112</td>\n",
       "      <td>2</td>\n",
       "      <td>1</td>\n",
       "      <td>53.0</td>\n",
       "      <td>1</td>\n",
       "      <td>3</td>\n",
       "      <td>...</td>\n",
       "      <td>NaN</td>\n",
       "      <td>NaN</td>\n",
       "      <td>5</td>\n",
       "      <td>0.602988</td>\n",
       "      <td>-0.79775</td>\n",
       "      <td>5.0</td>\n",
       "      <td>0.602988</td>\n",
       "      <td>-0.79775</td>\n",
       "      <td>29.5</td>\n",
       "      <td>9.0</td>\n",
       "    </tr>\n",
       "    <tr>\n",
       "      <th>2</th>\n",
       "      <td>2025-05-25</td>\n",
       "      <td>202504010801</td>\n",
       "      <td>2022100260</td>\n",
       "      <td>689</td>\n",
       "      <td>1190</td>\n",
       "      <td>3</td>\n",
       "      <td>2</td>\n",
       "      <td>57.0</td>\n",
       "      <td>0</td>\n",
       "      <td>3</td>\n",
       "      <td>...</td>\n",
       "      <td>NaN</td>\n",
       "      <td>NaN</td>\n",
       "      <td>5</td>\n",
       "      <td>0.602988</td>\n",
       "      <td>-0.79775</td>\n",
       "      <td>-5.0</td>\n",
       "      <td>-0.602988</td>\n",
       "      <td>0.79775</td>\n",
       "      <td>10.6</td>\n",
       "      <td>6.0</td>\n",
       "    </tr>\n",
       "    <tr>\n",
       "      <th>3</th>\n",
       "      <td>2025-05-25</td>\n",
       "      <td>202504010801</td>\n",
       "      <td>2022105593</td>\n",
       "      <td>1185</td>\n",
       "      <td>1146</td>\n",
       "      <td>4</td>\n",
       "      <td>2</td>\n",
       "      <td>55.0</td>\n",
       "      <td>1</td>\n",
       "      <td>3</td>\n",
       "      <td>...</td>\n",
       "      <td>NaN</td>\n",
       "      <td>NaN</td>\n",
       "      <td>5</td>\n",
       "      <td>0.602988</td>\n",
       "      <td>-0.79775</td>\n",
       "      <td>5.0</td>\n",
       "      <td>0.602988</td>\n",
       "      <td>-0.79775</td>\n",
       "      <td>9.1</td>\n",
       "      <td>5.0</td>\n",
       "    </tr>\n",
       "    <tr>\n",
       "      <th>4</th>\n",
       "      <td>2025-05-25</td>\n",
       "      <td>202504010801</td>\n",
       "      <td>2022100759</td>\n",
       "      <td>1176</td>\n",
       "      <td>1112</td>\n",
       "      <td>5</td>\n",
       "      <td>3</td>\n",
       "      <td>55.0</td>\n",
       "      <td>1</td>\n",
       "      <td>3</td>\n",
       "      <td>...</td>\n",
       "      <td>NaN</td>\n",
       "      <td>NaN</td>\n",
       "      <td>5</td>\n",
       "      <td>0.602988</td>\n",
       "      <td>-0.79775</td>\n",
       "      <td>5.0</td>\n",
       "      <td>0.602988</td>\n",
       "      <td>-0.79775</td>\n",
       "      <td>102.9</td>\n",
       "      <td>13.0</td>\n",
       "    </tr>\n",
       "    <tr>\n",
       "      <th>...</th>\n",
       "      <td>...</td>\n",
       "      <td>...</td>\n",
       "      <td>...</td>\n",
       "      <td>...</td>\n",
       "      <td>...</td>\n",
       "      <td>...</td>\n",
       "      <td>...</td>\n",
       "      <td>...</td>\n",
       "      <td>...</td>\n",
       "      <td>...</td>\n",
       "      <td>...</td>\n",
       "      <td>...</td>\n",
       "      <td>...</td>\n",
       "      <td>...</td>\n",
       "      <td>...</td>\n",
       "      <td>...</td>\n",
       "      <td>...</td>\n",
       "      <td>...</td>\n",
       "      <td>...</td>\n",
       "      <td>...</td>\n",
       "      <td>...</td>\n",
       "    </tr>\n",
       "    <tr>\n",
       "      <th>11</th>\n",
       "      <td>2025-05-25</td>\n",
       "      <td>202505021012</td>\n",
       "      <td>2021106797</td>\n",
       "      <td>1077</td>\n",
       "      <td>1020</td>\n",
       "      <td>12</td>\n",
       "      <td>6</td>\n",
       "      <td>55.0</td>\n",
       "      <td>0</td>\n",
       "      <td>4</td>\n",
       "      <td>...</td>\n",
       "      <td>NaN</td>\n",
       "      <td>NaN</td>\n",
       "      <td>5</td>\n",
       "      <td>0.602988</td>\n",
       "      <td>-0.79775</td>\n",
       "      <td>-5.0</td>\n",
       "      <td>-0.602988</td>\n",
       "      <td>0.79775</td>\n",
       "      <td>10.2</td>\n",
       "      <td>4.0</td>\n",
       "    </tr>\n",
       "    <tr>\n",
       "      <th>12</th>\n",
       "      <td>2025-05-25</td>\n",
       "      <td>202505021012</td>\n",
       "      <td>2018104778</td>\n",
       "      <td>1150</td>\n",
       "      <td>1052</td>\n",
       "      <td>13</td>\n",
       "      <td>7</td>\n",
       "      <td>54.0</td>\n",
       "      <td>0</td>\n",
       "      <td>7</td>\n",
       "      <td>...</td>\n",
       "      <td>NaN</td>\n",
       "      <td>NaN</td>\n",
       "      <td>5</td>\n",
       "      <td>0.602988</td>\n",
       "      <td>-0.79775</td>\n",
       "      <td>-5.0</td>\n",
       "      <td>-0.602988</td>\n",
       "      <td>0.79775</td>\n",
       "      <td>48.3</td>\n",
       "      <td>14.0</td>\n",
       "    </tr>\n",
       "    <tr>\n",
       "      <th>13</th>\n",
       "      <td>2025-05-25</td>\n",
       "      <td>202505021012</td>\n",
       "      <td>2019101875</td>\n",
       "      <td>5115</td>\n",
       "      <td>1119</td>\n",
       "      <td>14</td>\n",
       "      <td>7</td>\n",
       "      <td>57.0</td>\n",
       "      <td>0</td>\n",
       "      <td>6</td>\n",
       "      <td>...</td>\n",
       "      <td>NaN</td>\n",
       "      <td>NaN</td>\n",
       "      <td>5</td>\n",
       "      <td>0.602988</td>\n",
       "      <td>-0.79775</td>\n",
       "      <td>-5.0</td>\n",
       "      <td>-0.602988</td>\n",
       "      <td>0.79775</td>\n",
       "      <td>15.8</td>\n",
       "      <td>9.0</td>\n",
       "    </tr>\n",
       "    <tr>\n",
       "      <th>14</th>\n",
       "      <td>2025-05-25</td>\n",
       "      <td>202505021012</td>\n",
       "      <td>2020101036</td>\n",
       "      <td>1186</td>\n",
       "      <td>1121</td>\n",
       "      <td>15</td>\n",
       "      <td>8</td>\n",
       "      <td>56.0</td>\n",
       "      <td>0</td>\n",
       "      <td>5</td>\n",
       "      <td>...</td>\n",
       "      <td>NaN</td>\n",
       "      <td>NaN</td>\n",
       "      <td>5</td>\n",
       "      <td>0.602988</td>\n",
       "      <td>-0.79775</td>\n",
       "      <td>-5.0</td>\n",
       "      <td>-0.602988</td>\n",
       "      <td>0.79775</td>\n",
       "      <td>13.2</td>\n",
       "      <td>7.0</td>\n",
       "    </tr>\n",
       "    <tr>\n",
       "      <th>15</th>\n",
       "      <td>2025-05-25</td>\n",
       "      <td>202505021012</td>\n",
       "      <td>2019100876</td>\n",
       "      <td>733</td>\n",
       "      <td>1134</td>\n",
       "      <td>16</td>\n",
       "      <td>8</td>\n",
       "      <td>53.0</td>\n",
       "      <td>2</td>\n",
       "      <td>6</td>\n",
       "      <td>...</td>\n",
       "      <td>NaN</td>\n",
       "      <td>NaN</td>\n",
       "      <td>5</td>\n",
       "      <td>0.602988</td>\n",
       "      <td>-0.79775</td>\n",
       "      <td>NaN</td>\n",
       "      <td>NaN</td>\n",
       "      <td>NaN</td>\n",
       "      <td>52.3</td>\n",
       "      <td>15.0</td>\n",
       "    </tr>\n",
       "  </tbody>\n",
       "</table>\n",
       "<p>526 rows × 554 columns</p>\n",
       "</div>"
      ],
      "text/plain": [
       "        date_x       race_id    horse_id  jockey_id  trainer_id  umaban  \\\n",
       "0   2025-05-25  202504010801  2022100263       1117        1081       1   \n",
       "1   2025-05-25  202504010801  2022105627       1187        1112       2   \n",
       "2   2025-05-25  202504010801  2022100260        689        1190       3   \n",
       "3   2025-05-25  202504010801  2022105593       1185        1146       4   \n",
       "4   2025-05-25  202504010801  2022100759       1176        1112       5   \n",
       "..         ...           ...         ...        ...         ...     ...   \n",
       "11  2025-05-25  202505021012  2021106797       1077        1020      12   \n",
       "12  2025-05-25  202505021012  2018104778       1150        1052      13   \n",
       "13  2025-05-25  202505021012  2019101875       5115        1119      14   \n",
       "14  2025-05-25  202505021012  2020101036       1186        1121      15   \n",
       "15  2025-05-25  202505021012  2019100876        733        1134      16   \n",
       "\n",
       "    wakuban  impost  sex  age  ...  wakuban_around  umaban_around  month  \\\n",
       "0         1    57.0    0    3  ...             NaN            NaN      5   \n",
       "1         1    53.0    1    3  ...             NaN            NaN      5   \n",
       "2         2    57.0    0    3  ...             NaN            NaN      5   \n",
       "3         2    55.0    1    3  ...             NaN            NaN      5   \n",
       "4         3    55.0    1    3  ...             NaN            NaN      5   \n",
       "..      ...     ...  ...  ...  ...             ...            ...    ...   \n",
       "11        6    55.0    0    4  ...             NaN            NaN      5   \n",
       "12        7    54.0    0    7  ...             NaN            NaN      5   \n",
       "13        7    57.0    0    6  ...             NaN            NaN      5   \n",
       "14        8    56.0    0    5  ...             NaN            NaN      5   \n",
       "15        8    53.0    2    6  ...             NaN            NaN      5   \n",
       "\n",
       "    sin_date  cos_date  month_sex  sin_date_sex  cos_date_sex tansho_odds  \\\n",
       "0   0.602988  -0.79775       -5.0     -0.602988       0.79775         6.3   \n",
       "1   0.602988  -0.79775        5.0      0.602988      -0.79775        29.5   \n",
       "2   0.602988  -0.79775       -5.0     -0.602988       0.79775        10.6   \n",
       "3   0.602988  -0.79775        5.0      0.602988      -0.79775         9.1   \n",
       "4   0.602988  -0.79775        5.0      0.602988      -0.79775       102.9   \n",
       "..       ...       ...        ...           ...           ...         ...   \n",
       "11  0.602988  -0.79775       -5.0     -0.602988       0.79775        10.2   \n",
       "12  0.602988  -0.79775       -5.0     -0.602988       0.79775        48.3   \n",
       "13  0.602988  -0.79775       -5.0     -0.602988       0.79775        15.8   \n",
       "14  0.602988  -0.79775       -5.0     -0.602988       0.79775        13.2   \n",
       "15  0.602988  -0.79775        NaN           NaN           NaN        52.3   \n",
       "\n",
       "    popularity  \n",
       "0          3.0  \n",
       "1          9.0  \n",
       "2          6.0  \n",
       "3          5.0  \n",
       "4         13.0  \n",
       "..         ...  \n",
       "11         4.0  \n",
       "12        14.0  \n",
       "13         9.0  \n",
       "14         7.0  \n",
       "15        15.0  \n",
       "\n",
       "[526 rows x 554 columns]"
      ]
     },
     "execution_count": 18,
     "metadata": {},
     "output_type": "execute_result"
    }
   ],
   "source": [
    "features_df"
   ]
  },
  {
   "cell_type": "code",
   "execution_count": 19,
   "metadata": {},
   "outputs": [
    {
     "ename": "KeyError",
     "evalue": "\"['weight', 'weight_diff'] not in index\"",
     "output_type": "error",
     "traceback": [
      "\u001b[0;31m---------------------------------------------------------------------------\u001b[0m",
      "\u001b[0;31mKeyError\u001b[0m                                  Traceback (most recent call last)",
      "Cell \u001b[0;32mIn[19], line 2\u001b[0m\n\u001b[1;32m      1\u001b[0m \u001b[38;5;66;03m# 予測\u001b[39;00m\n\u001b[0;32m----> 2\u001b[0m prediction \u001b[38;5;241m=\u001b[39m \u001b[43mpredictioning\u001b[49m\u001b[38;5;241;43m.\u001b[39;49m\u001b[43mpredict\u001b[49m\u001b[43m(\u001b[49m\n\u001b[1;32m      3\u001b[0m \u001b[43m    \u001b[49m\u001b[43mfeatures_df\u001b[49m\u001b[43m,\u001b[49m\n\u001b[1;32m      4\u001b[0m \u001b[43m    \u001b[49m\u001b[38;5;66;43;03m# model_filename=\"model.pkl\",\u001b[39;49;00m\n\u001b[1;32m      5\u001b[0m \u001b[43m    \u001b[49m\u001b[38;5;66;43;03m# calibration_model_filename=\"calibration_model.pkl\",\u001b[39;49;00m\n\u001b[1;32m      6\u001b[0m \u001b[43m    \u001b[49m\u001b[43mmodel_filename\u001b[49m\u001b[38;5;241;43m=\u001b[39;49m\u001b[38;5;124;43m\"\u001b[39;49m\u001b[38;5;124;43mmodel.pkl\u001b[39;49m\u001b[38;5;124;43m\"\u001b[39;49m\u001b[43m,\u001b[49m\n\u001b[1;32m      7\u001b[0m \u001b[43m    \u001b[49m\u001b[43mcalibration_model_filename\u001b[49m\u001b[38;5;241;43m=\u001b[39;49m\u001b[38;5;124;43m\"\u001b[39;49m\u001b[38;5;124;43mcalibration_model.pkl\u001b[39;49m\u001b[38;5;124;43m\"\u001b[39;49m\u001b[43m,\u001b[49m\n\u001b[1;32m      8\u001b[0m \u001b[43m    \u001b[49m\u001b[43mconfig_filepath\u001b[49m\u001b[38;5;241;43m=\u001b[39;49m\u001b[38;5;124;43m\"\u001b[39;49m\u001b[38;5;124;43mconfig.yaml\u001b[39;49m\u001b[38;5;124;43m\"\u001b[39;49m\u001b[43m,\u001b[49m\n\u001b[1;32m      9\u001b[0m \u001b[43m    \u001b[49m\u001b[43msort_col\u001b[49m\u001b[38;5;241;43m=\u001b[39;49m\u001b[38;5;124;43m\"\u001b[39;49m\u001b[38;5;124;43mexpect_return_calibrated\u001b[39;49m\u001b[38;5;124;43m\"\u001b[39;49m\u001b[43m,\u001b[49m\n\u001b[1;32m     10\u001b[0m \u001b[43m)\u001b[49m\n\u001b[1;32m     11\u001b[0m sorted_predictions \u001b[38;5;241m=\u001b[39m prediction\u001b[38;5;241m.\u001b[39mgroupby(\u001b[38;5;124m\"\u001b[39m\u001b[38;5;124mrace_id\u001b[39m\u001b[38;5;124m\"\u001b[39m)\u001b[38;5;241m.\u001b[39mapply(\n\u001b[1;32m     12\u001b[0m     \u001b[38;5;28;01mlambda\u001b[39;00m x: x\u001b[38;5;241m.\u001b[39msort_values(by\u001b[38;5;241m=\u001b[39m\u001b[38;5;124m\"\u001b[39m\u001b[38;5;124mexpect_return_calibrated\u001b[39m\u001b[38;5;124m\"\u001b[39m, ascending\u001b[38;5;241m=\u001b[39m\u001b[38;5;28;01mFalse\u001b[39;00m)\n\u001b[1;32m     13\u001b[0m )\n\u001b[1;32m     14\u001b[0m sorted_predictions\n",
      "File \u001b[0;32m~/競馬AI/keiba_race_ai/keiba_ai/3.1.0/src/predictioning.py:32\u001b[0m, in \u001b[0;36mpredict\u001b[0;34m(features, model_dir, model_filename, calibration_model_filename, config_filepath, save_dir, save_filename, sort_col)\u001b[0m\n\u001b[1;32m     30\u001b[0m     calibration_model \u001b[38;5;241m=\u001b[39m pickle\u001b[38;5;241m.\u001b[39mload(f)\n\u001b[1;32m     31\u001b[0m prediction_df \u001b[38;5;241m=\u001b[39m features[[\u001b[38;5;124m\"\u001b[39m\u001b[38;5;124mrace_id\u001b[39m\u001b[38;5;124m\"\u001b[39m, \u001b[38;5;124m\"\u001b[39m\u001b[38;5;124mumaban\u001b[39m\u001b[38;5;124m\"\u001b[39m, \u001b[38;5;124m\"\u001b[39m\u001b[38;5;124mtansho_odds\u001b[39m\u001b[38;5;124m\"\u001b[39m, \u001b[38;5;124m\"\u001b[39m\u001b[38;5;124mpopularity\u001b[39m\u001b[38;5;124m\"\u001b[39m]]\u001b[38;5;241m.\u001b[39mcopy()\n\u001b[0;32m---> 32\u001b[0m prediction_df[\u001b[38;5;124m\"\u001b[39m\u001b[38;5;124mpred\u001b[39m\u001b[38;5;124m\"\u001b[39m] \u001b[38;5;241m=\u001b[39m model\u001b[38;5;241m.\u001b[39mpredict(\u001b[43mfeatures\u001b[49m\u001b[43m[\u001b[49m\u001b[43mfeature_cols\u001b[49m\u001b[43m]\u001b[49m)\n\u001b[1;32m     33\u001b[0m prediction_df[\u001b[38;5;124m\"\u001b[39m\u001b[38;5;124mpred_calibrated\u001b[39m\u001b[38;5;124m\"\u001b[39m] \u001b[38;5;241m=\u001b[39m calibration_model\u001b[38;5;241m.\u001b[39mpredict(prediction_df[\u001b[38;5;124m\"\u001b[39m\u001b[38;5;124mpred\u001b[39m\u001b[38;5;124m\"\u001b[39m])\n\u001b[1;32m     34\u001b[0m prediction_df[\u001b[38;5;124m\"\u001b[39m\u001b[38;5;124mexpect_return\u001b[39m\u001b[38;5;124m\"\u001b[39m] \u001b[38;5;241m=\u001b[39m (\n\u001b[1;32m     35\u001b[0m     prediction_df[\u001b[38;5;124m\"\u001b[39m\u001b[38;5;124mpred\u001b[39m\u001b[38;5;124m\"\u001b[39m] \u001b[38;5;241m*\u001b[39m prediction_df[\u001b[38;5;124m\"\u001b[39m\u001b[38;5;124mtansho_odds\u001b[39m\u001b[38;5;124m\"\u001b[39m]\n\u001b[1;32m     36\u001b[0m )\n",
      "File \u001b[0;32m~/anaconda3/envs/py312/lib/python3.12/site-packages/pandas/core/frame.py:4108\u001b[0m, in \u001b[0;36mDataFrame.__getitem__\u001b[0;34m(self, key)\u001b[0m\n\u001b[1;32m   4106\u001b[0m     \u001b[38;5;28;01mif\u001b[39;00m is_iterator(key):\n\u001b[1;32m   4107\u001b[0m         key \u001b[38;5;241m=\u001b[39m \u001b[38;5;28mlist\u001b[39m(key)\n\u001b[0;32m-> 4108\u001b[0m     indexer \u001b[38;5;241m=\u001b[39m \u001b[38;5;28;43mself\u001b[39;49m\u001b[38;5;241;43m.\u001b[39;49m\u001b[43mcolumns\u001b[49m\u001b[38;5;241;43m.\u001b[39;49m\u001b[43m_get_indexer_strict\u001b[49m\u001b[43m(\u001b[49m\u001b[43mkey\u001b[49m\u001b[43m,\u001b[49m\u001b[43m \u001b[49m\u001b[38;5;124;43m\"\u001b[39;49m\u001b[38;5;124;43mcolumns\u001b[39;49m\u001b[38;5;124;43m\"\u001b[39;49m\u001b[43m)\u001b[49m[\u001b[38;5;241m1\u001b[39m]\n\u001b[1;32m   4110\u001b[0m \u001b[38;5;66;03m# take() does not accept boolean indexers\u001b[39;00m\n\u001b[1;32m   4111\u001b[0m \u001b[38;5;28;01mif\u001b[39;00m \u001b[38;5;28mgetattr\u001b[39m(indexer, \u001b[38;5;124m\"\u001b[39m\u001b[38;5;124mdtype\u001b[39m\u001b[38;5;124m\"\u001b[39m, \u001b[38;5;28;01mNone\u001b[39;00m) \u001b[38;5;241m==\u001b[39m \u001b[38;5;28mbool\u001b[39m:\n",
      "File \u001b[0;32m~/anaconda3/envs/py312/lib/python3.12/site-packages/pandas/core/indexes/base.py:6200\u001b[0m, in \u001b[0;36mIndex._get_indexer_strict\u001b[0;34m(self, key, axis_name)\u001b[0m\n\u001b[1;32m   6197\u001b[0m \u001b[38;5;28;01melse\u001b[39;00m:\n\u001b[1;32m   6198\u001b[0m     keyarr, indexer, new_indexer \u001b[38;5;241m=\u001b[39m \u001b[38;5;28mself\u001b[39m\u001b[38;5;241m.\u001b[39m_reindex_non_unique(keyarr)\n\u001b[0;32m-> 6200\u001b[0m \u001b[38;5;28;43mself\u001b[39;49m\u001b[38;5;241;43m.\u001b[39;49m\u001b[43m_raise_if_missing\u001b[49m\u001b[43m(\u001b[49m\u001b[43mkeyarr\u001b[49m\u001b[43m,\u001b[49m\u001b[43m \u001b[49m\u001b[43mindexer\u001b[49m\u001b[43m,\u001b[49m\u001b[43m \u001b[49m\u001b[43maxis_name\u001b[49m\u001b[43m)\u001b[49m\n\u001b[1;32m   6202\u001b[0m keyarr \u001b[38;5;241m=\u001b[39m \u001b[38;5;28mself\u001b[39m\u001b[38;5;241m.\u001b[39mtake(indexer)\n\u001b[1;32m   6203\u001b[0m \u001b[38;5;28;01mif\u001b[39;00m \u001b[38;5;28misinstance\u001b[39m(key, Index):\n\u001b[1;32m   6204\u001b[0m     \u001b[38;5;66;03m# GH 42790 - Preserve name from an Index\u001b[39;00m\n",
      "File \u001b[0;32m~/anaconda3/envs/py312/lib/python3.12/site-packages/pandas/core/indexes/base.py:6252\u001b[0m, in \u001b[0;36mIndex._raise_if_missing\u001b[0;34m(self, key, indexer, axis_name)\u001b[0m\n\u001b[1;32m   6249\u001b[0m     \u001b[38;5;28;01mraise\u001b[39;00m \u001b[38;5;167;01mKeyError\u001b[39;00m(\u001b[38;5;124mf\u001b[39m\u001b[38;5;124m\"\u001b[39m\u001b[38;5;124mNone of [\u001b[39m\u001b[38;5;132;01m{\u001b[39;00mkey\u001b[38;5;132;01m}\u001b[39;00m\u001b[38;5;124m] are in the [\u001b[39m\u001b[38;5;132;01m{\u001b[39;00maxis_name\u001b[38;5;132;01m}\u001b[39;00m\u001b[38;5;124m]\u001b[39m\u001b[38;5;124m\"\u001b[39m)\n\u001b[1;32m   6251\u001b[0m not_found \u001b[38;5;241m=\u001b[39m \u001b[38;5;28mlist\u001b[39m(ensure_index(key)[missing_mask\u001b[38;5;241m.\u001b[39mnonzero()[\u001b[38;5;241m0\u001b[39m]]\u001b[38;5;241m.\u001b[39munique())\n\u001b[0;32m-> 6252\u001b[0m \u001b[38;5;28;01mraise\u001b[39;00m \u001b[38;5;167;01mKeyError\u001b[39;00m(\u001b[38;5;124mf\u001b[39m\u001b[38;5;124m\"\u001b[39m\u001b[38;5;132;01m{\u001b[39;00mnot_found\u001b[38;5;132;01m}\u001b[39;00m\u001b[38;5;124m not in index\u001b[39m\u001b[38;5;124m\"\u001b[39m)\n",
      "\u001b[0;31mKeyError\u001b[0m: \"['weight', 'weight_diff'] not in index\""
     ]
    }
   ],
   "source": [
    "# 予測\n",
    "prediction = predictioning.predict(\n",
    "    features_df,\n",
    "    # model_filename=\"model.pkl\",\n",
    "    # calibration_model_filename=\"calibration_model.pkl\",\n",
    "    model_filename=\"model.pkl\",\n",
    "    calibration_model_filename=\"calibration_model.pkl\",\n",
    "    config_filepath=\"config.yaml\",\n",
    "    sort_col=\"expect_return_calibrated\",\n",
    ")\n",
    "sorted_predictions = prediction.groupby(\"race_id\").apply(\n",
    "    lambda x: x.sort_values(by=\"expect_return_calibrated\", ascending=False)\n",
    ")\n",
    "sorted_predictions"
   ]
  },
  {
   "cell_type": "code",
   "execution_count": 20,
   "metadata": {},
   "outputs": [
    {
     "data": {
      "text/html": [
       "<div>\n",
       "<style scoped>\n",
       "    .dataframe tbody tr th:only-of-type {\n",
       "        vertical-align: middle;\n",
       "    }\n",
       "\n",
       "    .dataframe tbody tr th {\n",
       "        vertical-align: top;\n",
       "    }\n",
       "\n",
       "    .dataframe thead th {\n",
       "        text-align: right;\n",
       "    }\n",
       "</style>\n",
       "<table border=\"1\" class=\"dataframe\">\n",
       "  <thead>\n",
       "    <tr style=\"text-align: right;\">\n",
       "      <th></th>\n",
       "      <th></th>\n",
       "      <th>race_id</th>\n",
       "      <th>umaban</th>\n",
       "      <th>tansho_odds</th>\n",
       "      <th>popularity</th>\n",
       "      <th>pred</th>\n",
       "      <th>pred_calibrated</th>\n",
       "      <th>expect_return</th>\n",
       "      <th>expect_return_calibrated</th>\n",
       "    </tr>\n",
       "    <tr>\n",
       "      <th>race_id</th>\n",
       "      <th></th>\n",
       "      <th></th>\n",
       "      <th></th>\n",
       "      <th></th>\n",
       "      <th></th>\n",
       "      <th></th>\n",
       "      <th></th>\n",
       "      <th></th>\n",
       "      <th></th>\n",
       "    </tr>\n",
       "  </thead>\n",
       "  <tbody>\n",
       "    <tr>\n",
       "      <th>202503010102</th>\n",
       "      <th>5</th>\n",
       "      <td>202503010102</td>\n",
       "      <td>6</td>\n",
       "      <td>9.5</td>\n",
       "      <td>3.0</td>\n",
       "      <td>0.134080</td>\n",
       "      <td>0.117207</td>\n",
       "      <td>1.273761</td>\n",
       "      <td>1.113466</td>\n",
       "    </tr>\n",
       "    <tr>\n",
       "      <th>202503010105</th>\n",
       "      <th>4</th>\n",
       "      <td>202503010105</td>\n",
       "      <td>5</td>\n",
       "      <td>17.9</td>\n",
       "      <td>7.0</td>\n",
       "      <td>0.068072</td>\n",
       "      <td>0.077586</td>\n",
       "      <td>1.218496</td>\n",
       "      <td>1.388793</td>\n",
       "    </tr>\n",
       "    <tr>\n",
       "      <th>202503010110</th>\n",
       "      <th>6</th>\n",
       "      <td>202503010110</td>\n",
       "      <td>7</td>\n",
       "      <td>16.1</td>\n",
       "      <td>7.0</td>\n",
       "      <td>0.084244</td>\n",
       "      <td>0.088832</td>\n",
       "      <td>1.356324</td>\n",
       "      <td>1.430203</td>\n",
       "    </tr>\n",
       "    <tr>\n",
       "      <th>202506030507</th>\n",
       "      <th>7</th>\n",
       "      <td>202506030507</td>\n",
       "      <td>8</td>\n",
       "      <td>227.3</td>\n",
       "      <td>13.0</td>\n",
       "      <td>0.005583</td>\n",
       "      <td>0.001544</td>\n",
       "      <td>1.269062</td>\n",
       "      <td>0.351042</td>\n",
       "    </tr>\n",
       "    <tr>\n",
       "      <th>202509020510</th>\n",
       "      <th>13</th>\n",
       "      <td>202509020510</td>\n",
       "      <td>14</td>\n",
       "      <td>110.3</td>\n",
       "      <td>16.0</td>\n",
       "      <td>0.011399</td>\n",
       "      <td>0.010695</td>\n",
       "      <td>1.257296</td>\n",
       "      <td>1.179679</td>\n",
       "    </tr>\n",
       "    <tr>\n",
       "      <th>202509020512</th>\n",
       "      <th>8</th>\n",
       "      <td>202509020512</td>\n",
       "      <td>9</td>\n",
       "      <td>71.4</td>\n",
       "      <td>11.0</td>\n",
       "      <td>0.017380</td>\n",
       "      <td>0.016355</td>\n",
       "      <td>1.240938</td>\n",
       "      <td>1.167757</td>\n",
       "    </tr>\n",
       "  </tbody>\n",
       "</table>\n",
       "</div>"
      ],
      "text/plain": [
       "                      race_id  umaban  tansho_odds  popularity      pred  \\\n",
       "race_id                                                                    \n",
       "202503010102 5   202503010102       6          9.5         3.0  0.134080   \n",
       "202503010105 4   202503010105       5         17.9         7.0  0.068072   \n",
       "202503010110 6   202503010110       7         16.1         7.0  0.084244   \n",
       "202506030507 7   202506030507       8        227.3        13.0  0.005583   \n",
       "202509020510 13  202509020510      14        110.3        16.0  0.011399   \n",
       "202509020512 8   202509020512       9         71.4        11.0  0.017380   \n",
       "\n",
       "                 pred_calibrated  expect_return  expect_return_calibrated  \n",
       "race_id                                                                    \n",
       "202503010102 5          0.117207       1.273761                  1.113466  \n",
       "202503010105 4          0.077586       1.218496                  1.388793  \n",
       "202503010110 6          0.088832       1.356324                  1.430203  \n",
       "202506030507 7          0.001544       1.269062                  0.351042  \n",
       "202509020510 13         0.010695       1.257296                  1.179679  \n",
       "202509020512 8          0.016355       1.240938                  1.167757  "
      ]
     },
     "execution_count": 20,
     "metadata": {},
     "output_type": "execute_result"
    }
   ],
   "source": [
    "sorted_predictions = sorted_predictions[sorted_predictions[\"expect_return\"] >= 1.2]\n",
    "sorted_predictions"
   ]
  },
  {
   "cell_type": "code",
   "execution_count": 31,
   "metadata": {},
   "outputs": [
    {
     "name": "stderr",
     "output_type": "stream",
     "text": [
      "/tmp/ipykernel_1211747/2093323250.py:11: DeprecationWarning: DataFrameGroupBy.apply operated on the grouping columns. This behavior is deprecated, and in a future version of pandas the grouping columns will be excluded from the operation. Either pass `include_groups=False` to exclude the groupings or explicitly select the grouping columns after groupby to silence this warning.\n",
      "  sorted_predictions = prediction.groupby(\"race_id\").apply(\n"
     ]
    },
    {
     "data": {
      "text/html": [
       "<div>\n",
       "<style scoped>\n",
       "    .dataframe tbody tr th:only-of-type {\n",
       "        vertical-align: middle;\n",
       "    }\n",
       "\n",
       "    .dataframe tbody tr th {\n",
       "        vertical-align: top;\n",
       "    }\n",
       "\n",
       "    .dataframe thead th {\n",
       "        text-align: right;\n",
       "    }\n",
       "</style>\n",
       "<table border=\"1\" class=\"dataframe\">\n",
       "  <thead>\n",
       "    <tr style=\"text-align: right;\">\n",
       "      <th></th>\n",
       "      <th></th>\n",
       "      <th>race_id</th>\n",
       "      <th>umaban</th>\n",
       "      <th>tansho_odds</th>\n",
       "      <th>popularity</th>\n",
       "      <th>pred</th>\n",
       "      <th>pred_calibrated</th>\n",
       "      <th>expect_return</th>\n",
       "      <th>expect_return_calibrated</th>\n",
       "    </tr>\n",
       "    <tr>\n",
       "      <th>race_id</th>\n",
       "      <th></th>\n",
       "      <th></th>\n",
       "      <th></th>\n",
       "      <th></th>\n",
       "      <th></th>\n",
       "      <th></th>\n",
       "      <th></th>\n",
       "      <th></th>\n",
       "      <th></th>\n",
       "    </tr>\n",
       "  </thead>\n",
       "  <tbody>\n",
       "    <tr>\n",
       "      <th rowspan=\"5\" valign=\"top\">202504010801</th>\n",
       "      <th>12</th>\n",
       "      <td>202504010801</td>\n",
       "      <td>13</td>\n",
       "      <td>3.7</td>\n",
       "      <td>1.0</td>\n",
       "      <td>0.245050</td>\n",
       "      <td>0.252654</td>\n",
       "      <td>0.906687</td>\n",
       "      <td>0.934820</td>\n",
       "    </tr>\n",
       "    <tr>\n",
       "      <th>3</th>\n",
       "      <td>202504010801</td>\n",
       "      <td>4</td>\n",
       "      <td>9.1</td>\n",
       "      <td>5.0</td>\n",
       "      <td>0.111481</td>\n",
       "      <td>0.094488</td>\n",
       "      <td>1.014481</td>\n",
       "      <td>0.859843</td>\n",
       "    </tr>\n",
       "    <tr>\n",
       "      <th>10</th>\n",
       "      <td>202504010801</td>\n",
       "      <td>11</td>\n",
       "      <td>29.9</td>\n",
       "      <td>10.0</td>\n",
       "      <td>0.026594</td>\n",
       "      <td>0.027473</td>\n",
       "      <td>0.795158</td>\n",
       "      <td>0.821429</td>\n",
       "    </tr>\n",
       "    <tr>\n",
       "      <th>1</th>\n",
       "      <td>202504010801</td>\n",
       "      <td>2</td>\n",
       "      <td>29.5</td>\n",
       "      <td>9.0</td>\n",
       "      <td>0.025643</td>\n",
       "      <td>0.027473</td>\n",
       "      <td>0.756474</td>\n",
       "      <td>0.810440</td>\n",
       "    </tr>\n",
       "    <tr>\n",
       "      <th>11</th>\n",
       "      <td>202504010801</td>\n",
       "      <td>12</td>\n",
       "      <td>11.8</td>\n",
       "      <td>7.0</td>\n",
       "      <td>0.073475</td>\n",
       "      <td>0.066465</td>\n",
       "      <td>0.867009</td>\n",
       "      <td>0.784290</td>\n",
       "    </tr>\n",
       "    <tr>\n",
       "      <th>...</th>\n",
       "      <th>...</th>\n",
       "      <td>...</td>\n",
       "      <td>...</td>\n",
       "      <td>...</td>\n",
       "      <td>...</td>\n",
       "      <td>...</td>\n",
       "      <td>...</td>\n",
       "      <td>...</td>\n",
       "      <td>...</td>\n",
       "    </tr>\n",
       "    <tr>\n",
       "      <th rowspan=\"5\" valign=\"top\">202508021012</th>\n",
       "      <th>3</th>\n",
       "      <td>202508021012</td>\n",
       "      <td>4</td>\n",
       "      <td>4.2</td>\n",
       "      <td>2.0</td>\n",
       "      <td>0.175092</td>\n",
       "      <td>0.190476</td>\n",
       "      <td>0.735386</td>\n",
       "      <td>0.800000</td>\n",
       "    </tr>\n",
       "    <tr>\n",
       "      <th>8</th>\n",
       "      <td>202508021012</td>\n",
       "      <td>9</td>\n",
       "      <td>21.3</td>\n",
       "      <td>9.0</td>\n",
       "      <td>0.035454</td>\n",
       "      <td>0.035088</td>\n",
       "      <td>0.755180</td>\n",
       "      <td>0.747368</td>\n",
       "    </tr>\n",
       "    <tr>\n",
       "      <th>6</th>\n",
       "      <td>202508021012</td>\n",
       "      <td>7</td>\n",
       "      <td>7.9</td>\n",
       "      <td>4.0</td>\n",
       "      <td>0.108327</td>\n",
       "      <td>0.094488</td>\n",
       "      <td>0.855783</td>\n",
       "      <td>0.746457</td>\n",
       "    </tr>\n",
       "    <tr>\n",
       "      <th>0</th>\n",
       "      <td>202508021012</td>\n",
       "      <td>1</td>\n",
       "      <td>10.0</td>\n",
       "      <td>6.0</td>\n",
       "      <td>0.082685</td>\n",
       "      <td>0.066465</td>\n",
       "      <td>0.826853</td>\n",
       "      <td>0.664653</td>\n",
       "    </tr>\n",
       "    <tr>\n",
       "      <th>1</th>\n",
       "      <td>202508021012</td>\n",
       "      <td>2</td>\n",
       "      <td>11.4</td>\n",
       "      <td>7.0</td>\n",
       "      <td>0.069204</td>\n",
       "      <td>0.042679</td>\n",
       "      <td>0.788921</td>\n",
       "      <td>0.486544</td>\n",
       "    </tr>\n",
       "  </tbody>\n",
       "</table>\n",
       "<p>526 rows × 8 columns</p>\n",
       "</div>"
      ],
      "text/plain": [
       "                      race_id  umaban  tansho_odds  popularity      pred  \\\n",
       "race_id                                                                    \n",
       "202504010801 12  202504010801      13          3.7         1.0  0.245050   \n",
       "             3   202504010801       4          9.1         5.0  0.111481   \n",
       "             10  202504010801      11         29.9        10.0  0.026594   \n",
       "             1   202504010801       2         29.5         9.0  0.025643   \n",
       "             11  202504010801      12         11.8         7.0  0.073475   \n",
       "...                       ...     ...          ...         ...       ...   \n",
       "202508021012 3   202508021012       4          4.2         2.0  0.175092   \n",
       "             8   202508021012       9         21.3         9.0  0.035454   \n",
       "             6   202508021012       7          7.9         4.0  0.108327   \n",
       "             0   202508021012       1         10.0         6.0  0.082685   \n",
       "             1   202508021012       2         11.4         7.0  0.069204   \n",
       "\n",
       "                 pred_calibrated  expect_return  expect_return_calibrated  \n",
       "race_id                                                                    \n",
       "202504010801 12         0.252654       0.906687                  0.934820  \n",
       "             3          0.094488       1.014481                  0.859843  \n",
       "             10         0.027473       0.795158                  0.821429  \n",
       "             1          0.027473       0.756474                  0.810440  \n",
       "             11         0.066465       0.867009                  0.784290  \n",
       "...                          ...            ...                       ...  \n",
       "202508021012 3          0.190476       0.735386                  0.800000  \n",
       "             8          0.035088       0.755180                  0.747368  \n",
       "             6          0.094488       0.855783                  0.746457  \n",
       "             0          0.066465       0.826853                  0.664653  \n",
       "             1          0.042679       0.788921                  0.486544  \n",
       "\n",
       "[526 rows x 8 columns]"
      ]
     },
     "execution_count": 31,
     "metadata": {},
     "output_type": "execute_result"
    }
   ],
   "source": [
    "# 予測\n",
    "prediction = predictioning.predict(\n",
    "    features_df,\n",
    "    model_filename=\"model_wr.pkl\",\n",
    "    calibration_model_filename=\"calibration_model_wr.pkl\",\n",
    "    config_filepath=\"config_wr.yaml\",\n",
    "    # model_filename=\"model.pkl\",   \n",
    "    # calibration_model_filename=\"calibration_model.pkl\",\n",
    "    sort_col=\"expect_return_calibrated\",    \n",
    ")\n",
    "sorted_predictions = prediction.groupby(\"race_id\").apply(\n",
    "    lambda x: x.sort_values(by=\"expect_return_calibrated\", ascending=False)\n",
    ")\n",
    "sorted_predictions"
   ]
  },
  {
   "cell_type": "code",
   "execution_count": 32,
   "metadata": {},
   "outputs": [
    {
     "data": {
      "text/html": [
       "<div>\n",
       "<style scoped>\n",
       "    .dataframe tbody tr th:only-of-type {\n",
       "        vertical-align: middle;\n",
       "    }\n",
       "\n",
       "    .dataframe tbody tr th {\n",
       "        vertical-align: top;\n",
       "    }\n",
       "\n",
       "    .dataframe thead th {\n",
       "        text-align: right;\n",
       "    }\n",
       "</style>\n",
       "<table border=\"1\" class=\"dataframe\">\n",
       "  <thead>\n",
       "    <tr style=\"text-align: right;\">\n",
       "      <th></th>\n",
       "      <th></th>\n",
       "      <th>race_id</th>\n",
       "      <th>umaban</th>\n",
       "      <th>tansho_odds</th>\n",
       "      <th>popularity</th>\n",
       "      <th>pred</th>\n",
       "      <th>pred_calibrated</th>\n",
       "      <th>expect_return</th>\n",
       "      <th>expect_return_calibrated</th>\n",
       "    </tr>\n",
       "    <tr>\n",
       "      <th>race_id</th>\n",
       "      <th></th>\n",
       "      <th></th>\n",
       "      <th></th>\n",
       "      <th></th>\n",
       "      <th></th>\n",
       "      <th></th>\n",
       "      <th></th>\n",
       "      <th></th>\n",
       "      <th></th>\n",
       "    </tr>\n",
       "  </thead>\n",
       "  <tbody>\n",
       "    <tr>\n",
       "      <th>202504010801</th>\n",
       "      <th>3</th>\n",
       "      <td>202504010801</td>\n",
       "      <td>4</td>\n",
       "      <td>9.1</td>\n",
       "      <td>5.0</td>\n",
       "      <td>0.111481</td>\n",
       "      <td>0.094488</td>\n",
       "      <td>1.014481</td>\n",
       "      <td>0.859843</td>\n",
       "    </tr>\n",
       "    <tr>\n",
       "      <th>202504010804</th>\n",
       "      <th>7</th>\n",
       "      <td>202504010804</td>\n",
       "      <td>8</td>\n",
       "      <td>4.9</td>\n",
       "      <td>2.0</td>\n",
       "      <td>0.212171</td>\n",
       "      <td>0.252654</td>\n",
       "      <td>1.039640</td>\n",
       "      <td>1.238004</td>\n",
       "    </tr>\n",
       "    <tr>\n",
       "      <th>202504010807</th>\n",
       "      <th>0</th>\n",
       "      <td>202504010807</td>\n",
       "      <td>1</td>\n",
       "      <td>21.4</td>\n",
       "      <td>10.0</td>\n",
       "      <td>0.047811</td>\n",
       "      <td>0.042679</td>\n",
       "      <td>1.023148</td>\n",
       "      <td>0.913337</td>\n",
       "    </tr>\n",
       "    <tr>\n",
       "      <th>202504010808</th>\n",
       "      <th>3</th>\n",
       "      <td>202504010808</td>\n",
       "      <td>4</td>\n",
       "      <td>10.1</td>\n",
       "      <td>5.0</td>\n",
       "      <td>0.106732</td>\n",
       "      <td>0.094488</td>\n",
       "      <td>1.077994</td>\n",
       "      <td>0.954331</td>\n",
       "    </tr>\n",
       "    <tr>\n",
       "      <th>202504010811</th>\n",
       "      <th>1</th>\n",
       "      <td>202504010811</td>\n",
       "      <td>2</td>\n",
       "      <td>19.0</td>\n",
       "      <td>11.0</td>\n",
       "      <td>0.054641</td>\n",
       "      <td>0.042679</td>\n",
       "      <td>1.038175</td>\n",
       "      <td>0.810907</td>\n",
       "    </tr>\n",
       "    <tr>\n",
       "      <th>202505021004</th>\n",
       "      <th>14</th>\n",
       "      <td>202505021004</td>\n",
       "      <td>15</td>\n",
       "      <td>30.7</td>\n",
       "      <td>8.0</td>\n",
       "      <td>0.035623</td>\n",
       "      <td>0.035088</td>\n",
       "      <td>1.093616</td>\n",
       "      <td>1.077193</td>\n",
       "    </tr>\n",
       "    <tr>\n",
       "      <th rowspan=\"3\" valign=\"top\">202505021006</th>\n",
       "      <th>5</th>\n",
       "      <td>202505021006</td>\n",
       "      <td>6</td>\n",
       "      <td>2.9</td>\n",
       "      <td>1.0</td>\n",
       "      <td>0.345375</td>\n",
       "      <td>0.430000</td>\n",
       "      <td>1.001588</td>\n",
       "      <td>1.247000</td>\n",
       "    </tr>\n",
       "    <tr>\n",
       "      <th>6</th>\n",
       "      <td>202505021006</td>\n",
       "      <td>7</td>\n",
       "      <td>19.3</td>\n",
       "      <td>8.0</td>\n",
       "      <td>0.056992</td>\n",
       "      <td>0.042679</td>\n",
       "      <td>1.099938</td>\n",
       "      <td>0.823711</td>\n",
       "    </tr>\n",
       "    <tr>\n",
       "      <th>8</th>\n",
       "      <td>202505021006</td>\n",
       "      <td>9</td>\n",
       "      <td>17.6</td>\n",
       "      <td>6.0</td>\n",
       "      <td>0.060229</td>\n",
       "      <td>0.042679</td>\n",
       "      <td>1.060027</td>\n",
       "      <td>0.751156</td>\n",
       "    </tr>\n",
       "    <tr>\n",
       "      <th>202505021008</th>\n",
       "      <th>7</th>\n",
       "      <td>202505021008</td>\n",
       "      <td>8</td>\n",
       "      <td>13.0</td>\n",
       "      <td>6.0</td>\n",
       "      <td>0.078183</td>\n",
       "      <td>0.066465</td>\n",
       "      <td>1.016383</td>\n",
       "      <td>0.864048</td>\n",
       "    </tr>\n",
       "    <tr>\n",
       "      <th>202505021011</th>\n",
       "      <th>11</th>\n",
       "      <td>202505021011</td>\n",
       "      <td>12</td>\n",
       "      <td>16.1</td>\n",
       "      <td>7.0</td>\n",
       "      <td>0.064516</td>\n",
       "      <td>0.042679</td>\n",
       "      <td>1.038711</td>\n",
       "      <td>0.687137</td>\n",
       "    </tr>\n",
       "    <tr>\n",
       "      <th>202508021003</th>\n",
       "      <th>3</th>\n",
       "      <td>202508021003</td>\n",
       "      <td>4</td>\n",
       "      <td>9.0</td>\n",
       "      <td>3.0</td>\n",
       "      <td>0.128778</td>\n",
       "      <td>0.120482</td>\n",
       "      <td>1.159002</td>\n",
       "      <td>1.084337</td>\n",
       "    </tr>\n",
       "    <tr>\n",
       "      <th>202508021006</th>\n",
       "      <th>8</th>\n",
       "      <td>202508021006</td>\n",
       "      <td>9</td>\n",
       "      <td>12.9</td>\n",
       "      <td>5.0</td>\n",
       "      <td>0.078551</td>\n",
       "      <td>0.066465</td>\n",
       "      <td>1.013305</td>\n",
       "      <td>0.857402</td>\n",
       "    </tr>\n",
       "    <tr>\n",
       "      <th>202508021007</th>\n",
       "      <th>6</th>\n",
       "      <td>202508021007</td>\n",
       "      <td>7</td>\n",
       "      <td>35.6</td>\n",
       "      <td>12.0</td>\n",
       "      <td>0.034414</td>\n",
       "      <td>0.035088</td>\n",
       "      <td>1.225139</td>\n",
       "      <td>1.249123</td>\n",
       "    </tr>\n",
       "    <tr>\n",
       "      <th>202508021009</th>\n",
       "      <th>14</th>\n",
       "      <td>202508021009</td>\n",
       "      <td>15</td>\n",
       "      <td>9.6</td>\n",
       "      <td>4.0</td>\n",
       "      <td>0.105763</td>\n",
       "      <td>0.094488</td>\n",
       "      <td>1.015326</td>\n",
       "      <td>0.907087</td>\n",
       "    </tr>\n",
       "    <tr>\n",
       "      <th>202508021010</th>\n",
       "      <th>3</th>\n",
       "      <td>202508021010</td>\n",
       "      <td>4</td>\n",
       "      <td>20.9</td>\n",
       "      <td>10.0</td>\n",
       "      <td>0.049217</td>\n",
       "      <td>0.042679</td>\n",
       "      <td>1.028642</td>\n",
       "      <td>0.891998</td>\n",
       "    </tr>\n",
       "    <tr>\n",
       "      <th>202508021012</th>\n",
       "      <th>5</th>\n",
       "      <td>202508021012</td>\n",
       "      <td>6</td>\n",
       "      <td>9.4</td>\n",
       "      <td>5.0</td>\n",
       "      <td>0.109105</td>\n",
       "      <td>0.094488</td>\n",
       "      <td>1.025586</td>\n",
       "      <td>0.888189</td>\n",
       "    </tr>\n",
       "  </tbody>\n",
       "</table>\n",
       "</div>"
      ],
      "text/plain": [
       "                      race_id  umaban  tansho_odds  popularity      pred  \\\n",
       "race_id                                                                    \n",
       "202504010801 3   202504010801       4          9.1         5.0  0.111481   \n",
       "202504010804 7   202504010804       8          4.9         2.0  0.212171   \n",
       "202504010807 0   202504010807       1         21.4        10.0  0.047811   \n",
       "202504010808 3   202504010808       4         10.1         5.0  0.106732   \n",
       "202504010811 1   202504010811       2         19.0        11.0  0.054641   \n",
       "202505021004 14  202505021004      15         30.7         8.0  0.035623   \n",
       "202505021006 5   202505021006       6          2.9         1.0  0.345375   \n",
       "             6   202505021006       7         19.3         8.0  0.056992   \n",
       "             8   202505021006       9         17.6         6.0  0.060229   \n",
       "202505021008 7   202505021008       8         13.0         6.0  0.078183   \n",
       "202505021011 11  202505021011      12         16.1         7.0  0.064516   \n",
       "202508021003 3   202508021003       4          9.0         3.0  0.128778   \n",
       "202508021006 8   202508021006       9         12.9         5.0  0.078551   \n",
       "202508021007 6   202508021007       7         35.6        12.0  0.034414   \n",
       "202508021009 14  202508021009      15          9.6         4.0  0.105763   \n",
       "202508021010 3   202508021010       4         20.9        10.0  0.049217   \n",
       "202508021012 5   202508021012       6          9.4         5.0  0.109105   \n",
       "\n",
       "                 pred_calibrated  expect_return  expect_return_calibrated  \n",
       "race_id                                                                    \n",
       "202504010801 3          0.094488       1.014481                  0.859843  \n",
       "202504010804 7          0.252654       1.039640                  1.238004  \n",
       "202504010807 0          0.042679       1.023148                  0.913337  \n",
       "202504010808 3          0.094488       1.077994                  0.954331  \n",
       "202504010811 1          0.042679       1.038175                  0.810907  \n",
       "202505021004 14         0.035088       1.093616                  1.077193  \n",
       "202505021006 5          0.430000       1.001588                  1.247000  \n",
       "             6          0.042679       1.099938                  0.823711  \n",
       "             8          0.042679       1.060027                  0.751156  \n",
       "202505021008 7          0.066465       1.016383                  0.864048  \n",
       "202505021011 11         0.042679       1.038711                  0.687137  \n",
       "202508021003 3          0.120482       1.159002                  1.084337  \n",
       "202508021006 8          0.066465       1.013305                  0.857402  \n",
       "202508021007 6          0.035088       1.225139                  1.249123  \n",
       "202508021009 14         0.094488       1.015326                  0.907087  \n",
       "202508021010 3          0.042679       1.028642                  0.891998  \n",
       "202508021012 5          0.094488       1.025586                  0.888189  "
      ]
     },
     "execution_count": 32,
     "metadata": {},
     "output_type": "execute_result"
    }
   ],
   "source": [
    "sorted_predictions = sorted_predictions[(sorted_predictions[\"expect_return\"] >= 1.0) \n",
    "                                        &  (sorted_predictions[\"pred\"] >= 0.03)\n",
    "                                        ]\n",
    "# predが0.3以上のものを抽出\n",
    "sorted_predictions"
   ]
  },
  {
   "cell_type": "code",
   "execution_count": null,
   "metadata": {},
   "outputs": [],
   "source": []
  }
 ],
 "metadata": {
  "kernelspec": {
   "display_name": "py312",
   "language": "python",
   "name": "python3"
  },
  "language_info": {
   "codemirror_mode": {
    "name": "ipython",
    "version": 3
   },
   "file_extension": ".py",
   "mimetype": "text/x-python",
   "name": "python",
   "nbconvert_exporter": "python",
   "pygments_lexer": "ipython3",
   "version": "3.12.7"
  }
 },
 "nbformat": 4,
 "nbformat_minor": 2
}
